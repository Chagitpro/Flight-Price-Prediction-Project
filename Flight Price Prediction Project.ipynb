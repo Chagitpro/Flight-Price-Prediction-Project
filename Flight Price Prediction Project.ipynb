{
 "cells": [
  {
   "cell_type": "code",
   "execution_count": 1,
   "id": "588aae3c",
   "metadata": {},
   "outputs": [],
   "source": [
    "import pandas as pd\n",
    "import numpy as np\n",
    "import seaborn as sns\n",
    "import matplotlib.pyplot as plt\n",
    "%matplotlib inline\n",
    "import warnings\n",
    "warnings.filterwarnings('ignore')"
   ]
  },
  {
   "cell_type": "code",
   "execution_count": 2,
   "id": "3ee5e4c3",
   "metadata": {},
   "outputs": [],
   "source": [
    "flight= pd.read_csv(\"Flight_Price_dataset.csv\")"
   ]
  },
  {
   "cell_type": "code",
   "execution_count": 3,
   "id": "43fbfb96",
   "metadata": {},
   "outputs": [
    {
     "data": {
      "text/html": [
       "<div>\n",
       "<style scoped>\n",
       "    .dataframe tbody tr th:only-of-type {\n",
       "        vertical-align: middle;\n",
       "    }\n",
       "\n",
       "    .dataframe tbody tr th {\n",
       "        vertical-align: top;\n",
       "    }\n",
       "\n",
       "    .dataframe thead th {\n",
       "        text-align: right;\n",
       "    }\n",
       "</style>\n",
       "<table border=\"1\" class=\"dataframe\">\n",
       "  <thead>\n",
       "    <tr style=\"text-align: right;\">\n",
       "      <th></th>\n",
       "      <th>Unnamed: 0</th>\n",
       "      <th>Airline</th>\n",
       "      <th>Aeroplane</th>\n",
       "      <th>Date</th>\n",
       "      <th>Departure_Time</th>\n",
       "      <th>Arrival_Time</th>\n",
       "      <th>Source</th>\n",
       "      <th>Destination</th>\n",
       "      <th>Stops</th>\n",
       "      <th>Duration</th>\n",
       "      <th>Price</th>\n",
       "    </tr>\n",
       "  </thead>\n",
       "  <tbody>\n",
       "    <tr>\n",
       "      <th>0</th>\n",
       "      <td>0</td>\n",
       "      <td>Air India</td>\n",
       "      <td>AI-441</td>\n",
       "      <td>Sun, 24 Jul 2022</td>\n",
       "      <td>17:55</td>\n",
       "      <td>22:10</td>\n",
       "      <td>New Delhi</td>\n",
       "      <td>Mumbai</td>\n",
       "      <td>1 Stop</td>\n",
       "      <td>4h 15m</td>\n",
       "      <td>7320</td>\n",
       "    </tr>\n",
       "    <tr>\n",
       "      <th>1</th>\n",
       "      <td>1</td>\n",
       "      <td>Vistara</td>\n",
       "      <td>UK-985</td>\n",
       "      <td>Sun, 24 Jul 2022</td>\n",
       "      <td>19:45</td>\n",
       "      <td>21:55</td>\n",
       "      <td>New Delhi</td>\n",
       "      <td>Mumbai</td>\n",
       "      <td>Non Stop</td>\n",
       "      <td>2h 10m</td>\n",
       "      <td>8578</td>\n",
       "    </tr>\n",
       "    <tr>\n",
       "      <th>2</th>\n",
       "      <td>2</td>\n",
       "      <td>IndiGo</td>\n",
       "      <td>6E-2519</td>\n",
       "      <td>Sun, 24 Jul 2022</td>\n",
       "      <td>23:35</td>\n",
       "      <td>01:40\\n+ 1 day</td>\n",
       "      <td>New Delhi</td>\n",
       "      <td>Mumbai</td>\n",
       "      <td>Non Stop</td>\n",
       "      <td>2h 05m</td>\n",
       "      <td>8579</td>\n",
       "    </tr>\n",
       "    <tr>\n",
       "      <th>3</th>\n",
       "      <td>3</td>\n",
       "      <td>SpiceJet</td>\n",
       "      <td>SG-8709</td>\n",
       "      <td>Sun, 24 Jul 2022</td>\n",
       "      <td>19:00</td>\n",
       "      <td>21:10</td>\n",
       "      <td>New Delhi</td>\n",
       "      <td>Mumbai</td>\n",
       "      <td>Non Stop</td>\n",
       "      <td>2h 10m</td>\n",
       "      <td>8579</td>\n",
       "    </tr>\n",
       "    <tr>\n",
       "      <th>4</th>\n",
       "      <td>4</td>\n",
       "      <td>SpiceJet</td>\n",
       "      <td>SG-8169</td>\n",
       "      <td>Sun, 24 Jul 2022</td>\n",
       "      <td>19:45</td>\n",
       "      <td>22:00</td>\n",
       "      <td>New Delhi</td>\n",
       "      <td>Mumbai</td>\n",
       "      <td>Non Stop</td>\n",
       "      <td>2h 15m</td>\n",
       "      <td>8579</td>\n",
       "    </tr>\n",
       "  </tbody>\n",
       "</table>\n",
       "</div>"
      ],
      "text/plain": [
       "   Unnamed: 0    Airline Aeroplane              Date Departure_Time  \\\n",
       "0           0  Air India    AI-441  Sun, 24 Jul 2022          17:55   \n",
       "1           1    Vistara    UK-985  Sun, 24 Jul 2022          19:45   \n",
       "2           2     IndiGo   6E-2519  Sun, 24 Jul 2022          23:35   \n",
       "3           3   SpiceJet   SG-8709  Sun, 24 Jul 2022          19:00   \n",
       "4           4   SpiceJet   SG-8169  Sun, 24 Jul 2022          19:45   \n",
       "\n",
       "     Arrival_Time     Source Destination     Stops Duration  Price  \n",
       "0           22:10  New Delhi      Mumbai    1 Stop   4h 15m   7320  \n",
       "1           21:55  New Delhi      Mumbai  Non Stop   2h 10m   8578  \n",
       "2  01:40\\n+ 1 day  New Delhi      Mumbai  Non Stop   2h 05m   8579  \n",
       "3           21:10  New Delhi      Mumbai  Non Stop   2h 10m   8579  \n",
       "4           22:00  New Delhi      Mumbai  Non Stop   2h 15m   8579  "
      ]
     },
     "execution_count": 3,
     "metadata": {},
     "output_type": "execute_result"
    }
   ],
   "source": [
    "flight.head()"
   ]
  },
  {
   "cell_type": "code",
   "execution_count": 4,
   "id": "378f27d5",
   "metadata": {},
   "outputs": [
    {
     "data": {
      "text/html": [
       "<div>\n",
       "<style scoped>\n",
       "    .dataframe tbody tr th:only-of-type {\n",
       "        vertical-align: middle;\n",
       "    }\n",
       "\n",
       "    .dataframe tbody tr th {\n",
       "        vertical-align: top;\n",
       "    }\n",
       "\n",
       "    .dataframe thead th {\n",
       "        text-align: right;\n",
       "    }\n",
       "</style>\n",
       "<table border=\"1\" class=\"dataframe\">\n",
       "  <thead>\n",
       "    <tr style=\"text-align: right;\">\n",
       "      <th></th>\n",
       "      <th>Unnamed: 0</th>\n",
       "      <th>Airline</th>\n",
       "      <th>Aeroplane</th>\n",
       "      <th>Date</th>\n",
       "      <th>Departure_Time</th>\n",
       "      <th>Arrival_Time</th>\n",
       "      <th>Source</th>\n",
       "      <th>Destination</th>\n",
       "      <th>Stops</th>\n",
       "      <th>Duration</th>\n",
       "      <th>Price</th>\n",
       "    </tr>\n",
       "  </thead>\n",
       "  <tbody>\n",
       "    <tr>\n",
       "      <th>2828</th>\n",
       "      <td>2828</td>\n",
       "      <td>Vistara Business</td>\n",
       "      <td>UK-879/876</td>\n",
       "      <td>Wed, 3 Aug 2022</td>\n",
       "      <td>17:35</td>\n",
       "      <td>23:00</td>\n",
       "      <td>New Delhi</td>\n",
       "      <td>Mumbai</td>\n",
       "      <td>1 Stop</td>\n",
       "      <td>5h 25m</td>\n",
       "      <td>49513</td>\n",
       "    </tr>\n",
       "    <tr>\n",
       "      <th>2829</th>\n",
       "      <td>2829</td>\n",
       "      <td>Vistara Business</td>\n",
       "      <td>UK-899/876</td>\n",
       "      <td>Wed, 3 Aug 2022</td>\n",
       "      <td>14:45</td>\n",
       "      <td>23:00</td>\n",
       "      <td>New Delhi</td>\n",
       "      <td>Mumbai</td>\n",
       "      <td>1 Stop</td>\n",
       "      <td>8h 15m</td>\n",
       "      <td>49513</td>\n",
       "    </tr>\n",
       "    <tr>\n",
       "      <th>2830</th>\n",
       "      <td>2830</td>\n",
       "      <td>Vistara Business</td>\n",
       "      <td>UK-859/876</td>\n",
       "      <td>Wed, 3 Aug 2022</td>\n",
       "      <td>10:25</td>\n",
       "      <td>23:00</td>\n",
       "      <td>New Delhi</td>\n",
       "      <td>Mumbai</td>\n",
       "      <td>1 Stop</td>\n",
       "      <td>12h 35m</td>\n",
       "      <td>49513</td>\n",
       "    </tr>\n",
       "    <tr>\n",
       "      <th>2831</th>\n",
       "      <td>2831</td>\n",
       "      <td>Vistara Business</td>\n",
       "      <td>UK-977</td>\n",
       "      <td>Wed, 3 Aug 2022</td>\n",
       "      <td>19:00</td>\n",
       "      <td>21:15</td>\n",
       "      <td>New Delhi</td>\n",
       "      <td>Mumbai</td>\n",
       "      <td>Non Stop</td>\n",
       "      <td>2h 15m</td>\n",
       "      <td>52056</td>\n",
       "    </tr>\n",
       "    <tr>\n",
       "      <th>2832</th>\n",
       "      <td>2832</td>\n",
       "      <td>Vistara Business</td>\n",
       "      <td>UK-829/876</td>\n",
       "      <td>Wed, 3 Aug 2022</td>\n",
       "      <td>07:20</td>\n",
       "      <td>23:00</td>\n",
       "      <td>New Delhi</td>\n",
       "      <td>Mumbai</td>\n",
       "      <td>1 Stop</td>\n",
       "      <td>15h 40m</td>\n",
       "      <td>56088</td>\n",
       "    </tr>\n",
       "  </tbody>\n",
       "</table>\n",
       "</div>"
      ],
      "text/plain": [
       "      Unnamed: 0           Airline   Aeroplane             Date  \\\n",
       "2828        2828  Vistara Business  UK-879/876  Wed, 3 Aug 2022   \n",
       "2829        2829  Vistara Business  UK-899/876  Wed, 3 Aug 2022   \n",
       "2830        2830  Vistara Business  UK-859/876  Wed, 3 Aug 2022   \n",
       "2831        2831  Vistara Business      UK-977  Wed, 3 Aug 2022   \n",
       "2832        2832  Vistara Business  UK-829/876  Wed, 3 Aug 2022   \n",
       "\n",
       "     Departure_Time Arrival_Time     Source Destination     Stops Duration  \\\n",
       "2828          17:35        23:00  New Delhi      Mumbai    1 Stop   5h 25m   \n",
       "2829          14:45        23:00  New Delhi      Mumbai    1 Stop   8h 15m   \n",
       "2830          10:25        23:00  New Delhi      Mumbai    1 Stop  12h 35m   \n",
       "2831          19:00        21:15  New Delhi      Mumbai  Non Stop   2h 15m   \n",
       "2832          07:20        23:00  New Delhi      Mumbai    1 Stop  15h 40m   \n",
       "\n",
       "      Price  \n",
       "2828  49513  \n",
       "2829  49513  \n",
       "2830  49513  \n",
       "2831  52056  \n",
       "2832  56088  "
      ]
     },
     "execution_count": 4,
     "metadata": {},
     "output_type": "execute_result"
    }
   ],
   "source": [
    "flight.tail()"
   ]
  },
  {
   "cell_type": "code",
   "execution_count": 5,
   "id": "2b211206",
   "metadata": {},
   "outputs": [
    {
     "data": {
      "text/html": [
       "<div>\n",
       "<style scoped>\n",
       "    .dataframe tbody tr th:only-of-type {\n",
       "        vertical-align: middle;\n",
       "    }\n",
       "\n",
       "    .dataframe tbody tr th {\n",
       "        vertical-align: top;\n",
       "    }\n",
       "\n",
       "    .dataframe thead th {\n",
       "        text-align: right;\n",
       "    }\n",
       "</style>\n",
       "<table border=\"1\" class=\"dataframe\">\n",
       "  <thead>\n",
       "    <tr style=\"text-align: right;\">\n",
       "      <th></th>\n",
       "      <th>Unnamed: 0</th>\n",
       "      <th>Airline</th>\n",
       "      <th>Aeroplane</th>\n",
       "      <th>Date</th>\n",
       "      <th>Departure_Time</th>\n",
       "      <th>Arrival_Time</th>\n",
       "      <th>Source</th>\n",
       "      <th>Destination</th>\n",
       "      <th>Stops</th>\n",
       "      <th>Duration</th>\n",
       "      <th>Price</th>\n",
       "    </tr>\n",
       "  </thead>\n",
       "  <tbody>\n",
       "    <tr>\n",
       "      <th>1223</th>\n",
       "      <td>1223</td>\n",
       "      <td>Vistara</td>\n",
       "      <td>UK-945</td>\n",
       "      <td>Tue, 2 Aug 2022</td>\n",
       "      <td>11:40</td>\n",
       "      <td>14:00</td>\n",
       "      <td>New Delhi</td>\n",
       "      <td>Mumbai</td>\n",
       "      <td>Non Stop</td>\n",
       "      <td>2h 20m</td>\n",
       "      <td>8578</td>\n",
       "    </tr>\n",
       "    <tr>\n",
       "      <th>2524</th>\n",
       "      <td>2524</td>\n",
       "      <td>Air India Business</td>\n",
       "      <td>AI-479/650</td>\n",
       "      <td>Sat, 30 Jul 2022</td>\n",
       "      <td>21:15</td>\n",
       "      <td>11:35\\n+ 1 day</td>\n",
       "      <td>New Delhi</td>\n",
       "      <td>Mumbai</td>\n",
       "      <td>1 Stop</td>\n",
       "      <td>14h 20m</td>\n",
       "      <td>36092</td>\n",
       "    </tr>\n",
       "    <tr>\n",
       "      <th>2284</th>\n",
       "      <td>2284</td>\n",
       "      <td>Vistara Business</td>\n",
       "      <td>UK-871/872</td>\n",
       "      <td>Tue, 26 Jul 2022</td>\n",
       "      <td>20:35</td>\n",
       "      <td>08:40\\n+ 1 day</td>\n",
       "      <td>New Delhi</td>\n",
       "      <td>Mumbai</td>\n",
       "      <td>1 Stop</td>\n",
       "      <td>12h 05m</td>\n",
       "      <td>43521</td>\n",
       "    </tr>\n",
       "    <tr>\n",
       "      <th>1727</th>\n",
       "      <td>1727</td>\n",
       "      <td>Vistara Premium Economy</td>\n",
       "      <td>UK-959/918</td>\n",
       "      <td>Thu, 28 Jul 2022</td>\n",
       "      <td>06:30</td>\n",
       "      <td>06:15\\n+ 1 day</td>\n",
       "      <td>New Delhi</td>\n",
       "      <td>Mumbai</td>\n",
       "      <td>1 Stop</td>\n",
       "      <td>23h 45m</td>\n",
       "      <td>10336</td>\n",
       "    </tr>\n",
       "    <tr>\n",
       "      <th>2808</th>\n",
       "      <td>2808</td>\n",
       "      <td>Vistara Business</td>\n",
       "      <td>UK-637/654</td>\n",
       "      <td>Wed, 3 Aug 2022</td>\n",
       "      <td>17:10</td>\n",
       "      <td>11:15\\n+ 1 day</td>\n",
       "      <td>New Delhi</td>\n",
       "      <td>Mumbai</td>\n",
       "      <td>1 Stop</td>\n",
       "      <td>18h 05m</td>\n",
       "      <td>36577</td>\n",
       "    </tr>\n",
       "  </tbody>\n",
       "</table>\n",
       "</div>"
      ],
      "text/plain": [
       "      Unnamed: 0                  Airline   Aeroplane              Date  \\\n",
       "1223        1223                  Vistara      UK-945   Tue, 2 Aug 2022   \n",
       "2524        2524       Air India Business  AI-479/650  Sat, 30 Jul 2022   \n",
       "2284        2284         Vistara Business  UK-871/872  Tue, 26 Jul 2022   \n",
       "1727        1727  Vistara Premium Economy  UK-959/918  Thu, 28 Jul 2022   \n",
       "2808        2808         Vistara Business  UK-637/654   Wed, 3 Aug 2022   \n",
       "\n",
       "     Departure_Time    Arrival_Time     Source Destination     Stops Duration  \\\n",
       "1223          11:40           14:00  New Delhi      Mumbai  Non Stop   2h 20m   \n",
       "2524          21:15  11:35\\n+ 1 day  New Delhi      Mumbai    1 Stop  14h 20m   \n",
       "2284          20:35  08:40\\n+ 1 day  New Delhi      Mumbai    1 Stop  12h 05m   \n",
       "1727          06:30  06:15\\n+ 1 day  New Delhi      Mumbai    1 Stop  23h 45m   \n",
       "2808          17:10  11:15\\n+ 1 day  New Delhi      Mumbai    1 Stop  18h 05m   \n",
       "\n",
       "      Price  \n",
       "1223   8578  \n",
       "2524  36092  \n",
       "2284  43521  \n",
       "1727  10336  \n",
       "2808  36577  "
      ]
     },
     "execution_count": 5,
     "metadata": {},
     "output_type": "execute_result"
    }
   ],
   "source": [
    "flight.sample(5)"
   ]
  },
  {
   "cell_type": "code",
   "execution_count": 6,
   "id": "6bd868ae",
   "metadata": {},
   "outputs": [
    {
     "data": {
      "text/plain": [
       "Unnamed: 0         int64\n",
       "Airline           object\n",
       "Aeroplane         object\n",
       "Date              object\n",
       "Departure_Time    object\n",
       "Arrival_Time      object\n",
       "Source            object\n",
       "Destination       object\n",
       "Stops             object\n",
       "Duration          object\n",
       "Price              int64\n",
       "dtype: object"
      ]
     },
     "execution_count": 6,
     "metadata": {},
     "output_type": "execute_result"
    }
   ],
   "source": [
    "flight.dtypes"
   ]
  },
  {
   "cell_type": "code",
   "execution_count": 7,
   "id": "30e49709",
   "metadata": {},
   "outputs": [
    {
     "data": {
      "text/plain": [
       "(2833, 11)"
      ]
     },
     "execution_count": 7,
     "metadata": {},
     "output_type": "execute_result"
    }
   ],
   "source": [
    "flight.shape"
   ]
  },
  {
   "cell_type": "code",
   "execution_count": 8,
   "id": "fd5b4af5",
   "metadata": {},
   "outputs": [
    {
     "data": {
      "text/plain": [
       "Index(['Unnamed: 0', 'Airline', 'Aeroplane', 'Date', 'Departure_Time',\n",
       "       'Arrival_Time', 'Source', 'Destination', 'Stops', 'Duration', 'Price'],\n",
       "      dtype='object')"
      ]
     },
     "execution_count": 8,
     "metadata": {},
     "output_type": "execute_result"
    }
   ],
   "source": [
    "flight.columns"
   ]
  },
  {
   "cell_type": "code",
   "execution_count": 9,
   "id": "3d0167bc",
   "metadata": {},
   "outputs": [
    {
     "name": "stdout",
     "output_type": "stream",
     "text": [
      "<class 'pandas.core.frame.DataFrame'>\n",
      "RangeIndex: 2833 entries, 0 to 2832\n",
      "Data columns (total 11 columns):\n",
      " #   Column          Non-Null Count  Dtype \n",
      "---  ------          --------------  ----- \n",
      " 0   Unnamed: 0      2833 non-null   int64 \n",
      " 1   Airline         2833 non-null   object\n",
      " 2   Aeroplane       2833 non-null   object\n",
      " 3   Date            2833 non-null   object\n",
      " 4   Departure_Time  2833 non-null   object\n",
      " 5   Arrival_Time    2833 non-null   object\n",
      " 6   Source          2833 non-null   object\n",
      " 7   Destination     2833 non-null   object\n",
      " 8   Stops           2833 non-null   object\n",
      " 9   Duration        2833 non-null   object\n",
      " 10  Price           2833 non-null   int64 \n",
      "dtypes: int64(2), object(9)\n",
      "memory usage: 243.6+ KB\n"
     ]
    }
   ],
   "source": [
    "flight.info()"
   ]
  },
  {
   "cell_type": "code",
   "execution_count": 10,
   "id": "2d657ed8",
   "metadata": {},
   "outputs": [
    {
     "data": {
      "text/html": [
       "<div>\n",
       "<style scoped>\n",
       "    .dataframe tbody tr th:only-of-type {\n",
       "        vertical-align: middle;\n",
       "    }\n",
       "\n",
       "    .dataframe tbody tr th {\n",
       "        vertical-align: top;\n",
       "    }\n",
       "\n",
       "    .dataframe thead th {\n",
       "        text-align: right;\n",
       "    }\n",
       "</style>\n",
       "<table border=\"1\" class=\"dataframe\">\n",
       "  <thead>\n",
       "    <tr style=\"text-align: right;\">\n",
       "      <th></th>\n",
       "      <th>Unnamed: 0</th>\n",
       "      <th>Price</th>\n",
       "    </tr>\n",
       "  </thead>\n",
       "  <tbody>\n",
       "    <tr>\n",
       "      <th>count</th>\n",
       "      <td>2833.000000</td>\n",
       "      <td>2833.000000</td>\n",
       "    </tr>\n",
       "    <tr>\n",
       "      <th>mean</th>\n",
       "      <td>1416.000000</td>\n",
       "      <td>18717.488175</td>\n",
       "    </tr>\n",
       "    <tr>\n",
       "      <th>std</th>\n",
       "      <td>817.960981</td>\n",
       "      <td>12910.437145</td>\n",
       "    </tr>\n",
       "    <tr>\n",
       "      <th>min</th>\n",
       "      <td>0.000000</td>\n",
       "      <td>5955.000000</td>\n",
       "    </tr>\n",
       "    <tr>\n",
       "      <th>25%</th>\n",
       "      <td>708.000000</td>\n",
       "      <td>8579.000000</td>\n",
       "    </tr>\n",
       "    <tr>\n",
       "      <th>50%</th>\n",
       "      <td>1416.000000</td>\n",
       "      <td>14460.000000</td>\n",
       "    </tr>\n",
       "    <tr>\n",
       "      <th>75%</th>\n",
       "      <td>2124.000000</td>\n",
       "      <td>22152.000000</td>\n",
       "    </tr>\n",
       "    <tr>\n",
       "      <th>max</th>\n",
       "      <td>2832.000000</td>\n",
       "      <td>99079.000000</td>\n",
       "    </tr>\n",
       "  </tbody>\n",
       "</table>\n",
       "</div>"
      ],
      "text/plain": [
       "        Unnamed: 0         Price\n",
       "count  2833.000000   2833.000000\n",
       "mean   1416.000000  18717.488175\n",
       "std     817.960981  12910.437145\n",
       "min       0.000000   5955.000000\n",
       "25%     708.000000   8579.000000\n",
       "50%    1416.000000  14460.000000\n",
       "75%    2124.000000  22152.000000\n",
       "max    2832.000000  99079.000000"
      ]
     },
     "execution_count": 10,
     "metadata": {},
     "output_type": "execute_result"
    }
   ],
   "source": [
    "flight.describe()"
   ]
  },
  {
   "cell_type": "code",
   "execution_count": 11,
   "id": "4f8e22c6",
   "metadata": {},
   "outputs": [],
   "source": [
    "flight=pd.DataFrame(data=flight)"
   ]
  },
  {
   "cell_type": "code",
   "execution_count": 12,
   "id": "b981793a",
   "metadata": {},
   "outputs": [
    {
     "data": {
      "text/html": [
       "<div>\n",
       "<style scoped>\n",
       "    .dataframe tbody tr th:only-of-type {\n",
       "        vertical-align: middle;\n",
       "    }\n",
       "\n",
       "    .dataframe tbody tr th {\n",
       "        vertical-align: top;\n",
       "    }\n",
       "\n",
       "    .dataframe thead th {\n",
       "        text-align: right;\n",
       "    }\n",
       "</style>\n",
       "<table border=\"1\" class=\"dataframe\">\n",
       "  <thead>\n",
       "    <tr style=\"text-align: right;\">\n",
       "      <th></th>\n",
       "      <th>Unnamed: 0</th>\n",
       "      <th>Airline</th>\n",
       "      <th>Aeroplane</th>\n",
       "      <th>Date</th>\n",
       "      <th>Departure_Time</th>\n",
       "      <th>Arrival_Time</th>\n",
       "      <th>Source</th>\n",
       "      <th>Destination</th>\n",
       "      <th>Stops</th>\n",
       "      <th>Duration</th>\n",
       "      <th>Price</th>\n",
       "    </tr>\n",
       "  </thead>\n",
       "  <tbody>\n",
       "    <tr>\n",
       "      <th>0</th>\n",
       "      <td>0</td>\n",
       "      <td>Air India</td>\n",
       "      <td>AI-441</td>\n",
       "      <td>Sun, 24 Jul 2022</td>\n",
       "      <td>17:55</td>\n",
       "      <td>22:10</td>\n",
       "      <td>New Delhi</td>\n",
       "      <td>Mumbai</td>\n",
       "      <td>1 Stop</td>\n",
       "      <td>4h 15m</td>\n",
       "      <td>7320</td>\n",
       "    </tr>\n",
       "    <tr>\n",
       "      <th>1</th>\n",
       "      <td>1</td>\n",
       "      <td>Vistara</td>\n",
       "      <td>UK-985</td>\n",
       "      <td>Sun, 24 Jul 2022</td>\n",
       "      <td>19:45</td>\n",
       "      <td>21:55</td>\n",
       "      <td>New Delhi</td>\n",
       "      <td>Mumbai</td>\n",
       "      <td>Non Stop</td>\n",
       "      <td>2h 10m</td>\n",
       "      <td>8578</td>\n",
       "    </tr>\n",
       "    <tr>\n",
       "      <th>2</th>\n",
       "      <td>2</td>\n",
       "      <td>IndiGo</td>\n",
       "      <td>6E-2519</td>\n",
       "      <td>Sun, 24 Jul 2022</td>\n",
       "      <td>23:35</td>\n",
       "      <td>01:40\\n+ 1 day</td>\n",
       "      <td>New Delhi</td>\n",
       "      <td>Mumbai</td>\n",
       "      <td>Non Stop</td>\n",
       "      <td>2h 05m</td>\n",
       "      <td>8579</td>\n",
       "    </tr>\n",
       "    <tr>\n",
       "      <th>3</th>\n",
       "      <td>3</td>\n",
       "      <td>SpiceJet</td>\n",
       "      <td>SG-8709</td>\n",
       "      <td>Sun, 24 Jul 2022</td>\n",
       "      <td>19:00</td>\n",
       "      <td>21:10</td>\n",
       "      <td>New Delhi</td>\n",
       "      <td>Mumbai</td>\n",
       "      <td>Non Stop</td>\n",
       "      <td>2h 10m</td>\n",
       "      <td>8579</td>\n",
       "    </tr>\n",
       "    <tr>\n",
       "      <th>4</th>\n",
       "      <td>4</td>\n",
       "      <td>SpiceJet</td>\n",
       "      <td>SG-8169</td>\n",
       "      <td>Sun, 24 Jul 2022</td>\n",
       "      <td>19:45</td>\n",
       "      <td>22:00</td>\n",
       "      <td>New Delhi</td>\n",
       "      <td>Mumbai</td>\n",
       "      <td>Non Stop</td>\n",
       "      <td>2h 15m</td>\n",
       "      <td>8579</td>\n",
       "    </tr>\n",
       "    <tr>\n",
       "      <th>...</th>\n",
       "      <td>...</td>\n",
       "      <td>...</td>\n",
       "      <td>...</td>\n",
       "      <td>...</td>\n",
       "      <td>...</td>\n",
       "      <td>...</td>\n",
       "      <td>...</td>\n",
       "      <td>...</td>\n",
       "      <td>...</td>\n",
       "      <td>...</td>\n",
       "      <td>...</td>\n",
       "    </tr>\n",
       "    <tr>\n",
       "      <th>2828</th>\n",
       "      <td>2828</td>\n",
       "      <td>Vistara Business</td>\n",
       "      <td>UK-879/876</td>\n",
       "      <td>Wed, 3 Aug 2022</td>\n",
       "      <td>17:35</td>\n",
       "      <td>23:00</td>\n",
       "      <td>New Delhi</td>\n",
       "      <td>Mumbai</td>\n",
       "      <td>1 Stop</td>\n",
       "      <td>5h 25m</td>\n",
       "      <td>49513</td>\n",
       "    </tr>\n",
       "    <tr>\n",
       "      <th>2829</th>\n",
       "      <td>2829</td>\n",
       "      <td>Vistara Business</td>\n",
       "      <td>UK-899/876</td>\n",
       "      <td>Wed, 3 Aug 2022</td>\n",
       "      <td>14:45</td>\n",
       "      <td>23:00</td>\n",
       "      <td>New Delhi</td>\n",
       "      <td>Mumbai</td>\n",
       "      <td>1 Stop</td>\n",
       "      <td>8h 15m</td>\n",
       "      <td>49513</td>\n",
       "    </tr>\n",
       "    <tr>\n",
       "      <th>2830</th>\n",
       "      <td>2830</td>\n",
       "      <td>Vistara Business</td>\n",
       "      <td>UK-859/876</td>\n",
       "      <td>Wed, 3 Aug 2022</td>\n",
       "      <td>10:25</td>\n",
       "      <td>23:00</td>\n",
       "      <td>New Delhi</td>\n",
       "      <td>Mumbai</td>\n",
       "      <td>1 Stop</td>\n",
       "      <td>12h 35m</td>\n",
       "      <td>49513</td>\n",
       "    </tr>\n",
       "    <tr>\n",
       "      <th>2831</th>\n",
       "      <td>2831</td>\n",
       "      <td>Vistara Business</td>\n",
       "      <td>UK-977</td>\n",
       "      <td>Wed, 3 Aug 2022</td>\n",
       "      <td>19:00</td>\n",
       "      <td>21:15</td>\n",
       "      <td>New Delhi</td>\n",
       "      <td>Mumbai</td>\n",
       "      <td>Non Stop</td>\n",
       "      <td>2h 15m</td>\n",
       "      <td>52056</td>\n",
       "    </tr>\n",
       "    <tr>\n",
       "      <th>2832</th>\n",
       "      <td>2832</td>\n",
       "      <td>Vistara Business</td>\n",
       "      <td>UK-829/876</td>\n",
       "      <td>Wed, 3 Aug 2022</td>\n",
       "      <td>07:20</td>\n",
       "      <td>23:00</td>\n",
       "      <td>New Delhi</td>\n",
       "      <td>Mumbai</td>\n",
       "      <td>1 Stop</td>\n",
       "      <td>15h 40m</td>\n",
       "      <td>56088</td>\n",
       "    </tr>\n",
       "  </tbody>\n",
       "</table>\n",
       "<p>2833 rows × 11 columns</p>\n",
       "</div>"
      ],
      "text/plain": [
       "      Unnamed: 0           Airline   Aeroplane              Date  \\\n",
       "0              0         Air India      AI-441  Sun, 24 Jul 2022   \n",
       "1              1           Vistara      UK-985  Sun, 24 Jul 2022   \n",
       "2              2            IndiGo     6E-2519  Sun, 24 Jul 2022   \n",
       "3              3          SpiceJet     SG-8709  Sun, 24 Jul 2022   \n",
       "4              4          SpiceJet     SG-8169  Sun, 24 Jul 2022   \n",
       "...          ...               ...         ...               ...   \n",
       "2828        2828  Vistara Business  UK-879/876   Wed, 3 Aug 2022   \n",
       "2829        2829  Vistara Business  UK-899/876   Wed, 3 Aug 2022   \n",
       "2830        2830  Vistara Business  UK-859/876   Wed, 3 Aug 2022   \n",
       "2831        2831  Vistara Business      UK-977   Wed, 3 Aug 2022   \n",
       "2832        2832  Vistara Business  UK-829/876   Wed, 3 Aug 2022   \n",
       "\n",
       "     Departure_Time    Arrival_Time     Source Destination     Stops Duration  \\\n",
       "0             17:55           22:10  New Delhi      Mumbai    1 Stop   4h 15m   \n",
       "1             19:45           21:55  New Delhi      Mumbai  Non Stop   2h 10m   \n",
       "2             23:35  01:40\\n+ 1 day  New Delhi      Mumbai  Non Stop   2h 05m   \n",
       "3             19:00           21:10  New Delhi      Mumbai  Non Stop   2h 10m   \n",
       "4             19:45           22:00  New Delhi      Mumbai  Non Stop   2h 15m   \n",
       "...             ...             ...        ...         ...       ...      ...   \n",
       "2828          17:35           23:00  New Delhi      Mumbai    1 Stop   5h 25m   \n",
       "2829          14:45           23:00  New Delhi      Mumbai    1 Stop   8h 15m   \n",
       "2830          10:25           23:00  New Delhi      Mumbai    1 Stop  12h 35m   \n",
       "2831          19:00           21:15  New Delhi      Mumbai  Non Stop   2h 15m   \n",
       "2832          07:20           23:00  New Delhi      Mumbai    1 Stop  15h 40m   \n",
       "\n",
       "      Price  \n",
       "0      7320  \n",
       "1      8578  \n",
       "2      8579  \n",
       "3      8579  \n",
       "4      8579  \n",
       "...     ...  \n",
       "2828  49513  \n",
       "2829  49513  \n",
       "2830  49513  \n",
       "2831  52056  \n",
       "2832  56088  \n",
       "\n",
       "[2833 rows x 11 columns]"
      ]
     },
     "execution_count": 12,
     "metadata": {},
     "output_type": "execute_result"
    }
   ],
   "source": [
    "flight"
   ]
  },
  {
   "cell_type": "code",
   "execution_count": 13,
   "id": "fca83063",
   "metadata": {},
   "outputs": [
    {
     "data": {
      "text/html": [
       "<div>\n",
       "<style scoped>\n",
       "    .dataframe tbody tr th:only-of-type {\n",
       "        vertical-align: middle;\n",
       "    }\n",
       "\n",
       "    .dataframe tbody tr th {\n",
       "        vertical-align: top;\n",
       "    }\n",
       "\n",
       "    .dataframe thead th {\n",
       "        text-align: right;\n",
       "    }\n",
       "</style>\n",
       "<table border=\"1\" class=\"dataframe\">\n",
       "  <thead>\n",
       "    <tr style=\"text-align: right;\">\n",
       "      <th></th>\n",
       "      <th>Unnamed: 0</th>\n",
       "      <th>Airline</th>\n",
       "      <th>Aeroplane</th>\n",
       "      <th>Date</th>\n",
       "      <th>Departure_Time</th>\n",
       "      <th>Arrival_Time</th>\n",
       "      <th>Source</th>\n",
       "      <th>Destination</th>\n",
       "      <th>Stops</th>\n",
       "      <th>Duration</th>\n",
       "      <th>Price</th>\n",
       "    </tr>\n",
       "  </thead>\n",
       "  <tbody>\n",
       "    <tr>\n",
       "      <th>0</th>\n",
       "      <td>False</td>\n",
       "      <td>False</td>\n",
       "      <td>False</td>\n",
       "      <td>False</td>\n",
       "      <td>False</td>\n",
       "      <td>False</td>\n",
       "      <td>False</td>\n",
       "      <td>False</td>\n",
       "      <td>False</td>\n",
       "      <td>False</td>\n",
       "      <td>False</td>\n",
       "    </tr>\n",
       "    <tr>\n",
       "      <th>1</th>\n",
       "      <td>False</td>\n",
       "      <td>False</td>\n",
       "      <td>False</td>\n",
       "      <td>False</td>\n",
       "      <td>False</td>\n",
       "      <td>False</td>\n",
       "      <td>False</td>\n",
       "      <td>False</td>\n",
       "      <td>False</td>\n",
       "      <td>False</td>\n",
       "      <td>False</td>\n",
       "    </tr>\n",
       "    <tr>\n",
       "      <th>2</th>\n",
       "      <td>False</td>\n",
       "      <td>False</td>\n",
       "      <td>False</td>\n",
       "      <td>False</td>\n",
       "      <td>False</td>\n",
       "      <td>False</td>\n",
       "      <td>False</td>\n",
       "      <td>False</td>\n",
       "      <td>False</td>\n",
       "      <td>False</td>\n",
       "      <td>False</td>\n",
       "    </tr>\n",
       "    <tr>\n",
       "      <th>3</th>\n",
       "      <td>False</td>\n",
       "      <td>False</td>\n",
       "      <td>False</td>\n",
       "      <td>False</td>\n",
       "      <td>False</td>\n",
       "      <td>False</td>\n",
       "      <td>False</td>\n",
       "      <td>False</td>\n",
       "      <td>False</td>\n",
       "      <td>False</td>\n",
       "      <td>False</td>\n",
       "    </tr>\n",
       "    <tr>\n",
       "      <th>4</th>\n",
       "      <td>False</td>\n",
       "      <td>False</td>\n",
       "      <td>False</td>\n",
       "      <td>False</td>\n",
       "      <td>False</td>\n",
       "      <td>False</td>\n",
       "      <td>False</td>\n",
       "      <td>False</td>\n",
       "      <td>False</td>\n",
       "      <td>False</td>\n",
       "      <td>False</td>\n",
       "    </tr>\n",
       "    <tr>\n",
       "      <th>...</th>\n",
       "      <td>...</td>\n",
       "      <td>...</td>\n",
       "      <td>...</td>\n",
       "      <td>...</td>\n",
       "      <td>...</td>\n",
       "      <td>...</td>\n",
       "      <td>...</td>\n",
       "      <td>...</td>\n",
       "      <td>...</td>\n",
       "      <td>...</td>\n",
       "      <td>...</td>\n",
       "    </tr>\n",
       "    <tr>\n",
       "      <th>2828</th>\n",
       "      <td>False</td>\n",
       "      <td>False</td>\n",
       "      <td>False</td>\n",
       "      <td>False</td>\n",
       "      <td>False</td>\n",
       "      <td>False</td>\n",
       "      <td>False</td>\n",
       "      <td>False</td>\n",
       "      <td>False</td>\n",
       "      <td>False</td>\n",
       "      <td>False</td>\n",
       "    </tr>\n",
       "    <tr>\n",
       "      <th>2829</th>\n",
       "      <td>False</td>\n",
       "      <td>False</td>\n",
       "      <td>False</td>\n",
       "      <td>False</td>\n",
       "      <td>False</td>\n",
       "      <td>False</td>\n",
       "      <td>False</td>\n",
       "      <td>False</td>\n",
       "      <td>False</td>\n",
       "      <td>False</td>\n",
       "      <td>False</td>\n",
       "    </tr>\n",
       "    <tr>\n",
       "      <th>2830</th>\n",
       "      <td>False</td>\n",
       "      <td>False</td>\n",
       "      <td>False</td>\n",
       "      <td>False</td>\n",
       "      <td>False</td>\n",
       "      <td>False</td>\n",
       "      <td>False</td>\n",
       "      <td>False</td>\n",
       "      <td>False</td>\n",
       "      <td>False</td>\n",
       "      <td>False</td>\n",
       "    </tr>\n",
       "    <tr>\n",
       "      <th>2831</th>\n",
       "      <td>False</td>\n",
       "      <td>False</td>\n",
       "      <td>False</td>\n",
       "      <td>False</td>\n",
       "      <td>False</td>\n",
       "      <td>False</td>\n",
       "      <td>False</td>\n",
       "      <td>False</td>\n",
       "      <td>False</td>\n",
       "      <td>False</td>\n",
       "      <td>False</td>\n",
       "    </tr>\n",
       "    <tr>\n",
       "      <th>2832</th>\n",
       "      <td>False</td>\n",
       "      <td>False</td>\n",
       "      <td>False</td>\n",
       "      <td>False</td>\n",
       "      <td>False</td>\n",
       "      <td>False</td>\n",
       "      <td>False</td>\n",
       "      <td>False</td>\n",
       "      <td>False</td>\n",
       "      <td>False</td>\n",
       "      <td>False</td>\n",
       "    </tr>\n",
       "  </tbody>\n",
       "</table>\n",
       "<p>2833 rows × 11 columns</p>\n",
       "</div>"
      ],
      "text/plain": [
       "      Unnamed: 0  Airline  Aeroplane   Date  Departure_Time  Arrival_Time  \\\n",
       "0          False    False      False  False           False         False   \n",
       "1          False    False      False  False           False         False   \n",
       "2          False    False      False  False           False         False   \n",
       "3          False    False      False  False           False         False   \n",
       "4          False    False      False  False           False         False   \n",
       "...          ...      ...        ...    ...             ...           ...   \n",
       "2828       False    False      False  False           False         False   \n",
       "2829       False    False      False  False           False         False   \n",
       "2830       False    False      False  False           False         False   \n",
       "2831       False    False      False  False           False         False   \n",
       "2832       False    False      False  False           False         False   \n",
       "\n",
       "      Source  Destination  Stops  Duration  Price  \n",
       "0      False        False  False     False  False  \n",
       "1      False        False  False     False  False  \n",
       "2      False        False  False     False  False  \n",
       "3      False        False  False     False  False  \n",
       "4      False        False  False     False  False  \n",
       "...      ...          ...    ...       ...    ...  \n",
       "2828   False        False  False     False  False  \n",
       "2829   False        False  False     False  False  \n",
       "2830   False        False  False     False  False  \n",
       "2831   False        False  False     False  False  \n",
       "2832   False        False  False     False  False  \n",
       "\n",
       "[2833 rows x 11 columns]"
      ]
     },
     "execution_count": 13,
     "metadata": {},
     "output_type": "execute_result"
    }
   ],
   "source": [
    "flight.isnull()"
   ]
  },
  {
   "cell_type": "code",
   "execution_count": 14,
   "id": "cb5378b4",
   "metadata": {},
   "outputs": [
    {
     "data": {
      "text/plain": [
       "Unnamed: 0        0\n",
       "Airline           0\n",
       "Aeroplane         0\n",
       "Date              0\n",
       "Departure_Time    0\n",
       "Arrival_Time      0\n",
       "Source            0\n",
       "Destination       0\n",
       "Stops             0\n",
       "Duration          0\n",
       "Price             0\n",
       "dtype: int64"
      ]
     },
     "execution_count": 14,
     "metadata": {},
     "output_type": "execute_result"
    }
   ],
   "source": [
    "flight.isnull().sum()"
   ]
  },
  {
   "cell_type": "code",
   "execution_count": 15,
   "id": "e790eab4",
   "metadata": {},
   "outputs": [],
   "source": [
    "flight.drop(columns='Unnamed: 0', inplace =True)"
   ]
  },
  {
   "cell_type": "code",
   "execution_count": 16,
   "id": "f86685ec",
   "metadata": {},
   "outputs": [
    {
     "data": {
      "text/plain": [
       "0"
      ]
     },
     "execution_count": 16,
     "metadata": {},
     "output_type": "execute_result"
    }
   ],
   "source": [
    "flight.duplicated().sum()"
   ]
  },
  {
   "cell_type": "code",
   "execution_count": 17,
   "id": "e28c4325",
   "metadata": {},
   "outputs": [
    {
     "data": {
      "image/png": "[encoded data removed]",
      "text/plain": [
       "<Figure size 720x504 with 2 Axes>"
      ]
     },
     "metadata": {
      "needs_background": "light"
     },
     "output_type": "display_data"
    }
   ],
   "source": [
    "plt.figure(figsize=(10,7))\n",
    "sns.heatmap(flight.isnull(), cmap= 'cool_r')\n",
    "plt.show()"
   ]
  },
  {
   "cell_type": "code",
   "execution_count": 18,
   "id": "8b4afc07",
   "metadata": {},
   "outputs": [
    {
     "data": {
      "text/plain": [
       "1 Stop       2021\n",
       "Non Stop      797\n",
       "2 Stop(s)      15\n",
       "Name: Stops, dtype: int64"
      ]
     },
     "execution_count": 18,
     "metadata": {},
     "output_type": "execute_result"
    }
   ],
   "source": [
    "flight['Stops'].value_counts()"
   ]
  },
  {
   "cell_type": "code",
   "execution_count": 19,
   "id": "9d4d0e56",
   "metadata": {},
   "outputs": [
    {
     "data": {
      "image/png": "[encoded data removed]",
      "text/plain": [
       "<Figure size 2160x720 with 1 Axes>"
      ]
     },
     "metadata": {
      "needs_background": "light"
     },
     "output_type": "display_data"
    }
   ],
   "source": [
    "plt.figure(figsize=(30,10))\n",
    "sns.countplot(flight['Airline'])\n",
    "plt.show()"
   ]
  },
  {
   "cell_type": "code",
   "execution_count": 20,
   "id": "26fa339d",
   "metadata": {},
   "outputs": [
    {
     "data": {
      "image/png": "[encoded data removed]",
      "text/plain": [
       "<Figure size 2160x720 with 1 Axes>"
      ]
     },
     "metadata": {
      "needs_background": "light"
     },
     "output_type": "display_data"
    }
   ],
   "source": [
    "plt.figure(figsize=(30,10))\n",
    "sns.barplot(x=\"Airline\",y='Price', data=flight)\n",
    "plt.show()"
   ]
  },
  {
   "cell_type": "code",
   "execution_count": 21,
   "id": "b122044d",
   "metadata": {},
   "outputs": [
    {
     "data": {
      "image/png": "[encoded data removed]",
      "text/plain": [
       "<Figure size 432x432 with 1 Axes>"
      ]
     },
     "metadata": {
      "needs_background": "light"
     },
     "output_type": "display_data"
    }
   ],
   "source": [
    "plt.figure(figsize=(6,6))\n",
    "sns.distplot(flight['Price'])\n",
    "plt.show()"
   ]
  },
  {
   "cell_type": "code",
   "execution_count": 22,
   "id": "b9a4c827",
   "metadata": {},
   "outputs": [
    {
     "data": {
      "text/plain": [
       "1.7104233153014894"
      ]
     },
     "execution_count": 22,
     "metadata": {},
     "output_type": "execute_result"
    }
   ],
   "source": [
    "flight['Price'].skew()"
   ]
  },
  {
   "cell_type": "code",
   "execution_count": 23,
   "id": "0ef711ff",
   "metadata": {},
   "outputs": [
    {
     "data": {
      "text/plain": [
       "count     2833.000000\n",
       "mean     18717.488175\n",
       "std      12910.437145\n",
       "min       5955.000000\n",
       "25%       8579.000000\n",
       "50%      14460.000000\n",
       "75%      22152.000000\n",
       "max      99079.000000\n",
       "Name: Price, dtype: float64"
      ]
     },
     "execution_count": 23,
     "metadata": {},
     "output_type": "execute_result"
    }
   ],
   "source": [
    "flight['Price'].describe()"
   ]
  },
  {
   "cell_type": "code",
   "execution_count": 24,
   "id": "096f4847",
   "metadata": {},
   "outputs": [
    {
     "data": {
      "image/png": "[encoded data removed]",
      "text/plain": [
       "<Figure size 432x432 with 1 Axes>"
      ]
     },
     "metadata": {
      "needs_background": "light"
     },
     "output_type": "display_data"
    }
   ],
   "source": [
    "plt.figure(figsize=(6,6))\n",
    "sns.barplot(x=\"Source\",y='Price', data=flight)\n",
    "plt.show()"
   ]
  },
  {
   "cell_type": "code",
   "execution_count": 25,
   "id": "b2f3a056",
   "metadata": {},
   "outputs": [
    {
     "data": {
      "image/png": "[encoded data removed]",
      "text/plain": [
       "<Figure size 432x432 with 1 Axes>"
      ]
     },
     "metadata": {
      "needs_background": "light"
     },
     "output_type": "display_data"
    }
   ],
   "source": [
    "plt.figure(figsize=(6,6))\n",
    "sns.barplot(x=\"Destination\",y='Price', data=flight)\n",
    "plt.show()"
   ]
  },
  {
   "cell_type": "code",
   "execution_count": 26,
   "id": "264dc69b",
   "metadata": {},
   "outputs": [
    {
     "data": {
      "image/png": "[encoded data removed]",
      "text/plain": [
       "<Figure size 432x432 with 1 Axes>"
      ]
     },
     "metadata": {
      "needs_background": "light"
     },
     "output_type": "display_data"
    }
   ],
   "source": [
    "plt.figure(figsize=(6,6))\n",
    "sns.barplot(x=\"Stops\",y='Price', data=flight)\n",
    "plt.show()"
   ]
  },
  {
   "cell_type": "code",
   "execution_count": 27,
   "id": "919f8867",
   "metadata": {},
   "outputs": [],
   "source": [
    "flight['Duration'] = flight['Duration'].map(lambda x : x.replace('05m','5m')) "
   ]
  },
  {
   "cell_type": "code",
   "execution_count": 28,
   "id": "19c13e01",
   "metadata": {},
   "outputs": [],
   "source": [
    "flight['Duration'] = flight['Duration'].str.replace('h','*60').str.replace(' ','+').str.replace('m','*1').apply(eval)\n",
    "\n",
    "\n",
    "flight['Duration']= pd.to_numeric(flight['Duration'])"
   ]
  },
  {
   "cell_type": "code",
   "execution_count": 29,
   "id": "0b706454",
   "metadata": {},
   "outputs": [],
   "source": [
    "flight['Day']= flight['Date'].map(lambda x :x[:3])"
   ]
  },
  {
   "cell_type": "code",
   "execution_count": 30,
   "id": "5682d681",
   "metadata": {},
   "outputs": [],
   "source": [
    "flight['Date']= flight['Date'].map(lambda x :x[4:])"
   ]
  },
  {
   "cell_type": "code",
   "execution_count": 32,
   "id": "2ef6eb9f",
   "metadata": {},
   "outputs": [],
   "source": [
    "Categorical = ['Airline','Departure_Time','Day','Stops','Aeroplane']"
   ]
  },
  {
   "cell_type": "code",
   "execution_count": 34,
   "id": "05bd25ae",
   "metadata": {},
   "outputs": [
    {
     "name": "stdout",
     "output_type": "stream",
     "text": [
      "Airline\n",
      "Vistara Premium Economy    627\n",
      "Vistara                    469\n",
      "Vistara Business           430\n",
      "IndiGo                     374\n",
      "Air India                  299\n",
      "Air India Business         261\n",
      "Go First                   189\n",
      "SpiceJet                   159\n",
      "Air Asia                    25\n",
      "Name: Airline, dtype: int64\n",
      "====================================================================================================\n",
      "Departure_Time\n",
      "07:20    109\n",
      "17:35    107\n",
      "18:10    105\n",
      "21:20     97\n",
      "20:35     78\n",
      "06:30     78\n",
      "19:00     58\n",
      "17:10     57\n",
      "20:40     54\n",
      "14:45     54\n",
      "13:20     53\n",
      "10:25     50\n",
      "22:00     47\n",
      "13:40     47\n",
      "19:45     41\n",
      "14:15     40\n",
      "08:10     40\n",
      "10:45     40\n",
      "08:00     40\n",
      "21:15     39\n",
      "07:00     38\n",
      "18:40     38\n",
      "17:50     36\n",
      "10:20     35\n",
      "07:30     35\n",
      "09:05     35\n",
      "05:20     34\n",
      "09:30     34\n",
      "20:00     33\n",
      "16:55     32\n",
      "17:45     32\n",
      "14:10     31\n",
      "11:10     31\n",
      "12:45     30\n",
      "05:15     30\n",
      "11:40     30\n",
      "15:30     29\n",
      "14:30     29\n",
      "21:30     29\n",
      "08:50     29\n",
      "05:55     27\n",
      "09:50     26\n",
      "10:30     25\n",
      "16:05     23\n",
      "06:15     23\n",
      "19:50     22\n",
      "17:55     22\n",
      "09:00     22\n",
      "12:50     21\n",
      "13:45     21\n",
      "14:00     20\n",
      "16:45     20\n",
      "13:35     20\n",
      "14:20     19\n",
      "18:30     19\n",
      "12:55     18\n",
      "07:10     17\n",
      "17:05     17\n",
      "10:50     17\n",
      "10:00     17\n",
      "09:25     16\n",
      "06:25     16\n",
      "19:35     15\n",
      "17:00     15\n",
      "22:30     15\n",
      "21:45     15\n",
      "09:45     14\n",
      "05:45     14\n",
      "15:00     14\n",
      "17:20     13\n",
      "14:50     13\n",
      "08:45     13\n",
      "09:35     13\n",
      "13:50     12\n",
      "07:05     12\n",
      "08:40     12\n",
      "10:15     12\n",
      "10:10     11\n",
      "20:55     11\n",
      "20:50     11\n",
      "18:20     10\n",
      "21:05     10\n",
      "18:45     10\n",
      "10:55     10\n",
      "11:00     10\n",
      "05:05     10\n",
      "08:30     10\n",
      "06:20      9\n",
      "11:50      9\n",
      "13:00      9\n",
      "21:40      9\n",
      "16:15      9\n",
      "12:30      9\n",
      "15:25      8\n",
      "11:15      8\n",
      "11:30      8\n",
      "22:45      8\n",
      "15:10      8\n",
      "11:45      8\n",
      "10:40      7\n",
      "23:35      7\n",
      "12:05      7\n",
      "11:55      7\n",
      "17:15      6\n",
      "16:50      5\n",
      "17:25      5\n",
      "00:15      4\n",
      "04:45      4\n",
      "05:30      4\n",
      "18:55      4\n",
      "13:05      3\n",
      "09:20      3\n",
      "20:30      3\n",
      "15:20      3\n",
      "17:30      3\n",
      "06:10      3\n",
      "15:55      2\n",
      "02:10      2\n",
      "19:55      2\n",
      "19:20      2\n",
      "12:35      1\n",
      "23:00      1\n",
      "07:40      1\n",
      "18:00      1\n",
      "19:40      1\n",
      "12:20      1\n",
      "18:25      1\n",
      "21:50      1\n",
      "Name: Departure_Time, dtype: int64\n",
      "====================================================================================================\n",
      "Day\n",
      "Tue    531\n",
      "Wed    526\n",
      "Mon    523\n",
      "Sun    438\n",
      "Sat    285\n",
      "Thu    266\n",
      "Fri    264\n",
      "Name: Day, dtype: int64\n",
      "====================================================================================================\n",
      "Stops\n",
      "1 Stop       2021\n",
      "Non Stop      797\n",
      "2 Stop(s)      15\n",
      "Name: Stops, dtype: int64\n",
      "====================================================================================================\n",
      "Aeroplane\n",
      "UK-871/872      33\n",
      "UK-929/918      33\n",
      "UK-929/936      32\n",
      "UK-929/956      32\n",
      "UK-955          32\n",
      "UK-879/872      32\n",
      "UK-969/918      32\n",
      "UK-941          32\n",
      "UK-969/956      31\n",
      "UK-637/652      31\n",
      "UK-969/936      31\n",
      "UK-879/876      30\n",
      "UK-993          30\n",
      "UK-995          30\n",
      "UK-977          30\n",
      "UK-945          30\n",
      "UK-927          29\n",
      "UK-943          29\n",
      "UK-963          29\n",
      "UK-933          28\n",
      "UK-959/918      28\n",
      "UK-859/876      28\n",
      "UK-899/876      27\n",
      "UK-975          27\n",
      "UK-829/876      27\n",
      "UK-959/956      27\n",
      "UK-706/652      27\n",
      "UK-637/654      26\n",
      "UK-627/614      25\n",
      "UK-981          24\n",
      "UK-643/648      24\n",
      "UK-855/842      23\n",
      "UK-781/546      22\n",
      "AI-805          22\n",
      "AI-441          22\n",
      "UK-871/874      22\n",
      "UK-953          21\n",
      "AI-479/650      21\n",
      "AI-863          20\n",
      "AI-665          20\n",
      "UK-706/654      20\n",
      "UK-899/872      20\n",
      "AI-678          20\n",
      "UK-829/878      20\n",
      "AI-624          20\n",
      "AI-605          20\n",
      "UK-951          19\n",
      "AI-636          19\n",
      "UK-879/874      19\n",
      "AI-811/626      19\n",
      "UK-787/546      19\n",
      "AI-403/656      19\n",
      "AI-887          18\n",
      "AI-883/684      18\n",
      "AI-415/732      18\n",
      "AI-883/697      18\n",
      "UK-985          18\n",
      "UK-785/546      18\n",
      "AI-475/646      18\n",
      "UK-847/842      17\n",
      "UK-673/622      17\n",
      "UK-859/872      17\n",
      "AI-865          17\n",
      "AI-560/698      15\n",
      "AI-542/698      15\n",
      "AI-407/732      15\n",
      "UK-829/872      14\n",
      "AI-497/628      13\n",
      "UK-809/858      13\n",
      "UK-807/858      13\n",
      "AI-497/630      13\n",
      "AI-406/696      12\n",
      "UK-813/866      12\n",
      "AI-481/634      12\n",
      "AI-473/670      12\n",
      "AI-411/626      12\n",
      "6E-5018/6413    11\n",
      "AI-883/664      11\n",
      "UK-807/846      11\n",
      "6E-2017         11\n",
      "6E-2114         11\n",
      "6E-6939/6794    11\n",
      "AI-471/644      11\n",
      "UK-817/850      11\n",
      "6E-607/6004     11\n",
      "6E-153/6794     11\n",
      "G8-330          11\n",
      "UK-871/876      11\n",
      "SG-8169         11\n",
      "AI-877/670      11\n",
      "6E-5318         11\n",
      "UK-817/866      11\n",
      "6E-5042/5207    10\n",
      "UK-819/866      10\n",
      "6E-6822/983     10\n",
      "6E-2476/6259    10\n",
      "UK-801/854      10\n",
      "UK-819/854      10\n",
      "6E-5342         10\n",
      "UK-871/878      10\n",
      "I5-740/612      10\n",
      "AI-885/684      10\n",
      "6E-2008/826     10\n",
      "G8-336          10\n",
      "6E-698/5246     10\n",
      "UK-801/864      10\n",
      "6E-2175/577     10\n",
      "6E-2141/803     10\n",
      "UK-819/864      10\n",
      "G8-338          10\n",
      "6E-2141/5302    10\n",
      "UK-815/850      10\n",
      "6E-761/983      10\n",
      "AI-885/664      10\n",
      "6E-2168/6598    10\n",
      "G8-346          10\n",
      "SG-8701         10\n",
      "G8-717/537      10\n",
      "UK-819/850      10\n",
      "G8-323          10\n",
      "UK-815/864      10\n",
      "AI-885/697      10\n",
      "6E-7403/577     10\n",
      "UK-815/854      10\n",
      "G8-286/2606     10\n",
      "6E-6261         10\n",
      "UK-801/850      10\n",
      "SG-8963/945      9\n",
      "G8-719/459       9\n",
      "AI-469/651       9\n",
      "G8-165/352       9\n",
      "SG-8709          9\n",
      "G8-334           9\n",
      "G8-8005/287      9\n",
      "G8-8007/287      9\n",
      "AI-544/698       9\n",
      "6E-212/6031      9\n",
      "G8-213/287       9\n",
      "6E-6373/6425     9\n",
      "6E-6814          9\n",
      "6E-864           9\n",
      "6E-6278          9\n",
      "6E-786/6694      9\n",
      "6E-5306          8\n",
      "UK-533/522       8\n",
      "UK-811/854       8\n",
      "6E-6373/5274     8\n",
      "6E-5328/6292     8\n",
      "G8-354           8\n",
      "SG-711           8\n",
      "G8-190/386       8\n",
      "G8-286/372       7\n",
      "6E-7403/5327     7\n",
      "6E-2176          7\n",
      "SG-8150/955      7\n",
      "G8-717/413       7\n",
      "6E-2519          7\n",
      "6E-2138          7\n",
      "SG-8492/955      7\n",
      "SG-8473/945      7\n",
      "SG-8171/487      7\n",
      "G8-719/2505      7\n",
      "UK-611/648       7\n",
      "6E-2129          7\n",
      "SG-2962/3002     7\n",
      "SG-8963/955      7\n",
      "6E-5023          6\n",
      "6E-184/803       6\n",
      "G8-199/2507      6\n",
      "6E-184/5302      6\n",
      "I5-552/472       6\n",
      "UK-899/874       6\n",
      "6E-184/5274      6\n",
      "AI-839/698       6\n",
      "SG-8373/945      6\n",
      "G8-145/388       5\n",
      "I5-1529/612      5\n",
      "SG-957/452       5\n",
      "UK-859/874       5\n",
      "SG-8373/955      5\n",
      "UK-879/878       5\n",
      "UK-801/866       5\n",
      "G8-191/287       5\n",
      "SG-8389/392      4\n",
      "SG-8492/945      4\n",
      "6E-607/605       4\n",
      "UK-811/864       4\n",
      "SG-3701/2902     4\n",
      "UK-781/542       4\n",
      "SG-8751/116      4\n",
      "UK-787/542       4\n",
      "6E-5026/6425     4\n",
      "SG-8751/114      4\n",
      "SG-8473/951      4\n",
      "SG-8150/945      4\n",
      "SG-8473/955      4\n",
      "6E-5005/5329     4\n",
      "G8-8001/287      4\n",
      "6E-153/605       4\n",
      "AI-451/651       4\n",
      "SG-2978/279      3\n",
      "SG-957/454       3\n",
      "UK-809/852       3\n",
      "AI-621/636       3\n",
      "UK-671/648       3\n",
      "UK-855/862       3\n",
      "UK-807/852       3\n",
      "SG-8207/612      3\n",
      "UK-813/852       3\n",
      "UK-707/774       3\n",
      "SG-2935/3002     3\n",
      "UK-847/862       3\n",
      "UK-809/846       3\n",
      "UK-813/858       3\n",
      "6E-2066/6253     3\n",
      "UK-737/774       2\n",
      "UK-747/776       2\n",
      "AI-540/672       2\n",
      "6E-2033/6004     2\n",
      "UK-705/772       2\n",
      "UK-891/842       2\n",
      "6E-2112          2\n",
      "UK-809/854       2\n",
      "AI-531/638       2\n",
      "6E-2009          2\n",
      "UK-747/772       2\n",
      "UK-807/854       2\n",
      "G8-8003/287      2\n",
      "UK-705/776       2\n",
      "UK-813/846       2\n",
      "UK-705/774       2\n",
      "UK-837/822       2\n",
      "UK-837/826       2\n",
      "UK-785/542       2\n",
      "I5-798/472       2\n",
      "6E-6939/5302     2\n",
      "6E-2033/605      2\n",
      "UK-829/874       2\n",
      "AI-504/604       2\n",
      "AI-504/640       2\n",
      "UK-899/878       1\n",
      "AI-540/569       1\n",
      "UK-835/826       1\n",
      "G8-101/519       1\n",
      "UK-727/772       1\n",
      "UK-727/774       1\n",
      "AI-431/626       1\n",
      "G8-8003/289      1\n",
      "AI-485/651       1\n",
      "G8-8005/289      1\n",
      "SG-8207/678      1\n",
      "SG-8171/452      1\n",
      "SG-8211/452      1\n",
      "AI-807/640       1\n",
      "I5-741/679       1\n",
      "SG-8211/454      1\n",
      "UK-727/776       1\n",
      "AI-764/773       1\n",
      "G8-8001/289      1\n",
      "I5-552/477       1\n",
      "SG-8492/951      1\n",
      "G8-190/3185      1\n",
      "SG-2950/202      1\n",
      "AI-764/676       1\n",
      "UK-835/822       1\n",
      "SG-8150/951      1\n",
      "AI-807/604       1\n",
      "AI-762/773       1\n",
      "UK-809/544       1\n",
      "SG-8103/678      1\n",
      "SG-3749/202      1\n",
      "6E-786/5274      1\n",
      "SG-3755/2902     1\n",
      "AI-465/682       1\n",
      "AI-762/676       1\n",
      "UK-807/544       1\n",
      "UK-817/858       1\n",
      "UK-935/508       1\n",
      "UK-837/828       1\n",
      "Name: Aeroplane, dtype: int64\n",
      "====================================================================================================\n"
     ]
    }
   ],
   "source": [
    "pd.set_option('display.max_rows',None)\n",
    "for i in Categorical :\n",
    "    print(i)\n",
    "    print(flight[i].value_counts())\n",
    "    print('='*100)"
   ]
  },
  {
   "cell_type": "code",
   "execution_count": 35,
   "id": "3bc3eb98",
   "metadata": {},
   "outputs": [
    {
     "data": {
      "text/html": [
       "<style  type=\"text/css\" >\n",
       "</style><table id=\"T_eded1_\" ><thead>    <tr>        <th class=\"blank level0\" ></th>        <th class=\"col_heading level0 col0\" >Airline</th>        <th class=\"col_heading level0 col1\" >Aeroplane</th>        <th class=\"col_heading level0 col2\" >Date</th>        <th class=\"col_heading level0 col3\" >Departure_Time</th>        <th class=\"col_heading level0 col4\" >Arrival_Time</th>        <th class=\"col_heading level0 col5\" >Source</th>        <th class=\"col_heading level0 col6\" >Destination</th>        <th class=\"col_heading level0 col7\" >Stops</th>        <th class=\"col_heading level0 col8\" >Day</th>    </tr></thead><tbody>\n",
       "                <tr>\n",
       "                        <th id=\"T_eded1_level0_row0\" class=\"row_heading level0 row0\" >count</th>\n",
       "                        <td id=\"T_eded1_row0_col0\" class=\"data row0 col0\" >2833</td>\n",
       "                        <td id=\"T_eded1_row0_col1\" class=\"data row0 col1\" >2833</td>\n",
       "                        <td id=\"T_eded1_row0_col2\" class=\"data row0 col2\" >2833</td>\n",
       "                        <td id=\"T_eded1_row0_col3\" class=\"data row0 col3\" >2833</td>\n",
       "                        <td id=\"T_eded1_row0_col4\" class=\"data row0 col4\" >2833</td>\n",
       "                        <td id=\"T_eded1_row0_col5\" class=\"data row0 col5\" >2833</td>\n",
       "                        <td id=\"T_eded1_row0_col6\" class=\"data row0 col6\" >2833</td>\n",
       "                        <td id=\"T_eded1_row0_col7\" class=\"data row0 col7\" >2833</td>\n",
       "                        <td id=\"T_eded1_row0_col8\" class=\"data row0 col8\" >2833</td>\n",
       "            </tr>\n",
       "            <tr>\n",
       "                        <th id=\"T_eded1_level0_row1\" class=\"row_heading level0 row1\" >unique</th>\n",
       "                        <td id=\"T_eded1_row1_col0\" class=\"data row1 col0\" >9</td>\n",
       "                        <td id=\"T_eded1_row1_col1\" class=\"data row1 col1\" >279</td>\n",
       "                        <td id=\"T_eded1_row1_col2\" class=\"data row1 col2\" >11</td>\n",
       "                        <td id=\"T_eded1_row1_col3\" class=\"data row1 col3\" >128</td>\n",
       "                        <td id=\"T_eded1_row1_col4\" class=\"data row1 col4\" >160</td>\n",
       "                        <td id=\"T_eded1_row1_col5\" class=\"data row1 col5\" >1</td>\n",
       "                        <td id=\"T_eded1_row1_col6\" class=\"data row1 col6\" >1</td>\n",
       "                        <td id=\"T_eded1_row1_col7\" class=\"data row1 col7\" >3</td>\n",
       "                        <td id=\"T_eded1_row1_col8\" class=\"data row1 col8\" >7</td>\n",
       "            </tr>\n",
       "            <tr>\n",
       "                        <th id=\"T_eded1_level0_row2\" class=\"row_heading level0 row2\" >top</th>\n",
       "                        <td id=\"T_eded1_row2_col0\" class=\"data row2 col0\" >Vistara Premium Economy</td>\n",
       "                        <td id=\"T_eded1_row2_col1\" class=\"data row2 col1\" >UK-871/872</td>\n",
       "                        <td id=\"T_eded1_row2_col2\" class=\"data row2 col2\" > 2 Aug 2022</td>\n",
       "                        <td id=\"T_eded1_row2_col3\" class=\"data row2 col3\" >07:20</td>\n",
       "                        <td id=\"T_eded1_row2_col4\" class=\"data row2 col4\" >08:40\n",
       "+ 1 day</td>\n",
       "                        <td id=\"T_eded1_row2_col5\" class=\"data row2 col5\" >New Delhi</td>\n",
       "                        <td id=\"T_eded1_row2_col6\" class=\"data row2 col6\" >Mumbai</td>\n",
       "                        <td id=\"T_eded1_row2_col7\" class=\"data row2 col7\" >1 Stop</td>\n",
       "                        <td id=\"T_eded1_row2_col8\" class=\"data row2 col8\" >Tue</td>\n",
       "            </tr>\n",
       "            <tr>\n",
       "                        <th id=\"T_eded1_level0_row3\" class=\"row_heading level0 row3\" >freq</th>\n",
       "                        <td id=\"T_eded1_row3_col0\" class=\"data row3 col0\" >627</td>\n",
       "                        <td id=\"T_eded1_row3_col1\" class=\"data row3 col1\" >33</td>\n",
       "                        <td id=\"T_eded1_row3_col2\" class=\"data row3 col2\" >285</td>\n",
       "                        <td id=\"T_eded1_row3_col3\" class=\"data row3 col3\" >109</td>\n",
       "                        <td id=\"T_eded1_row3_col4\" class=\"data row3 col4\" >116</td>\n",
       "                        <td id=\"T_eded1_row3_col5\" class=\"data row3 col5\" >2833</td>\n",
       "                        <td id=\"T_eded1_row3_col6\" class=\"data row3 col6\" >2833</td>\n",
       "                        <td id=\"T_eded1_row3_col7\" class=\"data row3 col7\" >2021</td>\n",
       "                        <td id=\"T_eded1_row3_col8\" class=\"data row3 col8\" >531</td>\n",
       "            </tr>\n",
       "    </tbody></table>"
      ],
      "text/plain": [
       "<pandas.io.formats.style.Styler at 0x1afaf6fad90>"
      ]
     },
     "execution_count": 35,
     "metadata": {},
     "output_type": "execute_result"
    }
   ],
   "source": [
    "flight.describe(include=object).style.background_gradient(cmap='summer_r')"
   ]
  },
  {
   "cell_type": "code",
   "execution_count": 36,
   "id": "6d7a1adc",
   "metadata": {},
   "outputs": [
    {
     "data": {
      "image/png": "[encoded data removed]",
      "text/plain": [
       "<Figure size 1152x576 with 2 Axes>"
      ]
     },
     "metadata": {
      "needs_background": "light"
     },
     "output_type": "display_data"
    }
   ],
   "source": [
    "plt.rcParams[\"figure.autolayout\"] = True\n",
    "sns.set_palette('Set1')\n",
    "f,ax=plt.subplots(1,2,figsize=(16,8))\n",
    "flight['Airline'].value_counts().plot.pie(autopct='%2.1f%%',\n",
    "                                          textprops ={ 'fontsize':13,'fontweight' :'bold'}, ax=ax[0],shadow=True)\n",
    "ax[0].set_title('FlightWise Distribution of Airlines', fontsize=20,fontweight ='bold')\n",
    "ax[0].set_ylabel('')\n",
    "sns.countplot('Airline',data=flight,ax=ax[1])\n",
    "ax[1].set_title('Airline Vs No of Flights',fontsize=18,fontweight ='bold')\n",
    "ax[1].set_xlabel(\"Airline\",fontsize=18,fontweight ='bold')\n",
    "ax[1].set_ylabel(\"No. of Flights\",fontsize=18,fontweight ='bold')\n",
    "plt.xticks(fontsize=12,rotation= 90)\n",
    "plt.tight_layout()\n",
    "plt.show()"
   ]
  },
  {
   "cell_type": "code",
   "execution_count": 38,
   "id": "59de699c",
   "metadata": {},
   "outputs": [
    {
     "data": {
      "image/png": "[encoded data removed]",
      "text/plain": [
       "<Figure size 1008x432 with 2 Axes>"
      ]
     },
     "metadata": {
      "needs_background": "light"
     },
     "output_type": "display_data"
    }
   ],
   "source": [
    "plt.rcParams[\"figure.autolayout\"] = True\n",
    "sns.set_palette('hsv')\n",
    "f,ax=plt.subplots(1,2,figsize=(14,6))\n",
    "flight['Stops'].value_counts().plot.pie(autopct='%2.1f%%',\n",
    "                                          textprops ={ 'fontsize':14,'fontweight' :'bold'}, ax=ax[0],shadow=True)\n",
    "ax[0].set_title('Stops-Wise Distribution of Flights', fontsize=20,fontweight ='bold')\n",
    "ax[0].set_ylabel('')\n",
    "sns.countplot('Stops',data=flight,ax=ax[1])\n",
    "ax[1].set_title('Stops Vs No of Flights',fontsize=18,fontweight ='bold')\n",
    "ax[1].set_xlabel(\"Stops\",fontsize=18,fontweight ='bold')\n",
    "ax[1].set_ylabel(\"No. of Flights\",fontsize=18,fontweight ='bold')\n",
    "plt.xticks(fontsize=12,fontweight ='bold')\n",
    "plt.tight_layout()\n",
    "plt.show()"
   ]
  },
  {
   "cell_type": "code",
   "execution_count": 39,
   "id": "ff492046",
   "metadata": {},
   "outputs": [
    {
     "data": {
      "image/png": "[encoded data removed]",
      "text/plain": [
       "<Figure size 1008x432 with 2 Axes>"
      ]
     },
     "metadata": {
      "needs_background": "light"
     },
     "output_type": "display_data"
    }
   ],
   "source": [
    "plt.rcParams[\"figure.autolayout\"] = True\n",
    "sns.set_palette('hsv')\n",
    "f,ax=plt.subplots(1,2,figsize=(14,6))\n",
    "flight['Day'].value_counts().plot.pie(autopct='%2.1f%%',\n",
    "                                          textprops ={ 'fontsize':14,'fontweight' :'bold'}, ax=ax[0],shadow=True)\n",
    "ax[0].set_title('Day-Wise Distribution of Flights', fontsize=20,fontweight ='bold')\n",
    "ax[0].set_ylabel('')\n",
    "sns.countplot('Day',data=flight,ax=ax[1])\n",
    "ax[1].set_title('Day Vs No of Flights',fontsize=18,fontweight ='bold')\n",
    "ax[1].set_xlabel(\"Day\",fontsize=18,fontweight ='bold')\n",
    "ax[1].set_ylabel(\"No. of Flights\",fontsize=18,fontweight ='bold')\n",
    "plt.xticks(fontsize=12,fontweight ='bold')\n",
    "plt.tight_layout()\n",
    "plt.show()"
   ]
  },
  {
   "cell_type": "code",
   "execution_count": 41,
   "id": "c6e571c5",
   "metadata": {},
   "outputs": [
    {
     "data": {
      "image/png": "[encoded data removed]",
      "text/plain": [
       "<Figure size 1008x504 with 1 Axes>"
      ]
     },
     "metadata": {
      "needs_background": "light"
     },
     "output_type": "display_data"
    }
   ],
   "source": [
    "plt.rcParams[\"figure.autolayout\"] = True\n",
    "sns.set_palette('gnuplot')\n",
    "plt.figure(figsize =(14,7))\n",
    "sns.barplot(x=flight['Day'],y=flight['Price'],hue=flight['Airline'])\n",
    "plt.title(\"Day Vs Price\",fontsize=20,fontweight ='bold')\n",
    "plt.xlabel('Day',fontsize = 20,fontweight ='bold')\n",
    "plt.ylabel('Avg. Price of Flights',fontsize = 20,fontweight ='bold')\n",
    "plt.tight_layout()\n",
    "plt.show()"
   ]
  },
  {
   "cell_type": "code",
   "execution_count": 42,
   "id": "9c206a6e",
   "metadata": {},
   "outputs": [
    {
     "data": {
      "image/png": "[encoded data removed]",
      "text/plain": [
       "<Figure size 1008x504 with 1 Axes>"
      ]
     },
     "metadata": {
      "needs_background": "light"
     },
     "output_type": "display_data"
    }
   ],
   "source": [
    "plt.rcParams[\"figure.autolayout\"] = True\n",
    "sns.set_palette('gnuplot')\n",
    "plt.figure(figsize =(14,7))\n",
    "sns.barplot(x=flight['Airline'],y=flight['Duration'],hue=flight['Stops'])\n",
    "plt.title(\"Airline Vs Duration\",fontsize=20,fontweight ='bold')\n",
    "plt.xlabel('Airline',fontsize = 20,fontweight ='bold')\n",
    "plt.ylabel('Avg. Duration of Flights',fontsize = 20,fontweight ='bold')\n",
    "plt.tight_layout()\n",
    "plt.show()"
   ]
  },
  {
   "cell_type": "code",
   "execution_count": 43,
   "id": "e5fdc224",
   "metadata": {},
   "outputs": [
    {
     "data": {
      "image/png": "[encoded data removed]",
      "text/plain": [
       "<Figure size 1008x504 with 1 Axes>"
      ]
     },
     "metadata": {
      "needs_background": "light"
     },
     "output_type": "display_data"
    }
   ],
   "source": [
    "plt.rcParams[\"figure.autolayout\"] = True\n",
    "sns.set_palette('mako')\n",
    "plt.figure(figsize =(14,7))\n",
    "sns.countplot(x=flight['Date'])\n",
    "plt.title(\"Date-wise Flight Distribution\",fontsize=20,fontweight ='bold')\n",
    "plt.xlabel('Date',fontsize = 20,fontweight ='bold')\n",
    "plt.ylabel('No of Flights',fontsize = 20,fontweight ='bold')\n",
    "plt.tight_layout()\n",
    "plt.show()"
   ]
  },
  {
   "cell_type": "code",
   "execution_count": 44,
   "id": "4f19a555",
   "metadata": {},
   "outputs": [],
   "source": [
    "flight.drop(columns=['Departure_Time','Arrival_Time','Source','Destination'], inplace= True)"
   ]
  },
  {
   "cell_type": "code",
   "execution_count": 47,
   "id": "3db38434",
   "metadata": {},
   "outputs": [
    {
     "data": {
      "text/plain": [
       "{int64: ['Duration', 'Price'], object: ['Airline', 'Aeroplane', 'Date', 'Stops', 'Day']}"
      ]
     },
     "execution_count": 47,
     "metadata": {},
     "output_type": "execute_result"
    }
   ],
   "source": [
    "flight.columns.to_series().groupby(flight.dtypes).groups"
   ]
  },
  {
   "cell_type": "code",
   "execution_count": 48,
   "id": "26df91d9",
   "metadata": {},
   "outputs": [],
   "source": [
    "Categorical = ['Airline','Aeroplane', 'Date', 'Stops', 'Day']\n",
    "Numerical = ['Duration', 'Price']"
   ]
  },
  {
   "cell_type": "code",
   "execution_count": 49,
   "id": "723cbb11",
   "metadata": {},
   "outputs": [],
   "source": [
    "flight['Aeroplane']= flight['Aeroplane'].map(lambda x: str(x).replace('-',''))\n",
    "flight['Aeroplane']= flight['Aeroplane'].map(lambda x: str(x).replace('/',''))"
   ]
  },
  {
   "cell_type": "code",
   "execution_count": 50,
   "id": "fb94d9a1",
   "metadata": {},
   "outputs": [
    {
     "data": {
      "text/html": [
       "<div>\n",
       "<style scoped>\n",
       "    .dataframe tbody tr th:only-of-type {\n",
       "        vertical-align: middle;\n",
       "    }\n",
       "\n",
       "    .dataframe tbody tr th {\n",
       "        vertical-align: top;\n",
       "    }\n",
       "\n",
       "    .dataframe thead th {\n",
       "        text-align: right;\n",
       "    }\n",
       "</style>\n",
       "<table border=\"1\" class=\"dataframe\">\n",
       "  <thead>\n",
       "    <tr style=\"text-align: right;\">\n",
       "      <th></th>\n",
       "      <th>Airline</th>\n",
       "      <th>Aeroplane</th>\n",
       "      <th>Date</th>\n",
       "      <th>Stops</th>\n",
       "      <th>Duration</th>\n",
       "      <th>Price</th>\n",
       "      <th>Day</th>\n",
       "    </tr>\n",
       "  </thead>\n",
       "  <tbody>\n",
       "    <tr>\n",
       "      <th>0</th>\n",
       "      <td>1</td>\n",
       "      <td>55</td>\n",
       "      <td>2</td>\n",
       "      <td>0</td>\n",
       "      <td>255</td>\n",
       "      <td>7320</td>\n",
       "      <td>3</td>\n",
       "    </tr>\n",
       "    <tr>\n",
       "      <th>1</th>\n",
       "      <td>6</td>\n",
       "      <td>276</td>\n",
       "      <td>2</td>\n",
       "      <td>2</td>\n",
       "      <td>130</td>\n",
       "      <td>8578</td>\n",
       "      <td>3</td>\n",
       "    </tr>\n",
       "    <tr>\n",
       "      <th>2</th>\n",
       "      <td>4</td>\n",
       "      <td>22</td>\n",
       "      <td>2</td>\n",
       "      <td>2</td>\n",
       "      <td>125</td>\n",
       "      <td>8579</td>\n",
       "      <td>3</td>\n",
       "    </tr>\n",
       "    <tr>\n",
       "      <th>3</th>\n",
       "      <td>5</td>\n",
       "      <td>163</td>\n",
       "      <td>2</td>\n",
       "      <td>2</td>\n",
       "      <td>130</td>\n",
       "      <td>8579</td>\n",
       "      <td>3</td>\n",
       "    </tr>\n",
       "    <tr>\n",
       "      <th>4</th>\n",
       "      <td>5</td>\n",
       "      <td>146</td>\n",
       "      <td>2</td>\n",
       "      <td>2</td>\n",
       "      <td>135</td>\n",
       "      <td>8579</td>\n",
       "      <td>3</td>\n",
       "    </tr>\n",
       "  </tbody>\n",
       "</table>\n",
       "</div>"
      ],
      "text/plain": [
       "   Airline  Aeroplane  Date  Stops  Duration  Price  Day\n",
       "0        1         55     2      0       255   7320    3\n",
       "1        6        276     2      2       130   8578    3\n",
       "2        4         22     2      2       125   8579    3\n",
       "3        5        163     2      2       130   8579    3\n",
       "4        5        146     2      2       135   8579    3"
      ]
     },
     "execution_count": 50,
     "metadata": {},
     "output_type": "execute_result"
    }
   ],
   "source": [
    "from sklearn.preprocessing import LabelEncoder\n",
    "le = LabelEncoder()\n",
    "for i in Categorical:\n",
    "    flight[i] =le.fit_transform(flight[i])\n",
    "flight.head()"
   ]
  },
  {
   "cell_type": "code",
   "execution_count": 51,
   "id": "40a04bcd",
   "metadata": {},
   "outputs": [
    {
     "data": {
      "image/png": "[encoded data removed]",
      "text/plain": [
       "<Figure size 1080x288 with 2 Axes>"
      ]
     },
     "metadata": {},
     "output_type": "display_data"
    }
   ],
   "source": [
    "plt.figure(figsize=(15,4), facecolor ='white')\n",
    "plt_num = 1\n",
    "for i in Numerical:\n",
    "    if plt_num <= 2:\n",
    "        ax = plt.subplot(1,2,plt_num)\n",
    "        sns.boxplot(flight[i], palette='gnuplot')\n",
    "        plt.xlabel(i, fontsize= 16)\n",
    "    plt_num += 1\n",
    "plt.show()"
   ]
  },
  {
   "cell_type": "code",
   "execution_count": 52,
   "id": "c8e29f23",
   "metadata": {},
   "outputs": [
    {
     "data": {
      "text/html": [
       "<div>\n",
       "<style scoped>\n",
       "    .dataframe tbody tr th:only-of-type {\n",
       "        vertical-align: middle;\n",
       "    }\n",
       "\n",
       "    .dataframe tbody tr th {\n",
       "        vertical-align: top;\n",
       "    }\n",
       "\n",
       "    .dataframe thead th {\n",
       "        text-align: right;\n",
       "    }\n",
       "</style>\n",
       "<table border=\"1\" class=\"dataframe\">\n",
       "  <thead>\n",
       "    <tr style=\"text-align: right;\">\n",
       "      <th></th>\n",
       "      <th>Airline</th>\n",
       "      <th>Aeroplane</th>\n",
       "      <th>Date</th>\n",
       "      <th>Stops</th>\n",
       "      <th>Duration</th>\n",
       "      <th>Price</th>\n",
       "      <th>Day</th>\n",
       "    </tr>\n",
       "  </thead>\n",
       "  <tbody>\n",
       "    <tr>\n",
       "      <th>Airline</th>\n",
       "      <td>1.000000</td>\n",
       "      <td>0.787661</td>\n",
       "      <td>0.011334</td>\n",
       "      <td>-0.046784</td>\n",
       "      <td>0.082129</td>\n",
       "      <td>0.173316</td>\n",
       "      <td>-0.005008</td>\n",
       "    </tr>\n",
       "    <tr>\n",
       "      <th>Aeroplane</th>\n",
       "      <td>0.787661</td>\n",
       "      <td>1.000000</td>\n",
       "      <td>0.012779</td>\n",
       "      <td>0.075086</td>\n",
       "      <td>0.095880</td>\n",
       "      <td>0.188226</td>\n",
       "      <td>-0.009374</td>\n",
       "    </tr>\n",
       "    <tr>\n",
       "      <th>Date</th>\n",
       "      <td>0.011334</td>\n",
       "      <td>0.012779</td>\n",
       "      <td>1.000000</td>\n",
       "      <td>0.004153</td>\n",
       "      <td>-0.002338</td>\n",
       "      <td>-0.032739</td>\n",
       "      <td>0.047922</td>\n",
       "    </tr>\n",
       "    <tr>\n",
       "      <th>Stops</th>\n",
       "      <td>-0.046784</td>\n",
       "      <td>0.075086</td>\n",
       "      <td>0.004153</td>\n",
       "      <td>1.000000</td>\n",
       "      <td>-0.635929</td>\n",
       "      <td>-0.191828</td>\n",
       "      <td>0.001799</td>\n",
       "    </tr>\n",
       "    <tr>\n",
       "      <th>Duration</th>\n",
       "      <td>0.082129</td>\n",
       "      <td>0.095880</td>\n",
       "      <td>-0.002338</td>\n",
       "      <td>-0.635929</td>\n",
       "      <td>1.000000</td>\n",
       "      <td>0.228074</td>\n",
       "      <td>0.006846</td>\n",
       "    </tr>\n",
       "    <tr>\n",
       "      <th>Price</th>\n",
       "      <td>0.173316</td>\n",
       "      <td>0.188226</td>\n",
       "      <td>-0.032739</td>\n",
       "      <td>-0.191828</td>\n",
       "      <td>0.228074</td>\n",
       "      <td>1.000000</td>\n",
       "      <td>-0.033934</td>\n",
       "    </tr>\n",
       "    <tr>\n",
       "      <th>Day</th>\n",
       "      <td>-0.005008</td>\n",
       "      <td>-0.009374</td>\n",
       "      <td>0.047922</td>\n",
       "      <td>0.001799</td>\n",
       "      <td>0.006846</td>\n",
       "      <td>-0.033934</td>\n",
       "      <td>1.000000</td>\n",
       "    </tr>\n",
       "  </tbody>\n",
       "</table>\n",
       "</div>"
      ],
      "text/plain": [
       "            Airline  Aeroplane      Date     Stops  Duration     Price  \\\n",
       "Airline    1.000000   0.787661  0.011334 -0.046784  0.082129  0.173316   \n",
       "Aeroplane  0.787661   1.000000  0.012779  0.075086  0.095880  0.188226   \n",
       "Date       0.011334   0.012779  1.000000  0.004153 -0.002338 -0.032739   \n",
       "Stops     -0.046784   0.075086  0.004153  1.000000 -0.635929 -0.191828   \n",
       "Duration   0.082129   0.095880 -0.002338 -0.635929  1.000000  0.228074   \n",
       "Price      0.173316   0.188226 -0.032739 -0.191828  0.228074  1.000000   \n",
       "Day       -0.005008  -0.009374  0.047922  0.001799  0.006846 -0.033934   \n",
       "\n",
       "                Day  \n",
       "Airline   -0.005008  \n",
       "Aeroplane -0.009374  \n",
       "Date       0.047922  \n",
       "Stops      0.001799  \n",
       "Duration   0.006846  \n",
       "Price     -0.033934  \n",
       "Day        1.000000  "
      ]
     },
     "execution_count": 52,
     "metadata": {},
     "output_type": "execute_result"
    }
   ],
   "source": [
    "flight.corr()"
   ]
  },
  {
   "cell_type": "code",
   "execution_count": 53,
   "id": "c2ea1102",
   "metadata": {},
   "outputs": [
    {
     "data": {
      "image/png": "[encoded data removed]",
      "text/plain": [
       "<Figure size 864x576 with 2 Axes>"
      ]
     },
     "metadata": {
      "needs_background": "light"
     },
     "output_type": "display_data"
    }
   ],
   "source": [
    "plt.figure(figsize=(12,8))\n",
    "sns.heatmap(flight.corr(),linecolor='black', vmin=-1, vmax=1, annot=True, square=True, fmt='0.3f', \n",
    "            annot_kws={'size':10}, cmap='gist_stern')\n",
    "plt.xticks(fontsize=12)\n",
    "plt.yticks(fontsize=12)\n",
    "plt.show()"
   ]
  },
  {
   "cell_type": "code",
   "execution_count": 54,
   "id": "fb1448d8",
   "metadata": {},
   "outputs": [
    {
     "data": {
      "image/png": "[encoded data removed]",
      "text/plain": [
       "<Figure size 864x432 with 1 Axes>"
      ]
     },
     "metadata": {
      "needs_background": "light"
     },
     "output_type": "display_data"
    }
   ],
   "source": [
    "plt.figure(figsize = (12,6))\n",
    "flight.corr()['Price'].drop(['Price']).sort_values(ascending=False).plot(kind='bar',cmap = 'spring')\n",
    "plt.xlabel('Features',fontsize=15,fontweight='bold')\n",
    "plt.ylabel('Price (Rs.)',fontsize=15,fontweight='bold')\n",
    "plt.title('Correlation of features with Target Variable Price (Rs.)',fontsize = 20,fontweight='bold')\n",
    "plt.show()"
   ]
  },
  {
   "cell_type": "code",
   "execution_count": 56,
   "id": "401b67c9",
   "metadata": {},
   "outputs": [
    {
     "data": {
      "text/plain": [
       "Airline     -0.410833\n",
       "Aeroplane   -0.255872\n",
       "Date        -0.097877\n",
       "Stops        0.958636\n",
       "Duration     0.820134\n",
       "Price        1.710423\n",
       "Day         -0.110355\n",
       "dtype: float64"
      ]
     },
     "execution_count": 56,
     "metadata": {},
     "output_type": "execute_result"
    }
   ],
   "source": [
    "flight.skew()"
   ]
  },
  {
   "cell_type": "code",
   "execution_count": 57,
   "id": "01fa81a7",
   "metadata": {},
   "outputs": [],
   "source": [
    "X = flight.drop(['Price'], axis=1)\n",
    "Y = flight['Price']"
   ]
  },
  {
   "cell_type": "code",
   "execution_count": 58,
   "id": "9a1a9c49",
   "metadata": {},
   "outputs": [],
   "source": [
    "from sklearn.preprocessing import StandardScaler\n",
    "scaler = StandardScaler()\n",
    "X_scale = scaler.fit_transform(X)"
   ]
  },
  {
   "cell_type": "code",
   "execution_count": 59,
   "id": "4016b99f",
   "metadata": {},
   "outputs": [],
   "source": [
    "from sklearn.metrics import mean_squared_error, mean_absolute_error, r2_score\n",
    "from sklearn.model_selection import train_test_split\n",
    "from sklearn.linear_model import LinearRegression\n",
    "from sklearn.ensemble import RandomForestRegressor\n",
    "from sklearn.tree import DecisionTreeRegressor\n",
    "from sklearn.ensemble import ExtraTreesRegressor\n",
    "from xgboost import XGBRegressor"
   ]
  },
  {
   "cell_type": "code",
   "execution_count": 60,
   "id": "a0286fa5",
   "metadata": {},
   "outputs": [
    {
     "name": "stdout",
     "output_type": "stream",
     "text": [
      "Training Feature Matrix Size: (1898, 6)\n",
      "Training Target Vector Size : (1898,)\n",
      "Test Feature Matrix Size: (935, 6)\n",
      "Test Target Vector Size: (935,)\n"
     ]
    }
   ],
   "source": [
    "X_train, X_test, Y_train, Y_test = train_test_split(X_scale, Y, random_state=99, test_size=0.33)\n",
    "print('Training Feature Matrix Size:', X_train.shape)\n",
    "print('Training Target Vector Size :', Y_train.shape)\n",
    "print('Test Feature Matrix Size:', X_test.shape)\n",
    "print('Test Target Vector Size:', Y_test.shape)"
   ]
  },
  {
   "cell_type": "code",
   "execution_count": 61,
   "id": "93ac1c5b",
   "metadata": {},
   "outputs": [
    {
     "name": "stdout",
     "output_type": "stream",
     "text": [
      "Best R2 Score is 0.11841773130770217 on Random_state 68\n"
     ]
    }
   ],
   "source": [
    "maxR2_score=0\n",
    "maxRS=0\n",
    "for i in range(50,500):\n",
    "    X_train, X_test, Y_train, Y_test = train_test_split(X_scale, Y, random_state=i, test_size=.33)\n",
    "    lin_reg=LinearRegression()\n",
    "    lin_reg.fit(X_train,Y_train)\n",
    "    y_pred=lin_reg.predict(X_test)\n",
    "    R2=r2_score(Y_test,y_pred)\n",
    "    if R2>maxR2_score:\n",
    "        maxR2_score=R2\n",
    "        maxRS=i\n",
    "print('Best R2 Score is', maxR2_score ,'on Random_state', maxRS)"
   ]
  },
  {
   "cell_type": "code",
   "execution_count": 62,
   "id": "91956b89",
   "metadata": {},
   "outputs": [
    {
     "name": "stdout",
     "output_type": "stream",
     "text": [
      "\u001b[1mError :\u001b[0m\n",
      "Mean absolute error : 9350.70779922908\n",
      "Mean squared error : 159190366.0398758\n",
      "Root Mean squared error : 12617.06645935876\n",
      "\u001b[1m R2 Score :\u001b[0m\n",
      "7.691260325281323\n"
     ]
    }
   ],
   "source": [
    "X_train, X_test, Y_train, Y_test = train_test_split(X_scale, Y, random_state= 70, test_size=0.33)\n",
    "lin_reg= LinearRegression()\n",
    "lin_reg.fit(X_train, Y_train)\n",
    "y_pred = lin_reg.predict(X_test)\n",
    "print('\\033[1m'+ 'Error :'+ '\\033[0m')\n",
    "print('Mean absolute error :', mean_absolute_error(Y_test,y_pred))\n",
    "print('Mean squared error :', mean_squared_error(Y_test, y_pred))\n",
    "print('Root Mean squared error :', np.sqrt(mean_squared_error(Y_test, y_pred)))\n",
    "print('\\033[1m'+' R2 Score :'+'\\033[0m')\n",
    "print(r2_score(Y_test,y_pred)*100)"
   ]
  },
  {
   "cell_type": "code",
   "execution_count": 63,
   "id": "8d7c66e2",
   "metadata": {},
   "outputs": [
    {
     "name": "stdout",
     "output_type": "stream",
     "text": [
      "\u001b[1mCross Validation Score : LinearRegression() :\u001b[0m\n",
      "\n",
      "Mean CV Score : -4.303290842273712\n"
     ]
    }
   ],
   "source": [
    "from sklearn.model_selection import cross_val_score\n",
    "score = cross_val_score(lin_reg, X_scale, Y, cv=5)\n",
    "print('\\033[1m'+'Cross Validation Score :',lin_reg,\":\"+'\\033[0m\\n')\n",
    "print(\"Mean CV Score :\",score.mean())"
   ]
  },
  {
   "cell_type": "code",
   "execution_count": 64,
   "id": "000abcae",
   "metadata": {},
   "outputs": [
    {
     "name": "stdout",
     "output_type": "stream",
     "text": [
      "\u001b[1mError of Random Forest Regressor:\u001b[0m\n",
      "Mean absolute error : 1993.2279893048128\n",
      "Mean squared error : 14981599.104509838\n",
      "Root Mean squared error : 3870.6070718312185\n",
      "\u001b[1mR2 Score of Random Forest Regressor :\u001b[0m\n",
      "91.31271215682246\n"
     ]
    }
   ],
   "source": [
    "X_train, X_test, Y_train, Y_test = train_test_split(X_scale, Y, random_state= 70, test_size=0.33)\n",
    "rfc = RandomForestRegressor()\n",
    "rfc.fit(X_train, Y_train)\n",
    "y_pred = rfc.predict(X_test)\n",
    "print('\\033[1m'+ 'Error of Random Forest Regressor:'+ '\\033[0m')\n",
    "print('Mean absolute error :', mean_absolute_error(Y_test,y_pred))\n",
    "print('Mean squared error :', mean_squared_error(Y_test, y_pred))\n",
    "print('Root Mean squared error :', np.sqrt(mean_squared_error(Y_test, y_pred)))\n",
    "print('\\033[1m'+'R2 Score of Random Forest Regressor :'+'\\033[0m')\n",
    "print(r2_score(Y_test,y_pred)*100)"
   ]
  },
  {
   "cell_type": "code",
   "execution_count": 65,
   "id": "8160b015",
   "metadata": {},
   "outputs": [
    {
     "name": "stdout",
     "output_type": "stream",
     "text": [
      "\u001b[1mCross Validation Score : RandomForestRegressor() :\u001b[0m\n",
      "\n",
      "Mean CV Score : 0.38124247369343\n"
     ]
    }
   ],
   "source": [
    "from sklearn.model_selection import cross_val_score\n",
    "score = cross_val_score(rfc, X_scale, Y, cv=5)\n",
    "print('\\033[1m'+'Cross Validation Score :',rfc,\":\"+'\\033[0m\\n')\n",
    "print(\"Mean CV Score :\",score.mean())"
   ]
  },
  {
   "cell_type": "code",
   "execution_count": 66,
   "id": "437ef8ae",
   "metadata": {},
   "outputs": [
    {
     "name": "stdout",
     "output_type": "stream",
     "text": [
      "\u001b[1mError of Decision Tree Regressor:\u001b[0m\n",
      "Mean absolute error : 2131.364705882353\n",
      "Mean squared error : 23721373.328342248\n",
      "Root Mean squared error : 4870.4592523028305\n",
      "\u001b[1mR2 Score of Decision Tree Regressor :\u001b[0m\n",
      "86.24483296467665\n"
     ]
    }
   ],
   "source": [
    "X_train, X_test, Y_train, Y_test = train_test_split(X_scale, Y, random_state= 70, test_size=0.33)\n",
    "dtc = DecisionTreeRegressor()\n",
    "dtc.fit(X_train, Y_train)\n",
    "y_pred = dtc.predict(X_test)\n",
    "print('\\033[1m'+ 'Error of Decision Tree Regressor:'+ '\\033[0m')\n",
    "print('Mean absolute error :', mean_absolute_error(Y_test,y_pred))\n",
    "print('Mean squared error :', mean_squared_error(Y_test, y_pred))\n",
    "print('Root Mean squared error :', np.sqrt(mean_squared_error(Y_test, y_pred)))\n",
    "print('\\033[1m'+'R2 Score of Decision Tree Regressor :'+'\\033[0m')\n",
    "print(r2_score(Y_test,y_pred)*100)"
   ]
  },
  {
   "cell_type": "code",
   "execution_count": 67,
   "id": "8fb36b98",
   "metadata": {},
   "outputs": [
    {
     "name": "stdout",
     "output_type": "stream",
     "text": [
      "\u001b[1mCross Validation Score : DecisionTreeRegressor() :\u001b[0m\n",
      "\n",
      "Mean CV Score : 0.2394441616669047\n"
     ]
    }
   ],
   "source": [
    "from sklearn.model_selection import cross_val_score\n",
    "score = cross_val_score(dtc, X_scale, Y, cv=5)\n",
    "print('\\033[1m'+'Cross Validation Score :',dtc,\":\"+'\\033[0m\\n')\n",
    "print(\"Mean CV Score :\",score.mean())"
   ]
  },
  {
   "cell_type": "code",
   "execution_count": 68,
   "id": "bcb181ab",
   "metadata": {},
   "outputs": [
    {
     "name": "stdout",
     "output_type": "stream",
     "text": [
      "\u001b[1mError of Extra Tree Regressor:\u001b[0m\n",
      "Mean absolute error : 2106.6117647058823\n",
      "Mean squared error : 23635930.519786097\n",
      "Root Mean squared error : 4861.679804325466\n",
      "\u001b[1mR2 Score of Extra Tree Regressor :\u001b[0m\n",
      "86.29437816121266\n"
     ]
    }
   ],
   "source": [
    "X_train, X_test, Y_train, Y_test = train_test_split(X_scale, Y, random_state= 70, test_size=0.33)\n",
    "etc = ExtraTreesRegressor()\n",
    "dtc.fit(X_train, Y_train)\n",
    "y_pred = dtc.predict(X_test)\n",
    "print('\\033[1m'+ 'Error of Extra Tree Regressor:'+ '\\033[0m')\n",
    "print('Mean absolute error :', mean_absolute_error(Y_test,y_pred))\n",
    "print('Mean squared error :', mean_squared_error(Y_test, y_pred))\n",
    "print('Root Mean squared error :', np.sqrt(mean_squared_error(Y_test, y_pred)))\n",
    "print('\\033[1m'+'R2 Score of Extra Tree Regressor :'+'\\033[0m')\n",
    "print(r2_score(Y_test,y_pred)*100)"
   ]
  },
  {
   "cell_type": "code",
   "execution_count": 69,
   "id": "f7edebcc",
   "metadata": {},
   "outputs": [
    {
     "name": "stdout",
     "output_type": "stream",
     "text": [
      "\u001b[1mCross Validation Score : ExtraTreesRegressor() :\u001b[0m\n",
      "\n",
      "Mean CV Score : -0.23710461449036982\n"
     ]
    }
   ],
   "source": [
    "from sklearn.model_selection import cross_val_score\n",
    "score = cross_val_score(etc, X_scale, Y, cv=5)\n",
    "print('\\033[1m'+'Cross Validation Score :',etc,\":\"+'\\033[0m\\n')\n",
    "print(\"Mean CV Score :\",score.mean())"
   ]
  },
  {
   "cell_type": "code",
   "execution_count": 70,
   "id": "9468eab0",
   "metadata": {},
   "outputs": [
    {
     "name": "stdout",
     "output_type": "stream",
     "text": [
      "\u001b[1mError of XGB Regressor:\u001b[0m\n",
      "Mean absolute error : 2155.960252861798\n",
      "Mean squared error : 15827048.157724971\n",
      "Root Mean squared error : 3978.322279268608\n",
      "\u001b[1mR2 Score of XGB Regressor :\u001b[0m\n",
      "90.8224668077922\n"
     ]
    }
   ],
   "source": [
    "X_train, X_test, Y_train, Y_test = train_test_split(X_scale, Y, random_state= 70, test_size=0.33)\n",
    "xgb = XGBRegressor()\n",
    "xgb.fit(X_train, Y_train)\n",
    "y_pred = xgb.predict(X_test)\n",
    "print('\\033[1m'+ 'Error of XGB Regressor:'+ '\\033[0m')\n",
    "print('Mean absolute error :', mean_absolute_error(Y_test,y_pred))\n",
    "print('Mean squared error :', mean_squared_error(Y_test, y_pred))\n",
    "print('Root Mean squared error :', np.sqrt(mean_squared_error(Y_test, y_pred)))\n",
    "print('\\033[1m'+'R2 Score of XGB Regressor :'+'\\033[0m')\n",
    "print(r2_score(Y_test,y_pred)*100)"
   ]
  },
  {
   "cell_type": "code",
   "execution_count": 71,
   "id": "12f4195d",
   "metadata": {},
   "outputs": [
    {
     "name": "stdout",
     "output_type": "stream",
     "text": [
      "\u001b[1mCross Validation Score : XGBRegressor(base_score=0.5, booster='gbtree', callbacks=None,\n",
      "             colsample_bylevel=1, colsample_bynode=1, colsample_bytree=1,\n",
      "             early_stopping_rounds=None, enable_categorical=False,\n",
      "             eval_metric=None, gamma=0, gpu_id=-1, grow_policy='depthwise',\n",
      "             importance_type=None, interaction_constraints='',\n",
      "             learning_rate=0.300000012, max_bin=256, max_cat_to_onehot=4,\n",
      "             max_delta_step=0, max_depth=6, max_leaves=0, min_child_weight=1,\n",
      "             missing=nan, monotone_constraints='()', n_estimators=100, n_jobs=0,\n",
      "             num_parallel_tree=1, predictor='auto', random_state=0, reg_alpha=0,\n",
      "             reg_lambda=1, ...) :\u001b[0m\n",
      "\n",
      "Mean CV Score : 0.27428710562792336\n"
     ]
    }
   ],
   "source": [
    "from sklearn.model_selection import cross_val_score\n",
    "score = cross_val_score(xgb, X_scale, Y, cv=5)\n",
    "print('\\033[1m'+'Cross Validation Score :',xgb,\":\"+'\\033[0m\\n')\n",
    "print(\"Mean CV Score :\",score.mean())"
   ]
  },
  {
   "cell_type": "code",
   "execution_count": 72,
   "id": "4e945c86",
   "metadata": {},
   "outputs": [
    {
     "name": "stdout",
     "output_type": "stream",
     "text": [
      "R2_Score: 90.8699961863426\n",
      "mean_squared_error: 15745081.713423487\n",
      "mean_absolute_error: 2140.8943808489303\n",
      "RMSE value: 3968.007272350126\n"
     ]
    }
   ],
   "source": [
    "Final_mod=XGBRegressor(booster='gbtree', max_depth=6, eta=0.1,\n",
    "                                gamma=0.1, n_estimators=400)\n",
    "Final_mod.fit(X_train,Y_train)\n",
    "pred=Final_mod.predict(X_test)\n",
    "print('R2_Score:',r2_score(Y_test,pred)*100)\n",
    "print('mean_squared_error:',mean_squared_error(Y_test,pred))\n",
    "print('mean_absolute_error:',mean_absolute_error(Y_test,pred))\n",
    "print(\"RMSE value:\",np.sqrt(mean_squared_error(Y_test, pred)))"
   ]
  },
  {
   "cell_type": "code",
   "execution_count": 73,
   "id": "a70b30aa",
   "metadata": {},
   "outputs": [
    {
     "data": {
      "text/plain": [
       "['Flight_Price_Prediction.pkl']"
      ]
     },
     "execution_count": 73,
     "metadata": {},
     "output_type": "execute_result"
    }
   ],
   "source": [
    "import joblib\n",
    "joblib.dump(Final_mod,\"Flight_Price_Prediction.pkl\")"
   ]
  },
  {
   "cell_type": "code",
   "execution_count": 75,
   "id": "eaf56f45",
   "metadata": {},
   "outputs": [
    {
     "data": {
      "text/plain": [
       "array([47797.51  , 18043.498 ,  8715.295 , 12612.407 , 56466.49  ,\n",
       "        8132.1177,  9271.331 ,  8672.611 , 25337.844 , 16302.732 ,\n",
       "       28577.14  ,  8510.405 , 12532.291 ,  9688.76  , 11868.702 ,\n",
       "       13702.226 ,  9918.213 , 21786.701 ,  9272.071 , 20301.744 ,\n",
       "        9722.255 ,  7704.427 ,  7734.0493,  8572.268 ,  7744.6294,\n",
       "       24051.94  , 12550.59  , 15888.755 , 16639.51  , 17425.264 ,\n",
       "       14108.998 ,  8619.366 ,  9110.383 , 10786.151 , 65318.99  ,\n",
       "       25862.762 , 16195.553 ,  8538.269 , 19678.545 , 25751.078 ,\n",
       "       27102.008 ,  8432.142 ,  8759.169 , 41755.48  , 22751.668 ,\n",
       "       16634.02  ,  9903.211 , 13729.502 , 11021.593 ,  7172.2524,\n",
       "        8406.517 , 32373.469 ,  9054.297 , 11014.846 , 41232.03  ,\n",
       "       10280.984 ,  8312.794 , 40259.195 , 42765.246 , 23986.678 ,\n",
       "       35242.62  , 32332.65  , 50858.555 , 28204.928 ,  8578.012 ,\n",
       "       15062.151 , 23017.707 ,  8031.2   , 27900.787 ,  8416.323 ,\n",
       "       22381.428 ,  8878.407 , 40584.773 , 26721.568 , 41005.023 ,\n",
       "       21789.004 , 27446.254 , 21831.328 , 11533.949 , 16937.252 ,\n",
       "        8398.723 , 14343.074 , 49317.832 , 64682.44  , 44423.91  ,\n",
       "       11278.1455, 37235.523 ,  8666.518 , 25065.473 , 37937.668 ,\n",
       "       17769.242 , 18203.662 ,  9733.21  , 15346.773 ,  8078.996 ,\n",
       "       12808.638 ,  8885.989 , 13721.663 ,  9145.717 , 35814.168 ,\n",
       "       14873.008 , 38465.73  , 12124.469 , 16456.412 , 13968.874 ,\n",
       "       10251.211 ,  8032.7144, 10758.759 , 46010.37  , 15260.417 ,\n",
       "        9079.025 , 24076.486 , 19749.64  ,  8664.501 , 18053.076 ,\n",
       "       13274.388 ,  9251.18  , 15010.123 ,  8512.344 , 15493.904 ,\n",
       "       14572.316 ,  8239.075 , 10975.468 ,  8616.1455,  8328.054 ,\n",
       "       10382.    , 18471.516 , 11171.489 , 31069.592 , 22159.502 ,\n",
       "       42595.324 , 46471.953 , 14505.812 ,  8447.948 , 37722.26  ,\n",
       "       13489.948 , 14910.793 ,  8297.836 ,  7964.316 ,  8185.6187,\n",
       "        9794.345 ,  5968.889 , 28772.797 , 15226.153 , 14118.74  ,\n",
       "       50431.625 ,  8210.723 ,  8641.843 , 55571.4   , 21394.527 ,\n",
       "       55501.766 , 44813.355 ,  8567.664 , 13001.763 , 10580.741 ,\n",
       "        9311.894 , 20953.576 ,  7652.0317, 10851.843 , 25526.797 ,\n",
       "       10214.483 , 19769.303 , 15327.29  ,  7950.744 , 17507.469 ,\n",
       "       26631.111 , 17553.04  , 14648.735 ,  8526.098 ,  8462.455 ,\n",
       "       33896.01  , 15003.073 , 22406.273 ,  8486.897 , 22140.67  ,\n",
       "        9144.849 , 24388.36  , 27542.418 ,  6438.804 , 13326.747 ,\n",
       "       20833.271 ,  9821.673 , 49349.562 , 36501.914 ,  8485.544 ,\n",
       "        9832.794 , 22348.357 , 13147.849 , 10006.61  ,  9359.509 ,\n",
       "       19539.357 , 31255.213 ,  8172.6885, 14773.723 ,  8813.089 ,\n",
       "        8013.288 ,  7860.9233, 15159.97  ,  8405.071 , 29988.938 ,\n",
       "       11087.589 , 40447.04  , 24514.068 , 48035.527 , 40575.92  ,\n",
       "        8552.371 , 30220.914 , 11941.417 , 30385.62  , 39438.03  ,\n",
       "       11435.185 , 15955.413 , 14356.8545, 22618.96  , 18766.822 ,\n",
       "        9734.139 , 22527.475 , 27004.668 , 22065.238 , 33208.63  ,\n",
       "       13046.7   ,  7624.3296, 11678.09  , 14750.996 , 15581.242 ,\n",
       "       36596.516 , 13582.483 , 13409.611 , 16131.598 , 14007.845 ,\n",
       "        8262.808 ,  9476.242 ,  9021.606 , 25895.238 , 27803.828 ,\n",
       "        7336.751 , 13919.336 , 14662.792 , 52702.703 ,  8318.368 ,\n",
       "       33728.99  , 32932.363 ,  8807.628 ,  9640.728 ,  7922.507 ,\n",
       "       25459.354 , 10594.779 , 14574.382 , 22874.139 , 12163.549 ,\n",
       "       29224.887 ,  8486.071 , 11037.72  , 23079.477 , 24440.059 ,\n",
       "       20837.28  ,  8845.216 , 29950.328 ,  9082.799 , 15276.778 ,\n",
       "        8908.719 , 19815.404 , 14307.558 , 10710.257 , 40690.727 ,\n",
       "        9011.113 ,  7465.46  ,  7566.0044,  8372.508 ,  8352.56  ,\n",
       "       15588.077 ,  9546.857 ,  8754.149 ,  9085.686 , 11158.993 ,\n",
       "       40691.4   ,  8879.832 ,  8560.145 , 18359.299 , 28635.031 ,\n",
       "       15351.275 , 49088.297 , 13829.476 ,  9660.119 , 18867.941 ,\n",
       "        8527.648 ,  8151.7954, 38713.418 ,  8376.316 ,  9028.64  ,\n",
       "       14039.373 , 14660.728 , 10350.718 , 19688.324 , 29703.46  ,\n",
       "       32726.695 ,  9015.924 , 31085.865 , 21836.67  , 10553.3   ,\n",
       "        9325.778 ,  9613.795 ,  8203.664 , 10031.382 ,  5216.677 ,\n",
       "       15095.297 , 32563.225 , 28158.014 , 16755.088 , 16087.323 ,\n",
       "       41539.45  , 10645.585 ,  8577.159 , 31315.145 , 21325.24  ,\n",
       "       11470.203 , 35255.98  , 32153.752 , 13916.296 ,  8900.356 ,\n",
       "        9025.991 ,  8311.547 ,  9827.802 , 21593.47  , 19468.865 ,\n",
       "       15494.459 , 29288.324 ,  8630.407 , 37370.71  , 22516.477 ,\n",
       "       19494.6   ,  9357.294 ,  8546.594 , 16126.135 , 24841.568 ,\n",
       "       18746.703 , 15117.044 ,  9278.241 , 20608.395 , 17421.3   ,\n",
       "       27529.627 , 28595.39  ,  7980.9985, 18489.867 , 10184.421 ,\n",
       "       26316.236 ,  9267.964 , 22273.395 , 11145.004 , 29823.6   ,\n",
       "       11480.13  , 23745.264 ,  8483.294 ,  8515.875 , 11325.988 ,\n",
       "       13071.369 ,  8579.249 , 17070.555 ,  7209.519 ,  9519.796 ,\n",
       "       43968.484 , 19716.    , 17999.535 , 48366.984 , 22258.74  ,\n",
       "       16485.178 ,  8025.814 , 10115.09  , 23497.973 , 12888.096 ,\n",
       "       12437.246 , 10108.23  , 44436.656 , 39828.125 , 53274.92  ,\n",
       "       20045.496 ,  8670.072 , 13721.866 , 14225.178 ,  8388.958 ,\n",
       "       36465.19  ,  7118.719 ,  9241.884 , 11005.751 , 18082.615 ,\n",
       "        6585.1406, 13306.304 ,  8299.747 , 22630.342 ,  8788.129 ,\n",
       "       29433.47  ,  8386.867 ,  7354.5024, 23986.656 , 27454.28  ,\n",
       "        8357.968 , 23401.236 , 14139.625 , 27062.639 , 15339.658 ,\n",
       "       15172.416 , 14743.35  , 10213.879 , 31525.576 , 14801.642 ,\n",
       "        7284.192 ,  9873.688 , 31260.08  , 10673.639 , 42052.46  ,\n",
       "       40007.19  , 40559.43  , 13719.079 ,  7950.8193, 18117.047 ,\n",
       "        6673.708 , 24662.209 ,  8317.329 ,  8077.627 , 19882.42  ,\n",
       "       11724.011 ,  8573.563 , 19231.428 , 11139.716 ,  9103.046 ,\n",
       "       15880.72  , 17907.768 , 10484.978 ,  8624.565 , 67082.88  ,\n",
       "       32570.482 ,  8741.506 ,  9787.312 , 16221.141 , 10813.747 ,\n",
       "       14768.538 , 14469.622 ,  8305.672 , 33157.562 ,  8863.754 ,\n",
       "       45595.582 , 13308.601 , 24887.727 ,  6574.744 , 41870.656 ,\n",
       "       21797.758 ,  7698.166 , 44589.812 , 15329.423 , 10605.641 ,\n",
       "       11463.624 , 13748.525 ,  8496.264 , 15076.257 , 39390.44  ,\n",
       "        8564.072 , 22175.848 , 22927.371 , 21501.896 ,  9997.854 ,\n",
       "        6764.384 ,  5626.3716, 12968.279 ,  9424.609 ,  4297.983 ,\n",
       "        8355.285 , 17166.383 , 35958.23  , 35113.496 , 13959.19  ,\n",
       "       39739.074 ,  9795.217 , 15740.4375, 14005.898 ,  8642.942 ,\n",
       "        8359.079 ,  8248.984 , 23829.865 ,  9391.318 , 42882.434 ,\n",
       "        7737.9688, 15362.83  ,  8541.484 ,  8529.527 , 27411.865 ,\n",
       "        9872.951 , 13652.296 , 11391.087 , 39229.41  ,  8566.938 ,\n",
       "       36846.21  ,  7078.4624, 30396.14  ,  9203.194 ,  8156.539 ,\n",
       "        8020.654 , 35964.53  , 19152.312 , 14543.395 , 10094.522 ,\n",
       "        9145.562 , 18225.732 , 15615.154 , 17162.055 , 17089.756 ,\n",
       "        8423.215 , 14877.344 , 13275.176 ,  8979.909 , 15764.918 ,\n",
       "       21127.652 , 25762.107 ,  6886.8726, 23929.438 , 38896.195 ,\n",
       "       15042.104 , 28244.492 , 14359.281 , 48307.453 , 49635.39  ,\n",
       "        8278.283 ,  7271.808 ,  7210.012 , 28687.873 ,  8566.998 ,\n",
       "       36029.    ,  9453.585 , 12698.16  , 24559.658 , 21136.29  ,\n",
       "       45420.47  , 15382.625 ,  7299.681 ,  8262.721 , 18884.027 ,\n",
       "       16660.748 , 23122.682 , 12434.748 , 10785.972 , 13763.918 ,\n",
       "        9257.4   ,  8854.052 , 14197.132 , 35511.285 ,  8450.912 ,\n",
       "       34873.742 ,  8581.423 , 16211.035 , 15946.728 ,  9777.3545,\n",
       "       39664.777 ,  8443.821 , 19542.518 , 21078.06  , 20461.605 ,\n",
       "       29117.205 ,  8386.831 ,  8536.161 , 48649.75  , 10691.445 ,\n",
       "       35693.61  ,  8435.685 , 10218.625 ,  8519.185 ,  8243.482 ,\n",
       "        8345.705 ,  8459.978 , 20160.193 , 66664.2   ,  7917.179 ,\n",
       "       42904.336 ,  8486.897 , 47691.227 ,  9330.415 , 26394.283 ,\n",
       "       40529.08  ,  7679.252 , 43088.195 , 14410.079 , 12647.207 ,\n",
       "       13491.112 , 17009.426 , 11101.292 , 17173.646 , 13276.492 ,\n",
       "       10211.86  ,  8371.134 ,  8545.959 , 36467.098 ,  8814.454 ,\n",
       "        9609.779 ,  8773.191 , 20291.156 , 41982.01  ,  8174.615 ,\n",
       "       40489.68  ,  8083.0894,  8461.729 ,  9152.01  ,  9712.156 ,\n",
       "        9234.003 , 20055.39  , 10841.3545, 20372.41  , 23591.6   ,\n",
       "       18925.955 ,  8213.003 , 43447.195 ,  8489.53  , 21509.223 ,\n",
       "       10398.275 , 40491.297 , 36968.293 , 23081.842 , 12989.523 ,\n",
       "       37738.652 ,  9952.083 , 23380.115 ,  5725.388 , 14698.079 ,\n",
       "       27183.592 , 14972.215 ,  8835.253 , 36976.184 , 10486.793 ,\n",
       "       16784.092 , 44493.484 ,  8288.96  ,  8551.384 , 10004.711 ,\n",
       "       21443.924 , 35681.09  , 16764.408 , 11704.018 , 27316.055 ,\n",
       "        8515.646 ,  9462.771 , 15633.334 , 10922.085 , 39557.4   ,\n",
       "       15125.993 , 30774.777 , 25793.266 ,  8515.583 , 41161.008 ,\n",
       "        7290.335 , 14646.538 , 10649.926 , 17873.29  ,  6945.097 ,\n",
       "       17245.932 , 14263.968 , 11963.807 , 15354.378 , 20835.904 ,\n",
       "        7028.1084, 11273.637 , 33742.13  ,  8460.743 , 11144.974 ,\n",
       "       11168.496 , 14372.515 ,  8654.171 , 14567.996 , 34170.156 ,\n",
       "       14148.058 , 21735.469 , 53837.145 , 14944.407 , 25186.26  ,\n",
       "       13397.562 , 14728.411 ,  8401.731 ,  8641.843 , 47890.312 ,\n",
       "        9917.016 , 42081.64  , 18312.816 , 15123.307 , 14651.66  ,\n",
       "        9820.671 , 14233.319 , 14567.753 , 11301.889 ,  7914.0938,\n",
       "        7143.289 , 13452.153 , 11362.176 ,  8270.502 , 14785.185 ,\n",
       "        8520.249 ,  8435.137 ,  8486.289 , 16494.969 , 47474.387 ,\n",
       "       12902.363 , 34395.574 , 27033.154 ,  8507.534 ,  2065.795 ,\n",
       "        8465.096 , 20243.32  , 27788.598 ,  8751.778 , 40745.125 ,\n",
       "        8834.37  , 23046.8   , 25352.78  ,  8512.284 , 14208.533 ,\n",
       "        8981.228 , 53900.96  , 40441.156 , 10671.399 ,  7938.7646,\n",
       "       53415.145 , 10311.361 , 13879.971 , 17516.176 ,  9099.85  ,\n",
       "       22078.852 , 36989.656 ,  8517.965 ,  8519.401 , 15347.638 ,\n",
       "       33624.43  ,  8348.28  , 14983.339 , 13778.402 , 39146.652 ,\n",
       "       46118.86  , 13549.476 , 21458.781 , 17204.008 , 41222.29  ,\n",
       "       22105.867 , 41397.137 , 14745.696 ,  8740.911 , 23431.594 ,\n",
       "       51080.965 , 42609.13  ,  9012.594 ,  9029.234 ,  8347.736 ,\n",
       "       20051.133 ,  8374.042 , 17037.803 , 12763.163 , 54261.363 ,\n",
       "       16130.261 , 39357.402 , 16761.898 , 14366.739 ,  8443.778 ,\n",
       "       17010.42  , 54916.11  , 15629.791 , 18790.576 ,  9479.5625,\n",
       "        8796.665 , 15455.929 ,  8233.687 ,  8336.435 , 21771.756 ,\n",
       "        8826.727 ,  8776.472 ,  8989.891 , 14743.416 , 38046.71  ,\n",
       "       17308.742 ,  8371.939 , 14622.839 , 15771.216 ,  8864.2   ,\n",
       "        9543.592 , 41428.383 , 14315.786 , 16704.482 , 48131.36  ,\n",
       "       41735.656 , 22843.57  , 21609.355 , 12258.737 , 15960.595 ,\n",
       "        8467.772 , 11915.323 ,  8562.917 , 14674.708 , 20091.285 ,\n",
       "        8487.001 ,  8443.944 ,  8496.127 , 11846.753 , 18999.406 ,\n",
       "        8534.414 ,  8824.096 , 20468.234 , 15167.296 , 10280.405 ,\n",
       "       39598.195 , 16354.973 , 30836.988 , 22062.977 , 14963.057 ,\n",
       "       21327.744 , 15503.876 , 21007.162 , 14309.069 ,  8545.959 ,\n",
       "        8311.547 , 40950.535 ,  8709.593 , 21480.564 ,  8321.759 ,\n",
       "       43311.582 , 36184.105 , 34410.17  ,  8623.674 , 24912.686 ,\n",
       "       22383.473 , 21177.521 ,  8097.685 ,  8359.452 ,  5925.745 ,\n",
       "       22248.19  , 18837.45  ,  9135.647 ,  8898.859 , 40652.086 ,\n",
       "       40369.64  , 14321.015 , 36032.15  , 11127.7295, 53470.32  ,\n",
       "       21003.76  , 19058.654 , 40254.85  , 39880.74  , 24438.61  ,\n",
       "        8384.576 , 10510.874 , 13507.915 , 37674.387 , 13451.779 ,\n",
       "       35081.203 , 18919.283 ,  8372.013 , 18486.04  , 11462.164 ,\n",
       "       44806.36  ,  8311.665 ,  8564.072 , 16914.787 , 13385.198 ,\n",
       "        8827.148 ,  8642.699 ,  9288.026 , 33514.18  , 21933.584 ,\n",
       "        9181.711 ,  7021.0186, 35030.906 , 15461.451 , 10426.824 ,\n",
       "        8851.1045, 24228.658 , 20057.686 ,  8330.44  , 14740.578 ,\n",
       "        9917.843 , 65030.617 , 11633.358 ,  9261.066 , 23745.959 ,\n",
       "        8654.172 ,  8631.727 ,  7324.193 ,  8863.347 , 39595.08  ,\n",
       "       40307.39  ,  7701.586 , 29217.291 , 13831.295 ,  8542.34  ,\n",
       "        7240.518 ,  9810.728 , 12555.07  , 22404.617 , 18656.45  ,\n",
       "       22136.01  , 45197.215 ,  9019.1045, 11848.319 ,  8633.462 ,\n",
       "        7972.943 , 44459.348 , 21855.465 ,  8616.661 ,  9762.266 ,\n",
       "       32945.29  ,  8574.537 , 19080.488 , 12815.179 ,  8459.345 ,\n",
       "        8334.749 , 38057.77  , 31662.273 , 13111.649 , 22407.656 ,\n",
       "       15406.294 , 10986.978 , 19614.615 , 10845.979 , 24029.867 ,\n",
       "       14809.767 ,  8489.836 , 15571.394 ,  9272.66  , 49584.492 ,\n",
       "       22724.736 , 22103.992 ,  8557.384 ,  8238.349 , 14632.648 ,\n",
       "       14449.318 , 14377.381 , 33604.742 , 20886.996 , 34530.363 ,\n",
       "       20954.893 ,  8678.985 ,  8124.2246, 18836.322 ,  8473.754 ],\n",
       "      dtype=float32)"
      ]
     },
     "execution_count": 75,
     "metadata": {},
     "output_type": "execute_result"
    }
   ],
   "source": [
    "model = joblib.load(\"Flight_Price_Prediction.pkl\")\n",
    "\n",
    "\n",
    "prediction = model.predict(X_test)\n",
    "prediction"
   ]
  },
  {
   "cell_type": "code",
   "execution_count": 76,
   "id": "80596529",
   "metadata": {},
   "outputs": [
    {
     "data": {
      "text/html": [
       "<div>\n",
       "<style scoped>\n",
       "    .dataframe tbody tr th:only-of-type {\n",
       "        vertical-align: middle;\n",
       "    }\n",
       "\n",
       "    .dataframe tbody tr th {\n",
       "        vertical-align: top;\n",
       "    }\n",
       "\n",
       "    .dataframe thead th {\n",
       "        text-align: right;\n",
       "    }\n",
       "</style>\n",
       "<table border=\"1\" class=\"dataframe\">\n",
       "  <thead>\n",
       "    <tr style=\"text-align: right;\">\n",
       "      <th></th>\n",
       "      <th>0</th>\n",
       "      <th>1</th>\n",
       "      <th>2</th>\n",
       "      <th>3</th>\n",
       "      <th>4</th>\n",
       "      <th>5</th>\n",
       "      <th>6</th>\n",
       "      <th>7</th>\n",
       "      <th>8</th>\n",
       "      <th>9</th>\n",
       "      <th>...</th>\n",
       "      <th>925</th>\n",
       "      <th>926</th>\n",
       "      <th>927</th>\n",
       "      <th>928</th>\n",
       "      <th>929</th>\n",
       "      <th>930</th>\n",
       "      <th>931</th>\n",
       "      <th>932</th>\n",
       "      <th>933</th>\n",
       "      <th>934</th>\n",
       "    </tr>\n",
       "  </thead>\n",
       "  <tbody>\n",
       "    <tr>\n",
       "      <th>Predicted</th>\n",
       "      <td>47797.511719</td>\n",
       "      <td>18043.498047</td>\n",
       "      <td>8715.294922</td>\n",
       "      <td>12612.407227</td>\n",
       "      <td>56466.488281</td>\n",
       "      <td>8132.117676</td>\n",
       "      <td>9271.331055</td>\n",
       "      <td>8672.611328</td>\n",
       "      <td>25337.84375</td>\n",
       "      <td>16302.732422</td>\n",
       "      <td>...</td>\n",
       "      <td>14449.318359</td>\n",
       "      <td>14377.380859</td>\n",
       "      <td>33604.742188</td>\n",
       "      <td>20886.996094</td>\n",
       "      <td>34530.363281</td>\n",
       "      <td>20954.892578</td>\n",
       "      <td>8678.985352</td>\n",
       "      <td>8124.224609</td>\n",
       "      <td>18836.322266</td>\n",
       "      <td>8473.753906</td>\n",
       "    </tr>\n",
       "    <tr>\n",
       "      <th>Actual</th>\n",
       "      <td>47856.000000</td>\n",
       "      <td>18660.000000</td>\n",
       "      <td>8580.000000</td>\n",
       "      <td>11724.000000</td>\n",
       "      <td>47396.000000</td>\n",
       "      <td>8714.000000</td>\n",
       "      <td>8579.000000</td>\n",
       "      <td>8578.000000</td>\n",
       "      <td>22152.00000</td>\n",
       "      <td>19083.000000</td>\n",
       "      <td>...</td>\n",
       "      <td>14145.000000</td>\n",
       "      <td>15575.000000</td>\n",
       "      <td>32621.000000</td>\n",
       "      <td>22297.000000</td>\n",
       "      <td>44328.000000</td>\n",
       "      <td>20942.000000</td>\n",
       "      <td>8579.000000</td>\n",
       "      <td>9767.000000</td>\n",
       "      <td>27773.000000</td>\n",
       "      <td>8579.000000</td>\n",
       "    </tr>\n",
       "  </tbody>\n",
       "</table>\n",
       "<p>2 rows × 935 columns</p>\n",
       "</div>"
      ],
      "text/plain": [
       "                    0             1            2             3    \\\n",
       "Predicted  47797.511719  18043.498047  8715.294922  12612.407227   \n",
       "Actual     47856.000000  18660.000000  8580.000000  11724.000000   \n",
       "\n",
       "                    4            5            6            7            8    \\\n",
       "Predicted  56466.488281  8132.117676  9271.331055  8672.611328  25337.84375   \n",
       "Actual     47396.000000  8714.000000  8579.000000  8578.000000  22152.00000   \n",
       "\n",
       "                    9    ...           925           926           927  \\\n",
       "Predicted  16302.732422  ...  14449.318359  14377.380859  33604.742188   \n",
       "Actual     19083.000000  ...  14145.000000  15575.000000  32621.000000   \n",
       "\n",
       "                    928           929           930          931          932  \\\n",
       "Predicted  20886.996094  34530.363281  20954.892578  8678.985352  8124.224609   \n",
       "Actual     22297.000000  44328.000000  20942.000000  8579.000000  9767.000000   \n",
       "\n",
       "                    933          934  \n",
       "Predicted  18836.322266  8473.753906  \n",
       "Actual     27773.000000  8579.000000  \n",
       "\n",
       "[2 rows x 935 columns]"
      ]
     },
     "execution_count": 76,
     "metadata": {},
     "output_type": "execute_result"
    }
   ],
   "source": [
    "pd.DataFrame([model.predict(X_test)[:], Y_test[:]], index = ['Predicted', 'Actual'])"
   ]
  },
  {
   "cell_type": "code",
   "execution_count": null,
   "id": "b930df9b",
   "metadata": {},
   "outputs": [],
   "source": []
  }
 ],
 "metadata": {
  "kernelspec": {
   "display_name": "Python 3",
   "language": "python",
   "name": "python3"
  },
  "language_info": {
   "codemirror_mode": {
    "name": "ipython",
    "version": 3
   },
   "file_extension": ".py",
   "mimetype": "text/x-python",
   "name": "python",
   "nbconvert_exporter": "python",
   "pygments_lexer": "ipython3",
   "version": "3.8.8"
  }
 },
 "nbformat": 4,
 "nbformat_minor": 5
}
