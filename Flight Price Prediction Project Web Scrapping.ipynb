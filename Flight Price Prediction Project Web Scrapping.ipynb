{
 "cells": [
  {
   "cell_type": "markdown",
   "id": "98a1e949",
   "metadata": {},
   "source": [
    "# Flight Price Prediction Project Web Scraping Data of Flight prices"
   ]
  },
  {
   "cell_type": "markdown",
   "id": "e3a64c03",
   "metadata": {},
   "source": [
    "Objective :\n",
    "To Scrape data of Flight price from different platform\n",
    "Details - You have to scrape at least 1500 rows of data. \n",
    "You can scrape more data as well, it’s up to you, \n",
    "More the data better the model In this section you have to scrape the data of flights from different websites (yatra.com, skyscanner.com, official websites of airlines, etc). \n",
    "The number of columns for data doesn’t have limit, it’s up to you and your creativity. \n",
    "Generally, these columns areairline name, date of journey, source, destination, route, departure time, arrival time, duration, total stops and the target variable price. \n",
    "You can make changes to it, you can add or you can remove some columns, it completely depends on the website from which you are fetching the data.\n"
   ]
  },
  {
   "cell_type": "code",
   "execution_count": 1,
   "id": "8c1910a1",
   "metadata": {},
   "outputs": [],
   "source": [
    "import pandas as pd\n",
    "import numpy as pd\n",
    "import time\n",
    "import selenium\n",
    "from selenium import webdriver\n",
    "from selenium.common.exceptions import StaleElementReferenceException, NoSuchElementException\n",
    "from selenium.webdriver.support.ui import WebDriverWait\n",
    "from selenium.webdriver.common.by import By\n",
    "from selenium.webdriver.support import expected_conditions as EC"
   ]
  },
  {
   "cell_type": "code",
   "execution_count": 2,
   "id": "69201159",
   "metadata": {},
   "outputs": [
    {
     "name": "stderr",
     "output_type": "stream",
     "text": [
      "<ipython-input-2-4508968ad722>:1: DeprecationWarning: executable_path has been deprecated, please pass in a Service object\n",
      "  driver = webdriver.Chrome(r\"C:\\Users\\Administrator\\Downloads\\chromedriver_win32 (1)\\chromedriver.exe\")\n"
     ]
    }
   ],
   "source": [
    "driver = webdriver.Chrome(r\"C:\\Users\\Administrator\\Downloads\\chromedriver_win32 (1)\\chromedriver.exe\")"
   ]
  },
  {
   "cell_type": "code",
   "execution_count": 3,
   "id": "06cf7004",
   "metadata": {},
   "outputs": [],
   "source": [
    "url = \"https://www.yatra.com/\"\n",
    "driver.get(url)\n",
    "time.sleep(2)"
   ]
  },
  {
   "cell_type": "markdown",
   "id": "5c32db27",
   "metadata": {},
   "source": [
    "# Extracting Economy flights from New Dehli to Bombay"
   ]
  },
  {
   "cell_type": "code",
   "execution_count": 5,
   "id": "0dddb06b",
   "metadata": {},
   "outputs": [],
   "source": [
    "# Opening Ecomnomy flights from New Dehli to Bombay on 24 July 2022"
   ]
  },
  {
   "cell_type": "code",
   "execution_count": 3,
   "id": "b5562db3",
   "metadata": {},
   "outputs": [],
   "source": [
    "url = \"https://flight.yatra.com/air-search-ui/dom2/trigger?ADT=1&CHD=0&INF=0&class=Economy&destination=BOM&destinationCountry=IN&flexi=0&flight_depart_date=24%2F07%2F2022&hb=0&noOfSegments=1&origin=DEL&originCountry=IN&type=O&unique=1533461112875&version=1.10&viewName=normal\"\n",
    "driver.get(url)\n",
    "time.sleep(2)"
   ]
  },
  {
   "cell_type": "code",
   "execution_count": 4,
   "id": "5e5eec25",
   "metadata": {},
   "outputs": [],
   "source": [
    "Airlines = []\n",
    "Aeroplane = []\n",
    "Dept_time = []\n",
    "Arrival_time = []\n",
    "Source = []\n",
    "Destination = []\n",
    "Duration = []\n",
    "Stops = []\n",
    "Date = []\n",
    "Price = []"
   ]
  },
  {
   "cell_type": "code",
   "execution_count": 6,
   "id": "593b4d08",
   "metadata": {},
   "outputs": [
    {
     "name": "stderr",
     "output_type": "stream",
     "text": [
      "100%|██████████████████████████████████████████████████████████████████████████████████| 50/50 [00:16<00:00,  2.98it/s]\n"
     ]
    }
   ],
   "source": [
    "from tqdm import tqdm\n",
    "for _ in tqdm (range(0,50)):\n",
    "    time.sleep(0.1)\n",
    "    driver.execute_script(\"window.scrollBy(0,2000)\",\"\")\n",
    "    time.sleep(0.2)\n",
    "    driver.execute_script(\"window.scrollBy(0,-500)\",\"\")"
   ]
  },
  {
   "cell_type": "code",
   "execution_count": 7,
   "id": "94b14175",
   "metadata": {},
   "outputs": [
    {
     "name": "stderr",
     "output_type": "stream",
     "text": [
      "<ipython-input-7-0d3d8fa01617>:1: DeprecationWarning: find_elements_by_xpath is deprecated. Please use find_elements(by=By.XPATH, value=xpath) instead\n",
      "  flights=driver.find_elements_by_xpath('//div[@class=\"flight-det table full-width clearfix\"]')\n"
     ]
    },
    {
     "data": {
      "text/plain": [
       "81"
      ]
     },
     "execution_count": 7,
     "metadata": {},
     "output_type": "execute_result"
    }
   ],
   "source": [
    "flights=driver.find_elements_by_xpath('//div[@class=\"flight-det table full-width clearfix\"]')\n",
    "len(flights)"
   ]
  },
  {
   "cell_type": "code",
   "execution_count": 8,
   "id": "858b637d",
   "metadata": {},
   "outputs": [
    {
     "name": "stderr",
     "output_type": "stream",
     "text": [
      "<ipython-input-8-bb9a819e7382>:1: DeprecationWarning: find_elements_by_xpath is deprecated. Please use find_elements(by=By.XPATH, value=xpath) instead\n",
      "  airlines = driver.find_elements_by_xpath(\"//div[@class='fs-13 airline-name no-pad col-8']/span\")\n",
      "<ipython-input-8-bb9a819e7382>:7: DeprecationWarning: find_elements_by_xpath is deprecated. Please use find_elements(by=By.XPATH, value=xpath) instead\n",
      "  aeroplanes = driver.find_elements_by_xpath('//p[@class=\"normal fs-11 font-lightestgrey no-wrap fl-no\"]/span')\n",
      "100%|██████████████████████████████████████████████████████████████████████████████████| 81/81 [00:00<00:00, 88.65it/s]\n",
      "<ipython-input-8-bb9a819e7382>:13: DeprecationWarning: find_elements_by_xpath is deprecated. Please use find_elements(by=By.XPATH, value=xpath) instead\n",
      "  dept_times = driver.find_elements_by_xpath('//div[@class=\"i-b pr\"]')\n",
      "100%|██████████████████████████████████████████████████████████████████████████████████| 81/81 [00:00<00:00, 84.87it/s]\n",
      "<ipython-input-8-bb9a819e7382>:19: DeprecationWarning: find_elements_by_xpath is deprecated. Please use find_elements(by=By.XPATH, value=xpath) instead\n",
      "  arrival = driver.find_elements_by_xpath('//p[@class=\"bold fs-15 mb-2 pr time\"]')\n",
      "100%|██████████████████████████████████████████████████████████████████████████████████| 81/81 [00:00<00:00, 85.03it/s]\n",
      "<ipython-input-8-bb9a819e7382>:25: DeprecationWarning: find_elements_by_xpath is deprecated. Please use find_elements(by=By.XPATH, value=xpath) instead\n",
      "  source = driver.find_elements_by_xpath(\"//div[@class='i-b col-4 no-wrap text-right dtime col-3']/p\")\n",
      "100%|██████████████████████████████████████████████████████████████████████████████████| 81/81 [00:00<00:00, 81.39it/s]\n",
      "<ipython-input-8-bb9a819e7382>:31: DeprecationWarning: find_elements_by_xpath is deprecated. Please use find_elements(by=By.XPATH, value=xpath) instead\n",
      "  destination = driver.find_elements_by_xpath('//div[@class=\"i-b pdd-0 text-left atime col-5\"]/p[2]')\n",
      "100%|██████████████████████████████████████████████████████████████████████████████████| 81/81 [00:01<00:00, 79.00it/s]\n",
      "<ipython-input-8-bb9a819e7382>:37: DeprecationWarning: find_elements_by_xpath is deprecated. Please use find_elements(by=By.XPATH, value=xpath) instead\n",
      "  duration = driver.find_elements_by_xpath('//div[@class=\"stop-cont pl-13\"]/p')\n",
      "100%|██████████████████████████████████████████████████████████████████████████████████| 81/81 [00:01<00:00, 76.06it/s]\n",
      "<ipython-input-8-bb9a819e7382>:43: DeprecationWarning: find_elements_by_xpath is deprecated. Please use find_elements(by=By.XPATH, value=xpath) instead\n",
      "  stop = driver.find_elements_by_xpath(\"//div[@class='stop-cont pl-13']/div/span\")\n",
      "100%|██████████████████████████████████████████████████████████████████████████████████| 81/81 [00:01<00:00, 62.84it/s]\n",
      "<ipython-input-8-bb9a819e7382>:50: DeprecationWarning: find_elements_by_xpath is deprecated. Please use find_elements(by=By.XPATH, value=xpath) instead\n",
      "  price = driver.find_elements_by_xpath('//div[@class=\"i-b tipsy fare-summary-tooltip fs-18\"]')\n",
      "100%|██████████████████████████████████████████████████████████████████████████████████| 81/81 [00:01<00:00, 65.50it/s]\n",
      "<ipython-input-8-bb9a819e7382>:58: DeprecationWarning: find_elements_by_xpath is deprecated. Please use find_elements(by=By.XPATH, value=xpath) instead\n",
      "  Button = driver.find_elements_by_xpath('//div[@class=\"link-color fs-12 cursor-pointer\"]/span')\n",
      "<ipython-input-8-bb9a819e7382>:62: DeprecationWarning: find_element_by_xpath is deprecated. Please use find_element(by=By.XPATH, value=xpath) instead\n",
      "  date = driver.find_element_by_xpath('//div[@class=\"bold fs-12 mb-5\"]')\n",
      "100%|██████████████████████████████████████████████████████████████████████████████████████████| 81/81 [00:00<?, ?it/s]\n"
     ]
    }
   ],
   "source": [
    "airlines = driver.find_elements_by_xpath(\"//div[@class='fs-13 airline-name no-pad col-8']/span\")\n",
    "for i in airlines:\n",
    "    Airlines.append(i.text.replace(\"\\n\",\" \"))\n",
    "else :\n",
    "    pass\n",
    "\n",
    "aeroplanes = driver.find_elements_by_xpath('//p[@class=\"normal fs-11 font-lightestgrey no-wrap fl-no\"]/span')\n",
    "for i in tqdm(aeroplanes):\n",
    "    Aeroplane.append(i.text) \n",
    "else:\n",
    "    pass\n",
    "\n",
    "dept_times = driver.find_elements_by_xpath('//div[@class=\"i-b pr\"]')\n",
    "for i in tqdm(dept_times):\n",
    "    Dept_time.append(i.text)\n",
    "else :\n",
    "    pass\n",
    "\n",
    "arrival = driver.find_elements_by_xpath('//p[@class=\"bold fs-15 mb-2 pr time\"]')\n",
    "for i in tqdm(arrival):\n",
    "    Arrival_time.append(i.text)\n",
    "else :\n",
    "    pass\n",
    "\n",
    "source = driver.find_elements_by_xpath(\"//div[@class='i-b col-4 no-wrap text-right dtime col-3']/p\")\n",
    "for i in tqdm(source):\n",
    "    Source.append(i.text)\n",
    "else :\n",
    "    pass\n",
    "\n",
    "destination = driver.find_elements_by_xpath('//div[@class=\"i-b pdd-0 text-left atime col-5\"]/p[2]')\n",
    "for i in tqdm(destination):\n",
    "    Destination.append(i.text)\n",
    "else:\n",
    "    pass\n",
    "\n",
    "duration = driver.find_elements_by_xpath('//div[@class=\"stop-cont pl-13\"]/p')\n",
    "for i in tqdm(duration):\n",
    "    Duration.append(i.text)\n",
    "else:\n",
    "    pass\n",
    "\n",
    "stop = driver.find_elements_by_xpath(\"//div[@class='stop-cont pl-13']/div/span\")\n",
    "for i in tqdm(stop):\n",
    "    Stops.append(i.text)\n",
    "else:\n",
    "    pass\n",
    "\n",
    "count = 0\n",
    "price = driver.find_elements_by_xpath('//div[@class=\"i-b tipsy fare-summary-tooltip fs-18\"]')\n",
    "for i in tqdm(price):\n",
    "    Price.append(i.text.replace(',',''))\n",
    "    count = count +1\n",
    "else:\n",
    "    count = count +1\n",
    "    pass\n",
    "\n",
    "Button = driver.find_elements_by_xpath('//div[@class=\"link-color fs-12 cursor-pointer\"]/span')\n",
    "driver.execute_script(\"arguments[0].click();\", WebDriverWait(driver, 20).until(EC.element_to_be_clickable((By.XPATH,'//div[@class=\"link-color fs-12 cursor-pointer\"]/span'))))\n",
    "time.sleep(1)\n",
    "\n",
    "date = driver.find_element_by_xpath('//div[@class=\"bold fs-12 mb-5\"]')\n",
    "a = date.text\n",
    "for i in tqdm(range(count-1)):\n",
    "    Date.append(a)\n",
    "else:\n",
    "    pass\n"
   ]
  },
  {
   "cell_type": "code",
   "execution_count": 9,
   "id": "089ed033",
   "metadata": {},
   "outputs": [
    {
     "data": {
      "text/plain": [
       "(81, 81, 81, 81, 81, 81, 81, 81, 81, 81)"
      ]
     },
     "execution_count": 9,
     "metadata": {},
     "output_type": "execute_result"
    }
   ],
   "source": [
    "len(Aeroplane), len(Airlines), len(Dept_time), len(Arrival_time), len(Source), len(Destination), len(Duration), len(Stops),len(Price), len(Date)"
   ]
  },
  {
   "cell_type": "code",
   "execution_count": 30,
   "id": "da908013",
   "metadata": {},
   "outputs": [],
   "source": [
    "# Opening Ecomnomy flights from New Dehli to Bombay on 25 July 2022"
   ]
  },
  {
   "cell_type": "code",
   "execution_count": 21,
   "id": "5a5ae58d",
   "metadata": {},
   "outputs": [],
   "source": [
    "url = \"https://flight.yatra.com/air-search-ui/dom2/trigger?ADT=1&CHD=0&INF=0&class=Economy&destination=BOM&destinationCountry=IN&flexi=0&flight_depart_date=25%2F07%2F2022&hb=0&noOfSegments=1&origin=DEL&originCountry=IN&type=O&unique=1658585004611&viewName=normal\"\n",
    "driver.get(url)\n",
    "time.sleep(2)"
   ]
  },
  {
   "cell_type": "code",
   "execution_count": 11,
   "id": "35f1894a",
   "metadata": {},
   "outputs": [
    {
     "name": "stderr",
     "output_type": "stream",
     "text": [
      "<ipython-input-11-0d3d8fa01617>:1: DeprecationWarning: find_elements_by_xpath is deprecated. Please use find_elements(by=By.XPATH, value=xpath) instead\n",
      "  flights=driver.find_elements_by_xpath('//div[@class=\"flight-det table full-width clearfix\"]')\n"
     ]
    },
    {
     "data": {
      "text/plain": [
       "131"
      ]
     },
     "execution_count": 11,
     "metadata": {},
     "output_type": "execute_result"
    }
   ],
   "source": [
    "flights=driver.find_elements_by_xpath('//div[@class=\"flight-det table full-width clearfix\"]')\n",
    "len(flights)"
   ]
  },
  {
   "cell_type": "code",
   "execution_count": 12,
   "id": "f69d3e86",
   "metadata": {},
   "outputs": [
    {
     "name": "stderr",
     "output_type": "stream",
     "text": [
      "<ipython-input-12-bb9a819e7382>:1: DeprecationWarning: find_elements_by_xpath is deprecated. Please use find_elements(by=By.XPATH, value=xpath) instead\n",
      "  airlines = driver.find_elements_by_xpath(\"//div[@class='fs-13 airline-name no-pad col-8']/span\")\n",
      "<ipython-input-12-bb9a819e7382>:7: DeprecationWarning: find_elements_by_xpath is deprecated. Please use find_elements(by=By.XPATH, value=xpath) instead\n",
      "  aeroplanes = driver.find_elements_by_xpath('//p[@class=\"normal fs-11 font-lightestgrey no-wrap fl-no\"]/span')\n",
      "100%|████████████████████████████████████████████████████████████████████████████████| 131/131 [00:01<00:00, 88.64it/s]\n",
      "<ipython-input-12-bb9a819e7382>:13: DeprecationWarning: find_elements_by_xpath is deprecated. Please use find_elements(by=By.XPATH, value=xpath) instead\n",
      "  dept_times = driver.find_elements_by_xpath('//div[@class=\"i-b pr\"]')\n",
      "100%|████████████████████████████████████████████████████████████████████████████████| 131/131 [00:01<00:00, 84.00it/s]\n",
      "<ipython-input-12-bb9a819e7382>:19: DeprecationWarning: find_elements_by_xpath is deprecated. Please use find_elements(by=By.XPATH, value=xpath) instead\n",
      "  arrival = driver.find_elements_by_xpath('//p[@class=\"bold fs-15 mb-2 pr time\"]')\n",
      "100%|████████████████████████████████████████████████████████████████████████████████| 131/131 [00:01<00:00, 80.81it/s]\n",
      "<ipython-input-12-bb9a819e7382>:25: DeprecationWarning: find_elements_by_xpath is deprecated. Please use find_elements(by=By.XPATH, value=xpath) instead\n",
      "  source = driver.find_elements_by_xpath(\"//div[@class='i-b col-4 no-wrap text-right dtime col-3']/p\")\n",
      "100%|████████████████████████████████████████████████████████████████████████████████| 131/131 [00:01<00:00, 83.86it/s]\n",
      "<ipython-input-12-bb9a819e7382>:31: DeprecationWarning: find_elements_by_xpath is deprecated. Please use find_elements(by=By.XPATH, value=xpath) instead\n",
      "  destination = driver.find_elements_by_xpath('//div[@class=\"i-b pdd-0 text-left atime col-5\"]/p[2]')\n",
      "100%|████████████████████████████████████████████████████████████████████████████████| 131/131 [00:01<00:00, 77.09it/s]\n",
      "<ipython-input-12-bb9a819e7382>:37: DeprecationWarning: find_elements_by_xpath is deprecated. Please use find_elements(by=By.XPATH, value=xpath) instead\n",
      "  duration = driver.find_elements_by_xpath('//div[@class=\"stop-cont pl-13\"]/p')\n",
      "100%|████████████████████████████████████████████████████████████████████████████████| 131/131 [00:01<00:00, 81.83it/s]\n",
      "<ipython-input-12-bb9a819e7382>:43: DeprecationWarning: find_elements_by_xpath is deprecated. Please use find_elements(by=By.XPATH, value=xpath) instead\n",
      "  stop = driver.find_elements_by_xpath(\"//div[@class='stop-cont pl-13']/div/span\")\n",
      "100%|████████████████████████████████████████████████████████████████████████████████| 131/131 [00:01<00:00, 84.45it/s]\n",
      "<ipython-input-12-bb9a819e7382>:50: DeprecationWarning: find_elements_by_xpath is deprecated. Please use find_elements(by=By.XPATH, value=xpath) instead\n",
      "  price = driver.find_elements_by_xpath('//div[@class=\"i-b tipsy fare-summary-tooltip fs-18\"]')\n",
      "100%|████████████████████████████████████████████████████████████████████████████████| 131/131 [00:01<00:00, 77.18it/s]\n",
      "<ipython-input-12-bb9a819e7382>:58: DeprecationWarning: find_elements_by_xpath is deprecated. Please use find_elements(by=By.XPATH, value=xpath) instead\n",
      "  Button = driver.find_elements_by_xpath('//div[@class=\"link-color fs-12 cursor-pointer\"]/span')\n",
      "<ipython-input-12-bb9a819e7382>:62: DeprecationWarning: find_element_by_xpath is deprecated. Please use find_element(by=By.XPATH, value=xpath) instead\n",
      "  date = driver.find_element_by_xpath('//div[@class=\"bold fs-12 mb-5\"]')\n",
      "100%|████████████████████████████████████████████████████████████████████████████████████████| 131/131 [00:00<?, ?it/s]\n"
     ]
    }
   ],
   "source": [
    "airlines = driver.find_elements_by_xpath(\"//div[@class='fs-13 airline-name no-pad col-8']/span\")\n",
    "for i in airlines:\n",
    "    Airlines.append(i.text.replace(\"\\n\",\" \"))\n",
    "else :\n",
    "    pass\n",
    "\n",
    "aeroplanes = driver.find_elements_by_xpath('//p[@class=\"normal fs-11 font-lightestgrey no-wrap fl-no\"]/span')\n",
    "for i in tqdm(aeroplanes):\n",
    "    Aeroplane.append(i.text) \n",
    "else:\n",
    "    pass\n",
    "\n",
    "dept_times = driver.find_elements_by_xpath('//div[@class=\"i-b pr\"]')\n",
    "for i in tqdm(dept_times):\n",
    "    Dept_time.append(i.text)\n",
    "else :\n",
    "    pass\n",
    "\n",
    "arrival = driver.find_elements_by_xpath('//p[@class=\"bold fs-15 mb-2 pr time\"]')\n",
    "for i in tqdm(arrival):\n",
    "    Arrival_time.append(i.text)\n",
    "else :\n",
    "    pass\n",
    "\n",
    "source = driver.find_elements_by_xpath(\"//div[@class='i-b col-4 no-wrap text-right dtime col-3']/p\")\n",
    "for i in tqdm(source):\n",
    "    Source.append(i.text)\n",
    "else :\n",
    "    pass\n",
    "\n",
    "destination = driver.find_elements_by_xpath('//div[@class=\"i-b pdd-0 text-left atime col-5\"]/p[2]')\n",
    "for i in tqdm(destination):\n",
    "    Destination.append(i.text)\n",
    "else:\n",
    "    pass\n",
    "\n",
    "duration = driver.find_elements_by_xpath('//div[@class=\"stop-cont pl-13\"]/p')\n",
    "for i in tqdm(duration):\n",
    "    Duration.append(i.text)\n",
    "else:\n",
    "    pass\n",
    "\n",
    "stop = driver.find_elements_by_xpath(\"//div[@class='stop-cont pl-13']/div/span\")\n",
    "for i in tqdm(stop):\n",
    "    Stops.append(i.text)\n",
    "else:\n",
    "    pass\n",
    "\n",
    "count = 0\n",
    "price = driver.find_elements_by_xpath('//div[@class=\"i-b tipsy fare-summary-tooltip fs-18\"]')\n",
    "for i in tqdm(price):\n",
    "    Price.append(i.text.replace(',',''))\n",
    "    count = count +1\n",
    "else:\n",
    "    count = count +1\n",
    "    pass\n",
    "\n",
    "Button = driver.find_elements_by_xpath('//div[@class=\"link-color fs-12 cursor-pointer\"]/span')\n",
    "driver.execute_script(\"arguments[0].click();\", WebDriverWait(driver, 20).until(EC.element_to_be_clickable((By.XPATH,'//div[@class=\"link-color fs-12 cursor-pointer\"]/span'))))\n",
    "time.sleep(1)\n",
    "\n",
    "date = driver.find_element_by_xpath('//div[@class=\"bold fs-12 mb-5\"]')\n",
    "a = date.text\n",
    "for i in tqdm(range(count-1)):\n",
    "    Date.append(a)\n",
    "else:\n",
    "    pass\n"
   ]
  },
  {
   "cell_type": "code",
   "execution_count": 13,
   "id": "07faea0b",
   "metadata": {},
   "outputs": [
    {
     "data": {
      "text/plain": [
       "(212, 212, 212, 212, 212, 212, 212, 212, 212)"
      ]
     },
     "execution_count": 13,
     "metadata": {},
     "output_type": "execute_result"
    }
   ],
   "source": [
    "len(Airlines), len(Dept_time), len(Arrival_time), len(Source), len(Destination), len(Duration), len(Stops),len(Price), len(Date)"
   ]
  },
  {
   "cell_type": "code",
   "execution_count": 31,
   "id": "3acf9b93",
   "metadata": {},
   "outputs": [],
   "source": [
    "# Opening Ecomnomy flights from New Dehli to Bombay on 26 July 2022"
   ]
  },
  {
   "cell_type": "code",
   "execution_count": 14,
   "id": "b520c10c",
   "metadata": {},
   "outputs": [
    {
     "name": "stderr",
     "output_type": "stream",
     "text": [
      "<ipython-input-14-0d3d8fa01617>:1: DeprecationWarning: find_elements_by_xpath is deprecated. Please use find_elements(by=By.XPATH, value=xpath) instead\n",
      "  flights=driver.find_elements_by_xpath('//div[@class=\"flight-det table full-width clearfix\"]')\n"
     ]
    },
    {
     "data": {
      "text/plain": [
       "132"
      ]
     },
     "execution_count": 14,
     "metadata": {},
     "output_type": "execute_result"
    }
   ],
   "source": [
    "flights=driver.find_elements_by_xpath('//div[@class=\"flight-det table full-width clearfix\"]')\n",
    "len(flights)"
   ]
  },
  {
   "cell_type": "code",
   "execution_count": 15,
   "id": "711efba8",
   "metadata": {},
   "outputs": [
    {
     "name": "stderr",
     "output_type": "stream",
     "text": [
      "<ipython-input-15-bb9a819e7382>:1: DeprecationWarning: find_elements_by_xpath is deprecated. Please use find_elements(by=By.XPATH, value=xpath) instead\n",
      "  airlines = driver.find_elements_by_xpath(\"//div[@class='fs-13 airline-name no-pad col-8']/span\")\n",
      "<ipython-input-15-bb9a819e7382>:7: DeprecationWarning: find_elements_by_xpath is deprecated. Please use find_elements(by=By.XPATH, value=xpath) instead\n",
      "  aeroplanes = driver.find_elements_by_xpath('//p[@class=\"normal fs-11 font-lightestgrey no-wrap fl-no\"]/span')\n",
      "100%|████████████████████████████████████████████████████████████████████████████████| 132/132 [00:01<00:00, 89.32it/s]\n",
      "<ipython-input-15-bb9a819e7382>:13: DeprecationWarning: find_elements_by_xpath is deprecated. Please use find_elements(by=By.XPATH, value=xpath) instead\n",
      "  dept_times = driver.find_elements_by_xpath('//div[@class=\"i-b pr\"]')\n",
      "100%|████████████████████████████████████████████████████████████████████████████████| 132/132 [00:01<00:00, 81.42it/s]\n",
      "<ipython-input-15-bb9a819e7382>:19: DeprecationWarning: find_elements_by_xpath is deprecated. Please use find_elements(by=By.XPATH, value=xpath) instead\n",
      "  arrival = driver.find_elements_by_xpath('//p[@class=\"bold fs-15 mb-2 pr time\"]')\n",
      "100%|████████████████████████████████████████████████████████████████████████████████| 132/132 [00:01<00:00, 84.56it/s]\n",
      "<ipython-input-15-bb9a819e7382>:25: DeprecationWarning: find_elements_by_xpath is deprecated. Please use find_elements(by=By.XPATH, value=xpath) instead\n",
      "  source = driver.find_elements_by_xpath(\"//div[@class='i-b col-4 no-wrap text-right dtime col-3']/p\")\n",
      "100%|████████████████████████████████████████████████████████████████████████████████| 132/132 [00:01<00:00, 78.11it/s]\n",
      "<ipython-input-15-bb9a819e7382>:31: DeprecationWarning: find_elements_by_xpath is deprecated. Please use find_elements(by=By.XPATH, value=xpath) instead\n",
      "  destination = driver.find_elements_by_xpath('//div[@class=\"i-b pdd-0 text-left atime col-5\"]/p[2]')\n",
      "100%|████████████████████████████████████████████████████████████████████████████████| 132/132 [00:01<00:00, 83.07it/s]\n",
      "<ipython-input-15-bb9a819e7382>:37: DeprecationWarning: find_elements_by_xpath is deprecated. Please use find_elements(by=By.XPATH, value=xpath) instead\n",
      "  duration = driver.find_elements_by_xpath('//div[@class=\"stop-cont pl-13\"]/p')\n",
      "100%|████████████████████████████████████████████████████████████████████████████████| 132/132 [00:01<00:00, 82.62it/s]\n",
      "<ipython-input-15-bb9a819e7382>:43: DeprecationWarning: find_elements_by_xpath is deprecated. Please use find_elements(by=By.XPATH, value=xpath) instead\n",
      "  stop = driver.find_elements_by_xpath(\"//div[@class='stop-cont pl-13']/div/span\")\n",
      "100%|████████████████████████████████████████████████████████████████████████████████| 132/132 [00:01<00:00, 82.52it/s]\n",
      "<ipython-input-15-bb9a819e7382>:50: DeprecationWarning: find_elements_by_xpath is deprecated. Please use find_elements(by=By.XPATH, value=xpath) instead\n",
      "  price = driver.find_elements_by_xpath('//div[@class=\"i-b tipsy fare-summary-tooltip fs-18\"]')\n",
      "100%|████████████████████████████████████████████████████████████████████████████████| 132/132 [00:01<00:00, 73.53it/s]\n",
      "<ipython-input-15-bb9a819e7382>:58: DeprecationWarning: find_elements_by_xpath is deprecated. Please use find_elements(by=By.XPATH, value=xpath) instead\n",
      "  Button = driver.find_elements_by_xpath('//div[@class=\"link-color fs-12 cursor-pointer\"]/span')\n",
      "<ipython-input-15-bb9a819e7382>:62: DeprecationWarning: find_element_by_xpath is deprecated. Please use find_element(by=By.XPATH, value=xpath) instead\n",
      "  date = driver.find_element_by_xpath('//div[@class=\"bold fs-12 mb-5\"]')\n",
      "100%|████████████████████████████████████████████████████████████████████████████████████████| 132/132 [00:00<?, ?it/s]\n"
     ]
    }
   ],
   "source": [
    "airlines = driver.find_elements_by_xpath(\"//div[@class='fs-13 airline-name no-pad col-8']/span\")\n",
    "for i in airlines:\n",
    "    Airlines.append(i.text.replace(\"\\n\",\" \"))\n",
    "else :\n",
    "    pass\n",
    "\n",
    "aeroplanes = driver.find_elements_by_xpath('//p[@class=\"normal fs-11 font-lightestgrey no-wrap fl-no\"]/span')\n",
    "for i in tqdm(aeroplanes):\n",
    "    Aeroplane.append(i.text) \n",
    "else:\n",
    "    pass\n",
    "\n",
    "dept_times = driver.find_elements_by_xpath('//div[@class=\"i-b pr\"]')\n",
    "for i in tqdm(dept_times):\n",
    "    Dept_time.append(i.text)\n",
    "else :\n",
    "    pass\n",
    "\n",
    "arrival = driver.find_elements_by_xpath('//p[@class=\"bold fs-15 mb-2 pr time\"]')\n",
    "for i in tqdm(arrival):\n",
    "    Arrival_time.append(i.text)\n",
    "else :\n",
    "    pass\n",
    "\n",
    "source = driver.find_elements_by_xpath(\"//div[@class='i-b col-4 no-wrap text-right dtime col-3']/p\")\n",
    "for i in tqdm(source):\n",
    "    Source.append(i.text)\n",
    "else :\n",
    "    pass\n",
    "\n",
    "destination = driver.find_elements_by_xpath('//div[@class=\"i-b pdd-0 text-left atime col-5\"]/p[2]')\n",
    "for i in tqdm(destination):\n",
    "    Destination.append(i.text)\n",
    "else:\n",
    "    pass\n",
    "\n",
    "duration = driver.find_elements_by_xpath('//div[@class=\"stop-cont pl-13\"]/p')\n",
    "for i in tqdm(duration):\n",
    "    Duration.append(i.text)\n",
    "else:\n",
    "    pass\n",
    "\n",
    "stop = driver.find_elements_by_xpath(\"//div[@class='stop-cont pl-13']/div/span\")\n",
    "for i in tqdm(stop):\n",
    "    Stops.append(i.text)\n",
    "else:\n",
    "    pass\n",
    "\n",
    "count = 0\n",
    "price = driver.find_elements_by_xpath('//div[@class=\"i-b tipsy fare-summary-tooltip fs-18\"]')\n",
    "for i in tqdm(price):\n",
    "    Price.append(i.text.replace(',',''))\n",
    "    count = count +1\n",
    "else:\n",
    "    count = count +1\n",
    "    pass\n",
    "\n",
    "Button = driver.find_elements_by_xpath('//div[@class=\"link-color fs-12 cursor-pointer\"]/span')\n",
    "driver.execute_script(\"arguments[0].click();\", WebDriverWait(driver, 20).until(EC.element_to_be_clickable((By.XPATH,'//div[@class=\"link-color fs-12 cursor-pointer\"]/span'))))\n",
    "time.sleep(1)\n",
    "\n",
    "date = driver.find_element_by_xpath('//div[@class=\"bold fs-12 mb-5\"]')\n",
    "a = date.text\n",
    "for i in tqdm(range(count-1)):\n",
    "    Date.append(a)\n",
    "else:\n",
    "    pass\n"
   ]
  },
  {
   "cell_type": "code",
   "execution_count": 16,
   "id": "33917ee8",
   "metadata": {},
   "outputs": [
    {
     "data": {
      "text/plain": [
       "(344, 344, 344, 344, 344, 344, 344, 344, 344)"
      ]
     },
     "execution_count": 16,
     "metadata": {},
     "output_type": "execute_result"
    }
   ],
   "source": [
    "len(Airlines), len(Dept_time), len(Arrival_time), len(Source), len(Destination), len(Duration), len(Stops),len(Price), len(Date)"
   ]
  },
  {
   "cell_type": "code",
   "execution_count": 35,
   "id": "9dac44dc",
   "metadata": {},
   "outputs": [],
   "source": [
    "# Opening Ecomnomy flights from New Dehli to Bombay on 27 July 2022"
   ]
  },
  {
   "cell_type": "code",
   "execution_count": 17,
   "id": "c4ad57c7",
   "metadata": {},
   "outputs": [
    {
     "name": "stderr",
     "output_type": "stream",
     "text": [
      "<ipython-input-17-0d3d8fa01617>:1: DeprecationWarning: find_elements_by_xpath is deprecated. Please use find_elements(by=By.XPATH, value=xpath) instead\n",
      "  flights=driver.find_elements_by_xpath('//div[@class=\"flight-det table full-width clearfix\"]')\n"
     ]
    },
    {
     "data": {
      "text/plain": [
       "131"
      ]
     },
     "execution_count": 17,
     "metadata": {},
     "output_type": "execute_result"
    }
   ],
   "source": [
    "flights=driver.find_elements_by_xpath('//div[@class=\"flight-det table full-width clearfix\"]')\n",
    "len(flights)"
   ]
  },
  {
   "cell_type": "code",
   "execution_count": 18,
   "id": "dea88d4b",
   "metadata": {},
   "outputs": [
    {
     "name": "stderr",
     "output_type": "stream",
     "text": [
      "<ipython-input-18-bb9a819e7382>:1: DeprecationWarning: find_elements_by_xpath is deprecated. Please use find_elements(by=By.XPATH, value=xpath) instead\n",
      "  airlines = driver.find_elements_by_xpath(\"//div[@class='fs-13 airline-name no-pad col-8']/span\")\n",
      "<ipython-input-18-bb9a819e7382>:7: DeprecationWarning: find_elements_by_xpath is deprecated. Please use find_elements(by=By.XPATH, value=xpath) instead\n",
      "  aeroplanes = driver.find_elements_by_xpath('//p[@class=\"normal fs-11 font-lightestgrey no-wrap fl-no\"]/span')\n",
      "100%|████████████████████████████████████████████████████████████████████████████████| 131/131 [00:01<00:00, 88.47it/s]\n",
      "<ipython-input-18-bb9a819e7382>:13: DeprecationWarning: find_elements_by_xpath is deprecated. Please use find_elements(by=By.XPATH, value=xpath) instead\n",
      "  dept_times = driver.find_elements_by_xpath('//div[@class=\"i-b pr\"]')\n",
      "100%|████████████████████████████████████████████████████████████████████████████████| 131/131 [00:01<00:00, 79.04it/s]\n",
      "<ipython-input-18-bb9a819e7382>:19: DeprecationWarning: find_elements_by_xpath is deprecated. Please use find_elements(by=By.XPATH, value=xpath) instead\n",
      "  arrival = driver.find_elements_by_xpath('//p[@class=\"bold fs-15 mb-2 pr time\"]')\n",
      "100%|████████████████████████████████████████████████████████████████████████████████| 131/131 [00:01<00:00, 74.62it/s]\n",
      "<ipython-input-18-bb9a819e7382>:25: DeprecationWarning: find_elements_by_xpath is deprecated. Please use find_elements(by=By.XPATH, value=xpath) instead\n",
      "  source = driver.find_elements_by_xpath(\"//div[@class='i-b col-4 no-wrap text-right dtime col-3']/p\")\n",
      "100%|████████████████████████████████████████████████████████████████████████████████| 131/131 [00:01<00:00, 71.06it/s]\n",
      "<ipython-input-18-bb9a819e7382>:31: DeprecationWarning: find_elements_by_xpath is deprecated. Please use find_elements(by=By.XPATH, value=xpath) instead\n",
      "  destination = driver.find_elements_by_xpath('//div[@class=\"i-b pdd-0 text-left atime col-5\"]/p[2]')\n",
      "100%|████████████████████████████████████████████████████████████████████████████████| 131/131 [00:01<00:00, 70.19it/s]\n",
      "<ipython-input-18-bb9a819e7382>:37: DeprecationWarning: find_elements_by_xpath is deprecated. Please use find_elements(by=By.XPATH, value=xpath) instead\n",
      "  duration = driver.find_elements_by_xpath('//div[@class=\"stop-cont pl-13\"]/p')\n",
      "100%|████████████████████████████████████████████████████████████████████████████████| 131/131 [00:01<00:00, 66.67it/s]\n",
      "<ipython-input-18-bb9a819e7382>:43: DeprecationWarning: find_elements_by_xpath is deprecated. Please use find_elements(by=By.XPATH, value=xpath) instead\n",
      "  stop = driver.find_elements_by_xpath(\"//div[@class='stop-cont pl-13']/div/span\")\n",
      "100%|████████████████████████████████████████████████████████████████████████████████| 131/131 [00:02<00:00, 61.58it/s]\n",
      "<ipython-input-18-bb9a819e7382>:50: DeprecationWarning: find_elements_by_xpath is deprecated. Please use find_elements(by=By.XPATH, value=xpath) instead\n",
      "  price = driver.find_elements_by_xpath('//div[@class=\"i-b tipsy fare-summary-tooltip fs-18\"]')\n",
      "100%|████████████████████████████████████████████████████████████████████████████████| 131/131 [00:02<00:00, 55.22it/s]\n",
      "<ipython-input-18-bb9a819e7382>:58: DeprecationWarning: find_elements_by_xpath is deprecated. Please use find_elements(by=By.XPATH, value=xpath) instead\n",
      "  Button = driver.find_elements_by_xpath('//div[@class=\"link-color fs-12 cursor-pointer\"]/span')\n",
      "<ipython-input-18-bb9a819e7382>:62: DeprecationWarning: find_element_by_xpath is deprecated. Please use find_element(by=By.XPATH, value=xpath) instead\n",
      "  date = driver.find_element_by_xpath('//div[@class=\"bold fs-12 mb-5\"]')\n",
      "100%|████████████████████████████████████████████████████████████████████████████████████████| 131/131 [00:00<?, ?it/s]\n"
     ]
    }
   ],
   "source": [
    "airlines = driver.find_elements_by_xpath(\"//div[@class='fs-13 airline-name no-pad col-8']/span\")\n",
    "for i in airlines:\n",
    "    Airlines.append(i.text.replace(\"\\n\",\" \"))\n",
    "else :\n",
    "    pass\n",
    "\n",
    "aeroplanes = driver.find_elements_by_xpath('//p[@class=\"normal fs-11 font-lightestgrey no-wrap fl-no\"]/span')\n",
    "for i in tqdm(aeroplanes):\n",
    "    Aeroplane.append(i.text) \n",
    "else:\n",
    "    pass\n",
    "\n",
    "dept_times = driver.find_elements_by_xpath('//div[@class=\"i-b pr\"]')\n",
    "for i in tqdm(dept_times):\n",
    "    Dept_time.append(i.text)\n",
    "else :\n",
    "    pass\n",
    "\n",
    "arrival = driver.find_elements_by_xpath('//p[@class=\"bold fs-15 mb-2 pr time\"]')\n",
    "for i in tqdm(arrival):\n",
    "    Arrival_time.append(i.text)\n",
    "else :\n",
    "    pass\n",
    "\n",
    "source = driver.find_elements_by_xpath(\"//div[@class='i-b col-4 no-wrap text-right dtime col-3']/p\")\n",
    "for i in tqdm(source):\n",
    "    Source.append(i.text)\n",
    "else :\n",
    "    pass\n",
    "\n",
    "destination = driver.find_elements_by_xpath('//div[@class=\"i-b pdd-0 text-left atime col-5\"]/p[2]')\n",
    "for i in tqdm(destination):\n",
    "    Destination.append(i.text)\n",
    "else:\n",
    "    pass\n",
    "\n",
    "duration = driver.find_elements_by_xpath('//div[@class=\"stop-cont pl-13\"]/p')\n",
    "for i in tqdm(duration):\n",
    "    Duration.append(i.text)\n",
    "else:\n",
    "    pass\n",
    "\n",
    "stop = driver.find_elements_by_xpath(\"//div[@class='stop-cont pl-13']/div/span\")\n",
    "for i in tqdm(stop):\n",
    "    Stops.append(i.text)\n",
    "else:\n",
    "    pass\n",
    "\n",
    "count = 0\n",
    "price = driver.find_elements_by_xpath('//div[@class=\"i-b tipsy fare-summary-tooltip fs-18\"]')\n",
    "for i in tqdm(price):\n",
    "    Price.append(i.text.replace(',',''))\n",
    "    count = count +1\n",
    "else:\n",
    "    count = count +1\n",
    "    pass\n",
    "\n",
    "Button = driver.find_elements_by_xpath('//div[@class=\"link-color fs-12 cursor-pointer\"]/span')\n",
    "driver.execute_script(\"arguments[0].click();\", WebDriverWait(driver, 20).until(EC.element_to_be_clickable((By.XPATH,'//div[@class=\"link-color fs-12 cursor-pointer\"]/span'))))\n",
    "time.sleep(1)\n",
    "\n",
    "date = driver.find_element_by_xpath('//div[@class=\"bold fs-12 mb-5\"]')\n",
    "a = date.text\n",
    "for i in tqdm(range(count-1)):\n",
    "    Date.append(a)\n",
    "else:\n",
    "    pass"
   ]
  },
  {
   "cell_type": "code",
   "execution_count": 19,
   "id": "705f5014",
   "metadata": {},
   "outputs": [
    {
     "data": {
      "text/plain": [
       "(475, 475, 475, 475, 475, 475, 475, 475, 475)"
      ]
     },
     "execution_count": 19,
     "metadata": {},
     "output_type": "execute_result"
    }
   ],
   "source": [
    "len(Airlines), len(Dept_time), len(Arrival_time), len(Source), len(Destination), len(Duration), len(Stops),len(Price), len(Date)"
   ]
  },
  {
   "cell_type": "code",
   "execution_count": 39,
   "id": "ebd74690",
   "metadata": {},
   "outputs": [],
   "source": [
    "# Opening Ecomnomy flights from New Dehli to Bombay on 28 July 2022"
   ]
  },
  {
   "cell_type": "code",
   "execution_count": 20,
   "id": "d30f856c",
   "metadata": {},
   "outputs": [
    {
     "name": "stderr",
     "output_type": "stream",
     "text": [
      "<ipython-input-20-0d3d8fa01617>:1: DeprecationWarning: find_elements_by_xpath is deprecated. Please use find_elements(by=By.XPATH, value=xpath) instead\n",
      "  flights=driver.find_elements_by_xpath('//div[@class=\"flight-det table full-width clearfix\"]')\n"
     ]
    },
    {
     "data": {
      "text/plain": [
       "143"
      ]
     },
     "execution_count": 20,
     "metadata": {},
     "output_type": "execute_result"
    }
   ],
   "source": [
    "flights=driver.find_elements_by_xpath('//div[@class=\"flight-det table full-width clearfix\"]')\n",
    "len(flights)"
   ]
  },
  {
   "cell_type": "code",
   "execution_count": 21,
   "id": "a351c1a8",
   "metadata": {},
   "outputs": [
    {
     "name": "stderr",
     "output_type": "stream",
     "text": [
      "<ipython-input-21-bb9a819e7382>:1: DeprecationWarning: find_elements_by_xpath is deprecated. Please use find_elements(by=By.XPATH, value=xpath) instead\n",
      "  airlines = driver.find_elements_by_xpath(\"//div[@class='fs-13 airline-name no-pad col-8']/span\")\n",
      "<ipython-input-21-bb9a819e7382>:7: DeprecationWarning: find_elements_by_xpath is deprecated. Please use find_elements(by=By.XPATH, value=xpath) instead\n",
      "  aeroplanes = driver.find_elements_by_xpath('//p[@class=\"normal fs-11 font-lightestgrey no-wrap fl-no\"]/span')\n",
      "100%|████████████████████████████████████████████████████████████████████████████████| 143/143 [00:01<00:00, 89.18it/s]\n",
      "<ipython-input-21-bb9a819e7382>:13: DeprecationWarning: find_elements_by_xpath is deprecated. Please use find_elements(by=By.XPATH, value=xpath) instead\n",
      "  dept_times = driver.find_elements_by_xpath('//div[@class=\"i-b pr\"]')\n",
      "100%|████████████████████████████████████████████████████████████████████████████████| 143/143 [00:01<00:00, 78.08it/s]\n",
      "<ipython-input-21-bb9a819e7382>:19: DeprecationWarning: find_elements_by_xpath is deprecated. Please use find_elements(by=By.XPATH, value=xpath) instead\n",
      "  arrival = driver.find_elements_by_xpath('//p[@class=\"bold fs-15 mb-2 pr time\"]')\n",
      "100%|████████████████████████████████████████████████████████████████████████████████| 143/143 [00:02<00:00, 69.83it/s]\n",
      "<ipython-input-21-bb9a819e7382>:25: DeprecationWarning: find_elements_by_xpath is deprecated. Please use find_elements(by=By.XPATH, value=xpath) instead\n",
      "  source = driver.find_elements_by_xpath(\"//div[@class='i-b col-4 no-wrap text-right dtime col-3']/p\")\n",
      "100%|████████████████████████████████████████████████████████████████████████████████| 143/143 [00:02<00:00, 67.36it/s]\n",
      "<ipython-input-21-bb9a819e7382>:31: DeprecationWarning: find_elements_by_xpath is deprecated. Please use find_elements(by=By.XPATH, value=xpath) instead\n",
      "  destination = driver.find_elements_by_xpath('//div[@class=\"i-b pdd-0 text-left atime col-5\"]/p[2]')\n",
      "100%|████████████████████████████████████████████████████████████████████████████████| 143/143 [00:02<00:00, 64.37it/s]\n",
      "<ipython-input-21-bb9a819e7382>:37: DeprecationWarning: find_elements_by_xpath is deprecated. Please use find_elements(by=By.XPATH, value=xpath) instead\n",
      "  duration = driver.find_elements_by_xpath('//div[@class=\"stop-cont pl-13\"]/p')\n",
      "100%|████████████████████████████████████████████████████████████████████████████████| 143/143 [00:02<00:00, 65.22it/s]\n",
      "<ipython-input-21-bb9a819e7382>:43: DeprecationWarning: find_elements_by_xpath is deprecated. Please use find_elements(by=By.XPATH, value=xpath) instead\n",
      "  stop = driver.find_elements_by_xpath(\"//div[@class='stop-cont pl-13']/div/span\")\n",
      "100%|████████████████████████████████████████████████████████████████████████████████| 143/143 [00:02<00:00, 60.45it/s]\n",
      "<ipython-input-21-bb9a819e7382>:50: DeprecationWarning: find_elements_by_xpath is deprecated. Please use find_elements(by=By.XPATH, value=xpath) instead\n",
      "  price = driver.find_elements_by_xpath('//div[@class=\"i-b tipsy fare-summary-tooltip fs-18\"]')\n",
      "100%|████████████████████████████████████████████████████████████████████████████████| 143/143 [00:02<00:00, 55.76it/s]\n",
      "<ipython-input-21-bb9a819e7382>:58: DeprecationWarning: find_elements_by_xpath is deprecated. Please use find_elements(by=By.XPATH, value=xpath) instead\n",
      "  Button = driver.find_elements_by_xpath('//div[@class=\"link-color fs-12 cursor-pointer\"]/span')\n",
      "<ipython-input-21-bb9a819e7382>:62: DeprecationWarning: find_element_by_xpath is deprecated. Please use find_element(by=By.XPATH, value=xpath) instead\n",
      "  date = driver.find_element_by_xpath('//div[@class=\"bold fs-12 mb-5\"]')\n",
      "100%|████████████████████████████████████████████████████████████████████████████████████████| 143/143 [00:00<?, ?it/s]\n"
     ]
    }
   ],
   "source": [
    "airlines = driver.find_elements_by_xpath(\"//div[@class='fs-13 airline-name no-pad col-8']/span\")\n",
    "for i in airlines:\n",
    "    Airlines.append(i.text.replace(\"\\n\",\" \"))\n",
    "else :\n",
    "    pass\n",
    "\n",
    "aeroplanes = driver.find_elements_by_xpath('//p[@class=\"normal fs-11 font-lightestgrey no-wrap fl-no\"]/span')\n",
    "for i in tqdm(aeroplanes):\n",
    "    Aeroplane.append(i.text) \n",
    "else:\n",
    "    pass\n",
    "\n",
    "dept_times = driver.find_elements_by_xpath('//div[@class=\"i-b pr\"]')\n",
    "for i in tqdm(dept_times):\n",
    "    Dept_time.append(i.text)\n",
    "else :\n",
    "    pass\n",
    "\n",
    "arrival = driver.find_elements_by_xpath('//p[@class=\"bold fs-15 mb-2 pr time\"]')\n",
    "for i in tqdm(arrival):\n",
    "    Arrival_time.append(i.text)\n",
    "else :\n",
    "    pass\n",
    "\n",
    "source = driver.find_elements_by_xpath(\"//div[@class='i-b col-4 no-wrap text-right dtime col-3']/p\")\n",
    "for i in tqdm(source):\n",
    "    Source.append(i.text)\n",
    "else :\n",
    "    pass\n",
    "\n",
    "destination = driver.find_elements_by_xpath('//div[@class=\"i-b pdd-0 text-left atime col-5\"]/p[2]')\n",
    "for i in tqdm(destination):\n",
    "    Destination.append(i.text)\n",
    "else:\n",
    "    pass\n",
    "\n",
    "duration = driver.find_elements_by_xpath('//div[@class=\"stop-cont pl-13\"]/p')\n",
    "for i in tqdm(duration):\n",
    "    Duration.append(i.text)\n",
    "else:\n",
    "    pass\n",
    "\n",
    "stop = driver.find_elements_by_xpath(\"//div[@class='stop-cont pl-13']/div/span\")\n",
    "for i in tqdm(stop):\n",
    "    Stops.append(i.text)\n",
    "else:\n",
    "    pass\n",
    "\n",
    "count = 0\n",
    "price = driver.find_elements_by_xpath('//div[@class=\"i-b tipsy fare-summary-tooltip fs-18\"]')\n",
    "for i in tqdm(price):\n",
    "    Price.append(i.text.replace(',',''))\n",
    "    count = count +1\n",
    "else:\n",
    "    count = count +1\n",
    "    pass\n",
    "\n",
    "Button = driver.find_elements_by_xpath('//div[@class=\"link-color fs-12 cursor-pointer\"]/span')\n",
    "driver.execute_script(\"arguments[0].click();\", WebDriverWait(driver, 20).until(EC.element_to_be_clickable((By.XPATH,'//div[@class=\"link-color fs-12 cursor-pointer\"]/span'))))\n",
    "time.sleep(1)\n",
    "\n",
    "date = driver.find_element_by_xpath('//div[@class=\"bold fs-12 mb-5\"]')\n",
    "a = date.text\n",
    "for i in tqdm(range(count-1)):\n",
    "    Date.append(a)\n",
    "else:\n",
    "    pass"
   ]
  },
  {
   "cell_type": "code",
   "execution_count": 22,
   "id": "56be337d",
   "metadata": {},
   "outputs": [
    {
     "data": {
      "text/plain": [
       "(618, 618, 618, 618, 618, 618, 618, 618, 618)"
      ]
     },
     "execution_count": 22,
     "metadata": {},
     "output_type": "execute_result"
    }
   ],
   "source": [
    "len(Airlines), len(Dept_time), len(Arrival_time), len(Source), len(Destination), len(Duration), len(Stops),len(Price), len(Date)"
   ]
  },
  {
   "cell_type": "code",
   "execution_count": 43,
   "id": "d0ab11dd",
   "metadata": {},
   "outputs": [],
   "source": [
    "# Opening Ecomnomy flights from New Dehli to Bombay on 29 July 2022"
   ]
  },
  {
   "cell_type": "code",
   "execution_count": 23,
   "id": "1367d3aa",
   "metadata": {},
   "outputs": [
    {
     "name": "stderr",
     "output_type": "stream",
     "text": [
      "<ipython-input-23-0d3d8fa01617>:1: DeprecationWarning: find_elements_by_xpath is deprecated. Please use find_elements(by=By.XPATH, value=xpath) instead\n",
      "  flights=driver.find_elements_by_xpath('//div[@class=\"flight-det table full-width clearfix\"]')\n"
     ]
    },
    {
     "data": {
      "text/plain": [
       "140"
      ]
     },
     "execution_count": 23,
     "metadata": {},
     "output_type": "execute_result"
    }
   ],
   "source": [
    "flights=driver.find_elements_by_xpath('//div[@class=\"flight-det table full-width clearfix\"]')\n",
    "len(flights)"
   ]
  },
  {
   "cell_type": "code",
   "execution_count": 24,
   "id": "e034c39b",
   "metadata": {},
   "outputs": [
    {
     "name": "stderr",
     "output_type": "stream",
     "text": [
      "<ipython-input-24-bb9a819e7382>:1: DeprecationWarning: find_elements_by_xpath is deprecated. Please use find_elements(by=By.XPATH, value=xpath) instead\n",
      "  airlines = driver.find_elements_by_xpath(\"//div[@class='fs-13 airline-name no-pad col-8']/span\")\n",
      "<ipython-input-24-bb9a819e7382>:7: DeprecationWarning: find_elements_by_xpath is deprecated. Please use find_elements(by=By.XPATH, value=xpath) instead\n",
      "  aeroplanes = driver.find_elements_by_xpath('//p[@class=\"normal fs-11 font-lightestgrey no-wrap fl-no\"]/span')\n",
      "100%|████████████████████████████████████████████████████████████████████████████████| 140/140 [00:01<00:00, 84.66it/s]\n",
      "<ipython-input-24-bb9a819e7382>:13: DeprecationWarning: find_elements_by_xpath is deprecated. Please use find_elements(by=By.XPATH, value=xpath) instead\n",
      "  dept_times = driver.find_elements_by_xpath('//div[@class=\"i-b pr\"]')\n",
      "100%|████████████████████████████████████████████████████████████████████████████████| 140/140 [00:01<00:00, 77.69it/s]\n",
      "<ipython-input-24-bb9a819e7382>:19: DeprecationWarning: find_elements_by_xpath is deprecated. Please use find_elements(by=By.XPATH, value=xpath) instead\n",
      "  arrival = driver.find_elements_by_xpath('//p[@class=\"bold fs-15 mb-2 pr time\"]')\n",
      "100%|████████████████████████████████████████████████████████████████████████████████| 140/140 [00:01<00:00, 75.02it/s]\n",
      "<ipython-input-24-bb9a819e7382>:25: DeprecationWarning: find_elements_by_xpath is deprecated. Please use find_elements(by=By.XPATH, value=xpath) instead\n",
      "  source = driver.find_elements_by_xpath(\"//div[@class='i-b col-4 no-wrap text-right dtime col-3']/p\")\n",
      "100%|████████████████████████████████████████████████████████████████████████████████| 140/140 [00:01<00:00, 76.39it/s]\n",
      "<ipython-input-24-bb9a819e7382>:31: DeprecationWarning: find_elements_by_xpath is deprecated. Please use find_elements(by=By.XPATH, value=xpath) instead\n",
      "  destination = driver.find_elements_by_xpath('//div[@class=\"i-b pdd-0 text-left atime col-5\"]/p[2]')\n",
      "100%|████████████████████████████████████████████████████████████████████████████████| 140/140 [00:01<00:00, 74.58it/s]\n",
      "<ipython-input-24-bb9a819e7382>:37: DeprecationWarning: find_elements_by_xpath is deprecated. Please use find_elements(by=By.XPATH, value=xpath) instead\n",
      "  duration = driver.find_elements_by_xpath('//div[@class=\"stop-cont pl-13\"]/p')\n",
      "100%|████████████████████████████████████████████████████████████████████████████████| 140/140 [00:01<00:00, 77.79it/s]\n",
      "<ipython-input-24-bb9a819e7382>:43: DeprecationWarning: find_elements_by_xpath is deprecated. Please use find_elements(by=By.XPATH, value=xpath) instead\n",
      "  stop = driver.find_elements_by_xpath(\"//div[@class='stop-cont pl-13']/div/span\")\n",
      "100%|████████████████████████████████████████████████████████████████████████████████| 140/140 [00:01<00:00, 75.57it/s]\n",
      "<ipython-input-24-bb9a819e7382>:50: DeprecationWarning: find_elements_by_xpath is deprecated. Please use find_elements(by=By.XPATH, value=xpath) instead\n",
      "  price = driver.find_elements_by_xpath('//div[@class=\"i-b tipsy fare-summary-tooltip fs-18\"]')\n",
      "100%|████████████████████████████████████████████████████████████████████████████████| 140/140 [00:01<00:00, 73.57it/s]\n",
      "<ipython-input-24-bb9a819e7382>:58: DeprecationWarning: find_elements_by_xpath is deprecated. Please use find_elements(by=By.XPATH, value=xpath) instead\n",
      "  Button = driver.find_elements_by_xpath('//div[@class=\"link-color fs-12 cursor-pointer\"]/span')\n",
      "<ipython-input-24-bb9a819e7382>:62: DeprecationWarning: find_element_by_xpath is deprecated. Please use find_element(by=By.XPATH, value=xpath) instead\n",
      "  date = driver.find_element_by_xpath('//div[@class=\"bold fs-12 mb-5\"]')\n",
      "100%|████████████████████████████████████████████████████████████████████████████████████████| 140/140 [00:00<?, ?it/s]\n"
     ]
    }
   ],
   "source": [
    "airlines = driver.find_elements_by_xpath(\"//div[@class='fs-13 airline-name no-pad col-8']/span\")\n",
    "for i in airlines:\n",
    "    Airlines.append(i.text.replace(\"\\n\",\" \"))\n",
    "else :\n",
    "    pass\n",
    "\n",
    "aeroplanes = driver.find_elements_by_xpath('//p[@class=\"normal fs-11 font-lightestgrey no-wrap fl-no\"]/span')\n",
    "for i in tqdm(aeroplanes):\n",
    "    Aeroplane.append(i.text) \n",
    "else:\n",
    "    pass\n",
    "\n",
    "dept_times = driver.find_elements_by_xpath('//div[@class=\"i-b pr\"]')\n",
    "for i in tqdm(dept_times):\n",
    "    Dept_time.append(i.text)\n",
    "else :\n",
    "    pass\n",
    "\n",
    "arrival = driver.find_elements_by_xpath('//p[@class=\"bold fs-15 mb-2 pr time\"]')\n",
    "for i in tqdm(arrival):\n",
    "    Arrival_time.append(i.text)\n",
    "else :\n",
    "    pass\n",
    "\n",
    "source = driver.find_elements_by_xpath(\"//div[@class='i-b col-4 no-wrap text-right dtime col-3']/p\")\n",
    "for i in tqdm(source):\n",
    "    Source.append(i.text)\n",
    "else :\n",
    "    pass\n",
    "\n",
    "destination = driver.find_elements_by_xpath('//div[@class=\"i-b pdd-0 text-left atime col-5\"]/p[2]')\n",
    "for i in tqdm(destination):\n",
    "    Destination.append(i.text)\n",
    "else:\n",
    "    pass\n",
    "\n",
    "duration = driver.find_elements_by_xpath('//div[@class=\"stop-cont pl-13\"]/p')\n",
    "for i in tqdm(duration):\n",
    "    Duration.append(i.text)\n",
    "else:\n",
    "    pass\n",
    "\n",
    "stop = driver.find_elements_by_xpath(\"//div[@class='stop-cont pl-13']/div/span\")\n",
    "for i in tqdm(stop):\n",
    "    Stops.append(i.text)\n",
    "else:\n",
    "    pass\n",
    "\n",
    "count = 0\n",
    "price = driver.find_elements_by_xpath('//div[@class=\"i-b tipsy fare-summary-tooltip fs-18\"]')\n",
    "for i in tqdm(price):\n",
    "    Price.append(i.text.replace(',',''))\n",
    "    count = count +1\n",
    "else:\n",
    "    count = count +1\n",
    "    pass\n",
    "\n",
    "Button = driver.find_elements_by_xpath('//div[@class=\"link-color fs-12 cursor-pointer\"]/span')\n",
    "driver.execute_script(\"arguments[0].click();\", WebDriverWait(driver, 20).until(EC.element_to_be_clickable((By.XPATH,'//div[@class=\"link-color fs-12 cursor-pointer\"]/span'))))\n",
    "time.sleep(1)\n",
    "\n",
    "date = driver.find_element_by_xpath('//div[@class=\"bold fs-12 mb-5\"]')\n",
    "a = date.text\n",
    "for i in tqdm(range(count-1)):\n",
    "    Date.append(a)\n",
    "else:\n",
    "    pass"
   ]
  },
  {
   "cell_type": "code",
   "execution_count": 25,
   "id": "c00e3ca7",
   "metadata": {},
   "outputs": [
    {
     "data": {
      "text/plain": [
       "(758, 758, 758, 758, 758, 758, 758, 758, 758)"
      ]
     },
     "execution_count": 25,
     "metadata": {},
     "output_type": "execute_result"
    }
   ],
   "source": [
    "len(Airlines), len(Dept_time), len(Arrival_time), len(Source), len(Destination), len(Duration), len(Stops),len(Price), len(Date)"
   ]
  },
  {
   "cell_type": "code",
   "execution_count": 47,
   "id": "c6f08d6c",
   "metadata": {},
   "outputs": [],
   "source": [
    "# Opening Ecomnomy flights from New Dehli to Bombay on 30 July 2022"
   ]
  },
  {
   "cell_type": "code",
   "execution_count": 26,
   "id": "5ef237fa",
   "metadata": {},
   "outputs": [
    {
     "name": "stderr",
     "output_type": "stream",
     "text": [
      "<ipython-input-26-0d3d8fa01617>:1: DeprecationWarning: find_elements_by_xpath is deprecated. Please use find_elements(by=By.XPATH, value=xpath) instead\n",
      "  flights=driver.find_elements_by_xpath('//div[@class=\"flight-det table full-width clearfix\"]')\n"
     ]
    },
    {
     "data": {
      "text/plain": [
       "153"
      ]
     },
     "execution_count": 26,
     "metadata": {},
     "output_type": "execute_result"
    }
   ],
   "source": [
    "flights=driver.find_elements_by_xpath('//div[@class=\"flight-det table full-width clearfix\"]')\n",
    "len(flights)"
   ]
  },
  {
   "cell_type": "code",
   "execution_count": 27,
   "id": "5c83cf32",
   "metadata": {},
   "outputs": [
    {
     "name": "stderr",
     "output_type": "stream",
     "text": [
      "<ipython-input-27-bb9a819e7382>:1: DeprecationWarning: find_elements_by_xpath is deprecated. Please use find_elements(by=By.XPATH, value=xpath) instead\n",
      "  airlines = driver.find_elements_by_xpath(\"//div[@class='fs-13 airline-name no-pad col-8']/span\")\n",
      "<ipython-input-27-bb9a819e7382>:7: DeprecationWarning: find_elements_by_xpath is deprecated. Please use find_elements(by=By.XPATH, value=xpath) instead\n",
      "  aeroplanes = driver.find_elements_by_xpath('//p[@class=\"normal fs-11 font-lightestgrey no-wrap fl-no\"]/span')\n",
      "100%|████████████████████████████████████████████████████████████████████████████████| 153/153 [00:01<00:00, 82.14it/s]\n",
      "<ipython-input-27-bb9a819e7382>:13: DeprecationWarning: find_elements_by_xpath is deprecated. Please use find_elements(by=By.XPATH, value=xpath) instead\n",
      "  dept_times = driver.find_elements_by_xpath('//div[@class=\"i-b pr\"]')\n",
      "100%|████████████████████████████████████████████████████████████████████████████████| 153/153 [00:01<00:00, 77.59it/s]\n",
      "<ipython-input-27-bb9a819e7382>:19: DeprecationWarning: find_elements_by_xpath is deprecated. Please use find_elements(by=By.XPATH, value=xpath) instead\n",
      "  arrival = driver.find_elements_by_xpath('//p[@class=\"bold fs-15 mb-2 pr time\"]')\n",
      "100%|████████████████████████████████████████████████████████████████████████████████| 153/153 [00:02<00:00, 72.88it/s]\n",
      "<ipython-input-27-bb9a819e7382>:25: DeprecationWarning: find_elements_by_xpath is deprecated. Please use find_elements(by=By.XPATH, value=xpath) instead\n",
      "  source = driver.find_elements_by_xpath(\"//div[@class='i-b col-4 no-wrap text-right dtime col-3']/p\")\n",
      "100%|████████████████████████████████████████████████████████████████████████████████| 153/153 [00:02<00:00, 73.49it/s]\n",
      "<ipython-input-27-bb9a819e7382>:31: DeprecationWarning: find_elements_by_xpath is deprecated. Please use find_elements(by=By.XPATH, value=xpath) instead\n",
      "  destination = driver.find_elements_by_xpath('//div[@class=\"i-b pdd-0 text-left atime col-5\"]/p[2]')\n",
      "100%|████████████████████████████████████████████████████████████████████████████████| 153/153 [00:02<00:00, 75.77it/s]\n",
      "<ipython-input-27-bb9a819e7382>:37: DeprecationWarning: find_elements_by_xpath is deprecated. Please use find_elements(by=By.XPATH, value=xpath) instead\n",
      "  duration = driver.find_elements_by_xpath('//div[@class=\"stop-cont pl-13\"]/p')\n",
      "100%|████████████████████████████████████████████████████████████████████████████████| 153/153 [00:01<00:00, 76.96it/s]\n",
      "<ipython-input-27-bb9a819e7382>:43: DeprecationWarning: find_elements_by_xpath is deprecated. Please use find_elements(by=By.XPATH, value=xpath) instead\n",
      "  stop = driver.find_elements_by_xpath(\"//div[@class='stop-cont pl-13']/div/span\")\n",
      "100%|████████████████████████████████████████████████████████████████████████████████| 153/153 [00:02<00:00, 75.49it/s]\n",
      "<ipython-input-27-bb9a819e7382>:50: DeprecationWarning: find_elements_by_xpath is deprecated. Please use find_elements(by=By.XPATH, value=xpath) instead\n",
      "  price = driver.find_elements_by_xpath('//div[@class=\"i-b tipsy fare-summary-tooltip fs-18\"]')\n",
      "100%|████████████████████████████████████████████████████████████████████████████████| 153/153 [00:02<00:00, 71.15it/s]\n",
      "<ipython-input-27-bb9a819e7382>:58: DeprecationWarning: find_elements_by_xpath is deprecated. Please use find_elements(by=By.XPATH, value=xpath) instead\n",
      "  Button = driver.find_elements_by_xpath('//div[@class=\"link-color fs-12 cursor-pointer\"]/span')\n",
      "<ipython-input-27-bb9a819e7382>:62: DeprecationWarning: find_element_by_xpath is deprecated. Please use find_element(by=By.XPATH, value=xpath) instead\n",
      "  date = driver.find_element_by_xpath('//div[@class=\"bold fs-12 mb-5\"]')\n",
      "100%|████████████████████████████████████████████████████████████████████████████████████████| 153/153 [00:00<?, ?it/s]\n"
     ]
    }
   ],
   "source": [
    "airlines = driver.find_elements_by_xpath(\"//div[@class='fs-13 airline-name no-pad col-8']/span\")\n",
    "for i in airlines:\n",
    "    Airlines.append(i.text.replace(\"\\n\",\" \"))\n",
    "else :\n",
    "    pass\n",
    "\n",
    "aeroplanes = driver.find_elements_by_xpath('//p[@class=\"normal fs-11 font-lightestgrey no-wrap fl-no\"]/span')\n",
    "for i in tqdm(aeroplanes):\n",
    "    Aeroplane.append(i.text) \n",
    "else:\n",
    "    pass\n",
    "\n",
    "dept_times = driver.find_elements_by_xpath('//div[@class=\"i-b pr\"]')\n",
    "for i in tqdm(dept_times):\n",
    "    Dept_time.append(i.text)\n",
    "else :\n",
    "    pass\n",
    "\n",
    "arrival = driver.find_elements_by_xpath('//p[@class=\"bold fs-15 mb-2 pr time\"]')\n",
    "for i in tqdm(arrival):\n",
    "    Arrival_time.append(i.text)\n",
    "else :\n",
    "    pass\n",
    "\n",
    "source = driver.find_elements_by_xpath(\"//div[@class='i-b col-4 no-wrap text-right dtime col-3']/p\")\n",
    "for i in tqdm(source):\n",
    "    Source.append(i.text)\n",
    "else :\n",
    "    pass\n",
    "\n",
    "destination = driver.find_elements_by_xpath('//div[@class=\"i-b pdd-0 text-left atime col-5\"]/p[2]')\n",
    "for i in tqdm(destination):\n",
    "    Destination.append(i.text)\n",
    "else:\n",
    "    pass\n",
    "\n",
    "duration = driver.find_elements_by_xpath('//div[@class=\"stop-cont pl-13\"]/p')\n",
    "for i in tqdm(duration):\n",
    "    Duration.append(i.text)\n",
    "else:\n",
    "    pass\n",
    "\n",
    "stop = driver.find_elements_by_xpath(\"//div[@class='stop-cont pl-13']/div/span\")\n",
    "for i in tqdm(stop):\n",
    "    Stops.append(i.text)\n",
    "else:\n",
    "    pass\n",
    "\n",
    "count = 0\n",
    "price = driver.find_elements_by_xpath('//div[@class=\"i-b tipsy fare-summary-tooltip fs-18\"]')\n",
    "for i in tqdm(price):\n",
    "    Price.append(i.text.replace(',',''))\n",
    "    count = count +1\n",
    "else:\n",
    "    count = count +1\n",
    "    pass\n",
    "\n",
    "Button = driver.find_elements_by_xpath('//div[@class=\"link-color fs-12 cursor-pointer\"]/span')\n",
    "driver.execute_script(\"arguments[0].click();\", WebDriverWait(driver, 20).until(EC.element_to_be_clickable((By.XPATH,'//div[@class=\"link-color fs-12 cursor-pointer\"]/span'))))\n",
    "time.sleep(1)\n",
    "\n",
    "date = driver.find_element_by_xpath('//div[@class=\"bold fs-12 mb-5\"]')\n",
    "a = date.text\n",
    "for i in tqdm(range(count-1)):\n",
    "    Date.append(a)\n",
    "else:\n",
    "    pass"
   ]
  },
  {
   "cell_type": "code",
   "execution_count": 28,
   "id": "7dd283f5",
   "metadata": {},
   "outputs": [
    {
     "data": {
      "text/plain": [
       "(911, 911, 911, 911, 911, 911, 911, 911, 911)"
      ]
     },
     "execution_count": 28,
     "metadata": {},
     "output_type": "execute_result"
    }
   ],
   "source": [
    "len(Airlines), len(Dept_time), len(Arrival_time), len(Source), len(Destination), len(Duration), len(Stops),len(Price), len(Date)"
   ]
  },
  {
   "cell_type": "code",
   "execution_count": 51,
   "id": "c220a0fb",
   "metadata": {},
   "outputs": [],
   "source": [
    "# Opening Ecomnomy flights from New Dehli to Bombay on 31 July 2022"
   ]
  },
  {
   "cell_type": "code",
   "execution_count": 29,
   "id": "6b55e9a1",
   "metadata": {},
   "outputs": [
    {
     "name": "stderr",
     "output_type": "stream",
     "text": [
      "<ipython-input-29-0d3d8fa01617>:1: DeprecationWarning: find_elements_by_xpath is deprecated. Please use find_elements(by=By.XPATH, value=xpath) instead\n",
      "  flights=driver.find_elements_by_xpath('//div[@class=\"flight-det table full-width clearfix\"]')\n"
     ]
    },
    {
     "data": {
      "text/plain": [
       "148"
      ]
     },
     "execution_count": 29,
     "metadata": {},
     "output_type": "execute_result"
    }
   ],
   "source": [
    "flights=driver.find_elements_by_xpath('//div[@class=\"flight-det table full-width clearfix\"]')\n",
    "len(flights)"
   ]
  },
  {
   "cell_type": "code",
   "execution_count": 30,
   "id": "182ff235",
   "metadata": {},
   "outputs": [
    {
     "name": "stderr",
     "output_type": "stream",
     "text": [
      "<ipython-input-30-bb9a819e7382>:1: DeprecationWarning: find_elements_by_xpath is deprecated. Please use find_elements(by=By.XPATH, value=xpath) instead\n",
      "  airlines = driver.find_elements_by_xpath(\"//div[@class='fs-13 airline-name no-pad col-8']/span\")\n",
      "<ipython-input-30-bb9a819e7382>:7: DeprecationWarning: find_elements_by_xpath is deprecated. Please use find_elements(by=By.XPATH, value=xpath) instead\n",
      "  aeroplanes = driver.find_elements_by_xpath('//p[@class=\"normal fs-11 font-lightestgrey no-wrap fl-no\"]/span')\n",
      "100%|████████████████████████████████████████████████████████████████████████████████| 148/148 [00:01<00:00, 89.38it/s]\n",
      "<ipython-input-30-bb9a819e7382>:13: DeprecationWarning: find_elements_by_xpath is deprecated. Please use find_elements(by=By.XPATH, value=xpath) instead\n",
      "  dept_times = driver.find_elements_by_xpath('//div[@class=\"i-b pr\"]')\n",
      "100%|████████████████████████████████████████████████████████████████████████████████| 148/148 [00:01<00:00, 77.64it/s]\n",
      "<ipython-input-30-bb9a819e7382>:19: DeprecationWarning: find_elements_by_xpath is deprecated. Please use find_elements(by=By.XPATH, value=xpath) instead\n",
      "  arrival = driver.find_elements_by_xpath('//p[@class=\"bold fs-15 mb-2 pr time\"]')\n",
      "100%|████████████████████████████████████████████████████████████████████████████████| 148/148 [00:02<00:00, 73.47it/s]\n",
      "<ipython-input-30-bb9a819e7382>:25: DeprecationWarning: find_elements_by_xpath is deprecated. Please use find_elements(by=By.XPATH, value=xpath) instead\n",
      "  source = driver.find_elements_by_xpath(\"//div[@class='i-b col-4 no-wrap text-right dtime col-3']/p\")\n",
      "100%|████████████████████████████████████████████████████████████████████████████████| 148/148 [00:02<00:00, 69.30it/s]\n",
      "<ipython-input-30-bb9a819e7382>:31: DeprecationWarning: find_elements_by_xpath is deprecated. Please use find_elements(by=By.XPATH, value=xpath) instead\n",
      "  destination = driver.find_elements_by_xpath('//div[@class=\"i-b pdd-0 text-left atime col-5\"]/p[2]')\n",
      "100%|████████████████████████████████████████████████████████████████████████████████| 148/148 [00:02<00:00, 69.15it/s]\n",
      "<ipython-input-30-bb9a819e7382>:37: DeprecationWarning: find_elements_by_xpath is deprecated. Please use find_elements(by=By.XPATH, value=xpath) instead\n",
      "  duration = driver.find_elements_by_xpath('//div[@class=\"stop-cont pl-13\"]/p')\n",
      "100%|████████████████████████████████████████████████████████████████████████████████| 148/148 [00:02<00:00, 72.43it/s]\n",
      "<ipython-input-30-bb9a819e7382>:43: DeprecationWarning: find_elements_by_xpath is deprecated. Please use find_elements(by=By.XPATH, value=xpath) instead\n",
      "  stop = driver.find_elements_by_xpath(\"//div[@class='stop-cont pl-13']/div/span\")\n",
      "100%|████████████████████████████████████████████████████████████████████████████████| 148/148 [00:01<00:00, 75.51it/s]\n",
      "<ipython-input-30-bb9a819e7382>:50: DeprecationWarning: find_elements_by_xpath is deprecated. Please use find_elements(by=By.XPATH, value=xpath) instead\n",
      "  price = driver.find_elements_by_xpath('//div[@class=\"i-b tipsy fare-summary-tooltip fs-18\"]')\n",
      "100%|████████████████████████████████████████████████████████████████████████████████| 148/148 [00:02<00:00, 71.48it/s]\n",
      "<ipython-input-30-bb9a819e7382>:58: DeprecationWarning: find_elements_by_xpath is deprecated. Please use find_elements(by=By.XPATH, value=xpath) instead\n",
      "  Button = driver.find_elements_by_xpath('//div[@class=\"link-color fs-12 cursor-pointer\"]/span')\n",
      "<ipython-input-30-bb9a819e7382>:62: DeprecationWarning: find_element_by_xpath is deprecated. Please use find_element(by=By.XPATH, value=xpath) instead\n",
      "  date = driver.find_element_by_xpath('//div[@class=\"bold fs-12 mb-5\"]')\n",
      "100%|████████████████████████████████████████████████████████████████████████████| 148/148 [00:00<00:00, 148613.12it/s]\n"
     ]
    }
   ],
   "source": [
    "airlines = driver.find_elements_by_xpath(\"//div[@class='fs-13 airline-name no-pad col-8']/span\")\n",
    "for i in airlines:\n",
    "    Airlines.append(i.text.replace(\"\\n\",\" \"))\n",
    "else :\n",
    "    pass\n",
    "\n",
    "aeroplanes = driver.find_elements_by_xpath('//p[@class=\"normal fs-11 font-lightestgrey no-wrap fl-no\"]/span')\n",
    "for i in tqdm(aeroplanes):\n",
    "    Aeroplane.append(i.text) \n",
    "else:\n",
    "    pass\n",
    "\n",
    "dept_times = driver.find_elements_by_xpath('//div[@class=\"i-b pr\"]')\n",
    "for i in tqdm(dept_times):\n",
    "    Dept_time.append(i.text)\n",
    "else :\n",
    "    pass\n",
    "\n",
    "arrival = driver.find_elements_by_xpath('//p[@class=\"bold fs-15 mb-2 pr time\"]')\n",
    "for i in tqdm(arrival):\n",
    "    Arrival_time.append(i.text)\n",
    "else :\n",
    "    pass\n",
    "\n",
    "source = driver.find_elements_by_xpath(\"//div[@class='i-b col-4 no-wrap text-right dtime col-3']/p\")\n",
    "for i in tqdm(source):\n",
    "    Source.append(i.text)\n",
    "else :\n",
    "    pass\n",
    "\n",
    "destination = driver.find_elements_by_xpath('//div[@class=\"i-b pdd-0 text-left atime col-5\"]/p[2]')\n",
    "for i in tqdm(destination):\n",
    "    Destination.append(i.text)\n",
    "else:\n",
    "    pass\n",
    "\n",
    "duration = driver.find_elements_by_xpath('//div[@class=\"stop-cont pl-13\"]/p')\n",
    "for i in tqdm(duration):\n",
    "    Duration.append(i.text)\n",
    "else:\n",
    "    pass\n",
    "\n",
    "stop = driver.find_elements_by_xpath(\"//div[@class='stop-cont pl-13']/div/span\")\n",
    "for i in tqdm(stop):\n",
    "    Stops.append(i.text)\n",
    "else:\n",
    "    pass\n",
    "\n",
    "count = 0\n",
    "price = driver.find_elements_by_xpath('//div[@class=\"i-b tipsy fare-summary-tooltip fs-18\"]')\n",
    "for i in tqdm(price):\n",
    "    Price.append(i.text.replace(',',''))\n",
    "    count = count +1\n",
    "else:\n",
    "    count = count +1\n",
    "    pass\n",
    "\n",
    "Button = driver.find_elements_by_xpath('//div[@class=\"link-color fs-12 cursor-pointer\"]/span')\n",
    "driver.execute_script(\"arguments[0].click();\", WebDriverWait(driver, 20).until(EC.element_to_be_clickable((By.XPATH,'//div[@class=\"link-color fs-12 cursor-pointer\"]/span'))))\n",
    "time.sleep(1)\n",
    "\n",
    "date = driver.find_element_by_xpath('//div[@class=\"bold fs-12 mb-5\"]')\n",
    "a = date.text\n",
    "for i in tqdm(range(count-1)):\n",
    "    Date.append(a)\n",
    "else:\n",
    "    pass"
   ]
  },
  {
   "cell_type": "code",
   "execution_count": 31,
   "id": "98e4d174",
   "metadata": {},
   "outputs": [
    {
     "data": {
      "text/plain": [
       "(1059, 1059, 1059, 1059, 1059, 1059, 1059, 1059, 1059)"
      ]
     },
     "execution_count": 31,
     "metadata": {},
     "output_type": "execute_result"
    }
   ],
   "source": [
    "len(Airlines), len(Dept_time), len(Arrival_time), len(Source), len(Destination), len(Duration), len(Stops),len(Price), len(Date)"
   ]
  },
  {
   "cell_type": "code",
   "execution_count": 55,
   "id": "55489032",
   "metadata": {},
   "outputs": [],
   "source": [
    "# Opening Ecomnomy flights from New Dehli to Bombay on 1 Aug 2022"
   ]
  },
  {
   "cell_type": "code",
   "execution_count": 32,
   "id": "f1886975",
   "metadata": {},
   "outputs": [
    {
     "name": "stderr",
     "output_type": "stream",
     "text": [
      "<ipython-input-32-0d3d8fa01617>:1: DeprecationWarning: find_elements_by_xpath is deprecated. Please use find_elements(by=By.XPATH, value=xpath) instead\n",
      "  flights=driver.find_elements_by_xpath('//div[@class=\"flight-det table full-width clearfix\"]')\n"
     ]
    },
    {
     "data": {
      "text/plain": [
       "147"
      ]
     },
     "execution_count": 32,
     "metadata": {},
     "output_type": "execute_result"
    }
   ],
   "source": [
    "flights=driver.find_elements_by_xpath('//div[@class=\"flight-det table full-width clearfix\"]')\n",
    "len(flights)"
   ]
  },
  {
   "cell_type": "code",
   "execution_count": 33,
   "id": "f3135334",
   "metadata": {},
   "outputs": [
    {
     "name": "stderr",
     "output_type": "stream",
     "text": [
      "<ipython-input-33-bb9a819e7382>:1: DeprecationWarning: find_elements_by_xpath is deprecated. Please use find_elements(by=By.XPATH, value=xpath) instead\n",
      "  airlines = driver.find_elements_by_xpath(\"//div[@class='fs-13 airline-name no-pad col-8']/span\")\n",
      "<ipython-input-33-bb9a819e7382>:7: DeprecationWarning: find_elements_by_xpath is deprecated. Please use find_elements(by=By.XPATH, value=xpath) instead\n",
      "  aeroplanes = driver.find_elements_by_xpath('//p[@class=\"normal fs-11 font-lightestgrey no-wrap fl-no\"]/span')\n",
      "100%|████████████████████████████████████████████████████████████████████████████████| 147/147 [00:01<00:00, 83.61it/s]\n",
      "<ipython-input-33-bb9a819e7382>:13: DeprecationWarning: find_elements_by_xpath is deprecated. Please use find_elements(by=By.XPATH, value=xpath) instead\n",
      "  dept_times = driver.find_elements_by_xpath('//div[@class=\"i-b pr\"]')\n",
      "100%|████████████████████████████████████████████████████████████████████████████████| 147/147 [00:01<00:00, 74.48it/s]\n",
      "<ipython-input-33-bb9a819e7382>:19: DeprecationWarning: find_elements_by_xpath is deprecated. Please use find_elements(by=By.XPATH, value=xpath) instead\n",
      "  arrival = driver.find_elements_by_xpath('//p[@class=\"bold fs-15 mb-2 pr time\"]')\n",
      "100%|████████████████████████████████████████████████████████████████████████████████| 147/147 [00:02<00:00, 67.77it/s]\n",
      "<ipython-input-33-bb9a819e7382>:25: DeprecationWarning: find_elements_by_xpath is deprecated. Please use find_elements(by=By.XPATH, value=xpath) instead\n",
      "  source = driver.find_elements_by_xpath(\"//div[@class='i-b col-4 no-wrap text-right dtime col-3']/p\")\n",
      "100%|████████████████████████████████████████████████████████████████████████████████| 147/147 [00:02<00:00, 62.70it/s]\n",
      "<ipython-input-33-bb9a819e7382>:31: DeprecationWarning: find_elements_by_xpath is deprecated. Please use find_elements(by=By.XPATH, value=xpath) instead\n",
      "  destination = driver.find_elements_by_xpath('//div[@class=\"i-b pdd-0 text-left atime col-5\"]/p[2]')\n",
      "100%|████████████████████████████████████████████████████████████████████████████████| 147/147 [00:02<00:00, 69.24it/s]\n",
      "<ipython-input-33-bb9a819e7382>:37: DeprecationWarning: find_elements_by_xpath is deprecated. Please use find_elements(by=By.XPATH, value=xpath) instead\n",
      "  duration = driver.find_elements_by_xpath('//div[@class=\"stop-cont pl-13\"]/p')\n",
      "100%|████████████████████████████████████████████████████████████████████████████████| 147/147 [00:02<00:00, 69.98it/s]\n",
      "<ipython-input-33-bb9a819e7382>:43: DeprecationWarning: find_elements_by_xpath is deprecated. Please use find_elements(by=By.XPATH, value=xpath) instead\n",
      "  stop = driver.find_elements_by_xpath(\"//div[@class='stop-cont pl-13']/div/span\")\n",
      "100%|████████████████████████████████████████████████████████████████████████████████| 147/147 [00:01<00:00, 76.68it/s]\n",
      "<ipython-input-33-bb9a819e7382>:50: DeprecationWarning: find_elements_by_xpath is deprecated. Please use find_elements(by=By.XPATH, value=xpath) instead\n",
      "  price = driver.find_elements_by_xpath('//div[@class=\"i-b tipsy fare-summary-tooltip fs-18\"]')\n",
      "100%|████████████████████████████████████████████████████████████████████████████████| 147/147 [00:02<00:00, 67.06it/s]\n",
      "<ipython-input-33-bb9a819e7382>:58: DeprecationWarning: find_elements_by_xpath is deprecated. Please use find_elements(by=By.XPATH, value=xpath) instead\n",
      "  Button = driver.find_elements_by_xpath('//div[@class=\"link-color fs-12 cursor-pointer\"]/span')\n",
      "<ipython-input-33-bb9a819e7382>:62: DeprecationWarning: find_element_by_xpath is deprecated. Please use find_element(by=By.XPATH, value=xpath) instead\n",
      "  date = driver.find_element_by_xpath('//div[@class=\"bold fs-12 mb-5\"]')\n",
      "100%|████████████████████████████████████████████████████████████████████████████████████████| 147/147 [00:00<?, ?it/s]\n"
     ]
    }
   ],
   "source": [
    "airlines = driver.find_elements_by_xpath(\"//div[@class='fs-13 airline-name no-pad col-8']/span\")\n",
    "for i in airlines:\n",
    "    Airlines.append(i.text.replace(\"\\n\",\" \"))\n",
    "else :\n",
    "    pass\n",
    "\n",
    "aeroplanes = driver.find_elements_by_xpath('//p[@class=\"normal fs-11 font-lightestgrey no-wrap fl-no\"]/span')\n",
    "for i in tqdm(aeroplanes):\n",
    "    Aeroplane.append(i.text) \n",
    "else:\n",
    "    pass\n",
    "\n",
    "dept_times = driver.find_elements_by_xpath('//div[@class=\"i-b pr\"]')\n",
    "for i in tqdm(dept_times):\n",
    "    Dept_time.append(i.text)\n",
    "else :\n",
    "    pass\n",
    "\n",
    "arrival = driver.find_elements_by_xpath('//p[@class=\"bold fs-15 mb-2 pr time\"]')\n",
    "for i in tqdm(arrival):\n",
    "    Arrival_time.append(i.text)\n",
    "else :\n",
    "    pass\n",
    "\n",
    "source = driver.find_elements_by_xpath(\"//div[@class='i-b col-4 no-wrap text-right dtime col-3']/p\")\n",
    "for i in tqdm(source):\n",
    "    Source.append(i.text)\n",
    "else :\n",
    "    pass\n",
    "\n",
    "destination = driver.find_elements_by_xpath('//div[@class=\"i-b pdd-0 text-left atime col-5\"]/p[2]')\n",
    "for i in tqdm(destination):\n",
    "    Destination.append(i.text)\n",
    "else:\n",
    "    pass\n",
    "\n",
    "duration = driver.find_elements_by_xpath('//div[@class=\"stop-cont pl-13\"]/p')\n",
    "for i in tqdm(duration):\n",
    "    Duration.append(i.text)\n",
    "else:\n",
    "    pass\n",
    "\n",
    "stop = driver.find_elements_by_xpath(\"//div[@class='stop-cont pl-13']/div/span\")\n",
    "for i in tqdm(stop):\n",
    "    Stops.append(i.text)\n",
    "else:\n",
    "    pass\n",
    "\n",
    "count = 0\n",
    "price = driver.find_elements_by_xpath('//div[@class=\"i-b tipsy fare-summary-tooltip fs-18\"]')\n",
    "for i in tqdm(price):\n",
    "    Price.append(i.text.replace(',',''))\n",
    "    count = count +1\n",
    "else:\n",
    "    count = count +1\n",
    "    pass\n",
    "\n",
    "Button = driver.find_elements_by_xpath('//div[@class=\"link-color fs-12 cursor-pointer\"]/span')\n",
    "driver.execute_script(\"arguments[0].click();\", WebDriverWait(driver, 20).until(EC.element_to_be_clickable((By.XPATH,'//div[@class=\"link-color fs-12 cursor-pointer\"]/span'))))\n",
    "time.sleep(1)\n",
    "\n",
    "date = driver.find_element_by_xpath('//div[@class=\"bold fs-12 mb-5\"]')\n",
    "a = date.text\n",
    "for i in tqdm(range(count-1)):\n",
    "    Date.append(a)\n",
    "else:\n",
    "    pass"
   ]
  },
  {
   "cell_type": "code",
   "execution_count": 34,
   "id": "78122eda",
   "metadata": {},
   "outputs": [
    {
     "data": {
      "text/plain": [
       "(1206, 1206, 1206, 1206, 1206, 1206, 1206, 1206, 1206)"
      ]
     },
     "execution_count": 34,
     "metadata": {},
     "output_type": "execute_result"
    }
   ],
   "source": [
    "len(Airlines), len(Dept_time), len(Arrival_time), len(Source), len(Destination), len(Duration), len(Stops),len(Price), len(Date)"
   ]
  },
  {
   "cell_type": "code",
   "execution_count": 60,
   "id": "2f2fc416",
   "metadata": {},
   "outputs": [],
   "source": [
    "# Opening Ecomnomy flights from New Dehli to Bombay on 2 Aug 2022"
   ]
  },
  {
   "cell_type": "code",
   "execution_count": 35,
   "id": "b5b7a2a4",
   "metadata": {},
   "outputs": [
    {
     "name": "stderr",
     "output_type": "stream",
     "text": [
      "<ipython-input-35-0d3d8fa01617>:1: DeprecationWarning: find_elements_by_xpath is deprecated. Please use find_elements(by=By.XPATH, value=xpath) instead\n",
      "  flights=driver.find_elements_by_xpath('//div[@class=\"flight-det table full-width clearfix\"]')\n"
     ]
    },
    {
     "data": {
      "text/plain": [
       "159"
      ]
     },
     "execution_count": 35,
     "metadata": {},
     "output_type": "execute_result"
    }
   ],
   "source": [
    "flights=driver.find_elements_by_xpath('//div[@class=\"flight-det table full-width clearfix\"]')\n",
    "len(flights)"
   ]
  },
  {
   "cell_type": "code",
   "execution_count": 36,
   "id": "12494796",
   "metadata": {},
   "outputs": [
    {
     "name": "stderr",
     "output_type": "stream",
     "text": [
      "<ipython-input-36-bb9a819e7382>:1: DeprecationWarning: find_elements_by_xpath is deprecated. Please use find_elements(by=By.XPATH, value=xpath) instead\n",
      "  airlines = driver.find_elements_by_xpath(\"//div[@class='fs-13 airline-name no-pad col-8']/span\")\n",
      "<ipython-input-36-bb9a819e7382>:7: DeprecationWarning: find_elements_by_xpath is deprecated. Please use find_elements(by=By.XPATH, value=xpath) instead\n",
      "  aeroplanes = driver.find_elements_by_xpath('//p[@class=\"normal fs-11 font-lightestgrey no-wrap fl-no\"]/span')\n",
      "100%|████████████████████████████████████████████████████████████████████████████████| 159/159 [00:02<00:00, 76.80it/s]\n",
      "<ipython-input-36-bb9a819e7382>:13: DeprecationWarning: find_elements_by_xpath is deprecated. Please use find_elements(by=By.XPATH, value=xpath) instead\n",
      "  dept_times = driver.find_elements_by_xpath('//div[@class=\"i-b pr\"]')\n",
      "100%|████████████████████████████████████████████████████████████████████████████████| 159/159 [00:02<00:00, 69.41it/s]\n",
      "<ipython-input-36-bb9a819e7382>:19: DeprecationWarning: find_elements_by_xpath is deprecated. Please use find_elements(by=By.XPATH, value=xpath) instead\n",
      "  arrival = driver.find_elements_by_xpath('//p[@class=\"bold fs-15 mb-2 pr time\"]')\n",
      "100%|████████████████████████████████████████████████████████████████████████████████| 159/159 [00:02<00:00, 75.51it/s]\n",
      "<ipython-input-36-bb9a819e7382>:25: DeprecationWarning: find_elements_by_xpath is deprecated. Please use find_elements(by=By.XPATH, value=xpath) instead\n",
      "  source = driver.find_elements_by_xpath(\"//div[@class='i-b col-4 no-wrap text-right dtime col-3']/p\")\n",
      "100%|████████████████████████████████████████████████████████████████████████████████| 159/159 [00:02<00:00, 74.62it/s]\n",
      "<ipython-input-36-bb9a819e7382>:31: DeprecationWarning: find_elements_by_xpath is deprecated. Please use find_elements(by=By.XPATH, value=xpath) instead\n",
      "  destination = driver.find_elements_by_xpath('//div[@class=\"i-b pdd-0 text-left atime col-5\"]/p[2]')\n",
      "100%|████████████████████████████████████████████████████████████████████████████████| 159/159 [00:02<00:00, 71.61it/s]\n",
      "<ipython-input-36-bb9a819e7382>:37: DeprecationWarning: find_elements_by_xpath is deprecated. Please use find_elements(by=By.XPATH, value=xpath) instead\n",
      "  duration = driver.find_elements_by_xpath('//div[@class=\"stop-cont pl-13\"]/p')\n",
      "100%|████████████████████████████████████████████████████████████████████████████████| 159/159 [00:02<00:00, 68.37it/s]\n",
      "<ipython-input-36-bb9a819e7382>:43: DeprecationWarning: find_elements_by_xpath is deprecated. Please use find_elements(by=By.XPATH, value=xpath) instead\n",
      "  stop = driver.find_elements_by_xpath(\"//div[@class='stop-cont pl-13']/div/span\")\n",
      "100%|████████████████████████████████████████████████████████████████████████████████| 159/159 [00:02<00:00, 72.73it/s]\n",
      "<ipython-input-36-bb9a819e7382>:50: DeprecationWarning: find_elements_by_xpath is deprecated. Please use find_elements(by=By.XPATH, value=xpath) instead\n",
      "  price = driver.find_elements_by_xpath('//div[@class=\"i-b tipsy fare-summary-tooltip fs-18\"]')\n",
      "100%|████████████████████████████████████████████████████████████████████████████████| 159/159 [00:02<00:00, 65.96it/s]\n",
      "<ipython-input-36-bb9a819e7382>:58: DeprecationWarning: find_elements_by_xpath is deprecated. Please use find_elements(by=By.XPATH, value=xpath) instead\n",
      "  Button = driver.find_elements_by_xpath('//div[@class=\"link-color fs-12 cursor-pointer\"]/span')\n",
      "<ipython-input-36-bb9a819e7382>:62: DeprecationWarning: find_element_by_xpath is deprecated. Please use find_element(by=By.XPATH, value=xpath) instead\n",
      "  date = driver.find_element_by_xpath('//div[@class=\"bold fs-12 mb-5\"]')\n",
      "100%|████████████████████████████████████████████████████████████████████████████████████████| 159/159 [00:00<?, ?it/s]\n"
     ]
    }
   ],
   "source": [
    "airlines = driver.find_elements_by_xpath(\"//div[@class='fs-13 airline-name no-pad col-8']/span\")\n",
    "for i in airlines:\n",
    "    Airlines.append(i.text.replace(\"\\n\",\" \"))\n",
    "else :\n",
    "    pass\n",
    "\n",
    "aeroplanes = driver.find_elements_by_xpath('//p[@class=\"normal fs-11 font-lightestgrey no-wrap fl-no\"]/span')\n",
    "for i in tqdm(aeroplanes):\n",
    "    Aeroplane.append(i.text) \n",
    "else:\n",
    "    pass\n",
    "\n",
    "dept_times = driver.find_elements_by_xpath('//div[@class=\"i-b pr\"]')\n",
    "for i in tqdm(dept_times):\n",
    "    Dept_time.append(i.text)\n",
    "else :\n",
    "    pass\n",
    "\n",
    "arrival = driver.find_elements_by_xpath('//p[@class=\"bold fs-15 mb-2 pr time\"]')\n",
    "for i in tqdm(arrival):\n",
    "    Arrival_time.append(i.text)\n",
    "else :\n",
    "    pass\n",
    "\n",
    "source = driver.find_elements_by_xpath(\"//div[@class='i-b col-4 no-wrap text-right dtime col-3']/p\")\n",
    "for i in tqdm(source):\n",
    "    Source.append(i.text)\n",
    "else :\n",
    "    pass\n",
    "\n",
    "destination = driver.find_elements_by_xpath('//div[@class=\"i-b pdd-0 text-left atime col-5\"]/p[2]')\n",
    "for i in tqdm(destination):\n",
    "    Destination.append(i.text)\n",
    "else:\n",
    "    pass\n",
    "\n",
    "duration = driver.find_elements_by_xpath('//div[@class=\"stop-cont pl-13\"]/p')\n",
    "for i in tqdm(duration):\n",
    "    Duration.append(i.text)\n",
    "else:\n",
    "    pass\n",
    "\n",
    "stop = driver.find_elements_by_xpath(\"//div[@class='stop-cont pl-13']/div/span\")\n",
    "for i in tqdm(stop):\n",
    "    Stops.append(i.text)\n",
    "else:\n",
    "    pass\n",
    "\n",
    "count = 0\n",
    "price = driver.find_elements_by_xpath('//div[@class=\"i-b tipsy fare-summary-tooltip fs-18\"]')\n",
    "for i in tqdm(price):\n",
    "    Price.append(i.text.replace(',',''))\n",
    "    count = count +1\n",
    "else:\n",
    "    count = count +1\n",
    "    pass\n",
    "\n",
    "Button = driver.find_elements_by_xpath('//div[@class=\"link-color fs-12 cursor-pointer\"]/span')\n",
    "driver.execute_script(\"arguments[0].click();\", WebDriverWait(driver, 20).until(EC.element_to_be_clickable((By.XPATH,'//div[@class=\"link-color fs-12 cursor-pointer\"]/span'))))\n",
    "time.sleep(1)\n",
    "\n",
    "date = driver.find_element_by_xpath('//div[@class=\"bold fs-12 mb-5\"]')\n",
    "a = date.text\n",
    "for i in tqdm(range(count-1)):\n",
    "    Date.append(a)\n",
    "else:\n",
    "    pass"
   ]
  },
  {
   "cell_type": "code",
   "execution_count": 37,
   "id": "e5747ad6",
   "metadata": {},
   "outputs": [
    {
     "data": {
      "text/plain": [
       "(1365, 1365, 1365, 1365, 1365, 1365, 1365, 1365, 1365)"
      ]
     },
     "execution_count": 37,
     "metadata": {},
     "output_type": "execute_result"
    }
   ],
   "source": [
    "len(Airlines), len(Dept_time), len(Arrival_time), len(Source), len(Destination), len(Duration), len(Stops),len(Price), len(Date)"
   ]
  },
  {
   "cell_type": "code",
   "execution_count": 64,
   "id": "63465c05",
   "metadata": {},
   "outputs": [],
   "source": [
    "# Opening Ecomnomy flights from New Dehli to Bombay on 3 Aug 2022"
   ]
  },
  {
   "cell_type": "code",
   "execution_count": 38,
   "id": "1410c09d",
   "metadata": {},
   "outputs": [
    {
     "name": "stderr",
     "output_type": "stream",
     "text": [
      "<ipython-input-38-0d3d8fa01617>:1: DeprecationWarning: find_elements_by_xpath is deprecated. Please use find_elements(by=By.XPATH, value=xpath) instead\n",
      "  flights=driver.find_elements_by_xpath('//div[@class=\"flight-det table full-width clearfix\"]')\n"
     ]
    },
    {
     "data": {
      "text/plain": [
       "150"
      ]
     },
     "execution_count": 38,
     "metadata": {},
     "output_type": "execute_result"
    }
   ],
   "source": [
    "flights=driver.find_elements_by_xpath('//div[@class=\"flight-det table full-width clearfix\"]')\n",
    "len(flights)"
   ]
  },
  {
   "cell_type": "code",
   "execution_count": 39,
   "id": "a0ef604a",
   "metadata": {},
   "outputs": [
    {
     "name": "stderr",
     "output_type": "stream",
     "text": [
      "<ipython-input-39-bb9a819e7382>:1: DeprecationWarning: find_elements_by_xpath is deprecated. Please use find_elements(by=By.XPATH, value=xpath) instead\n",
      "  airlines = driver.find_elements_by_xpath(\"//div[@class='fs-13 airline-name no-pad col-8']/span\")\n",
      "<ipython-input-39-bb9a819e7382>:7: DeprecationWarning: find_elements_by_xpath is deprecated. Please use find_elements(by=By.XPATH, value=xpath) instead\n",
      "  aeroplanes = driver.find_elements_by_xpath('//p[@class=\"normal fs-11 font-lightestgrey no-wrap fl-no\"]/span')\n",
      "100%|████████████████████████████████████████████████████████████████████████████████| 150/150 [00:01<00:00, 82.54it/s]\n",
      "<ipython-input-39-bb9a819e7382>:13: DeprecationWarning: find_elements_by_xpath is deprecated. Please use find_elements(by=By.XPATH, value=xpath) instead\n",
      "  dept_times = driver.find_elements_by_xpath('//div[@class=\"i-b pr\"]')\n",
      "100%|████████████████████████████████████████████████████████████████████████████████| 150/150 [00:02<00:00, 73.45it/s]\n",
      "<ipython-input-39-bb9a819e7382>:19: DeprecationWarning: find_elements_by_xpath is deprecated. Please use find_elements(by=By.XPATH, value=xpath) instead\n",
      "  arrival = driver.find_elements_by_xpath('//p[@class=\"bold fs-15 mb-2 pr time\"]')\n",
      "100%|████████████████████████████████████████████████████████████████████████████████| 150/150 [00:02<00:00, 72.12it/s]\n",
      "<ipython-input-39-bb9a819e7382>:25: DeprecationWarning: find_elements_by_xpath is deprecated. Please use find_elements(by=By.XPATH, value=xpath) instead\n",
      "  source = driver.find_elements_by_xpath(\"//div[@class='i-b col-4 no-wrap text-right dtime col-3']/p\")\n",
      "100%|████████████████████████████████████████████████████████████████████████████████| 150/150 [00:01<00:00, 75.07it/s]\n",
      "<ipython-input-39-bb9a819e7382>:31: DeprecationWarning: find_elements_by_xpath is deprecated. Please use find_elements(by=By.XPATH, value=xpath) instead\n",
      "  destination = driver.find_elements_by_xpath('//div[@class=\"i-b pdd-0 text-left atime col-5\"]/p[2]')\n",
      "100%|████████████████████████████████████████████████████████████████████████████████| 150/150 [00:02<00:00, 66.42it/s]\n",
      "<ipython-input-39-bb9a819e7382>:37: DeprecationWarning: find_elements_by_xpath is deprecated. Please use find_elements(by=By.XPATH, value=xpath) instead\n",
      "  duration = driver.find_elements_by_xpath('//div[@class=\"stop-cont pl-13\"]/p')\n",
      "100%|████████████████████████████████████████████████████████████████████████████████| 150/150 [00:02<00:00, 63.97it/s]\n",
      "<ipython-input-39-bb9a819e7382>:43: DeprecationWarning: find_elements_by_xpath is deprecated. Please use find_elements(by=By.XPATH, value=xpath) instead\n",
      "  stop = driver.find_elements_by_xpath(\"//div[@class='stop-cont pl-13']/div/span\")\n",
      "100%|████████████████████████████████████████████████████████████████████████████████| 150/150 [00:02<00:00, 71.73it/s]\n",
      "<ipython-input-39-bb9a819e7382>:50: DeprecationWarning: find_elements_by_xpath is deprecated. Please use find_elements(by=By.XPATH, value=xpath) instead\n",
      "  price = driver.find_elements_by_xpath('//div[@class=\"i-b tipsy fare-summary-tooltip fs-18\"]')\n",
      "100%|████████████████████████████████████████████████████████████████████████████████| 150/150 [00:02<00:00, 63.01it/s]\n",
      "<ipython-input-39-bb9a819e7382>:58: DeprecationWarning: find_elements_by_xpath is deprecated. Please use find_elements(by=By.XPATH, value=xpath) instead\n",
      "  Button = driver.find_elements_by_xpath('//div[@class=\"link-color fs-12 cursor-pointer\"]/span')\n",
      "<ipython-input-39-bb9a819e7382>:62: DeprecationWarning: find_element_by_xpath is deprecated. Please use find_element(by=By.XPATH, value=xpath) instead\n",
      "  date = driver.find_element_by_xpath('//div[@class=\"bold fs-12 mb-5\"]')\n",
      "100%|████████████████████████████████████████████████████████████████████████████████████████| 150/150 [00:00<?, ?it/s]\n"
     ]
    }
   ],
   "source": [
    "airlines = driver.find_elements_by_xpath(\"//div[@class='fs-13 airline-name no-pad col-8']/span\")\n",
    "for i in airlines:\n",
    "    Airlines.append(i.text.replace(\"\\n\",\" \"))\n",
    "else :\n",
    "    pass\n",
    "\n",
    "aeroplanes = driver.find_elements_by_xpath('//p[@class=\"normal fs-11 font-lightestgrey no-wrap fl-no\"]/span')\n",
    "for i in tqdm(aeroplanes):\n",
    "    Aeroplane.append(i.text) \n",
    "else:\n",
    "    pass\n",
    "\n",
    "dept_times = driver.find_elements_by_xpath('//div[@class=\"i-b pr\"]')\n",
    "for i in tqdm(dept_times):\n",
    "    Dept_time.append(i.text)\n",
    "else :\n",
    "    pass\n",
    "\n",
    "arrival = driver.find_elements_by_xpath('//p[@class=\"bold fs-15 mb-2 pr time\"]')\n",
    "for i in tqdm(arrival):\n",
    "    Arrival_time.append(i.text)\n",
    "else :\n",
    "    pass\n",
    "\n",
    "source = driver.find_elements_by_xpath(\"//div[@class='i-b col-4 no-wrap text-right dtime col-3']/p\")\n",
    "for i in tqdm(source):\n",
    "    Source.append(i.text)\n",
    "else :\n",
    "    pass\n",
    "\n",
    "destination = driver.find_elements_by_xpath('//div[@class=\"i-b pdd-0 text-left atime col-5\"]/p[2]')\n",
    "for i in tqdm(destination):\n",
    "    Destination.append(i.text)\n",
    "else:\n",
    "    pass\n",
    "\n",
    "duration = driver.find_elements_by_xpath('//div[@class=\"stop-cont pl-13\"]/p')\n",
    "for i in tqdm(duration):\n",
    "    Duration.append(i.text)\n",
    "else:\n",
    "    pass\n",
    "\n",
    "stop = driver.find_elements_by_xpath(\"//div[@class='stop-cont pl-13']/div/span\")\n",
    "for i in tqdm(stop):\n",
    "    Stops.append(i.text)\n",
    "else:\n",
    "    pass\n",
    "\n",
    "count = 0\n",
    "price = driver.find_elements_by_xpath('//div[@class=\"i-b tipsy fare-summary-tooltip fs-18\"]')\n",
    "for i in tqdm(price):\n",
    "    Price.append(i.text.replace(',',''))\n",
    "    count = count +1\n",
    "else:\n",
    "    count = count +1\n",
    "    pass\n",
    "\n",
    "Button = driver.find_elements_by_xpath('//div[@class=\"link-color fs-12 cursor-pointer\"]/span')\n",
    "driver.execute_script(\"arguments[0].click();\", WebDriverWait(driver, 20).until(EC.element_to_be_clickable((By.XPATH,'//div[@class=\"link-color fs-12 cursor-pointer\"]/span'))))\n",
    "time.sleep(1)\n",
    "\n",
    "date = driver.find_element_by_xpath('//div[@class=\"bold fs-12 mb-5\"]')\n",
    "a = date.text\n",
    "for i in tqdm(range(count-1)):\n",
    "    Date.append(a)\n",
    "else:\n",
    "    pass"
   ]
  },
  {
   "cell_type": "code",
   "execution_count": 40,
   "id": "42db9c1c",
   "metadata": {},
   "outputs": [
    {
     "data": {
      "text/plain": [
       "(1515, 1515, 1515, 1515, 1515, 1515, 1515, 1515, 1515)"
      ]
     },
     "execution_count": 40,
     "metadata": {},
     "output_type": "execute_result"
    }
   ],
   "source": [
    "len(Airlines), len(Dept_time), len(Arrival_time), len(Source), len(Destination), len(Duration), len(Stops),len(Price), len(Date)"
   ]
  },
  {
   "cell_type": "markdown",
   "id": "780174fe",
   "metadata": {},
   "source": [
    "# Extracting Premium Ecomony flights from New Dehli to Bombay"
   ]
  },
  {
   "cell_type": "code",
   "execution_count": 69,
   "id": "fb85e2df",
   "metadata": {},
   "outputs": [],
   "source": [
    "# Opening Premium Ecomony flights from New Dehli to Bombay on 24 July 2022"
   ]
  },
  {
   "cell_type": "code",
   "execution_count": 41,
   "id": "13539eec",
   "metadata": {},
   "outputs": [
    {
     "name": "stderr",
     "output_type": "stream",
     "text": [
      "<ipython-input-41-4508968ad722>:1: DeprecationWarning: executable_path has been deprecated, please pass in a Service object\n",
      "  driver = webdriver.Chrome(r\"C:\\Users\\Administrator\\Downloads\\chromedriver_win32 (1)\\chromedriver.exe\")\n"
     ]
    }
   ],
   "source": [
    "driver = webdriver.Chrome(r\"C:\\Users\\Administrator\\Downloads\\chromedriver_win32 (1)\\chromedriver.exe\")"
   ]
  },
  {
   "cell_type": "code",
   "execution_count": 85,
   "id": "1095631e",
   "metadata": {},
   "outputs": [],
   "source": [
    "url = \"https://www.yatra.com/\"\n",
    "driver.get(url)\n",
    "time.sleep(2)"
   ]
  },
  {
   "cell_type": "code",
   "execution_count": 42,
   "id": "b739bdc5",
   "metadata": {},
   "outputs": [],
   "source": [
    "url = \"https://flight.yatra.com/air-search-ui/dom2/trigger?type=O&viewName=normal&flexi=0&noOfSegments=1&origin=DEL&originCountry=IN&destination=BOM&destinationCountry=IN&flight_depart_date=24%2F07%2F2022&ADT=1&CHD=0&INF=0&class=Special&source=fresco-home&unqvaldesktop=628081966932\"\n",
    "driver.get(url)\n",
    "time.sleep(2)"
   ]
  },
  {
   "cell_type": "code",
   "execution_count": 43,
   "id": "f1b13d48",
   "metadata": {},
   "outputs": [
    {
     "name": "stderr",
     "output_type": "stream",
     "text": [
      "<ipython-input-43-0d3d8fa01617>:1: DeprecationWarning: find_elements_by_xpath is deprecated. Please use find_elements(by=By.XPATH, value=xpath) instead\n",
      "  flights=driver.find_elements_by_xpath('//div[@class=\"flight-det table full-width clearfix\"]')\n"
     ]
    },
    {
     "data": {
      "text/plain": [
       "28"
      ]
     },
     "execution_count": 43,
     "metadata": {},
     "output_type": "execute_result"
    }
   ],
   "source": [
    "flights=driver.find_elements_by_xpath('//div[@class=\"flight-det table full-width clearfix\"]')\n",
    "len(flights)"
   ]
  },
  {
   "cell_type": "code",
   "execution_count": 44,
   "id": "b9279630",
   "metadata": {},
   "outputs": [
    {
     "name": "stderr",
     "output_type": "stream",
     "text": [
      "<ipython-input-44-bb9a819e7382>:1: DeprecationWarning: find_elements_by_xpath is deprecated. Please use find_elements(by=By.XPATH, value=xpath) instead\n",
      "  airlines = driver.find_elements_by_xpath(\"//div[@class='fs-13 airline-name no-pad col-8']/span\")\n",
      "<ipython-input-44-bb9a819e7382>:7: DeprecationWarning: find_elements_by_xpath is deprecated. Please use find_elements(by=By.XPATH, value=xpath) instead\n",
      "  aeroplanes = driver.find_elements_by_xpath('//p[@class=\"normal fs-11 font-lightestgrey no-wrap fl-no\"]/span')\n",
      "100%|██████████████████████████████████████████████████████████████████████████████████| 28/28 [00:00<00:00, 84.72it/s]\n",
      "<ipython-input-44-bb9a819e7382>:13: DeprecationWarning: find_elements_by_xpath is deprecated. Please use find_elements(by=By.XPATH, value=xpath) instead\n",
      "  dept_times = driver.find_elements_by_xpath('//div[@class=\"i-b pr\"]')\n",
      "100%|██████████████████████████████████████████████████████████████████████████████████| 28/28 [00:00<00:00, 84.34it/s]\n",
      "<ipython-input-44-bb9a819e7382>:19: DeprecationWarning: find_elements_by_xpath is deprecated. Please use find_elements(by=By.XPATH, value=xpath) instead\n",
      "  arrival = driver.find_elements_by_xpath('//p[@class=\"bold fs-15 mb-2 pr time\"]')\n",
      "100%|██████████████████████████████████████████████████████████████████████████████████| 28/28 [00:00<00:00, 89.70it/s]\n",
      "<ipython-input-44-bb9a819e7382>:25: DeprecationWarning: find_elements_by_xpath is deprecated. Please use find_elements(by=By.XPATH, value=xpath) instead\n",
      "  source = driver.find_elements_by_xpath(\"//div[@class='i-b col-4 no-wrap text-right dtime col-3']/p\")\n",
      "100%|██████████████████████████████████████████████████████████████████████████████████| 28/28 [00:00<00:00, 89.26it/s]\n",
      "<ipython-input-44-bb9a819e7382>:31: DeprecationWarning: find_elements_by_xpath is deprecated. Please use find_elements(by=By.XPATH, value=xpath) instead\n",
      "  destination = driver.find_elements_by_xpath('//div[@class=\"i-b pdd-0 text-left atime col-5\"]/p[2]')\n",
      "100%|██████████████████████████████████████████████████████████████████████████████████| 28/28 [00:00<00:00, 80.33it/s]\n",
      "<ipython-input-44-bb9a819e7382>:37: DeprecationWarning: find_elements_by_xpath is deprecated. Please use find_elements(by=By.XPATH, value=xpath) instead\n",
      "  duration = driver.find_elements_by_xpath('//div[@class=\"stop-cont pl-13\"]/p')\n",
      "100%|██████████████████████████████████████████████████████████████████████████████████| 28/28 [00:00<00:00, 75.09it/s]\n",
      "<ipython-input-44-bb9a819e7382>:43: DeprecationWarning: find_elements_by_xpath is deprecated. Please use find_elements(by=By.XPATH, value=xpath) instead\n",
      "  stop = driver.find_elements_by_xpath(\"//div[@class='stop-cont pl-13']/div/span\")\n",
      "100%|██████████████████████████████████████████████████████████████████████████████████| 28/28 [00:00<00:00, 81.04it/s]\n",
      "<ipython-input-44-bb9a819e7382>:50: DeprecationWarning: find_elements_by_xpath is deprecated. Please use find_elements(by=By.XPATH, value=xpath) instead\n",
      "  price = driver.find_elements_by_xpath('//div[@class=\"i-b tipsy fare-summary-tooltip fs-18\"]')\n",
      "100%|██████████████████████████████████████████████████████████████████████████████████| 28/28 [00:00<00:00, 69.99it/s]\n",
      "<ipython-input-44-bb9a819e7382>:58: DeprecationWarning: find_elements_by_xpath is deprecated. Please use find_elements(by=By.XPATH, value=xpath) instead\n",
      "  Button = driver.find_elements_by_xpath('//div[@class=\"link-color fs-12 cursor-pointer\"]/span')\n",
      "<ipython-input-44-bb9a819e7382>:62: DeprecationWarning: find_element_by_xpath is deprecated. Please use find_element(by=By.XPATH, value=xpath) instead\n",
      "  date = driver.find_element_by_xpath('//div[@class=\"bold fs-12 mb-5\"]')\n",
      "100%|██████████████████████████████████████████████████████████████████████████████████████████| 28/28 [00:00<?, ?it/s]\n"
     ]
    }
   ],
   "source": [
    "airlines = driver.find_elements_by_xpath(\"//div[@class='fs-13 airline-name no-pad col-8']/span\")\n",
    "for i in airlines:\n",
    "    Airlines.append(i.text.replace(\"\\n\",\" \"))\n",
    "else :\n",
    "    pass\n",
    "\n",
    "aeroplanes = driver.find_elements_by_xpath('//p[@class=\"normal fs-11 font-lightestgrey no-wrap fl-no\"]/span')\n",
    "for i in tqdm(aeroplanes):\n",
    "    Aeroplane.append(i.text) \n",
    "else:\n",
    "    pass\n",
    "\n",
    "dept_times = driver.find_elements_by_xpath('//div[@class=\"i-b pr\"]')\n",
    "for i in tqdm(dept_times):\n",
    "    Dept_time.append(i.text)\n",
    "else :\n",
    "    pass\n",
    "\n",
    "arrival = driver.find_elements_by_xpath('//p[@class=\"bold fs-15 mb-2 pr time\"]')\n",
    "for i in tqdm(arrival):\n",
    "    Arrival_time.append(i.text)\n",
    "else :\n",
    "    pass\n",
    "\n",
    "source = driver.find_elements_by_xpath(\"//div[@class='i-b col-4 no-wrap text-right dtime col-3']/p\")\n",
    "for i in tqdm(source):\n",
    "    Source.append(i.text)\n",
    "else :\n",
    "    pass\n",
    "\n",
    "destination = driver.find_elements_by_xpath('//div[@class=\"i-b pdd-0 text-left atime col-5\"]/p[2]')\n",
    "for i in tqdm(destination):\n",
    "    Destination.append(i.text)\n",
    "else:\n",
    "    pass\n",
    "\n",
    "duration = driver.find_elements_by_xpath('//div[@class=\"stop-cont pl-13\"]/p')\n",
    "for i in tqdm(duration):\n",
    "    Duration.append(i.text)\n",
    "else:\n",
    "    pass\n",
    "\n",
    "stop = driver.find_elements_by_xpath(\"//div[@class='stop-cont pl-13']/div/span\")\n",
    "for i in tqdm(stop):\n",
    "    Stops.append(i.text)\n",
    "else:\n",
    "    pass\n",
    "\n",
    "count = 0\n",
    "price = driver.find_elements_by_xpath('//div[@class=\"i-b tipsy fare-summary-tooltip fs-18\"]')\n",
    "for i in tqdm(price):\n",
    "    Price.append(i.text.replace(',',''))\n",
    "    count = count +1\n",
    "else:\n",
    "    count = count +1\n",
    "    pass\n",
    "\n",
    "Button = driver.find_elements_by_xpath('//div[@class=\"link-color fs-12 cursor-pointer\"]/span')\n",
    "driver.execute_script(\"arguments[0].click();\", WebDriverWait(driver, 20).until(EC.element_to_be_clickable((By.XPATH,'//div[@class=\"link-color fs-12 cursor-pointer\"]/span'))))\n",
    "time.sleep(1)\n",
    "\n",
    "date = driver.find_element_by_xpath('//div[@class=\"bold fs-12 mb-5\"]')\n",
    "a = date.text\n",
    "for i in tqdm(range(count-1)):\n",
    "    Date.append(a)\n",
    "else:\n",
    "    pass"
   ]
  },
  {
   "cell_type": "code",
   "execution_count": 45,
   "id": "006120ac",
   "metadata": {},
   "outputs": [
    {
     "data": {
      "text/plain": [
       "(1543, 1543, 1543, 1543, 1543, 1543, 1543, 1543, 1543)"
      ]
     },
     "execution_count": 45,
     "metadata": {},
     "output_type": "execute_result"
    }
   ],
   "source": [
    "len(Airlines), len(Dept_time), len(Arrival_time), len(Source), len(Destination), len(Duration), len(Stops),len(Price), len(Date)"
   ]
  },
  {
   "cell_type": "code",
   "execution_count": 44,
   "id": "3933ecef",
   "metadata": {},
   "outputs": [],
   "source": [
    "# Opening Premium Ecomony flights from New Dehli to Bombay on 25 July 2022"
   ]
  },
  {
   "cell_type": "code",
   "execution_count": 46,
   "id": "c9274d18",
   "metadata": {},
   "outputs": [
    {
     "name": "stderr",
     "output_type": "stream",
     "text": [
      "<ipython-input-46-0d3d8fa01617>:1: DeprecationWarning: find_elements_by_xpath is deprecated. Please use find_elements(by=By.XPATH, value=xpath) instead\n",
      "  flights=driver.find_elements_by_xpath('//div[@class=\"flight-det table full-width clearfix\"]')\n"
     ]
    },
    {
     "data": {
      "text/plain": [
       "59"
      ]
     },
     "execution_count": 46,
     "metadata": {},
     "output_type": "execute_result"
    }
   ],
   "source": [
    "flights=driver.find_elements_by_xpath('//div[@class=\"flight-det table full-width clearfix\"]')\n",
    "len(flights)"
   ]
  },
  {
   "cell_type": "code",
   "execution_count": 47,
   "id": "2d118f8a",
   "metadata": {},
   "outputs": [
    {
     "name": "stderr",
     "output_type": "stream",
     "text": [
      "<ipython-input-47-bb9a819e7382>:1: DeprecationWarning: find_elements_by_xpath is deprecated. Please use find_elements(by=By.XPATH, value=xpath) instead\n",
      "  airlines = driver.find_elements_by_xpath(\"//div[@class='fs-13 airline-name no-pad col-8']/span\")\n",
      "<ipython-input-47-bb9a819e7382>:7: DeprecationWarning: find_elements_by_xpath is deprecated. Please use find_elements(by=By.XPATH, value=xpath) instead\n",
      "  aeroplanes = driver.find_elements_by_xpath('//p[@class=\"normal fs-11 font-lightestgrey no-wrap fl-no\"]/span')\n",
      "100%|██████████████████████████████████████████████████████████████████████████████████| 59/59 [00:00<00:00, 83.72it/s]\n",
      "<ipython-input-47-bb9a819e7382>:13: DeprecationWarning: find_elements_by_xpath is deprecated. Please use find_elements(by=By.XPATH, value=xpath) instead\n",
      "  dept_times = driver.find_elements_by_xpath('//div[@class=\"i-b pr\"]')\n",
      "100%|██████████████████████████████████████████████████████████████████████████████████| 59/59 [00:00<00:00, 85.67it/s]\n",
      "<ipython-input-47-bb9a819e7382>:19: DeprecationWarning: find_elements_by_xpath is deprecated. Please use find_elements(by=By.XPATH, value=xpath) instead\n",
      "  arrival = driver.find_elements_by_xpath('//p[@class=\"bold fs-15 mb-2 pr time\"]')\n",
      "100%|██████████████████████████████████████████████████████████████████████████████████| 59/59 [00:00<00:00, 65.90it/s]\n",
      "<ipython-input-47-bb9a819e7382>:25: DeprecationWarning: find_elements_by_xpath is deprecated. Please use find_elements(by=By.XPATH, value=xpath) instead\n",
      "  source = driver.find_elements_by_xpath(\"//div[@class='i-b col-4 no-wrap text-right dtime col-3']/p\")\n",
      "100%|██████████████████████████████████████████████████████████████████████████████████| 59/59 [00:00<00:00, 71.02it/s]\n",
      "<ipython-input-47-bb9a819e7382>:31: DeprecationWarning: find_elements_by_xpath is deprecated. Please use find_elements(by=By.XPATH, value=xpath) instead\n",
      "  destination = driver.find_elements_by_xpath('//div[@class=\"i-b pdd-0 text-left atime col-5\"]/p[2]')\n",
      "100%|██████████████████████████████████████████████████████████████████████████████████| 59/59 [00:00<00:00, 80.56it/s]\n",
      "<ipython-input-47-bb9a819e7382>:37: DeprecationWarning: find_elements_by_xpath is deprecated. Please use find_elements(by=By.XPATH, value=xpath) instead\n",
      "  duration = driver.find_elements_by_xpath('//div[@class=\"stop-cont pl-13\"]/p')\n",
      "100%|██████████████████████████████████████████████████████████████████████████████████| 59/59 [00:00<00:00, 80.70it/s]\n",
      "<ipython-input-47-bb9a819e7382>:43: DeprecationWarning: find_elements_by_xpath is deprecated. Please use find_elements(by=By.XPATH, value=xpath) instead\n",
      "  stop = driver.find_elements_by_xpath(\"//div[@class='stop-cont pl-13']/div/span\")\n",
      "100%|██████████████████████████████████████████████████████████████████████████████████| 59/59 [00:00<00:00, 68.86it/s]\n",
      "<ipython-input-47-bb9a819e7382>:50: DeprecationWarning: find_elements_by_xpath is deprecated. Please use find_elements(by=By.XPATH, value=xpath) instead\n",
      "  price = driver.find_elements_by_xpath('//div[@class=\"i-b tipsy fare-summary-tooltip fs-18\"]')\n",
      "100%|██████████████████████████████████████████████████████████████████████████████████| 59/59 [00:01<00:00, 57.56it/s]\n",
      "<ipython-input-47-bb9a819e7382>:58: DeprecationWarning: find_elements_by_xpath is deprecated. Please use find_elements(by=By.XPATH, value=xpath) instead\n",
      "  Button = driver.find_elements_by_xpath('//div[@class=\"link-color fs-12 cursor-pointer\"]/span')\n",
      "<ipython-input-47-bb9a819e7382>:62: DeprecationWarning: find_element_by_xpath is deprecated. Please use find_element(by=By.XPATH, value=xpath) instead\n",
      "  date = driver.find_element_by_xpath('//div[@class=\"bold fs-12 mb-5\"]')\n",
      "100%|██████████████████████████████████████████████████████████████████████████████████████████| 59/59 [00:00<?, ?it/s]\n"
     ]
    }
   ],
   "source": [
    "airlines = driver.find_elements_by_xpath(\"//div[@class='fs-13 airline-name no-pad col-8']/span\")\n",
    "for i in airlines:\n",
    "    Airlines.append(i.text.replace(\"\\n\",\" \"))\n",
    "else :\n",
    "    pass\n",
    "\n",
    "aeroplanes = driver.find_elements_by_xpath('//p[@class=\"normal fs-11 font-lightestgrey no-wrap fl-no\"]/span')\n",
    "for i in tqdm(aeroplanes):\n",
    "    Aeroplane.append(i.text) \n",
    "else:\n",
    "    pass\n",
    "\n",
    "dept_times = driver.find_elements_by_xpath('//div[@class=\"i-b pr\"]')\n",
    "for i in tqdm(dept_times):\n",
    "    Dept_time.append(i.text)\n",
    "else :\n",
    "    pass\n",
    "\n",
    "arrival = driver.find_elements_by_xpath('//p[@class=\"bold fs-15 mb-2 pr time\"]')\n",
    "for i in tqdm(arrival):\n",
    "    Arrival_time.append(i.text)\n",
    "else :\n",
    "    pass\n",
    "\n",
    "source = driver.find_elements_by_xpath(\"//div[@class='i-b col-4 no-wrap text-right dtime col-3']/p\")\n",
    "for i in tqdm(source):\n",
    "    Source.append(i.text)\n",
    "else :\n",
    "    pass\n",
    "\n",
    "destination = driver.find_elements_by_xpath('//div[@class=\"i-b pdd-0 text-left atime col-5\"]/p[2]')\n",
    "for i in tqdm(destination):\n",
    "    Destination.append(i.text)\n",
    "else:\n",
    "    pass\n",
    "\n",
    "duration = driver.find_elements_by_xpath('//div[@class=\"stop-cont pl-13\"]/p')\n",
    "for i in tqdm(duration):\n",
    "    Duration.append(i.text)\n",
    "else:\n",
    "    pass\n",
    "\n",
    "stop = driver.find_elements_by_xpath(\"//div[@class='stop-cont pl-13']/div/span\")\n",
    "for i in tqdm(stop):\n",
    "    Stops.append(i.text)\n",
    "else:\n",
    "    pass\n",
    "\n",
    "count = 0\n",
    "price = driver.find_elements_by_xpath('//div[@class=\"i-b tipsy fare-summary-tooltip fs-18\"]')\n",
    "for i in tqdm(price):\n",
    "    Price.append(i.text.replace(',',''))\n",
    "    count = count +1\n",
    "else:\n",
    "    count = count +1\n",
    "    pass\n",
    "\n",
    "Button = driver.find_elements_by_xpath('//div[@class=\"link-color fs-12 cursor-pointer\"]/span')\n",
    "driver.execute_script(\"arguments[0].click();\", WebDriverWait(driver, 20).until(EC.element_to_be_clickable((By.XPATH,'//div[@class=\"link-color fs-12 cursor-pointer\"]/span'))))\n",
    "time.sleep(1)\n",
    "\n",
    "date = driver.find_element_by_xpath('//div[@class=\"bold fs-12 mb-5\"]')\n",
    "a = date.text\n",
    "for i in tqdm(range(count-1)):\n",
    "    Date.append(a)\n",
    "else:\n",
    "    pass"
   ]
  },
  {
   "cell_type": "code",
   "execution_count": 48,
   "id": "99de3362",
   "metadata": {},
   "outputs": [
    {
     "data": {
      "text/plain": [
       "(1602, 1602, 1602, 1602, 1602, 1602, 1602, 1602, 1602)"
      ]
     },
     "execution_count": 48,
     "metadata": {},
     "output_type": "execute_result"
    }
   ],
   "source": [
    "len(Airlines), len(Dept_time), len(Arrival_time), len(Source), len(Destination), len(Duration), len(Stops),len(Price), len(Date)"
   ]
  },
  {
   "cell_type": "code",
   "execution_count": 48,
   "id": "6e156c9a",
   "metadata": {},
   "outputs": [],
   "source": [
    "# Opening Premium Ecomony flights from New Dehli to Bombay on 26 July 2022"
   ]
  },
  {
   "cell_type": "code",
   "execution_count": 49,
   "id": "b75dc019",
   "metadata": {},
   "outputs": [
    {
     "name": "stderr",
     "output_type": "stream",
     "text": [
      "<ipython-input-49-0d3d8fa01617>:1: DeprecationWarning: find_elements_by_xpath is deprecated. Please use find_elements(by=By.XPATH, value=xpath) instead\n",
      "  flights=driver.find_elements_by_xpath('//div[@class=\"flight-det table full-width clearfix\"]')\n"
     ]
    },
    {
     "data": {
      "text/plain": [
       "60"
      ]
     },
     "execution_count": 49,
     "metadata": {},
     "output_type": "execute_result"
    }
   ],
   "source": [
    "flights=driver.find_elements_by_xpath('//div[@class=\"flight-det table full-width clearfix\"]')\n",
    "len(flights)"
   ]
  },
  {
   "cell_type": "code",
   "execution_count": 50,
   "id": "90e1ea4b",
   "metadata": {},
   "outputs": [
    {
     "name": "stderr",
     "output_type": "stream",
     "text": [
      "<ipython-input-50-bb9a819e7382>:1: DeprecationWarning: find_elements_by_xpath is deprecated. Please use find_elements(by=By.XPATH, value=xpath) instead\n",
      "  airlines = driver.find_elements_by_xpath(\"//div[@class='fs-13 airline-name no-pad col-8']/span\")\n",
      "<ipython-input-50-bb9a819e7382>:7: DeprecationWarning: find_elements_by_xpath is deprecated. Please use find_elements(by=By.XPATH, value=xpath) instead\n",
      "  aeroplanes = driver.find_elements_by_xpath('//p[@class=\"normal fs-11 font-lightestgrey no-wrap fl-no\"]/span')\n",
      "100%|██████████████████████████████████████████████████████████████████████████████████| 60/60 [00:00<00:00, 81.22it/s]\n",
      "<ipython-input-50-bb9a819e7382>:13: DeprecationWarning: find_elements_by_xpath is deprecated. Please use find_elements(by=By.XPATH, value=xpath) instead\n",
      "  dept_times = driver.find_elements_by_xpath('//div[@class=\"i-b pr\"]')\n",
      "100%|██████████████████████████████████████████████████████████████████████████████████| 60/60 [00:00<00:00, 87.37it/s]\n",
      "<ipython-input-50-bb9a819e7382>:19: DeprecationWarning: find_elements_by_xpath is deprecated. Please use find_elements(by=By.XPATH, value=xpath) instead\n",
      "  arrival = driver.find_elements_by_xpath('//p[@class=\"bold fs-15 mb-2 pr time\"]')\n",
      "100%|██████████████████████████████████████████████████████████████████████████████████| 60/60 [00:00<00:00, 79.96it/s]\n",
      "<ipython-input-50-bb9a819e7382>:25: DeprecationWarning: find_elements_by_xpath is deprecated. Please use find_elements(by=By.XPATH, value=xpath) instead\n",
      "  source = driver.find_elements_by_xpath(\"//div[@class='i-b col-4 no-wrap text-right dtime col-3']/p\")\n",
      "100%|██████████████████████████████████████████████████████████████████████████████████| 60/60 [00:00<00:00, 84.68it/s]\n",
      "<ipython-input-50-bb9a819e7382>:31: DeprecationWarning: find_elements_by_xpath is deprecated. Please use find_elements(by=By.XPATH, value=xpath) instead\n",
      "  destination = driver.find_elements_by_xpath('//div[@class=\"i-b pdd-0 text-left atime col-5\"]/p[2]')\n",
      "100%|██████████████████████████████████████████████████████████████████████████████████| 60/60 [00:00<00:00, 81.09it/s]\n",
      "<ipython-input-50-bb9a819e7382>:37: DeprecationWarning: find_elements_by_xpath is deprecated. Please use find_elements(by=By.XPATH, value=xpath) instead\n",
      "  duration = driver.find_elements_by_xpath('//div[@class=\"stop-cont pl-13\"]/p')\n",
      "100%|██████████████████████████████████████████████████████████████████████████████████| 60/60 [00:00<00:00, 65.63it/s]\n",
      "<ipython-input-50-bb9a819e7382>:43: DeprecationWarning: find_elements_by_xpath is deprecated. Please use find_elements(by=By.XPATH, value=xpath) instead\n",
      "  stop = driver.find_elements_by_xpath(\"//div[@class='stop-cont pl-13']/div/span\")\n",
      "100%|██████████████████████████████████████████████████████████████████████████████████| 60/60 [00:00<00:00, 74.38it/s]\n",
      "<ipython-input-50-bb9a819e7382>:50: DeprecationWarning: find_elements_by_xpath is deprecated. Please use find_elements(by=By.XPATH, value=xpath) instead\n",
      "  price = driver.find_elements_by_xpath('//div[@class=\"i-b tipsy fare-summary-tooltip fs-18\"]')\n",
      "100%|██████████████████████████████████████████████████████████████████████████████████| 60/60 [00:00<00:00, 67.81it/s]\n",
      "<ipython-input-50-bb9a819e7382>:58: DeprecationWarning: find_elements_by_xpath is deprecated. Please use find_elements(by=By.XPATH, value=xpath) instead\n",
      "  Button = driver.find_elements_by_xpath('//div[@class=\"link-color fs-12 cursor-pointer\"]/span')\n",
      "<ipython-input-50-bb9a819e7382>:62: DeprecationWarning: find_element_by_xpath is deprecated. Please use find_element(by=By.XPATH, value=xpath) instead\n",
      "  date = driver.find_element_by_xpath('//div[@class=\"bold fs-12 mb-5\"]')\n",
      "100%|██████████████████████████████████████████████████████████████████████████████████████████| 60/60 [00:00<?, ?it/s]\n"
     ]
    }
   ],
   "source": [
    "airlines = driver.find_elements_by_xpath(\"//div[@class='fs-13 airline-name no-pad col-8']/span\")\n",
    "for i in airlines:\n",
    "    Airlines.append(i.text.replace(\"\\n\",\" \"))\n",
    "else :\n",
    "    pass\n",
    "\n",
    "aeroplanes = driver.find_elements_by_xpath('//p[@class=\"normal fs-11 font-lightestgrey no-wrap fl-no\"]/span')\n",
    "for i in tqdm(aeroplanes):\n",
    "    Aeroplane.append(i.text) \n",
    "else:\n",
    "    pass\n",
    "\n",
    "dept_times = driver.find_elements_by_xpath('//div[@class=\"i-b pr\"]')\n",
    "for i in tqdm(dept_times):\n",
    "    Dept_time.append(i.text)\n",
    "else :\n",
    "    pass\n",
    "\n",
    "arrival = driver.find_elements_by_xpath('//p[@class=\"bold fs-15 mb-2 pr time\"]')\n",
    "for i in tqdm(arrival):\n",
    "    Arrival_time.append(i.text)\n",
    "else :\n",
    "    pass\n",
    "\n",
    "source = driver.find_elements_by_xpath(\"//div[@class='i-b col-4 no-wrap text-right dtime col-3']/p\")\n",
    "for i in tqdm(source):\n",
    "    Source.append(i.text)\n",
    "else :\n",
    "    pass\n",
    "\n",
    "destination = driver.find_elements_by_xpath('//div[@class=\"i-b pdd-0 text-left atime col-5\"]/p[2]')\n",
    "for i in tqdm(destination):\n",
    "    Destination.append(i.text)\n",
    "else:\n",
    "    pass\n",
    "\n",
    "duration = driver.find_elements_by_xpath('//div[@class=\"stop-cont pl-13\"]/p')\n",
    "for i in tqdm(duration):\n",
    "    Duration.append(i.text)\n",
    "else:\n",
    "    pass\n",
    "\n",
    "stop = driver.find_elements_by_xpath(\"//div[@class='stop-cont pl-13']/div/span\")\n",
    "for i in tqdm(stop):\n",
    "    Stops.append(i.text)\n",
    "else:\n",
    "    pass\n",
    "\n",
    "count = 0\n",
    "price = driver.find_elements_by_xpath('//div[@class=\"i-b tipsy fare-summary-tooltip fs-18\"]')\n",
    "for i in tqdm(price):\n",
    "    Price.append(i.text.replace(',',''))\n",
    "    count = count +1\n",
    "else:\n",
    "    count = count +1\n",
    "    pass\n",
    "\n",
    "Button = driver.find_elements_by_xpath('//div[@class=\"link-color fs-12 cursor-pointer\"]/span')\n",
    "driver.execute_script(\"arguments[0].click();\", WebDriverWait(driver, 20).until(EC.element_to_be_clickable((By.XPATH,'//div[@class=\"link-color fs-12 cursor-pointer\"]/span'))))\n",
    "time.sleep(1)\n",
    "\n",
    "date = driver.find_element_by_xpath('//div[@class=\"bold fs-12 mb-5\"]')\n",
    "a = date.text\n",
    "for i in tqdm(range(count-1)):\n",
    "    Date.append(a)\n",
    "else:\n",
    "    pass"
   ]
  },
  {
   "cell_type": "code",
   "execution_count": 51,
   "id": "34febc62",
   "metadata": {},
   "outputs": [
    {
     "data": {
      "text/plain": [
       "(1662, 1662, 1662, 1662, 1662, 1662, 1662, 1662, 1662)"
      ]
     },
     "execution_count": 51,
     "metadata": {},
     "output_type": "execute_result"
    }
   ],
   "source": [
    "len(Airlines), len(Dept_time), len(Arrival_time), len(Source), len(Destination), len(Duration), len(Stops),len(Price), len(Date)"
   ]
  },
  {
   "cell_type": "code",
   "execution_count": 52,
   "id": "6bb29821",
   "metadata": {},
   "outputs": [],
   "source": [
    "# Opening Premium Ecomony flights from New Dehli to Bombay on 27 July 2022"
   ]
  },
  {
   "cell_type": "code",
   "execution_count": 52,
   "id": "254251f8",
   "metadata": {},
   "outputs": [
    {
     "name": "stderr",
     "output_type": "stream",
     "text": [
      "<ipython-input-52-0d3d8fa01617>:1: DeprecationWarning: find_elements_by_xpath is deprecated. Please use find_elements(by=By.XPATH, value=xpath) instead\n",
      "  flights=driver.find_elements_by_xpath('//div[@class=\"flight-det table full-width clearfix\"]')\n"
     ]
    },
    {
     "data": {
      "text/plain": [
       "60"
      ]
     },
     "execution_count": 52,
     "metadata": {},
     "output_type": "execute_result"
    }
   ],
   "source": [
    "flights=driver.find_elements_by_xpath('//div[@class=\"flight-det table full-width clearfix\"]')\n",
    "len(flights)"
   ]
  },
  {
   "cell_type": "code",
   "execution_count": 53,
   "id": "5a8bb1cd",
   "metadata": {},
   "outputs": [
    {
     "name": "stderr",
     "output_type": "stream",
     "text": [
      "<ipython-input-53-bb9a819e7382>:1: DeprecationWarning: find_elements_by_xpath is deprecated. Please use find_elements(by=By.XPATH, value=xpath) instead\n",
      "  airlines = driver.find_elements_by_xpath(\"//div[@class='fs-13 airline-name no-pad col-8']/span\")\n",
      "<ipython-input-53-bb9a819e7382>:7: DeprecationWarning: find_elements_by_xpath is deprecated. Please use find_elements(by=By.XPATH, value=xpath) instead\n",
      "  aeroplanes = driver.find_elements_by_xpath('//p[@class=\"normal fs-11 font-lightestgrey no-wrap fl-no\"]/span')\n",
      "100%|██████████████████████████████████████████████████████████████████████████████████| 60/60 [00:00<00:00, 82.53it/s]\n",
      "<ipython-input-53-bb9a819e7382>:13: DeprecationWarning: find_elements_by_xpath is deprecated. Please use find_elements(by=By.XPATH, value=xpath) instead\n",
      "  dept_times = driver.find_elements_by_xpath('//div[@class=\"i-b pr\"]')\n",
      "100%|██████████████████████████████████████████████████████████████████████████████████| 60/60 [00:00<00:00, 88.49it/s]\n",
      "<ipython-input-53-bb9a819e7382>:19: DeprecationWarning: find_elements_by_xpath is deprecated. Please use find_elements(by=By.XPATH, value=xpath) instead\n",
      "  arrival = driver.find_elements_by_xpath('//p[@class=\"bold fs-15 mb-2 pr time\"]')\n",
      "100%|██████████████████████████████████████████████████████████████████████████████████| 60/60 [00:00<00:00, 79.99it/s]\n",
      "<ipython-input-53-bb9a819e7382>:25: DeprecationWarning: find_elements_by_xpath is deprecated. Please use find_elements(by=By.XPATH, value=xpath) instead\n",
      "  source = driver.find_elements_by_xpath(\"//div[@class='i-b col-4 no-wrap text-right dtime col-3']/p\")\n",
      "100%|██████████████████████████████████████████████████████████████████████████████████| 60/60 [00:00<00:00, 68.83it/s]\n",
      "<ipython-input-53-bb9a819e7382>:31: DeprecationWarning: find_elements_by_xpath is deprecated. Please use find_elements(by=By.XPATH, value=xpath) instead\n",
      "  destination = driver.find_elements_by_xpath('//div[@class=\"i-b pdd-0 text-left atime col-5\"]/p[2]')\n",
      "100%|██████████████████████████████████████████████████████████████████████████████████| 60/60 [00:00<00:00, 74.56it/s]\n",
      "<ipython-input-53-bb9a819e7382>:37: DeprecationWarning: find_elements_by_xpath is deprecated. Please use find_elements(by=By.XPATH, value=xpath) instead\n",
      "  duration = driver.find_elements_by_xpath('//div[@class=\"stop-cont pl-13\"]/p')\n",
      "100%|██████████████████████████████████████████████████████████████████████████████████| 60/60 [00:00<00:00, 72.03it/s]\n",
      "<ipython-input-53-bb9a819e7382>:43: DeprecationWarning: find_elements_by_xpath is deprecated. Please use find_elements(by=By.XPATH, value=xpath) instead\n",
      "  stop = driver.find_elements_by_xpath(\"//div[@class='stop-cont pl-13']/div/span\")\n",
      "100%|██████████████████████████████████████████████████████████████████████████████████| 60/60 [00:00<00:00, 77.50it/s]\n",
      "<ipython-input-53-bb9a819e7382>:50: DeprecationWarning: find_elements_by_xpath is deprecated. Please use find_elements(by=By.XPATH, value=xpath) instead\n",
      "  price = driver.find_elements_by_xpath('//div[@class=\"i-b tipsy fare-summary-tooltip fs-18\"]')\n",
      "100%|██████████████████████████████████████████████████████████████████████████████████| 60/60 [00:00<00:00, 66.51it/s]\n",
      "<ipython-input-53-bb9a819e7382>:58: DeprecationWarning: find_elements_by_xpath is deprecated. Please use find_elements(by=By.XPATH, value=xpath) instead\n",
      "  Button = driver.find_elements_by_xpath('//div[@class=\"link-color fs-12 cursor-pointer\"]/span')\n",
      "<ipython-input-53-bb9a819e7382>:62: DeprecationWarning: find_element_by_xpath is deprecated. Please use find_element(by=By.XPATH, value=xpath) instead\n",
      "  date = driver.find_element_by_xpath('//div[@class=\"bold fs-12 mb-5\"]')\n",
      "100%|██████████████████████████████████████████████████████████████████████████████████████████| 60/60 [00:00<?, ?it/s]\n"
     ]
    }
   ],
   "source": [
    "airlines = driver.find_elements_by_xpath(\"//div[@class='fs-13 airline-name no-pad col-8']/span\")\n",
    "for i in airlines:\n",
    "    Airlines.append(i.text.replace(\"\\n\",\" \"))\n",
    "else :\n",
    "    pass\n",
    "\n",
    "aeroplanes = driver.find_elements_by_xpath('//p[@class=\"normal fs-11 font-lightestgrey no-wrap fl-no\"]/span')\n",
    "for i in tqdm(aeroplanes):\n",
    "    Aeroplane.append(i.text) \n",
    "else:\n",
    "    pass\n",
    "\n",
    "dept_times = driver.find_elements_by_xpath('//div[@class=\"i-b pr\"]')\n",
    "for i in tqdm(dept_times):\n",
    "    Dept_time.append(i.text)\n",
    "else :\n",
    "    pass\n",
    "\n",
    "arrival = driver.find_elements_by_xpath('//p[@class=\"bold fs-15 mb-2 pr time\"]')\n",
    "for i in tqdm(arrival):\n",
    "    Arrival_time.append(i.text)\n",
    "else :\n",
    "    pass\n",
    "\n",
    "source = driver.find_elements_by_xpath(\"//div[@class='i-b col-4 no-wrap text-right dtime col-3']/p\")\n",
    "for i in tqdm(source):\n",
    "    Source.append(i.text)\n",
    "else :\n",
    "    pass\n",
    "\n",
    "destination = driver.find_elements_by_xpath('//div[@class=\"i-b pdd-0 text-left atime col-5\"]/p[2]')\n",
    "for i in tqdm(destination):\n",
    "    Destination.append(i.text)\n",
    "else:\n",
    "    pass\n",
    "\n",
    "duration = driver.find_elements_by_xpath('//div[@class=\"stop-cont pl-13\"]/p')\n",
    "for i in tqdm(duration):\n",
    "    Duration.append(i.text)\n",
    "else:\n",
    "    pass\n",
    "\n",
    "stop = driver.find_elements_by_xpath(\"//div[@class='stop-cont pl-13']/div/span\")\n",
    "for i in tqdm(stop):\n",
    "    Stops.append(i.text)\n",
    "else:\n",
    "    pass\n",
    "\n",
    "count = 0\n",
    "price = driver.find_elements_by_xpath('//div[@class=\"i-b tipsy fare-summary-tooltip fs-18\"]')\n",
    "for i in tqdm(price):\n",
    "    Price.append(i.text.replace(',',''))\n",
    "    count = count +1\n",
    "else:\n",
    "    count = count +1\n",
    "    pass\n",
    "\n",
    "Button = driver.find_elements_by_xpath('//div[@class=\"link-color fs-12 cursor-pointer\"]/span')\n",
    "driver.execute_script(\"arguments[0].click();\", WebDriverWait(driver, 20).until(EC.element_to_be_clickable((By.XPATH,'//div[@class=\"link-color fs-12 cursor-pointer\"]/span'))))\n",
    "time.sleep(1)\n",
    "\n",
    "date = driver.find_element_by_xpath('//div[@class=\"bold fs-12 mb-5\"]')\n",
    "a = date.text\n",
    "for i in tqdm(range(count-1)):\n",
    "    Date.append(a)\n",
    "else:\n",
    "    pass"
   ]
  },
  {
   "cell_type": "code",
   "execution_count": 54,
   "id": "f3b35179",
   "metadata": {},
   "outputs": [
    {
     "data": {
      "text/plain": [
       "(1722, 1722, 1722, 1722, 1722, 1722, 1722, 1722, 1722)"
      ]
     },
     "execution_count": 54,
     "metadata": {},
     "output_type": "execute_result"
    }
   ],
   "source": [
    "len(Airlines), len(Dept_time), len(Arrival_time), len(Source), len(Destination), len(Duration), len(Stops),len(Price), len(Date)"
   ]
  },
  {
   "cell_type": "code",
   "execution_count": 56,
   "id": "b35f2766",
   "metadata": {},
   "outputs": [],
   "source": [
    "# Opening Premium Ecomony flights from New Dehli to Bombay on 28 July 2022"
   ]
  },
  {
   "cell_type": "code",
   "execution_count": 55,
   "id": "2700195e",
   "metadata": {},
   "outputs": [
    {
     "name": "stderr",
     "output_type": "stream",
     "text": [
      "<ipython-input-55-0d3d8fa01617>:1: DeprecationWarning: find_elements_by_xpath is deprecated. Please use find_elements(by=By.XPATH, value=xpath) instead\n",
      "  flights=driver.find_elements_by_xpath('//div[@class=\"flight-det table full-width clearfix\"]')\n"
     ]
    },
    {
     "data": {
      "text/plain": [
       "60"
      ]
     },
     "execution_count": 55,
     "metadata": {},
     "output_type": "execute_result"
    }
   ],
   "source": [
    "flights=driver.find_elements_by_xpath('//div[@class=\"flight-det table full-width clearfix\"]')\n",
    "len(flights)"
   ]
  },
  {
   "cell_type": "code",
   "execution_count": 56,
   "id": "ed1c2a5a",
   "metadata": {},
   "outputs": [
    {
     "name": "stderr",
     "output_type": "stream",
     "text": [
      "<ipython-input-56-bb9a819e7382>:1: DeprecationWarning: find_elements_by_xpath is deprecated. Please use find_elements(by=By.XPATH, value=xpath) instead\n",
      "  airlines = driver.find_elements_by_xpath(\"//div[@class='fs-13 airline-name no-pad col-8']/span\")\n",
      "<ipython-input-56-bb9a819e7382>:7: DeprecationWarning: find_elements_by_xpath is deprecated. Please use find_elements(by=By.XPATH, value=xpath) instead\n",
      "  aeroplanes = driver.find_elements_by_xpath('//p[@class=\"normal fs-11 font-lightestgrey no-wrap fl-no\"]/span')\n",
      "100%|██████████████████████████████████████████████████████████████████████████████████| 60/60 [00:00<00:00, 78.30it/s]\n",
      "<ipython-input-56-bb9a819e7382>:13: DeprecationWarning: find_elements_by_xpath is deprecated. Please use find_elements(by=By.XPATH, value=xpath) instead\n",
      "  dept_times = driver.find_elements_by_xpath('//div[@class=\"i-b pr\"]')\n",
      "100%|██████████████████████████████████████████████████████████████████████████████████| 60/60 [00:00<00:00, 86.20it/s]\n",
      "<ipython-input-56-bb9a819e7382>:19: DeprecationWarning: find_elements_by_xpath is deprecated. Please use find_elements(by=By.XPATH, value=xpath) instead\n",
      "  arrival = driver.find_elements_by_xpath('//p[@class=\"bold fs-15 mb-2 pr time\"]')\n",
      "100%|██████████████████████████████████████████████████████████████████████████████████| 60/60 [00:00<00:00, 86.15it/s]\n",
      "<ipython-input-56-bb9a819e7382>:25: DeprecationWarning: find_elements_by_xpath is deprecated. Please use find_elements(by=By.XPATH, value=xpath) instead\n",
      "  source = driver.find_elements_by_xpath(\"//div[@class='i-b col-4 no-wrap text-right dtime col-3']/p\")\n",
      "100%|██████████████████████████████████████████████████████████████████████████████████| 60/60 [00:00<00:00, 77.30it/s]\n",
      "<ipython-input-56-bb9a819e7382>:31: DeprecationWarning: find_elements_by_xpath is deprecated. Please use find_elements(by=By.XPATH, value=xpath) instead\n",
      "  destination = driver.find_elements_by_xpath('//div[@class=\"i-b pdd-0 text-left atime col-5\"]/p[2]')\n",
      "100%|██████████████████████████████████████████████████████████████████████████████████| 60/60 [00:00<00:00, 82.10it/s]\n",
      "<ipython-input-56-bb9a819e7382>:37: DeprecationWarning: find_elements_by_xpath is deprecated. Please use find_elements(by=By.XPATH, value=xpath) instead\n",
      "  duration = driver.find_elements_by_xpath('//div[@class=\"stop-cont pl-13\"]/p')\n",
      "100%|██████████████████████████████████████████████████████████████████████████████████| 60/60 [00:00<00:00, 69.30it/s]\n",
      "<ipython-input-56-bb9a819e7382>:43: DeprecationWarning: find_elements_by_xpath is deprecated. Please use find_elements(by=By.XPATH, value=xpath) instead\n",
      "  stop = driver.find_elements_by_xpath(\"//div[@class='stop-cont pl-13']/div/span\")\n",
      "100%|██████████████████████████████████████████████████████████████████████████████████| 60/60 [00:00<00:00, 76.88it/s]\n",
      "<ipython-input-56-bb9a819e7382>:50: DeprecationWarning: find_elements_by_xpath is deprecated. Please use find_elements(by=By.XPATH, value=xpath) instead\n",
      "  price = driver.find_elements_by_xpath('//div[@class=\"i-b tipsy fare-summary-tooltip fs-18\"]')\n",
      "100%|██████████████████████████████████████████████████████████████████████████████████| 60/60 [00:00<00:00, 72.81it/s]\n",
      "<ipython-input-56-bb9a819e7382>:58: DeprecationWarning: find_elements_by_xpath is deprecated. Please use find_elements(by=By.XPATH, value=xpath) instead\n",
      "  Button = driver.find_elements_by_xpath('//div[@class=\"link-color fs-12 cursor-pointer\"]/span')\n",
      "<ipython-input-56-bb9a819e7382>:62: DeprecationWarning: find_element_by_xpath is deprecated. Please use find_element(by=By.XPATH, value=xpath) instead\n",
      "  date = driver.find_element_by_xpath('//div[@class=\"bold fs-12 mb-5\"]')\n",
      "100%|██████████████████████████████████████████████████████████████████████████████████████████| 60/60 [00:00<?, ?it/s]\n"
     ]
    }
   ],
   "source": [
    "airlines = driver.find_elements_by_xpath(\"//div[@class='fs-13 airline-name no-pad col-8']/span\")\n",
    "for i in airlines:\n",
    "    Airlines.append(i.text.replace(\"\\n\",\" \"))\n",
    "else :\n",
    "    pass\n",
    "\n",
    "aeroplanes = driver.find_elements_by_xpath('//p[@class=\"normal fs-11 font-lightestgrey no-wrap fl-no\"]/span')\n",
    "for i in tqdm(aeroplanes):\n",
    "    Aeroplane.append(i.text) \n",
    "else:\n",
    "    pass\n",
    "\n",
    "dept_times = driver.find_elements_by_xpath('//div[@class=\"i-b pr\"]')\n",
    "for i in tqdm(dept_times):\n",
    "    Dept_time.append(i.text)\n",
    "else :\n",
    "    pass\n",
    "\n",
    "arrival = driver.find_elements_by_xpath('//p[@class=\"bold fs-15 mb-2 pr time\"]')\n",
    "for i in tqdm(arrival):\n",
    "    Arrival_time.append(i.text)\n",
    "else :\n",
    "    pass\n",
    "\n",
    "source = driver.find_elements_by_xpath(\"//div[@class='i-b col-4 no-wrap text-right dtime col-3']/p\")\n",
    "for i in tqdm(source):\n",
    "    Source.append(i.text)\n",
    "else :\n",
    "    pass\n",
    "\n",
    "destination = driver.find_elements_by_xpath('//div[@class=\"i-b pdd-0 text-left atime col-5\"]/p[2]')\n",
    "for i in tqdm(destination):\n",
    "    Destination.append(i.text)\n",
    "else:\n",
    "    pass\n",
    "\n",
    "duration = driver.find_elements_by_xpath('//div[@class=\"stop-cont pl-13\"]/p')\n",
    "for i in tqdm(duration):\n",
    "    Duration.append(i.text)\n",
    "else:\n",
    "    pass\n",
    "\n",
    "stop = driver.find_elements_by_xpath(\"//div[@class='stop-cont pl-13']/div/span\")\n",
    "for i in tqdm(stop):\n",
    "    Stops.append(i.text)\n",
    "else:\n",
    "    pass\n",
    "\n",
    "count = 0\n",
    "price = driver.find_elements_by_xpath('//div[@class=\"i-b tipsy fare-summary-tooltip fs-18\"]')\n",
    "for i in tqdm(price):\n",
    "    Price.append(i.text.replace(',',''))\n",
    "    count = count +1\n",
    "else:\n",
    "    count = count +1\n",
    "    pass\n",
    "\n",
    "Button = driver.find_elements_by_xpath('//div[@class=\"link-color fs-12 cursor-pointer\"]/span')\n",
    "driver.execute_script(\"arguments[0].click();\", WebDriverWait(driver, 20).until(EC.element_to_be_clickable((By.XPATH,'//div[@class=\"link-color fs-12 cursor-pointer\"]/span'))))\n",
    "time.sleep(1)\n",
    "\n",
    "date = driver.find_element_by_xpath('//div[@class=\"bold fs-12 mb-5\"]')\n",
    "a = date.text\n",
    "for i in tqdm(range(count-1)):\n",
    "    Date.append(a)\n",
    "else:\n",
    "    pass"
   ]
  },
  {
   "cell_type": "code",
   "execution_count": 57,
   "id": "840961bd",
   "metadata": {},
   "outputs": [
    {
     "data": {
      "text/plain": [
       "(1782, 1782, 1782, 1782, 1782, 1782, 1782, 1782, 1782)"
      ]
     },
     "execution_count": 57,
     "metadata": {},
     "output_type": "execute_result"
    }
   ],
   "source": [
    "len(Airlines), len(Dept_time), len(Arrival_time), len(Source), len(Destination), len(Duration), len(Stops),len(Price), len(Date)"
   ]
  },
  {
   "cell_type": "code",
   "execution_count": 60,
   "id": "f046491b",
   "metadata": {},
   "outputs": [],
   "source": [
    "# Opening Premium Ecomony flights from New Dehli to Bombay on 29 July 2022"
   ]
  },
  {
   "cell_type": "code",
   "execution_count": 58,
   "id": "d0b69298",
   "metadata": {},
   "outputs": [
    {
     "name": "stderr",
     "output_type": "stream",
     "text": [
      "<ipython-input-58-0d3d8fa01617>:1: DeprecationWarning: find_elements_by_xpath is deprecated. Please use find_elements(by=By.XPATH, value=xpath) instead\n",
      "  flights=driver.find_elements_by_xpath('//div[@class=\"flight-det table full-width clearfix\"]')\n"
     ]
    },
    {
     "data": {
      "text/plain": [
       "60"
      ]
     },
     "execution_count": 58,
     "metadata": {},
     "output_type": "execute_result"
    }
   ],
   "source": [
    "flights=driver.find_elements_by_xpath('//div[@class=\"flight-det table full-width clearfix\"]')\n",
    "len(flights)"
   ]
  },
  {
   "cell_type": "code",
   "execution_count": 59,
   "id": "6c3c7b43",
   "metadata": {},
   "outputs": [
    {
     "name": "stderr",
     "output_type": "stream",
     "text": [
      "<ipython-input-59-bb9a819e7382>:1: DeprecationWarning: find_elements_by_xpath is deprecated. Please use find_elements(by=By.XPATH, value=xpath) instead\n",
      "  airlines = driver.find_elements_by_xpath(\"//div[@class='fs-13 airline-name no-pad col-8']/span\")\n",
      "<ipython-input-59-bb9a819e7382>:7: DeprecationWarning: find_elements_by_xpath is deprecated. Please use find_elements(by=By.XPATH, value=xpath) instead\n",
      "  aeroplanes = driver.find_elements_by_xpath('//p[@class=\"normal fs-11 font-lightestgrey no-wrap fl-no\"]/span')\n",
      "100%|██████████████████████████████████████████████████████████████████████████████████| 60/60 [00:00<00:00, 86.62it/s]\n",
      "<ipython-input-59-bb9a819e7382>:13: DeprecationWarning: find_elements_by_xpath is deprecated. Please use find_elements(by=By.XPATH, value=xpath) instead\n",
      "  dept_times = driver.find_elements_by_xpath('//div[@class=\"i-b pr\"]')\n",
      "100%|██████████████████████████████████████████████████████████████████████████████████| 60/60 [00:00<00:00, 82.35it/s]\n",
      "<ipython-input-59-bb9a819e7382>:19: DeprecationWarning: find_elements_by_xpath is deprecated. Please use find_elements(by=By.XPATH, value=xpath) instead\n",
      "  arrival = driver.find_elements_by_xpath('//p[@class=\"bold fs-15 mb-2 pr time\"]')\n",
      "100%|██████████████████████████████████████████████████████████████████████████████████| 60/60 [00:00<00:00, 75.51it/s]\n",
      "<ipython-input-59-bb9a819e7382>:25: DeprecationWarning: find_elements_by_xpath is deprecated. Please use find_elements(by=By.XPATH, value=xpath) instead\n",
      "  source = driver.find_elements_by_xpath(\"//div[@class='i-b col-4 no-wrap text-right dtime col-3']/p\")\n",
      "100%|██████████████████████████████████████████████████████████████████████████████████| 60/60 [00:00<00:00, 85.35it/s]\n",
      "<ipython-input-59-bb9a819e7382>:31: DeprecationWarning: find_elements_by_xpath is deprecated. Please use find_elements(by=By.XPATH, value=xpath) instead\n",
      "  destination = driver.find_elements_by_xpath('//div[@class=\"i-b pdd-0 text-left atime col-5\"]/p[2]')\n",
      "100%|██████████████████████████████████████████████████████████████████████████████████| 60/60 [00:00<00:00, 79.67it/s]\n",
      "<ipython-input-59-bb9a819e7382>:37: DeprecationWarning: find_elements_by_xpath is deprecated. Please use find_elements(by=By.XPATH, value=xpath) instead\n",
      "  duration = driver.find_elements_by_xpath('//div[@class=\"stop-cont pl-13\"]/p')\n",
      "100%|██████████████████████████████████████████████████████████████████████████████████| 60/60 [00:00<00:00, 75.23it/s]\n",
      "<ipython-input-59-bb9a819e7382>:43: DeprecationWarning: find_elements_by_xpath is deprecated. Please use find_elements(by=By.XPATH, value=xpath) instead\n",
      "  stop = driver.find_elements_by_xpath(\"//div[@class='stop-cont pl-13']/div/span\")\n",
      "100%|██████████████████████████████████████████████████████████████████████████████████| 60/60 [00:00<00:00, 67.52it/s]\n",
      "<ipython-input-59-bb9a819e7382>:50: DeprecationWarning: find_elements_by_xpath is deprecated. Please use find_elements(by=By.XPATH, value=xpath) instead\n",
      "  price = driver.find_elements_by_xpath('//div[@class=\"i-b tipsy fare-summary-tooltip fs-18\"]')\n",
      "100%|██████████████████████████████████████████████████████████████████████████████████| 60/60 [00:00<00:00, 72.90it/s]\n",
      "<ipython-input-59-bb9a819e7382>:58: DeprecationWarning: find_elements_by_xpath is deprecated. Please use find_elements(by=By.XPATH, value=xpath) instead\n",
      "  Button = driver.find_elements_by_xpath('//div[@class=\"link-color fs-12 cursor-pointer\"]/span')\n",
      "<ipython-input-59-bb9a819e7382>:62: DeprecationWarning: find_element_by_xpath is deprecated. Please use find_element(by=By.XPATH, value=xpath) instead\n",
      "  date = driver.find_element_by_xpath('//div[@class=\"bold fs-12 mb-5\"]')\n",
      "100%|██████████████████████████████████████████████████████████████████████████████████████████| 60/60 [00:00<?, ?it/s]\n"
     ]
    }
   ],
   "source": [
    "airlines = driver.find_elements_by_xpath(\"//div[@class='fs-13 airline-name no-pad col-8']/span\")\n",
    "for i in airlines:\n",
    "    Airlines.append(i.text.replace(\"\\n\",\" \"))\n",
    "else :\n",
    "    pass\n",
    "\n",
    "aeroplanes = driver.find_elements_by_xpath('//p[@class=\"normal fs-11 font-lightestgrey no-wrap fl-no\"]/span')\n",
    "for i in tqdm(aeroplanes):\n",
    "    Aeroplane.append(i.text) \n",
    "else:\n",
    "    pass\n",
    "\n",
    "dept_times = driver.find_elements_by_xpath('//div[@class=\"i-b pr\"]')\n",
    "for i in tqdm(dept_times):\n",
    "    Dept_time.append(i.text)\n",
    "else :\n",
    "    pass\n",
    "\n",
    "arrival = driver.find_elements_by_xpath('//p[@class=\"bold fs-15 mb-2 pr time\"]')\n",
    "for i in tqdm(arrival):\n",
    "    Arrival_time.append(i.text)\n",
    "else :\n",
    "    pass\n",
    "\n",
    "source = driver.find_elements_by_xpath(\"//div[@class='i-b col-4 no-wrap text-right dtime col-3']/p\")\n",
    "for i in tqdm(source):\n",
    "    Source.append(i.text)\n",
    "else :\n",
    "    pass\n",
    "\n",
    "destination = driver.find_elements_by_xpath('//div[@class=\"i-b pdd-0 text-left atime col-5\"]/p[2]')\n",
    "for i in tqdm(destination):\n",
    "    Destination.append(i.text)\n",
    "else:\n",
    "    pass\n",
    "\n",
    "duration = driver.find_elements_by_xpath('//div[@class=\"stop-cont pl-13\"]/p')\n",
    "for i in tqdm(duration):\n",
    "    Duration.append(i.text)\n",
    "else:\n",
    "    pass\n",
    "\n",
    "stop = driver.find_elements_by_xpath(\"//div[@class='stop-cont pl-13']/div/span\")\n",
    "for i in tqdm(stop):\n",
    "    Stops.append(i.text)\n",
    "else:\n",
    "    pass\n",
    "\n",
    "count = 0\n",
    "price = driver.find_elements_by_xpath('//div[@class=\"i-b tipsy fare-summary-tooltip fs-18\"]')\n",
    "for i in tqdm(price):\n",
    "    Price.append(i.text.replace(',',''))\n",
    "    count = count +1\n",
    "else:\n",
    "    count = count +1\n",
    "    pass\n",
    "\n",
    "Button = driver.find_elements_by_xpath('//div[@class=\"link-color fs-12 cursor-pointer\"]/span')\n",
    "driver.execute_script(\"arguments[0].click();\", WebDriverWait(driver, 20).until(EC.element_to_be_clickable((By.XPATH,'//div[@class=\"link-color fs-12 cursor-pointer\"]/span'))))\n",
    "time.sleep(1)\n",
    "\n",
    "date = driver.find_element_by_xpath('//div[@class=\"bold fs-12 mb-5\"]')\n",
    "a = date.text\n",
    "for i in tqdm(range(count-1)):\n",
    "    Date.append(a)\n",
    "else:\n",
    "    pass"
   ]
  },
  {
   "cell_type": "code",
   "execution_count": 60,
   "id": "84ef2742",
   "metadata": {},
   "outputs": [
    {
     "data": {
      "text/plain": [
       "(1842, 1842, 1842, 1842, 1842, 1842, 1842, 1842, 1842)"
      ]
     },
     "execution_count": 60,
     "metadata": {},
     "output_type": "execute_result"
    }
   ],
   "source": [
    "len(Airlines), len(Dept_time), len(Arrival_time), len(Source), len(Destination), len(Duration), len(Stops),len(Price), len(Date)"
   ]
  },
  {
   "cell_type": "code",
   "execution_count": 64,
   "id": "7aa502d0",
   "metadata": {},
   "outputs": [],
   "source": [
    "# Opening Premium Ecomony flights from New Dehli to Bombay on 30 July 2022"
   ]
  },
  {
   "cell_type": "code",
   "execution_count": 61,
   "id": "c01bb4f6",
   "metadata": {},
   "outputs": [
    {
     "name": "stderr",
     "output_type": "stream",
     "text": [
      "<ipython-input-61-0d3d8fa01617>:1: DeprecationWarning: find_elements_by_xpath is deprecated. Please use find_elements(by=By.XPATH, value=xpath) instead\n",
      "  flights=driver.find_elements_by_xpath('//div[@class=\"flight-det table full-width clearfix\"]')\n"
     ]
    },
    {
     "data": {
      "text/plain": [
       "60"
      ]
     },
     "execution_count": 61,
     "metadata": {},
     "output_type": "execute_result"
    }
   ],
   "source": [
    "flights=driver.find_elements_by_xpath('//div[@class=\"flight-det table full-width clearfix\"]')\n",
    "len(flights)"
   ]
  },
  {
   "cell_type": "code",
   "execution_count": 62,
   "id": "833d690b",
   "metadata": {},
   "outputs": [
    {
     "name": "stderr",
     "output_type": "stream",
     "text": [
      "<ipython-input-62-bb9a819e7382>:1: DeprecationWarning: find_elements_by_xpath is deprecated. Please use find_elements(by=By.XPATH, value=xpath) instead\n",
      "  airlines = driver.find_elements_by_xpath(\"//div[@class='fs-13 airline-name no-pad col-8']/span\")\n",
      "<ipython-input-62-bb9a819e7382>:7: DeprecationWarning: find_elements_by_xpath is deprecated. Please use find_elements(by=By.XPATH, value=xpath) instead\n",
      "  aeroplanes = driver.find_elements_by_xpath('//p[@class=\"normal fs-11 font-lightestgrey no-wrap fl-no\"]/span')\n",
      "100%|██████████████████████████████████████████████████████████████████████████████████| 60/60 [00:00<00:00, 74.24it/s]\n",
      "<ipython-input-62-bb9a819e7382>:13: DeprecationWarning: find_elements_by_xpath is deprecated. Please use find_elements(by=By.XPATH, value=xpath) instead\n",
      "  dept_times = driver.find_elements_by_xpath('//div[@class=\"i-b pr\"]')\n",
      "100%|██████████████████████████████████████████████████████████████████████████████████| 60/60 [00:00<00:00, 83.93it/s]\n",
      "<ipython-input-62-bb9a819e7382>:19: DeprecationWarning: find_elements_by_xpath is deprecated. Please use find_elements(by=By.XPATH, value=xpath) instead\n",
      "  arrival = driver.find_elements_by_xpath('//p[@class=\"bold fs-15 mb-2 pr time\"]')\n",
      "100%|██████████████████████████████████████████████████████████████████████████████████| 60/60 [00:00<00:00, 82.47it/s]\n",
      "<ipython-input-62-bb9a819e7382>:25: DeprecationWarning: find_elements_by_xpath is deprecated. Please use find_elements(by=By.XPATH, value=xpath) instead\n",
      "  source = driver.find_elements_by_xpath(\"//div[@class='i-b col-4 no-wrap text-right dtime col-3']/p\")\n",
      "100%|██████████████████████████████████████████████████████████████████████████████████| 60/60 [00:00<00:00, 87.12it/s]\n",
      "<ipython-input-62-bb9a819e7382>:31: DeprecationWarning: find_elements_by_xpath is deprecated. Please use find_elements(by=By.XPATH, value=xpath) instead\n",
      "  destination = driver.find_elements_by_xpath('//div[@class=\"i-b pdd-0 text-left atime col-5\"]/p[2]')\n",
      "100%|██████████████████████████████████████████████████████████████████████████████████| 60/60 [00:00<00:00, 82.34it/s]\n",
      "<ipython-input-62-bb9a819e7382>:37: DeprecationWarning: find_elements_by_xpath is deprecated. Please use find_elements(by=By.XPATH, value=xpath) instead\n",
      "  duration = driver.find_elements_by_xpath('//div[@class=\"stop-cont pl-13\"]/p')\n",
      "100%|██████████████████████████████████████████████████████████████████████████████████| 60/60 [00:00<00:00, 76.13it/s]\n",
      "<ipython-input-62-bb9a819e7382>:43: DeprecationWarning: find_elements_by_xpath is deprecated. Please use find_elements(by=By.XPATH, value=xpath) instead\n",
      "  stop = driver.find_elements_by_xpath(\"//div[@class='stop-cont pl-13']/div/span\")\n",
      "100%|██████████████████████████████████████████████████████████████████████████████████| 60/60 [00:00<00:00, 70.58it/s]\n",
      "<ipython-input-62-bb9a819e7382>:50: DeprecationWarning: find_elements_by_xpath is deprecated. Please use find_elements(by=By.XPATH, value=xpath) instead\n",
      "  price = driver.find_elements_by_xpath('//div[@class=\"i-b tipsy fare-summary-tooltip fs-18\"]')\n",
      "100%|██████████████████████████████████████████████████████████████████████████████████| 60/60 [00:00<00:00, 69.18it/s]\n",
      "<ipython-input-62-bb9a819e7382>:58: DeprecationWarning: find_elements_by_xpath is deprecated. Please use find_elements(by=By.XPATH, value=xpath) instead\n",
      "  Button = driver.find_elements_by_xpath('//div[@class=\"link-color fs-12 cursor-pointer\"]/span')\n",
      "<ipython-input-62-bb9a819e7382>:62: DeprecationWarning: find_element_by_xpath is deprecated. Please use find_element(by=By.XPATH, value=xpath) instead\n",
      "  date = driver.find_element_by_xpath('//div[@class=\"bold fs-12 mb-5\"]')\n",
      "100%|██████████████████████████████████████████████████████████████████████████████████████████| 60/60 [00:00<?, ?it/s]\n"
     ]
    }
   ],
   "source": [
    "airlines = driver.find_elements_by_xpath(\"//div[@class='fs-13 airline-name no-pad col-8']/span\")\n",
    "for i in airlines:\n",
    "    Airlines.append(i.text.replace(\"\\n\",\" \"))\n",
    "else :\n",
    "    pass\n",
    "\n",
    "aeroplanes = driver.find_elements_by_xpath('//p[@class=\"normal fs-11 font-lightestgrey no-wrap fl-no\"]/span')\n",
    "for i in tqdm(aeroplanes):\n",
    "    Aeroplane.append(i.text) \n",
    "else:\n",
    "    pass\n",
    "\n",
    "dept_times = driver.find_elements_by_xpath('//div[@class=\"i-b pr\"]')\n",
    "for i in tqdm(dept_times):\n",
    "    Dept_time.append(i.text)\n",
    "else :\n",
    "    pass\n",
    "\n",
    "arrival = driver.find_elements_by_xpath('//p[@class=\"bold fs-15 mb-2 pr time\"]')\n",
    "for i in tqdm(arrival):\n",
    "    Arrival_time.append(i.text)\n",
    "else :\n",
    "    pass\n",
    "\n",
    "source = driver.find_elements_by_xpath(\"//div[@class='i-b col-4 no-wrap text-right dtime col-3']/p\")\n",
    "for i in tqdm(source):\n",
    "    Source.append(i.text)\n",
    "else :\n",
    "    pass\n",
    "\n",
    "destination = driver.find_elements_by_xpath('//div[@class=\"i-b pdd-0 text-left atime col-5\"]/p[2]')\n",
    "for i in tqdm(destination):\n",
    "    Destination.append(i.text)\n",
    "else:\n",
    "    pass\n",
    "\n",
    "duration = driver.find_elements_by_xpath('//div[@class=\"stop-cont pl-13\"]/p')\n",
    "for i in tqdm(duration):\n",
    "    Duration.append(i.text)\n",
    "else:\n",
    "    pass\n",
    "\n",
    "stop = driver.find_elements_by_xpath(\"//div[@class='stop-cont pl-13']/div/span\")\n",
    "for i in tqdm(stop):\n",
    "    Stops.append(i.text)\n",
    "else:\n",
    "    pass\n",
    "\n",
    "count = 0\n",
    "price = driver.find_elements_by_xpath('//div[@class=\"i-b tipsy fare-summary-tooltip fs-18\"]')\n",
    "for i in tqdm(price):\n",
    "    Price.append(i.text.replace(',',''))\n",
    "    count = count +1\n",
    "else:\n",
    "    count = count +1\n",
    "    pass\n",
    "\n",
    "Button = driver.find_elements_by_xpath('//div[@class=\"link-color fs-12 cursor-pointer\"]/span')\n",
    "driver.execute_script(\"arguments[0].click();\", WebDriverWait(driver, 20).until(EC.element_to_be_clickable((By.XPATH,'//div[@class=\"link-color fs-12 cursor-pointer\"]/span'))))\n",
    "time.sleep(1)\n",
    "\n",
    "date = driver.find_element_by_xpath('//div[@class=\"bold fs-12 mb-5\"]')\n",
    "a = date.text\n",
    "for i in tqdm(range(count-1)):\n",
    "    Date.append(a)\n",
    "else:\n",
    "    pass\n"
   ]
  },
  {
   "cell_type": "code",
   "execution_count": 63,
   "id": "1e501d35",
   "metadata": {},
   "outputs": [
    {
     "data": {
      "text/plain": [
       "(1902, 1902, 1902, 1902, 1902, 1902, 1902, 1902, 1902)"
      ]
     },
     "execution_count": 63,
     "metadata": {},
     "output_type": "execute_result"
    }
   ],
   "source": [
    "len(Airlines), len(Dept_time), len(Arrival_time), len(Source), len(Destination), len(Duration), len(Stops),len(Price), len(Date)"
   ]
  },
  {
   "cell_type": "code",
   "execution_count": 71,
   "id": "8af58933",
   "metadata": {},
   "outputs": [],
   "source": [
    "# Opening Premium Ecomony flights from New Dehli to Bombay on 31 July 2022"
   ]
  },
  {
   "cell_type": "code",
   "execution_count": 64,
   "id": "8b40f48d",
   "metadata": {},
   "outputs": [
    {
     "name": "stderr",
     "output_type": "stream",
     "text": [
      "<ipython-input-64-0d3d8fa01617>:1: DeprecationWarning: find_elements_by_xpath is deprecated. Please use find_elements(by=By.XPATH, value=xpath) instead\n",
      "  flights=driver.find_elements_by_xpath('//div[@class=\"flight-det table full-width clearfix\"]')\n"
     ]
    },
    {
     "data": {
      "text/plain": [
       "60"
      ]
     },
     "execution_count": 64,
     "metadata": {},
     "output_type": "execute_result"
    }
   ],
   "source": [
    "flights=driver.find_elements_by_xpath('//div[@class=\"flight-det table full-width clearfix\"]')\n",
    "len(flights)"
   ]
  },
  {
   "cell_type": "code",
   "execution_count": 65,
   "id": "e7782153",
   "metadata": {},
   "outputs": [
    {
     "name": "stderr",
     "output_type": "stream",
     "text": [
      "<ipython-input-65-bb9a819e7382>:1: DeprecationWarning: find_elements_by_xpath is deprecated. Please use find_elements(by=By.XPATH, value=xpath) instead\n",
      "  airlines = driver.find_elements_by_xpath(\"//div[@class='fs-13 airline-name no-pad col-8']/span\")\n",
      "<ipython-input-65-bb9a819e7382>:7: DeprecationWarning: find_elements_by_xpath is deprecated. Please use find_elements(by=By.XPATH, value=xpath) instead\n",
      "  aeroplanes = driver.find_elements_by_xpath('//p[@class=\"normal fs-11 font-lightestgrey no-wrap fl-no\"]/span')\n",
      "100%|██████████████████████████████████████████████████████████████████████████████████| 60/60 [00:00<00:00, 85.86it/s]\n",
      "<ipython-input-65-bb9a819e7382>:13: DeprecationWarning: find_elements_by_xpath is deprecated. Please use find_elements(by=By.XPATH, value=xpath) instead\n",
      "  dept_times = driver.find_elements_by_xpath('//div[@class=\"i-b pr\"]')\n",
      "100%|██████████████████████████████████████████████████████████████████████████████████| 60/60 [00:00<00:00, 73.76it/s]\n",
      "<ipython-input-65-bb9a819e7382>:19: DeprecationWarning: find_elements_by_xpath is deprecated. Please use find_elements(by=By.XPATH, value=xpath) instead\n",
      "  arrival = driver.find_elements_by_xpath('//p[@class=\"bold fs-15 mb-2 pr time\"]')\n",
      "100%|██████████████████████████████████████████████████████████████████████████████████| 60/60 [00:00<00:00, 79.14it/s]\n",
      "<ipython-input-65-bb9a819e7382>:25: DeprecationWarning: find_elements_by_xpath is deprecated. Please use find_elements(by=By.XPATH, value=xpath) instead\n",
      "  source = driver.find_elements_by_xpath(\"//div[@class='i-b col-4 no-wrap text-right dtime col-3']/p\")\n",
      "100%|██████████████████████████████████████████████████████████████████████████████████| 60/60 [00:00<00:00, 83.41it/s]\n",
      "<ipython-input-65-bb9a819e7382>:31: DeprecationWarning: find_elements_by_xpath is deprecated. Please use find_elements(by=By.XPATH, value=xpath) instead\n",
      "  destination = driver.find_elements_by_xpath('//div[@class=\"i-b pdd-0 text-left atime col-5\"]/p[2]')\n",
      "100%|██████████████████████████████████████████████████████████████████████████████████| 60/60 [00:00<00:00, 79.05it/s]\n",
      "<ipython-input-65-bb9a819e7382>:37: DeprecationWarning: find_elements_by_xpath is deprecated. Please use find_elements(by=By.XPATH, value=xpath) instead\n",
      "  duration = driver.find_elements_by_xpath('//div[@class=\"stop-cont pl-13\"]/p')\n",
      "100%|██████████████████████████████████████████████████████████████████████████████████| 60/60 [00:00<00:00, 79.77it/s]\n",
      "<ipython-input-65-bb9a819e7382>:43: DeprecationWarning: find_elements_by_xpath is deprecated. Please use find_elements(by=By.XPATH, value=xpath) instead\n",
      "  stop = driver.find_elements_by_xpath(\"//div[@class='stop-cont pl-13']/div/span\")\n",
      "100%|██████████████████████████████████████████████████████████████████████████████████| 60/60 [00:00<00:00, 75.13it/s]\n",
      "<ipython-input-65-bb9a819e7382>:50: DeprecationWarning: find_elements_by_xpath is deprecated. Please use find_elements(by=By.XPATH, value=xpath) instead\n",
      "  price = driver.find_elements_by_xpath('//div[@class=\"i-b tipsy fare-summary-tooltip fs-18\"]')\n",
      "100%|██████████████████████████████████████████████████████████████████████████████████| 60/60 [00:00<00:00, 67.96it/s]\n",
      "<ipython-input-65-bb9a819e7382>:58: DeprecationWarning: find_elements_by_xpath is deprecated. Please use find_elements(by=By.XPATH, value=xpath) instead\n",
      "  Button = driver.find_elements_by_xpath('//div[@class=\"link-color fs-12 cursor-pointer\"]/span')\n",
      "<ipython-input-65-bb9a819e7382>:62: DeprecationWarning: find_element_by_xpath is deprecated. Please use find_element(by=By.XPATH, value=xpath) instead\n",
      "  date = driver.find_element_by_xpath('//div[@class=\"bold fs-12 mb-5\"]')\n",
      "100%|██████████████████████████████████████████████████████████████████████████████████████████| 60/60 [00:00<?, ?it/s]\n"
     ]
    }
   ],
   "source": [
    "airlines = driver.find_elements_by_xpath(\"//div[@class='fs-13 airline-name no-pad col-8']/span\")\n",
    "for i in airlines:\n",
    "    Airlines.append(i.text.replace(\"\\n\",\" \"))\n",
    "else :\n",
    "    pass\n",
    "\n",
    "aeroplanes = driver.find_elements_by_xpath('//p[@class=\"normal fs-11 font-lightestgrey no-wrap fl-no\"]/span')\n",
    "for i in tqdm(aeroplanes):\n",
    "    Aeroplane.append(i.text) \n",
    "else:\n",
    "    pass\n",
    "\n",
    "dept_times = driver.find_elements_by_xpath('//div[@class=\"i-b pr\"]')\n",
    "for i in tqdm(dept_times):\n",
    "    Dept_time.append(i.text)\n",
    "else :\n",
    "    pass\n",
    "\n",
    "arrival = driver.find_elements_by_xpath('//p[@class=\"bold fs-15 mb-2 pr time\"]')\n",
    "for i in tqdm(arrival):\n",
    "    Arrival_time.append(i.text)\n",
    "else :\n",
    "    pass\n",
    "\n",
    "source = driver.find_elements_by_xpath(\"//div[@class='i-b col-4 no-wrap text-right dtime col-3']/p\")\n",
    "for i in tqdm(source):\n",
    "    Source.append(i.text)\n",
    "else :\n",
    "    pass\n",
    "\n",
    "destination = driver.find_elements_by_xpath('//div[@class=\"i-b pdd-0 text-left atime col-5\"]/p[2]')\n",
    "for i in tqdm(destination):\n",
    "    Destination.append(i.text)\n",
    "else:\n",
    "    pass\n",
    "\n",
    "duration = driver.find_elements_by_xpath('//div[@class=\"stop-cont pl-13\"]/p')\n",
    "for i in tqdm(duration):\n",
    "    Duration.append(i.text)\n",
    "else:\n",
    "    pass\n",
    "\n",
    "stop = driver.find_elements_by_xpath(\"//div[@class='stop-cont pl-13']/div/span\")\n",
    "for i in tqdm(stop):\n",
    "    Stops.append(i.text)\n",
    "else:\n",
    "    pass\n",
    "\n",
    "count = 0\n",
    "price = driver.find_elements_by_xpath('//div[@class=\"i-b tipsy fare-summary-tooltip fs-18\"]')\n",
    "for i in tqdm(price):\n",
    "    Price.append(i.text.replace(',',''))\n",
    "    count = count +1\n",
    "else:\n",
    "    count = count +1\n",
    "    pass\n",
    "\n",
    "Button = driver.find_elements_by_xpath('//div[@class=\"link-color fs-12 cursor-pointer\"]/span')\n",
    "driver.execute_script(\"arguments[0].click();\", WebDriverWait(driver, 20).until(EC.element_to_be_clickable((By.XPATH,'//div[@class=\"link-color fs-12 cursor-pointer\"]/span'))))\n",
    "time.sleep(1)\n",
    "\n",
    "date = driver.find_element_by_xpath('//div[@class=\"bold fs-12 mb-5\"]')\n",
    "a = date.text\n",
    "for i in tqdm(range(count-1)):\n",
    "    Date.append(a)\n",
    "else:\n",
    "    pass"
   ]
  },
  {
   "cell_type": "code",
   "execution_count": 66,
   "id": "03191d48",
   "metadata": {},
   "outputs": [
    {
     "data": {
      "text/plain": [
       "(1962, 1962, 1962, 1962, 1962, 1962, 1962, 1962, 1962)"
      ]
     },
     "execution_count": 66,
     "metadata": {},
     "output_type": "execute_result"
    }
   ],
   "source": [
    "len(Airlines), len(Dept_time), len(Arrival_time), len(Source), len(Destination), len(Duration), len(Stops),len(Price), len(Date)"
   ]
  },
  {
   "cell_type": "code",
   "execution_count": 72,
   "id": "cad073ae",
   "metadata": {},
   "outputs": [],
   "source": [
    "# Opening Premium Ecomony flights from New Dehli to Bombay on 1 Aug 2022"
   ]
  },
  {
   "cell_type": "code",
   "execution_count": 67,
   "id": "481a41a6",
   "metadata": {},
   "outputs": [
    {
     "name": "stderr",
     "output_type": "stream",
     "text": [
      "<ipython-input-67-0d3d8fa01617>:1: DeprecationWarning: find_elements_by_xpath is deprecated. Please use find_elements(by=By.XPATH, value=xpath) instead\n",
      "  flights=driver.find_elements_by_xpath('//div[@class=\"flight-det table full-width clearfix\"]')\n"
     ]
    },
    {
     "data": {
      "text/plain": [
       "60"
      ]
     },
     "execution_count": 67,
     "metadata": {},
     "output_type": "execute_result"
    }
   ],
   "source": [
    "flights=driver.find_elements_by_xpath('//div[@class=\"flight-det table full-width clearfix\"]')\n",
    "len(flights)"
   ]
  },
  {
   "cell_type": "code",
   "execution_count": 68,
   "id": "e9d98d85",
   "metadata": {},
   "outputs": [
    {
     "name": "stderr",
     "output_type": "stream",
     "text": [
      "<ipython-input-68-96db0f75890f>:1: DeprecationWarning: find_elements_by_xpath is deprecated. Please use find_elements(by=By.XPATH, value=xpath) instead\n",
      "  airlines = driver.find_elements_by_xpath(\"//div[@class='fs-13 airline-name no-pad col-8']/span\")\n",
      "<ipython-input-68-96db0f75890f>:7: DeprecationWarning: find_elements_by_xpath is deprecated. Please use find_elements(by=By.XPATH, value=xpath) instead\n",
      "  aeroplanes = driver.find_elements_by_xpath('//p[@class=\"normal fs-11 font-lightestgrey no-wrap fl-no\"]/span')\n",
      "100%|██████████████████████████████████████████████████████████████████████████████████| 60/60 [00:00<00:00, 84.99it/s]\n",
      "<ipython-input-68-96db0f75890f>:13: DeprecationWarning: find_elements_by_xpath is deprecated. Please use find_elements(by=By.XPATH, value=xpath) instead\n",
      "  dept_times = driver.find_elements_by_xpath('//div[@class=\"i-b pr\"]')\n",
      "100%|██████████████████████████████████████████████████████████████████████████████████| 60/60 [00:00<00:00, 76.22it/s]\n",
      "<ipython-input-68-96db0f75890f>:19: DeprecationWarning: find_elements_by_xpath is deprecated. Please use find_elements(by=By.XPATH, value=xpath) instead\n",
      "  arrival = driver.find_elements_by_xpath('//p[@class=\"bold fs-15 mb-2 pr time\"]')\n",
      "100%|██████████████████████████████████████████████████████████████████████████████████| 60/60 [00:00<00:00, 76.17it/s]\n",
      "<ipython-input-68-96db0f75890f>:25: DeprecationWarning: find_elements_by_xpath is deprecated. Please use find_elements(by=By.XPATH, value=xpath) instead\n",
      "  source = driver.find_elements_by_xpath(\"//div[@class='i-b col-4 no-wrap text-right dtime col-3']/p\")\n",
      "100%|██████████████████████████████████████████████████████████████████████████████████| 60/60 [00:00<00:00, 79.72it/s]\n",
      "<ipython-input-68-96db0f75890f>:31: DeprecationWarning: find_elements_by_xpath is deprecated. Please use find_elements(by=By.XPATH, value=xpath) instead\n",
      "  destination = driver.find_elements_by_xpath('//div[@class=\"i-b pdd-0 text-left atime col-5\"]/p[2]')\n",
      "100%|██████████████████████████████████████████████████████████████████████████████████| 60/60 [00:00<00:00, 82.97it/s]\n",
      "<ipython-input-68-96db0f75890f>:37: DeprecationWarning: find_elements_by_xpath is deprecated. Please use find_elements(by=By.XPATH, value=xpath) instead\n",
      "  duration = driver.find_elements_by_xpath('//div[@class=\"stop-cont pl-13\"]/p')\n",
      "100%|██████████████████████████████████████████████████████████████████████████████████| 60/60 [00:00<00:00, 80.27it/s]\n",
      "<ipython-input-68-96db0f75890f>:43: DeprecationWarning: find_elements_by_xpath is deprecated. Please use find_elements(by=By.XPATH, value=xpath) instead\n",
      "  stop = driver.find_elements_by_xpath(\"//div[@class='stop-cont pl-13']/div/span\")\n",
      "100%|██████████████████████████████████████████████████████████████████████████████████| 60/60 [00:00<00:00, 75.74it/s]\n",
      "<ipython-input-68-96db0f75890f>:50: DeprecationWarning: find_elements_by_xpath is deprecated. Please use find_elements(by=By.XPATH, value=xpath) instead\n",
      "  price = driver.find_elements_by_xpath('//div[@class=\"i-b tipsy fare-summary-tooltip fs-18\"]')\n",
      "100%|██████████████████████████████████████████████████████████████████████████████████| 60/60 [00:00<00:00, 64.36it/s]\n",
      "<ipython-input-68-96db0f75890f>:58: DeprecationWarning: find_elements_by_xpath is deprecated. Please use find_elements(by=By.XPATH, value=xpath) instead\n",
      "  Button = driver.find_elements_by_xpath('//div[@class=\"link-color fs-12 cursor-pointer\"]/span')\n",
      "<ipython-input-68-96db0f75890f>:62: DeprecationWarning: find_element_by_xpath is deprecated. Please use find_element(by=By.XPATH, value=xpath) instead\n",
      "  date = driver.find_element_by_xpath('//div[@class=\"bold fs-12 mb-5\"]')\n",
      "100%|██████████████████████████████████████████████████████████████████████████████████████████| 60/60 [00:00<?, ?it/s]\n"
     ]
    }
   ],
   "source": [
    "airlines = driver.find_elements_by_xpath(\"//div[@class='fs-13 airline-name no-pad col-8']/span\")\n",
    "for i in airlines:\n",
    "    Airlines.append(i.text.replace(\"\\n\",\" \"))\n",
    "else :\n",
    "    pass\n",
    "\n",
    "aeroplanes = driver.find_elements_by_xpath('//p[@class=\"normal fs-11 font-lightestgrey no-wrap fl-no\"]/span')\n",
    "for i in tqdm(aeroplanes):\n",
    "    Aeroplane.append(i.text) \n",
    "else:\n",
    "    pass\n",
    "\n",
    "dept_times = driver.find_elements_by_xpath('//div[@class=\"i-b pr\"]')\n",
    "for i in tqdm(dept_times):\n",
    "    Dept_time.append(i.text)\n",
    "else :\n",
    "    pass\n",
    "\n",
    "arrival = driver.find_elements_by_xpath('//p[@class=\"bold fs-15 mb-2 pr time\"]')\n",
    "for i in tqdm(arrival):\n",
    "    Arrival_time.append(i.text)\n",
    "else :\n",
    "    pass\n",
    "\n",
    "source = driver.find_elements_by_xpath(\"//div[@class='i-b col-4 no-wrap text-right dtime col-3']/p\")\n",
    "for i in tqdm(source):\n",
    "    Source.append(i.text)\n",
    "else :\n",
    "    pass\n",
    "\n",
    "destination = driver.find_elements_by_xpath('//div[@class=\"i-b pdd-0 text-left atime col-5\"]/p[2]')\n",
    "for i in tqdm(destination):\n",
    "    Destination.append(i.text)\n",
    "else:\n",
    "    pass\n",
    "\n",
    "duration = driver.find_elements_by_xpath('//div[@class=\"stop-cont pl-13\"]/p')\n",
    "for i in tqdm(duration):\n",
    "    Duration.append(i.text)\n",
    "else:\n",
    "    pass\n",
    "\n",
    "stop = driver.find_elements_by_xpath(\"//div[@class='stop-cont pl-13']/div/span\")\n",
    "for i in tqdm(stop):\n",
    "    Stops.append(i.text)\n",
    "else:\n",
    "    pass\n",
    "\n",
    "count = 0\n",
    "price = driver.find_elements_by_xpath('//div[@class=\"i-b tipsy fare-summary-tooltip fs-18\"]')\n",
    "for i in tqdm(price):\n",
    "    Price.append(i.text.replace(',',''))\n",
    "    count = count +1\n",
    "else:\n",
    "    count = count +1\n",
    "    pass\n",
    "\n",
    "Button = driver.find_elements_by_xpath('//div[@class=\"link-color fs-12 cursor-pointer\"]/span')\n",
    "driver.execute_script(\"arguments[0].click();\", WebDriverWait(driver, 20).until(EC.element_to_be_clickable((By.XPATH,'//div[@class=\"link-color fs-12 cursor-pointer\"]/span'))))\n",
    "time.sleep(1)\n",
    "\n",
    "date = driver.find_element_by_xpath('//div[@class=\"bold fs-12 mb-5\"]')\n",
    "a = date.text\n",
    "for i in tqdm(range(count-1)):\n",
    "    Date.append(a)\n",
    "else:\n",
    "    pass\n",
    "\n"
   ]
  },
  {
   "cell_type": "code",
   "execution_count": 69,
   "id": "e1601a16",
   "metadata": {},
   "outputs": [
    {
     "data": {
      "text/plain": [
       "(2022, 2022, 2022, 2022, 2022, 2022, 2022, 2022, 2022)"
      ]
     },
     "execution_count": 69,
     "metadata": {},
     "output_type": "execute_result"
    }
   ],
   "source": [
    "len(Airlines), len(Dept_time), len(Arrival_time), len(Source), len(Destination), len(Duration), len(Stops),len(Price), len(Date)"
   ]
  },
  {
   "cell_type": "code",
   "execution_count": null,
   "id": "75ddb7d7",
   "metadata": {},
   "outputs": [],
   "source": [
    "# Opening Premium Ecomony flights from New Dehli to Bombay on 2 Aug 2022"
   ]
  },
  {
   "cell_type": "code",
   "execution_count": 70,
   "id": "1024d96b",
   "metadata": {},
   "outputs": [
    {
     "name": "stderr",
     "output_type": "stream",
     "text": [
      "<ipython-input-70-0d3d8fa01617>:1: DeprecationWarning: find_elements_by_xpath is deprecated. Please use find_elements(by=By.XPATH, value=xpath) instead\n",
      "  flights=driver.find_elements_by_xpath('//div[@class=\"flight-det table full-width clearfix\"]')\n"
     ]
    },
    {
     "data": {
      "text/plain": [
       "60"
      ]
     },
     "execution_count": 70,
     "metadata": {},
     "output_type": "execute_result"
    }
   ],
   "source": [
    "flights=driver.find_elements_by_xpath('//div[@class=\"flight-det table full-width clearfix\"]')\n",
    "len(flights)"
   ]
  },
  {
   "cell_type": "code",
   "execution_count": 71,
   "id": "a4c45b16",
   "metadata": {},
   "outputs": [
    {
     "name": "stderr",
     "output_type": "stream",
     "text": [
      "<ipython-input-71-bb9a819e7382>:1: DeprecationWarning: find_elements_by_xpath is deprecated. Please use find_elements(by=By.XPATH, value=xpath) instead\n",
      "  airlines = driver.find_elements_by_xpath(\"//div[@class='fs-13 airline-name no-pad col-8']/span\")\n",
      "<ipython-input-71-bb9a819e7382>:7: DeprecationWarning: find_elements_by_xpath is deprecated. Please use find_elements(by=By.XPATH, value=xpath) instead\n",
      "  aeroplanes = driver.find_elements_by_xpath('//p[@class=\"normal fs-11 font-lightestgrey no-wrap fl-no\"]/span')\n",
      "100%|██████████████████████████████████████████████████████████████████████████████████| 60/60 [00:00<00:00, 81.99it/s]\n",
      "<ipython-input-71-bb9a819e7382>:13: DeprecationWarning: find_elements_by_xpath is deprecated. Please use find_elements(by=By.XPATH, value=xpath) instead\n",
      "  dept_times = driver.find_elements_by_xpath('//div[@class=\"i-b pr\"]')\n",
      "100%|██████████████████████████████████████████████████████████████████████████████████| 60/60 [00:00<00:00, 81.85it/s]\n",
      "<ipython-input-71-bb9a819e7382>:19: DeprecationWarning: find_elements_by_xpath is deprecated. Please use find_elements(by=By.XPATH, value=xpath) instead\n",
      "  arrival = driver.find_elements_by_xpath('//p[@class=\"bold fs-15 mb-2 pr time\"]')\n",
      "100%|██████████████████████████████████████████████████████████████████████████████████| 60/60 [00:00<00:00, 80.00it/s]\n",
      "<ipython-input-71-bb9a819e7382>:25: DeprecationWarning: find_elements_by_xpath is deprecated. Please use find_elements(by=By.XPATH, value=xpath) instead\n",
      "  source = driver.find_elements_by_xpath(\"//div[@class='i-b col-4 no-wrap text-right dtime col-3']/p\")\n",
      "100%|██████████████████████████████████████████████████████████████████████████████████| 60/60 [00:00<00:00, 76.43it/s]\n",
      "<ipython-input-71-bb9a819e7382>:31: DeprecationWarning: find_elements_by_xpath is deprecated. Please use find_elements(by=By.XPATH, value=xpath) instead\n",
      "  destination = driver.find_elements_by_xpath('//div[@class=\"i-b pdd-0 text-left atime col-5\"]/p[2]')\n",
      "100%|██████████████████████████████████████████████████████████████████████████████████| 60/60 [00:00<00:00, 72.36it/s]\n",
      "<ipython-input-71-bb9a819e7382>:37: DeprecationWarning: find_elements_by_xpath is deprecated. Please use find_elements(by=By.XPATH, value=xpath) instead\n",
      "  duration = driver.find_elements_by_xpath('//div[@class=\"stop-cont pl-13\"]/p')\n",
      "100%|██████████████████████████████████████████████████████████████████████████████████| 60/60 [00:00<00:00, 76.66it/s]\n",
      "<ipython-input-71-bb9a819e7382>:43: DeprecationWarning: find_elements_by_xpath is deprecated. Please use find_elements(by=By.XPATH, value=xpath) instead\n",
      "  stop = driver.find_elements_by_xpath(\"//div[@class='stop-cont pl-13']/div/span\")\n",
      "100%|██████████████████████████████████████████████████████████████████████████████████| 60/60 [00:00<00:00, 84.39it/s]\n",
      "<ipython-input-71-bb9a819e7382>:50: DeprecationWarning: find_elements_by_xpath is deprecated. Please use find_elements(by=By.XPATH, value=xpath) instead\n",
      "  price = driver.find_elements_by_xpath('//div[@class=\"i-b tipsy fare-summary-tooltip fs-18\"]')\n",
      "100%|██████████████████████████████████████████████████████████████████████████████████| 60/60 [00:00<00:00, 74.54it/s]\n",
      "<ipython-input-71-bb9a819e7382>:58: DeprecationWarning: find_elements_by_xpath is deprecated. Please use find_elements(by=By.XPATH, value=xpath) instead\n",
      "  Button = driver.find_elements_by_xpath('//div[@class=\"link-color fs-12 cursor-pointer\"]/span')\n",
      "<ipython-input-71-bb9a819e7382>:62: DeprecationWarning: find_element_by_xpath is deprecated. Please use find_element(by=By.XPATH, value=xpath) instead\n",
      "  date = driver.find_element_by_xpath('//div[@class=\"bold fs-12 mb-5\"]')\n",
      "100%|██████████████████████████████████████████████████████████████████████████████████████████| 60/60 [00:00<?, ?it/s]\n"
     ]
    }
   ],
   "source": [
    "airlines = driver.find_elements_by_xpath(\"//div[@class='fs-13 airline-name no-pad col-8']/span\")\n",
    "for i in airlines:\n",
    "    Airlines.append(i.text.replace(\"\\n\",\" \"))\n",
    "else :\n",
    "    pass\n",
    "\n",
    "aeroplanes = driver.find_elements_by_xpath('//p[@class=\"normal fs-11 font-lightestgrey no-wrap fl-no\"]/span')\n",
    "for i in tqdm(aeroplanes):\n",
    "    Aeroplane.append(i.text) \n",
    "else:\n",
    "    pass\n",
    "\n",
    "dept_times = driver.find_elements_by_xpath('//div[@class=\"i-b pr\"]')\n",
    "for i in tqdm(dept_times):\n",
    "    Dept_time.append(i.text)\n",
    "else :\n",
    "    pass\n",
    "\n",
    "arrival = driver.find_elements_by_xpath('//p[@class=\"bold fs-15 mb-2 pr time\"]')\n",
    "for i in tqdm(arrival):\n",
    "    Arrival_time.append(i.text)\n",
    "else :\n",
    "    pass\n",
    "\n",
    "source = driver.find_elements_by_xpath(\"//div[@class='i-b col-4 no-wrap text-right dtime col-3']/p\")\n",
    "for i in tqdm(source):\n",
    "    Source.append(i.text)\n",
    "else :\n",
    "    pass\n",
    "\n",
    "destination = driver.find_elements_by_xpath('//div[@class=\"i-b pdd-0 text-left atime col-5\"]/p[2]')\n",
    "for i in tqdm(destination):\n",
    "    Destination.append(i.text)\n",
    "else:\n",
    "    pass\n",
    "\n",
    "duration = driver.find_elements_by_xpath('//div[@class=\"stop-cont pl-13\"]/p')\n",
    "for i in tqdm(duration):\n",
    "    Duration.append(i.text)\n",
    "else:\n",
    "    pass\n",
    "\n",
    "stop = driver.find_elements_by_xpath(\"//div[@class='stop-cont pl-13']/div/span\")\n",
    "for i in tqdm(stop):\n",
    "    Stops.append(i.text)\n",
    "else:\n",
    "    pass\n",
    "\n",
    "count = 0\n",
    "price = driver.find_elements_by_xpath('//div[@class=\"i-b tipsy fare-summary-tooltip fs-18\"]')\n",
    "for i in tqdm(price):\n",
    "    Price.append(i.text.replace(',',''))\n",
    "    count = count +1\n",
    "else:\n",
    "    count = count +1\n",
    "    pass\n",
    "\n",
    "Button = driver.find_elements_by_xpath('//div[@class=\"link-color fs-12 cursor-pointer\"]/span')\n",
    "driver.execute_script(\"arguments[0].click();\", WebDriverWait(driver, 20).until(EC.element_to_be_clickable((By.XPATH,'//div[@class=\"link-color fs-12 cursor-pointer\"]/span'))))\n",
    "time.sleep(1)\n",
    "\n",
    "date = driver.find_element_by_xpath('//div[@class=\"bold fs-12 mb-5\"]')\n",
    "a = date.text\n",
    "for i in tqdm(range(count-1)):\n",
    "    Date.append(a)\n",
    "else:\n",
    "    pass"
   ]
  },
  {
   "cell_type": "code",
   "execution_count": 72,
   "id": "5bee4b77",
   "metadata": {},
   "outputs": [
    {
     "data": {
      "text/plain": [
       "(2082, 2082, 2082, 2082, 2082, 2082, 2082, 2082, 2082)"
      ]
     },
     "execution_count": 72,
     "metadata": {},
     "output_type": "execute_result"
    }
   ],
   "source": [
    "len(Airlines), len(Dept_time), len(Arrival_time), len(Source), len(Destination), len(Duration), len(Stops),len(Price), len(Date)"
   ]
  },
  {
   "cell_type": "code",
   "execution_count": 79,
   "id": "29ee26da",
   "metadata": {},
   "outputs": [],
   "source": [
    "# Opening Premium Ecomony flights from New Dehli to Bombay on 3 Aug 2022"
   ]
  },
  {
   "cell_type": "code",
   "execution_count": 73,
   "id": "e02af294",
   "metadata": {},
   "outputs": [
    {
     "name": "stderr",
     "output_type": "stream",
     "text": [
      "<ipython-input-73-0d3d8fa01617>:1: DeprecationWarning: find_elements_by_xpath is deprecated. Please use find_elements(by=By.XPATH, value=xpath) instead\n",
      "  flights=driver.find_elements_by_xpath('//div[@class=\"flight-det table full-width clearfix\"]')\n"
     ]
    },
    {
     "data": {
      "text/plain": [
       "60"
      ]
     },
     "execution_count": 73,
     "metadata": {},
     "output_type": "execute_result"
    }
   ],
   "source": [
    "flights=driver.find_elements_by_xpath('//div[@class=\"flight-det table full-width clearfix\"]')\n",
    "len(flights)\n"
   ]
  },
  {
   "cell_type": "code",
   "execution_count": 74,
   "id": "913f582c",
   "metadata": {},
   "outputs": [
    {
     "name": "stderr",
     "output_type": "stream",
     "text": [
      "<ipython-input-74-bb9a819e7382>:1: DeprecationWarning: find_elements_by_xpath is deprecated. Please use find_elements(by=By.XPATH, value=xpath) instead\n",
      "  airlines = driver.find_elements_by_xpath(\"//div[@class='fs-13 airline-name no-pad col-8']/span\")\n",
      "<ipython-input-74-bb9a819e7382>:7: DeprecationWarning: find_elements_by_xpath is deprecated. Please use find_elements(by=By.XPATH, value=xpath) instead\n",
      "  aeroplanes = driver.find_elements_by_xpath('//p[@class=\"normal fs-11 font-lightestgrey no-wrap fl-no\"]/span')\n",
      "100%|██████████████████████████████████████████████████████████████████████████████████| 60/60 [00:00<00:00, 89.26it/s]\n",
      "<ipython-input-74-bb9a819e7382>:13: DeprecationWarning: find_elements_by_xpath is deprecated. Please use find_elements(by=By.XPATH, value=xpath) instead\n",
      "  dept_times = driver.find_elements_by_xpath('//div[@class=\"i-b pr\"]')\n",
      "100%|██████████████████████████████████████████████████████████████████████████████████| 60/60 [00:00<00:00, 80.95it/s]\n",
      "<ipython-input-74-bb9a819e7382>:19: DeprecationWarning: find_elements_by_xpath is deprecated. Please use find_elements(by=By.XPATH, value=xpath) instead\n",
      "  arrival = driver.find_elements_by_xpath('//p[@class=\"bold fs-15 mb-2 pr time\"]')\n",
      "100%|██████████████████████████████████████████████████████████████████████████████████| 60/60 [00:00<00:00, 78.73it/s]\n",
      "<ipython-input-74-bb9a819e7382>:25: DeprecationWarning: find_elements_by_xpath is deprecated. Please use find_elements(by=By.XPATH, value=xpath) instead\n",
      "  source = driver.find_elements_by_xpath(\"//div[@class='i-b col-4 no-wrap text-right dtime col-3']/p\")\n",
      "100%|██████████████████████████████████████████████████████████████████████████████████| 60/60 [00:00<00:00, 83.86it/s]\n",
      "<ipython-input-74-bb9a819e7382>:31: DeprecationWarning: find_elements_by_xpath is deprecated. Please use find_elements(by=By.XPATH, value=xpath) instead\n",
      "  destination = driver.find_elements_by_xpath('//div[@class=\"i-b pdd-0 text-left atime col-5\"]/p[2]')\n",
      "100%|██████████████████████████████████████████████████████████████████████████████████| 60/60 [00:00<00:00, 64.56it/s]\n",
      "<ipython-input-74-bb9a819e7382>:37: DeprecationWarning: find_elements_by_xpath is deprecated. Please use find_elements(by=By.XPATH, value=xpath) instead\n",
      "  duration = driver.find_elements_by_xpath('//div[@class=\"stop-cont pl-13\"]/p')\n",
      "100%|██████████████████████████████████████████████████████████████████████████████████| 60/60 [00:00<00:00, 77.14it/s]\n",
      "<ipython-input-74-bb9a819e7382>:43: DeprecationWarning: find_elements_by_xpath is deprecated. Please use find_elements(by=By.XPATH, value=xpath) instead\n",
      "  stop = driver.find_elements_by_xpath(\"//div[@class='stop-cont pl-13']/div/span\")\n",
      "100%|██████████████████████████████████████████████████████████████████████████████████| 60/60 [00:00<00:00, 67.28it/s]\n",
      "<ipython-input-74-bb9a819e7382>:50: DeprecationWarning: find_elements_by_xpath is deprecated. Please use find_elements(by=By.XPATH, value=xpath) instead\n",
      "  price = driver.find_elements_by_xpath('//div[@class=\"i-b tipsy fare-summary-tooltip fs-18\"]')\n",
      "100%|██████████████████████████████████████████████████████████████████████████████████| 60/60 [00:00<00:00, 76.41it/s]\n",
      "<ipython-input-74-bb9a819e7382>:58: DeprecationWarning: find_elements_by_xpath is deprecated. Please use find_elements(by=By.XPATH, value=xpath) instead\n",
      "  Button = driver.find_elements_by_xpath('//div[@class=\"link-color fs-12 cursor-pointer\"]/span')\n",
      "<ipython-input-74-bb9a819e7382>:62: DeprecationWarning: find_element_by_xpath is deprecated. Please use find_element(by=By.XPATH, value=xpath) instead\n",
      "  date = driver.find_element_by_xpath('//div[@class=\"bold fs-12 mb-5\"]')\n",
      "100%|██████████████████████████████████████████████████████████████████████████████████████████| 60/60 [00:00<?, ?it/s]\n"
     ]
    }
   ],
   "source": [
    "airlines = driver.find_elements_by_xpath(\"//div[@class='fs-13 airline-name no-pad col-8']/span\")\n",
    "for i in airlines:\n",
    "    Airlines.append(i.text.replace(\"\\n\",\" \"))\n",
    "else :\n",
    "    pass\n",
    "\n",
    "aeroplanes = driver.find_elements_by_xpath('//p[@class=\"normal fs-11 font-lightestgrey no-wrap fl-no\"]/span')\n",
    "for i in tqdm(aeroplanes):\n",
    "    Aeroplane.append(i.text) \n",
    "else:\n",
    "    pass\n",
    "\n",
    "dept_times = driver.find_elements_by_xpath('//div[@class=\"i-b pr\"]')\n",
    "for i in tqdm(dept_times):\n",
    "    Dept_time.append(i.text)\n",
    "else :\n",
    "    pass\n",
    "\n",
    "arrival = driver.find_elements_by_xpath('//p[@class=\"bold fs-15 mb-2 pr time\"]')\n",
    "for i in tqdm(arrival):\n",
    "    Arrival_time.append(i.text)\n",
    "else :\n",
    "    pass\n",
    "\n",
    "source = driver.find_elements_by_xpath(\"//div[@class='i-b col-4 no-wrap text-right dtime col-3']/p\")\n",
    "for i in tqdm(source):\n",
    "    Source.append(i.text)\n",
    "else :\n",
    "    pass\n",
    "\n",
    "destination = driver.find_elements_by_xpath('//div[@class=\"i-b pdd-0 text-left atime col-5\"]/p[2]')\n",
    "for i in tqdm(destination):\n",
    "    Destination.append(i.text)\n",
    "else:\n",
    "    pass\n",
    "\n",
    "duration = driver.find_elements_by_xpath('//div[@class=\"stop-cont pl-13\"]/p')\n",
    "for i in tqdm(duration):\n",
    "    Duration.append(i.text)\n",
    "else:\n",
    "    pass\n",
    "\n",
    "stop = driver.find_elements_by_xpath(\"//div[@class='stop-cont pl-13']/div/span\")\n",
    "for i in tqdm(stop):\n",
    "    Stops.append(i.text)\n",
    "else:\n",
    "    pass\n",
    "\n",
    "count = 0\n",
    "price = driver.find_elements_by_xpath('//div[@class=\"i-b tipsy fare-summary-tooltip fs-18\"]')\n",
    "for i in tqdm(price):\n",
    "    Price.append(i.text.replace(',',''))\n",
    "    count = count +1\n",
    "else:\n",
    "    count = count +1\n",
    "    pass\n",
    "\n",
    "Button = driver.find_elements_by_xpath('//div[@class=\"link-color fs-12 cursor-pointer\"]/span')\n",
    "driver.execute_script(\"arguments[0].click();\", WebDriverWait(driver, 20).until(EC.element_to_be_clickable((By.XPATH,'//div[@class=\"link-color fs-12 cursor-pointer\"]/span'))))\n",
    "time.sleep(1)\n",
    "\n",
    "date = driver.find_element_by_xpath('//div[@class=\"bold fs-12 mb-5\"]')\n",
    "a = date.text\n",
    "for i in tqdm(range(count-1)):\n",
    "    Date.append(a)\n",
    "else:\n",
    "    pass"
   ]
  },
  {
   "cell_type": "code",
   "execution_count": 75,
   "id": "a13fa4af",
   "metadata": {},
   "outputs": [
    {
     "data": {
      "text/plain": [
       "(2142, 2142, 2142, 2142, 2142, 2142, 2142, 2142, 2142)"
      ]
     },
     "execution_count": 75,
     "metadata": {},
     "output_type": "execute_result"
    }
   ],
   "source": [
    "len(Airlines), len(Dept_time), len(Arrival_time), len(Source), len(Destination), len(Duration), len(Stops),len(Price), len(Date)"
   ]
  },
  {
   "cell_type": "markdown",
   "id": "87aa3c3b",
   "metadata": {},
   "source": [
    "# Extracting Business flights from New Dehli to Bombay"
   ]
  },
  {
   "cell_type": "code",
   "execution_count": 83,
   "id": "f8b3c3c9",
   "metadata": {},
   "outputs": [],
   "source": [
    "# Opening Business flights from New Dehli to Bombay on 24 July 2022"
   ]
  },
  {
   "cell_type": "code",
   "execution_count": 76,
   "id": "d32bbaed",
   "metadata": {},
   "outputs": [
    {
     "name": "stderr",
     "output_type": "stream",
     "text": [
      "<ipython-input-76-4508968ad722>:1: DeprecationWarning: executable_path has been deprecated, please pass in a Service object\n",
      "  driver = webdriver.Chrome(r\"C:\\Users\\Administrator\\Downloads\\chromedriver_win32 (1)\\chromedriver.exe\")\n"
     ]
    }
   ],
   "source": [
    "driver = webdriver.Chrome(r\"C:\\Users\\Administrator\\Downloads\\chromedriver_win32 (1)\\chromedriver.exe\")"
   ]
  },
  {
   "cell_type": "code",
   "execution_count": 77,
   "id": "571e5c1c",
   "metadata": {},
   "outputs": [],
   "source": [
    "url = \"https://flight.yatra.com/air-search-ui/dom2/trigger?ADT=1&CHD=0&INF=0&class=Business&destination=BOM&destinationCountry=IN&flexi=0&flight_depart_date=24%2F07%2F2022&hb=0&noOfSegments=1&origin=DEL&originCountry=IN&type=O&unique=580653857086&version=1.1&viewName=normal\"\n",
    "driver.get(url)\n",
    "time.sleep(2)"
   ]
  },
  {
   "cell_type": "code",
   "execution_count": 78,
   "id": "10c21a7c",
   "metadata": {},
   "outputs": [
    {
     "name": "stderr",
     "output_type": "stream",
     "text": [
      "<ipython-input-78-0d3d8fa01617>:1: DeprecationWarning: find_elements_by_xpath is deprecated. Please use find_elements(by=By.XPATH, value=xpath) instead\n",
      "  flights=driver.find_elements_by_xpath('//div[@class=\"flight-det table full-width clearfix\"]')\n"
     ]
    },
    {
     "data": {
      "text/plain": [
       "52"
      ]
     },
     "execution_count": 78,
     "metadata": {},
     "output_type": "execute_result"
    }
   ],
   "source": [
    "flights=driver.find_elements_by_xpath('//div[@class=\"flight-det table full-width clearfix\"]')\n",
    "len(flights)"
   ]
  },
  {
   "cell_type": "code",
   "execution_count": 79,
   "id": "eddf1cbd",
   "metadata": {},
   "outputs": [
    {
     "name": "stderr",
     "output_type": "stream",
     "text": [
      "<ipython-input-79-bb9a819e7382>:1: DeprecationWarning: find_elements_by_xpath is deprecated. Please use find_elements(by=By.XPATH, value=xpath) instead\n",
      "  airlines = driver.find_elements_by_xpath(\"//div[@class='fs-13 airline-name no-pad col-8']/span\")\n",
      "<ipython-input-79-bb9a819e7382>:7: DeprecationWarning: find_elements_by_xpath is deprecated. Please use find_elements(by=By.XPATH, value=xpath) instead\n",
      "  aeroplanes = driver.find_elements_by_xpath('//p[@class=\"normal fs-11 font-lightestgrey no-wrap fl-no\"]/span')\n",
      "100%|██████████████████████████████████████████████████████████████████████████████████| 52/52 [00:00<00:00, 82.43it/s]\n",
      "<ipython-input-79-bb9a819e7382>:13: DeprecationWarning: find_elements_by_xpath is deprecated. Please use find_elements(by=By.XPATH, value=xpath) instead\n",
      "  dept_times = driver.find_elements_by_xpath('//div[@class=\"i-b pr\"]')\n",
      "100%|██████████████████████████████████████████████████████████████████████████████████| 52/52 [00:00<00:00, 83.96it/s]\n",
      "<ipython-input-79-bb9a819e7382>:19: DeprecationWarning: find_elements_by_xpath is deprecated. Please use find_elements(by=By.XPATH, value=xpath) instead\n",
      "  arrival = driver.find_elements_by_xpath('//p[@class=\"bold fs-15 mb-2 pr time\"]')\n",
      "100%|██████████████████████████████████████████████████████████████████████████████████| 52/52 [00:00<00:00, 84.37it/s]\n",
      "<ipython-input-79-bb9a819e7382>:25: DeprecationWarning: find_elements_by_xpath is deprecated. Please use find_elements(by=By.XPATH, value=xpath) instead\n",
      "  source = driver.find_elements_by_xpath(\"//div[@class='i-b col-4 no-wrap text-right dtime col-3']/p\")\n",
      "100%|██████████████████████████████████████████████████████████████████████████████████| 52/52 [00:00<00:00, 77.73it/s]\n",
      "<ipython-input-79-bb9a819e7382>:31: DeprecationWarning: find_elements_by_xpath is deprecated. Please use find_elements(by=By.XPATH, value=xpath) instead\n",
      "  destination = driver.find_elements_by_xpath('//div[@class=\"i-b pdd-0 text-left atime col-5\"]/p[2]')\n",
      "100%|██████████████████████████████████████████████████████████████████████████████████| 52/52 [00:00<00:00, 82.91it/s]\n",
      "<ipython-input-79-bb9a819e7382>:37: DeprecationWarning: find_elements_by_xpath is deprecated. Please use find_elements(by=By.XPATH, value=xpath) instead\n",
      "  duration = driver.find_elements_by_xpath('//div[@class=\"stop-cont pl-13\"]/p')\n",
      "100%|██████████████████████████████████████████████████████████████████████████████████| 52/52 [00:00<00:00, 77.53it/s]\n",
      "<ipython-input-79-bb9a819e7382>:43: DeprecationWarning: find_elements_by_xpath is deprecated. Please use find_elements(by=By.XPATH, value=xpath) instead\n",
      "  stop = driver.find_elements_by_xpath(\"//div[@class='stop-cont pl-13']/div/span\")\n",
      "100%|██████████████████████████████████████████████████████████████████████████████████| 52/52 [00:00<00:00, 79.37it/s]\n",
      "<ipython-input-79-bb9a819e7382>:50: DeprecationWarning: find_elements_by_xpath is deprecated. Please use find_elements(by=By.XPATH, value=xpath) instead\n",
      "  price = driver.find_elements_by_xpath('//div[@class=\"i-b tipsy fare-summary-tooltip fs-18\"]')\n",
      "100%|██████████████████████████████████████████████████████████████████████████████████| 52/52 [00:00<00:00, 63.77it/s]\n",
      "<ipython-input-79-bb9a819e7382>:58: DeprecationWarning: find_elements_by_xpath is deprecated. Please use find_elements(by=By.XPATH, value=xpath) instead\n",
      "  Button = driver.find_elements_by_xpath('//div[@class=\"link-color fs-12 cursor-pointer\"]/span')\n",
      "<ipython-input-79-bb9a819e7382>:62: DeprecationWarning: find_element_by_xpath is deprecated. Please use find_element(by=By.XPATH, value=xpath) instead\n",
      "  date = driver.find_element_by_xpath('//div[@class=\"bold fs-12 mb-5\"]')\n",
      "100%|██████████████████████████████████████████████████████████████████████████████████████████| 52/52 [00:00<?, ?it/s]\n"
     ]
    }
   ],
   "source": [
    "airlines = driver.find_elements_by_xpath(\"//div[@class='fs-13 airline-name no-pad col-8']/span\")\n",
    "for i in airlines:\n",
    "    Airlines.append(i.text.replace(\"\\n\",\" \"))\n",
    "else :\n",
    "    pass\n",
    "\n",
    "aeroplanes = driver.find_elements_by_xpath('//p[@class=\"normal fs-11 font-lightestgrey no-wrap fl-no\"]/span')\n",
    "for i in tqdm(aeroplanes):\n",
    "    Aeroplane.append(i.text) \n",
    "else:\n",
    "    pass\n",
    "\n",
    "dept_times = driver.find_elements_by_xpath('//div[@class=\"i-b pr\"]')\n",
    "for i in tqdm(dept_times):\n",
    "    Dept_time.append(i.text)\n",
    "else :\n",
    "    pass\n",
    "\n",
    "arrival = driver.find_elements_by_xpath('//p[@class=\"bold fs-15 mb-2 pr time\"]')\n",
    "for i in tqdm(arrival):\n",
    "    Arrival_time.append(i.text)\n",
    "else :\n",
    "    pass\n",
    "\n",
    "source = driver.find_elements_by_xpath(\"//div[@class='i-b col-4 no-wrap text-right dtime col-3']/p\")\n",
    "for i in tqdm(source):\n",
    "    Source.append(i.text)\n",
    "else :\n",
    "    pass\n",
    "\n",
    "destination = driver.find_elements_by_xpath('//div[@class=\"i-b pdd-0 text-left atime col-5\"]/p[2]')\n",
    "for i in tqdm(destination):\n",
    "    Destination.append(i.text)\n",
    "else:\n",
    "    pass\n",
    "\n",
    "duration = driver.find_elements_by_xpath('//div[@class=\"stop-cont pl-13\"]/p')\n",
    "for i in tqdm(duration):\n",
    "    Duration.append(i.text)\n",
    "else:\n",
    "    pass\n",
    "\n",
    "stop = driver.find_elements_by_xpath(\"//div[@class='stop-cont pl-13']/div/span\")\n",
    "for i in tqdm(stop):\n",
    "    Stops.append(i.text)\n",
    "else:\n",
    "    pass\n",
    "\n",
    "count = 0\n",
    "price = driver.find_elements_by_xpath('//div[@class=\"i-b tipsy fare-summary-tooltip fs-18\"]')\n",
    "for i in tqdm(price):\n",
    "    Price.append(i.text.replace(',',''))\n",
    "    count = count +1\n",
    "else:\n",
    "    count = count +1\n",
    "    pass\n",
    "\n",
    "Button = driver.find_elements_by_xpath('//div[@class=\"link-color fs-12 cursor-pointer\"]/span')\n",
    "driver.execute_script(\"arguments[0].click();\", WebDriverWait(driver, 20).until(EC.element_to_be_clickable((By.XPATH,'//div[@class=\"link-color fs-12 cursor-pointer\"]/span'))))\n",
    "time.sleep(1)\n",
    "\n",
    "date = driver.find_element_by_xpath('//div[@class=\"bold fs-12 mb-5\"]')\n",
    "a = date.text\n",
    "for i in tqdm(range(count-1)):\n",
    "    Date.append(a)\n",
    "else:\n",
    "    pass"
   ]
  },
  {
   "cell_type": "code",
   "execution_count": 80,
   "id": "9e370034",
   "metadata": {},
   "outputs": [
    {
     "data": {
      "text/plain": [
       "(2194, 2194, 2194, 2194, 2194, 2194, 2194, 2194, 2194)"
      ]
     },
     "execution_count": 80,
     "metadata": {},
     "output_type": "execute_result"
    }
   ],
   "source": [
    "len(Airlines), len(Dept_time), len(Arrival_time), len(Source), len(Destination), len(Duration), len(Stops),len(Price), len(Date)"
   ]
  },
  {
   "cell_type": "code",
   "execution_count": 10,
   "id": "5e0e48e9",
   "metadata": {},
   "outputs": [],
   "source": [
    "# Opening Business flights from New Dehli to Bombay on 25 July 2022"
   ]
  },
  {
   "cell_type": "code",
   "execution_count": 81,
   "id": "51753161",
   "metadata": {},
   "outputs": [
    {
     "name": "stderr",
     "output_type": "stream",
     "text": [
      "<ipython-input-81-0d3d8fa01617>:1: DeprecationWarning: find_elements_by_xpath is deprecated. Please use find_elements(by=By.XPATH, value=xpath) instead\n",
      "  flights=driver.find_elements_by_xpath('//div[@class=\"flight-det table full-width clearfix\"]')\n"
     ]
    },
    {
     "data": {
      "text/plain": [
       "60"
      ]
     },
     "execution_count": 81,
     "metadata": {},
     "output_type": "execute_result"
    }
   ],
   "source": [
    "flights=driver.find_elements_by_xpath('//div[@class=\"flight-det table full-width clearfix\"]')\n",
    "len(flights)"
   ]
  },
  {
   "cell_type": "code",
   "execution_count": 82,
   "id": "23bad4e4",
   "metadata": {},
   "outputs": [
    {
     "name": "stderr",
     "output_type": "stream",
     "text": [
      "<ipython-input-82-bb9a819e7382>:1: DeprecationWarning: find_elements_by_xpath is deprecated. Please use find_elements(by=By.XPATH, value=xpath) instead\n",
      "  airlines = driver.find_elements_by_xpath(\"//div[@class='fs-13 airline-name no-pad col-8']/span\")\n",
      "<ipython-input-82-bb9a819e7382>:7: DeprecationWarning: find_elements_by_xpath is deprecated. Please use find_elements(by=By.XPATH, value=xpath) instead\n",
      "  aeroplanes = driver.find_elements_by_xpath('//p[@class=\"normal fs-11 font-lightestgrey no-wrap fl-no\"]/span')\n",
      "100%|██████████████████████████████████████████████████████████████████████████████████| 60/60 [00:00<00:00, 74.73it/s]\n",
      "<ipython-input-82-bb9a819e7382>:13: DeprecationWarning: find_elements_by_xpath is deprecated. Please use find_elements(by=By.XPATH, value=xpath) instead\n",
      "  dept_times = driver.find_elements_by_xpath('//div[@class=\"i-b pr\"]')\n",
      "100%|██████████████████████████████████████████████████████████████████████████████████| 60/60 [00:00<00:00, 88.81it/s]\n",
      "<ipython-input-82-bb9a819e7382>:19: DeprecationWarning: find_elements_by_xpath is deprecated. Please use find_elements(by=By.XPATH, value=xpath) instead\n",
      "  arrival = driver.find_elements_by_xpath('//p[@class=\"bold fs-15 mb-2 pr time\"]')\n",
      "100%|██████████████████████████████████████████████████████████████████████████████████| 60/60 [00:00<00:00, 84.56it/s]\n",
      "<ipython-input-82-bb9a819e7382>:25: DeprecationWarning: find_elements_by_xpath is deprecated. Please use find_elements(by=By.XPATH, value=xpath) instead\n",
      "  source = driver.find_elements_by_xpath(\"//div[@class='i-b col-4 no-wrap text-right dtime col-3']/p\")\n",
      "100%|██████████████████████████████████████████████████████████████████████████████████| 60/60 [00:00<00:00, 80.17it/s]\n",
      "<ipython-input-82-bb9a819e7382>:31: DeprecationWarning: find_elements_by_xpath is deprecated. Please use find_elements(by=By.XPATH, value=xpath) instead\n",
      "  destination = driver.find_elements_by_xpath('//div[@class=\"i-b pdd-0 text-left atime col-5\"]/p[2]')\n",
      "100%|██████████████████████████████████████████████████████████████████████████████████| 60/60 [00:00<00:00, 83.60it/s]\n",
      "<ipython-input-82-bb9a819e7382>:37: DeprecationWarning: find_elements_by_xpath is deprecated. Please use find_elements(by=By.XPATH, value=xpath) instead\n",
      "  duration = driver.find_elements_by_xpath('//div[@class=\"stop-cont pl-13\"]/p')\n",
      "100%|██████████████████████████████████████████████████████████████████████████████████| 60/60 [00:00<00:00, 72.27it/s]\n",
      "<ipython-input-82-bb9a819e7382>:43: DeprecationWarning: find_elements_by_xpath is deprecated. Please use find_elements(by=By.XPATH, value=xpath) instead\n",
      "  stop = driver.find_elements_by_xpath(\"//div[@class='stop-cont pl-13']/div/span\")\n",
      "100%|██████████████████████████████████████████████████████████████████████████████████| 60/60 [00:00<00:00, 80.24it/s]\n",
      "<ipython-input-82-bb9a819e7382>:50: DeprecationWarning: find_elements_by_xpath is deprecated. Please use find_elements(by=By.XPATH, value=xpath) instead\n",
      "  price = driver.find_elements_by_xpath('//div[@class=\"i-b tipsy fare-summary-tooltip fs-18\"]')\n",
      "100%|██████████████████████████████████████████████████████████████████████████████████| 60/60 [00:00<00:00, 67.56it/s]\n",
      "<ipython-input-82-bb9a819e7382>:58: DeprecationWarning: find_elements_by_xpath is deprecated. Please use find_elements(by=By.XPATH, value=xpath) instead\n",
      "  Button = driver.find_elements_by_xpath('//div[@class=\"link-color fs-12 cursor-pointer\"]/span')\n",
      "<ipython-input-82-bb9a819e7382>:62: DeprecationWarning: find_element_by_xpath is deprecated. Please use find_element(by=By.XPATH, value=xpath) instead\n",
      "  date = driver.find_element_by_xpath('//div[@class=\"bold fs-12 mb-5\"]')\n",
      "100%|██████████████████████████████████████████████████████████████████████████████████████████| 60/60 [00:00<?, ?it/s]\n"
     ]
    }
   ],
   "source": [
    "airlines = driver.find_elements_by_xpath(\"//div[@class='fs-13 airline-name no-pad col-8']/span\")\n",
    "for i in airlines:\n",
    "    Airlines.append(i.text.replace(\"\\n\",\" \"))\n",
    "else :\n",
    "    pass\n",
    "\n",
    "aeroplanes = driver.find_elements_by_xpath('//p[@class=\"normal fs-11 font-lightestgrey no-wrap fl-no\"]/span')\n",
    "for i in tqdm(aeroplanes):\n",
    "    Aeroplane.append(i.text) \n",
    "else:\n",
    "    pass\n",
    "\n",
    "dept_times = driver.find_elements_by_xpath('//div[@class=\"i-b pr\"]')\n",
    "for i in tqdm(dept_times):\n",
    "    Dept_time.append(i.text)\n",
    "else :\n",
    "    pass\n",
    "\n",
    "arrival = driver.find_elements_by_xpath('//p[@class=\"bold fs-15 mb-2 pr time\"]')\n",
    "for i in tqdm(arrival):\n",
    "    Arrival_time.append(i.text)\n",
    "else :\n",
    "    pass\n",
    "\n",
    "source = driver.find_elements_by_xpath(\"//div[@class='i-b col-4 no-wrap text-right dtime col-3']/p\")\n",
    "for i in tqdm(source):\n",
    "    Source.append(i.text)\n",
    "else :\n",
    "    pass\n",
    "\n",
    "destination = driver.find_elements_by_xpath('//div[@class=\"i-b pdd-0 text-left atime col-5\"]/p[2]')\n",
    "for i in tqdm(destination):\n",
    "    Destination.append(i.text)\n",
    "else:\n",
    "    pass\n",
    "\n",
    "duration = driver.find_elements_by_xpath('//div[@class=\"stop-cont pl-13\"]/p')\n",
    "for i in tqdm(duration):\n",
    "    Duration.append(i.text)\n",
    "else:\n",
    "    pass\n",
    "\n",
    "stop = driver.find_elements_by_xpath(\"//div[@class='stop-cont pl-13']/div/span\")\n",
    "for i in tqdm(stop):\n",
    "    Stops.append(i.text)\n",
    "else:\n",
    "    pass\n",
    "\n",
    "count = 0\n",
    "price = driver.find_elements_by_xpath('//div[@class=\"i-b tipsy fare-summary-tooltip fs-18\"]')\n",
    "for i in tqdm(price):\n",
    "    Price.append(i.text.replace(',',''))\n",
    "    count = count +1\n",
    "else:\n",
    "    count = count +1\n",
    "    pass\n",
    "\n",
    "Button = driver.find_elements_by_xpath('//div[@class=\"link-color fs-12 cursor-pointer\"]/span')\n",
    "driver.execute_script(\"arguments[0].click();\", WebDriverWait(driver, 20).until(EC.element_to_be_clickable((By.XPATH,'//div[@class=\"link-color fs-12 cursor-pointer\"]/span'))))\n",
    "time.sleep(1)\n",
    "\n",
    "date = driver.find_element_by_xpath('//div[@class=\"bold fs-12 mb-5\"]')\n",
    "a = date.text\n",
    "for i in tqdm(range(count-1)):\n",
    "    Date.append(a)\n",
    "else:\n",
    "    pass"
   ]
  },
  {
   "cell_type": "code",
   "execution_count": 83,
   "id": "134be85c",
   "metadata": {},
   "outputs": [
    {
     "data": {
      "text/plain": [
       "(2254, 2254, 2254, 2254, 2254, 2254, 2254, 2254, 2254)"
      ]
     },
     "execution_count": 83,
     "metadata": {},
     "output_type": "execute_result"
    }
   ],
   "source": [
    "len(Airlines), len(Dept_time), len(Arrival_time), len(Source), len(Destination), len(Duration), len(Stops),len(Price), len(Date)"
   ]
  },
  {
   "cell_type": "code",
   "execution_count": 11,
   "id": "0bb81bbf",
   "metadata": {},
   "outputs": [],
   "source": [
    "# Opening Business flights from New Dehli to Bombay on 26 July 2022"
   ]
  },
  {
   "cell_type": "code",
   "execution_count": 84,
   "id": "56ac09e6",
   "metadata": {},
   "outputs": [
    {
     "name": "stderr",
     "output_type": "stream",
     "text": [
      "<ipython-input-84-0d3d8fa01617>:1: DeprecationWarning: find_elements_by_xpath is deprecated. Please use find_elements(by=By.XPATH, value=xpath) instead\n",
      "  flights=driver.find_elements_by_xpath('//div[@class=\"flight-det table full-width clearfix\"]')\n"
     ]
    },
    {
     "data": {
      "text/plain": [
       "54"
      ]
     },
     "execution_count": 84,
     "metadata": {},
     "output_type": "execute_result"
    }
   ],
   "source": [
    "flights=driver.find_elements_by_xpath('//div[@class=\"flight-det table full-width clearfix\"]')\n",
    "len(flights)"
   ]
  },
  {
   "cell_type": "code",
   "execution_count": 85,
   "id": "ec50eaae",
   "metadata": {},
   "outputs": [
    {
     "name": "stderr",
     "output_type": "stream",
     "text": [
      "<ipython-input-85-bb9a819e7382>:1: DeprecationWarning: find_elements_by_xpath is deprecated. Please use find_elements(by=By.XPATH, value=xpath) instead\n",
      "  airlines = driver.find_elements_by_xpath(\"//div[@class='fs-13 airline-name no-pad col-8']/span\")\n",
      "<ipython-input-85-bb9a819e7382>:7: DeprecationWarning: find_elements_by_xpath is deprecated. Please use find_elements(by=By.XPATH, value=xpath) instead\n",
      "  aeroplanes = driver.find_elements_by_xpath('//p[@class=\"normal fs-11 font-lightestgrey no-wrap fl-no\"]/span')\n",
      "100%|██████████████████████████████████████████████████████████████████████████████████| 54/54 [00:00<00:00, 76.90it/s]\n",
      "<ipython-input-85-bb9a819e7382>:13: DeprecationWarning: find_elements_by_xpath is deprecated. Please use find_elements(by=By.XPATH, value=xpath) instead\n",
      "  dept_times = driver.find_elements_by_xpath('//div[@class=\"i-b pr\"]')\n",
      "100%|██████████████████████████████████████████████████████████████████████████████████| 54/54 [00:00<00:00, 80.50it/s]\n",
      "<ipython-input-85-bb9a819e7382>:19: DeprecationWarning: find_elements_by_xpath is deprecated. Please use find_elements(by=By.XPATH, value=xpath) instead\n",
      "  arrival = driver.find_elements_by_xpath('//p[@class=\"bold fs-15 mb-2 pr time\"]')\n",
      "100%|██████████████████████████████████████████████████████████████████████████████████| 54/54 [00:00<00:00, 86.99it/s]\n",
      "<ipython-input-85-bb9a819e7382>:25: DeprecationWarning: find_elements_by_xpath is deprecated. Please use find_elements(by=By.XPATH, value=xpath) instead\n",
      "  source = driver.find_elements_by_xpath(\"//div[@class='i-b col-4 no-wrap text-right dtime col-3']/p\")\n",
      "100%|██████████████████████████████████████████████████████████████████████████████████| 54/54 [00:00<00:00, 83.71it/s]\n",
      "<ipython-input-85-bb9a819e7382>:31: DeprecationWarning: find_elements_by_xpath is deprecated. Please use find_elements(by=By.XPATH, value=xpath) instead\n",
      "  destination = driver.find_elements_by_xpath('//div[@class=\"i-b pdd-0 text-left atime col-5\"]/p[2]')\n",
      "100%|██████████████████████████████████████████████████████████████████████████████████| 54/54 [00:00<00:00, 87.24it/s]\n",
      "<ipython-input-85-bb9a819e7382>:37: DeprecationWarning: find_elements_by_xpath is deprecated. Please use find_elements(by=By.XPATH, value=xpath) instead\n",
      "  duration = driver.find_elements_by_xpath('//div[@class=\"stop-cont pl-13\"]/p')\n",
      "100%|██████████████████████████████████████████████████████████████████████████████████| 54/54 [00:00<00:00, 74.98it/s]\n",
      "<ipython-input-85-bb9a819e7382>:43: DeprecationWarning: find_elements_by_xpath is deprecated. Please use find_elements(by=By.XPATH, value=xpath) instead\n",
      "  stop = driver.find_elements_by_xpath(\"//div[@class='stop-cont pl-13']/div/span\")\n",
      "100%|██████████████████████████████████████████████████████████████████████████████████| 54/54 [00:00<00:00, 75.96it/s]\n",
      "<ipython-input-85-bb9a819e7382>:50: DeprecationWarning: find_elements_by_xpath is deprecated. Please use find_elements(by=By.XPATH, value=xpath) instead\n",
      "  price = driver.find_elements_by_xpath('//div[@class=\"i-b tipsy fare-summary-tooltip fs-18\"]')\n",
      "100%|██████████████████████████████████████████████████████████████████████████████████| 54/54 [00:00<00:00, 70.96it/s]\n",
      "<ipython-input-85-bb9a819e7382>:58: DeprecationWarning: find_elements_by_xpath is deprecated. Please use find_elements(by=By.XPATH, value=xpath) instead\n",
      "  Button = driver.find_elements_by_xpath('//div[@class=\"link-color fs-12 cursor-pointer\"]/span')\n",
      "<ipython-input-85-bb9a819e7382>:62: DeprecationWarning: find_element_by_xpath is deprecated. Please use find_element(by=By.XPATH, value=xpath) instead\n",
      "  date = driver.find_element_by_xpath('//div[@class=\"bold fs-12 mb-5\"]')\n",
      "100%|██████████████████████████████████████████████████████████████████████████████████████████| 54/54 [00:00<?, ?it/s]\n"
     ]
    }
   ],
   "source": [
    "airlines = driver.find_elements_by_xpath(\"//div[@class='fs-13 airline-name no-pad col-8']/span\")\n",
    "for i in airlines:\n",
    "    Airlines.append(i.text.replace(\"\\n\",\" \"))\n",
    "else :\n",
    "    pass\n",
    "\n",
    "aeroplanes = driver.find_elements_by_xpath('//p[@class=\"normal fs-11 font-lightestgrey no-wrap fl-no\"]/span')\n",
    "for i in tqdm(aeroplanes):\n",
    "    Aeroplane.append(i.text) \n",
    "else:\n",
    "    pass\n",
    "\n",
    "dept_times = driver.find_elements_by_xpath('//div[@class=\"i-b pr\"]')\n",
    "for i in tqdm(dept_times):\n",
    "    Dept_time.append(i.text)\n",
    "else :\n",
    "    pass\n",
    "\n",
    "arrival = driver.find_elements_by_xpath('//p[@class=\"bold fs-15 mb-2 pr time\"]')\n",
    "for i in tqdm(arrival):\n",
    "    Arrival_time.append(i.text)\n",
    "else :\n",
    "    pass\n",
    "\n",
    "source = driver.find_elements_by_xpath(\"//div[@class='i-b col-4 no-wrap text-right dtime col-3']/p\")\n",
    "for i in tqdm(source):\n",
    "    Source.append(i.text)\n",
    "else :\n",
    "    pass\n",
    "\n",
    "destination = driver.find_elements_by_xpath('//div[@class=\"i-b pdd-0 text-left atime col-5\"]/p[2]')\n",
    "for i in tqdm(destination):\n",
    "    Destination.append(i.text)\n",
    "else:\n",
    "    pass\n",
    "\n",
    "duration = driver.find_elements_by_xpath('//div[@class=\"stop-cont pl-13\"]/p')\n",
    "for i in tqdm(duration):\n",
    "    Duration.append(i.text)\n",
    "else:\n",
    "    pass\n",
    "\n",
    "stop = driver.find_elements_by_xpath(\"//div[@class='stop-cont pl-13']/div/span\")\n",
    "for i in tqdm(stop):\n",
    "    Stops.append(i.text)\n",
    "else:\n",
    "    pass\n",
    "\n",
    "count = 0\n",
    "price = driver.find_elements_by_xpath('//div[@class=\"i-b tipsy fare-summary-tooltip fs-18\"]')\n",
    "for i in tqdm(price):\n",
    "    Price.append(i.text.replace(',',''))\n",
    "    count = count +1\n",
    "else:\n",
    "    count = count +1\n",
    "    pass\n",
    "\n",
    "Button = driver.find_elements_by_xpath('//div[@class=\"link-color fs-12 cursor-pointer\"]/span')\n",
    "driver.execute_script(\"arguments[0].click();\", WebDriverWait(driver, 20).until(EC.element_to_be_clickable((By.XPATH,'//div[@class=\"link-color fs-12 cursor-pointer\"]/span'))))\n",
    "time.sleep(1)\n",
    "\n",
    "date = driver.find_element_by_xpath('//div[@class=\"bold fs-12 mb-5\"]')\n",
    "a = date.text\n",
    "for i in tqdm(range(count-1)):\n",
    "    Date.append(a)\n",
    "else:\n",
    "    pass"
   ]
  },
  {
   "cell_type": "code",
   "execution_count": 86,
   "id": "195f8dbb",
   "metadata": {},
   "outputs": [
    {
     "data": {
      "text/plain": [
       "(2308, 2308, 2308, 2308, 2308, 2308, 2308, 2308, 2308)"
      ]
     },
     "execution_count": 86,
     "metadata": {},
     "output_type": "execute_result"
    }
   ],
   "source": [
    "len(Airlines), len(Dept_time), len(Arrival_time), len(Source), len(Destination), len(Duration), len(Stops),len(Price), len(Date)"
   ]
  },
  {
   "cell_type": "code",
   "execution_count": 12,
   "id": "d382a054",
   "metadata": {},
   "outputs": [],
   "source": [
    "# Opening Business flights from New Dehli to Bombay on 27 July 2022"
   ]
  },
  {
   "cell_type": "code",
   "execution_count": 87,
   "id": "8e1b2745",
   "metadata": {},
   "outputs": [
    {
     "name": "stderr",
     "output_type": "stream",
     "text": [
      "<ipython-input-87-0d3d8fa01617>:1: DeprecationWarning: find_elements_by_xpath is deprecated. Please use find_elements(by=By.XPATH, value=xpath) instead\n",
      "  flights=driver.find_elements_by_xpath('//div[@class=\"flight-det table full-width clearfix\"]')\n"
     ]
    },
    {
     "data": {
      "text/plain": [
       "57"
      ]
     },
     "execution_count": 87,
     "metadata": {},
     "output_type": "execute_result"
    }
   ],
   "source": [
    "flights=driver.find_elements_by_xpath('//div[@class=\"flight-det table full-width clearfix\"]')\n",
    "len(flights)"
   ]
  },
  {
   "cell_type": "code",
   "execution_count": 88,
   "id": "e1bbde7f",
   "metadata": {},
   "outputs": [
    {
     "name": "stderr",
     "output_type": "stream",
     "text": [
      "<ipython-input-88-bb9a819e7382>:1: DeprecationWarning: find_elements_by_xpath is deprecated. Please use find_elements(by=By.XPATH, value=xpath) instead\n",
      "  airlines = driver.find_elements_by_xpath(\"//div[@class='fs-13 airline-name no-pad col-8']/span\")\n",
      "<ipython-input-88-bb9a819e7382>:7: DeprecationWarning: find_elements_by_xpath is deprecated. Please use find_elements(by=By.XPATH, value=xpath) instead\n",
      "  aeroplanes = driver.find_elements_by_xpath('//p[@class=\"normal fs-11 font-lightestgrey no-wrap fl-no\"]/span')\n",
      "100%|██████████████████████████████████████████████████████████████████████████████████| 57/57 [00:00<00:00, 81.77it/s]\n",
      "<ipython-input-88-bb9a819e7382>:13: DeprecationWarning: find_elements_by_xpath is deprecated. Please use find_elements(by=By.XPATH, value=xpath) instead\n",
      "  dept_times = driver.find_elements_by_xpath('//div[@class=\"i-b pr\"]')\n",
      "100%|██████████████████████████████████████████████████████████████████████████████████| 57/57 [00:00<00:00, 87.31it/s]\n",
      "<ipython-input-88-bb9a819e7382>:19: DeprecationWarning: find_elements_by_xpath is deprecated. Please use find_elements(by=By.XPATH, value=xpath) instead\n",
      "  arrival = driver.find_elements_by_xpath('//p[@class=\"bold fs-15 mb-2 pr time\"]')\n",
      "100%|██████████████████████████████████████████████████████████████████████████████████| 57/57 [00:00<00:00, 85.81it/s]\n",
      "<ipython-input-88-bb9a819e7382>:25: DeprecationWarning: find_elements_by_xpath is deprecated. Please use find_elements(by=By.XPATH, value=xpath) instead\n",
      "  source = driver.find_elements_by_xpath(\"//div[@class='i-b col-4 no-wrap text-right dtime col-3']/p\")\n",
      "100%|██████████████████████████████████████████████████████████████████████████████████| 57/57 [00:00<00:00, 83.76it/s]\n",
      "<ipython-input-88-bb9a819e7382>:31: DeprecationWarning: find_elements_by_xpath is deprecated. Please use find_elements(by=By.XPATH, value=xpath) instead\n",
      "  destination = driver.find_elements_by_xpath('//div[@class=\"i-b pdd-0 text-left atime col-5\"]/p[2]')\n",
      "100%|██████████████████████████████████████████████████████████████████████████████████| 57/57 [00:00<00:00, 78.21it/s]\n",
      "<ipython-input-88-bb9a819e7382>:37: DeprecationWarning: find_elements_by_xpath is deprecated. Please use find_elements(by=By.XPATH, value=xpath) instead\n",
      "  duration = driver.find_elements_by_xpath('//div[@class=\"stop-cont pl-13\"]/p')\n",
      "100%|██████████████████████████████████████████████████████████████████████████████████| 57/57 [00:00<00:00, 75.69it/s]\n",
      "<ipython-input-88-bb9a819e7382>:43: DeprecationWarning: find_elements_by_xpath is deprecated. Please use find_elements(by=By.XPATH, value=xpath) instead\n",
      "  stop = driver.find_elements_by_xpath(\"//div[@class='stop-cont pl-13']/div/span\")\n",
      "100%|██████████████████████████████████████████████████████████████████████████████████| 57/57 [00:00<00:00, 79.45it/s]\n",
      "<ipython-input-88-bb9a819e7382>:50: DeprecationWarning: find_elements_by_xpath is deprecated. Please use find_elements(by=By.XPATH, value=xpath) instead\n",
      "  price = driver.find_elements_by_xpath('//div[@class=\"i-b tipsy fare-summary-tooltip fs-18\"]')\n",
      "100%|██████████████████████████████████████████████████████████████████████████████████| 57/57 [00:00<00:00, 70.10it/s]\n",
      "<ipython-input-88-bb9a819e7382>:58: DeprecationWarning: find_elements_by_xpath is deprecated. Please use find_elements(by=By.XPATH, value=xpath) instead\n",
      "  Button = driver.find_elements_by_xpath('//div[@class=\"link-color fs-12 cursor-pointer\"]/span')\n",
      "<ipython-input-88-bb9a819e7382>:62: DeprecationWarning: find_element_by_xpath is deprecated. Please use find_element(by=By.XPATH, value=xpath) instead\n",
      "  date = driver.find_element_by_xpath('//div[@class=\"bold fs-12 mb-5\"]')\n",
      "100%|██████████████████████████████████████████████████████████████████████████████████████████| 57/57 [00:00<?, ?it/s]\n"
     ]
    }
   ],
   "source": [
    "airlines = driver.find_elements_by_xpath(\"//div[@class='fs-13 airline-name no-pad col-8']/span\")\n",
    "for i in airlines:\n",
    "    Airlines.append(i.text.replace(\"\\n\",\" \"))\n",
    "else :\n",
    "    pass\n",
    "\n",
    "aeroplanes = driver.find_elements_by_xpath('//p[@class=\"normal fs-11 font-lightestgrey no-wrap fl-no\"]/span')\n",
    "for i in tqdm(aeroplanes):\n",
    "    Aeroplane.append(i.text) \n",
    "else:\n",
    "    pass\n",
    "\n",
    "dept_times = driver.find_elements_by_xpath('//div[@class=\"i-b pr\"]')\n",
    "for i in tqdm(dept_times):\n",
    "    Dept_time.append(i.text)\n",
    "else :\n",
    "    pass\n",
    "\n",
    "arrival = driver.find_elements_by_xpath('//p[@class=\"bold fs-15 mb-2 pr time\"]')\n",
    "for i in tqdm(arrival):\n",
    "    Arrival_time.append(i.text)\n",
    "else :\n",
    "    pass\n",
    "\n",
    "source = driver.find_elements_by_xpath(\"//div[@class='i-b col-4 no-wrap text-right dtime col-3']/p\")\n",
    "for i in tqdm(source):\n",
    "    Source.append(i.text)\n",
    "else :\n",
    "    pass\n",
    "\n",
    "destination = driver.find_elements_by_xpath('//div[@class=\"i-b pdd-0 text-left atime col-5\"]/p[2]')\n",
    "for i in tqdm(destination):\n",
    "    Destination.append(i.text)\n",
    "else:\n",
    "    pass\n",
    "\n",
    "duration = driver.find_elements_by_xpath('//div[@class=\"stop-cont pl-13\"]/p')\n",
    "for i in tqdm(duration):\n",
    "    Duration.append(i.text)\n",
    "else:\n",
    "    pass\n",
    "\n",
    "stop = driver.find_elements_by_xpath(\"//div[@class='stop-cont pl-13']/div/span\")\n",
    "for i in tqdm(stop):\n",
    "    Stops.append(i.text)\n",
    "else:\n",
    "    pass\n",
    "\n",
    "count = 0\n",
    "price = driver.find_elements_by_xpath('//div[@class=\"i-b tipsy fare-summary-tooltip fs-18\"]')\n",
    "for i in tqdm(price):\n",
    "    Price.append(i.text.replace(',',''))\n",
    "    count = count +1\n",
    "else:\n",
    "    count = count +1\n",
    "    pass\n",
    "\n",
    "Button = driver.find_elements_by_xpath('//div[@class=\"link-color fs-12 cursor-pointer\"]/span')\n",
    "driver.execute_script(\"arguments[0].click();\", WebDriverWait(driver, 20).until(EC.element_to_be_clickable((By.XPATH,'//div[@class=\"link-color fs-12 cursor-pointer\"]/span'))))\n",
    "time.sleep(1)\n",
    "\n",
    "date = driver.find_element_by_xpath('//div[@class=\"bold fs-12 mb-5\"]')\n",
    "a = date.text\n",
    "for i in tqdm(range(count-1)):\n",
    "    Date.append(a)\n",
    "else:\n",
    "    pass"
   ]
  },
  {
   "cell_type": "code",
   "execution_count": 89,
   "id": "8adc7e46",
   "metadata": {},
   "outputs": [
    {
     "data": {
      "text/plain": [
       "(2365, 2365, 2365, 2365, 2365, 2365, 2365, 2365, 2365)"
      ]
     },
     "execution_count": 89,
     "metadata": {},
     "output_type": "execute_result"
    }
   ],
   "source": [
    "len(Airlines), len(Dept_time), len(Arrival_time), len(Source), len(Destination), len(Duration), len(Stops),len(Price), len(Date)"
   ]
  },
  {
   "cell_type": "code",
   "execution_count": 13,
   "id": "7ab4a86b",
   "metadata": {},
   "outputs": [],
   "source": [
    "# Opening Business flights from New Dehli to Bombay on 28 July 2022"
   ]
  },
  {
   "cell_type": "code",
   "execution_count": 90,
   "id": "17cc1b22",
   "metadata": {},
   "outputs": [
    {
     "name": "stderr",
     "output_type": "stream",
     "text": [
      "<ipython-input-90-0d3d8fa01617>:1: DeprecationWarning: find_elements_by_xpath is deprecated. Please use find_elements(by=By.XPATH, value=xpath) instead\n",
      "  flights=driver.find_elements_by_xpath('//div[@class=\"flight-det table full-width clearfix\"]')\n"
     ]
    },
    {
     "data": {
      "text/plain": [
       "63"
      ]
     },
     "execution_count": 90,
     "metadata": {},
     "output_type": "execute_result"
    }
   ],
   "source": [
    "flights=driver.find_elements_by_xpath('//div[@class=\"flight-det table full-width clearfix\"]')\n",
    "len(flights)"
   ]
  },
  {
   "cell_type": "code",
   "execution_count": 91,
   "id": "786aa520",
   "metadata": {},
   "outputs": [
    {
     "name": "stderr",
     "output_type": "stream",
     "text": [
      "<ipython-input-91-bb9a819e7382>:1: DeprecationWarning: find_elements_by_xpath is deprecated. Please use find_elements(by=By.XPATH, value=xpath) instead\n",
      "  airlines = driver.find_elements_by_xpath(\"//div[@class='fs-13 airline-name no-pad col-8']/span\")\n",
      "<ipython-input-91-bb9a819e7382>:7: DeprecationWarning: find_elements_by_xpath is deprecated. Please use find_elements(by=By.XPATH, value=xpath) instead\n",
      "  aeroplanes = driver.find_elements_by_xpath('//p[@class=\"normal fs-11 font-lightestgrey no-wrap fl-no\"]/span')\n",
      "100%|██████████████████████████████████████████████████████████████████████████████████| 63/63 [00:00<00:00, 87.14it/s]\n",
      "<ipython-input-91-bb9a819e7382>:13: DeprecationWarning: find_elements_by_xpath is deprecated. Please use find_elements(by=By.XPATH, value=xpath) instead\n",
      "  dept_times = driver.find_elements_by_xpath('//div[@class=\"i-b pr\"]')\n",
      "100%|██████████████████████████████████████████████████████████████████████████████████| 63/63 [00:00<00:00, 85.23it/s]\n",
      "<ipython-input-91-bb9a819e7382>:19: DeprecationWarning: find_elements_by_xpath is deprecated. Please use find_elements(by=By.XPATH, value=xpath) instead\n",
      "  arrival = driver.find_elements_by_xpath('//p[@class=\"bold fs-15 mb-2 pr time\"]')\n",
      "100%|██████████████████████████████████████████████████████████████████████████████████| 63/63 [00:00<00:00, 74.90it/s]\n",
      "<ipython-input-91-bb9a819e7382>:25: DeprecationWarning: find_elements_by_xpath is deprecated. Please use find_elements(by=By.XPATH, value=xpath) instead\n",
      "  source = driver.find_elements_by_xpath(\"//div[@class='i-b col-4 no-wrap text-right dtime col-3']/p\")\n",
      "100%|██████████████████████████████████████████████████████████████████████████████████| 63/63 [00:00<00:00, 88.76it/s]\n",
      "<ipython-input-91-bb9a819e7382>:31: DeprecationWarning: find_elements_by_xpath is deprecated. Please use find_elements(by=By.XPATH, value=xpath) instead\n",
      "  destination = driver.find_elements_by_xpath('//div[@class=\"i-b pdd-0 text-left atime col-5\"]/p[2]')\n",
      "100%|██████████████████████████████████████████████████████████████████████████████████| 63/63 [00:00<00:00, 77.59it/s]\n",
      "<ipython-input-91-bb9a819e7382>:37: DeprecationWarning: find_elements_by_xpath is deprecated. Please use find_elements(by=By.XPATH, value=xpath) instead\n",
      "  duration = driver.find_elements_by_xpath('//div[@class=\"stop-cont pl-13\"]/p')\n",
      "100%|██████████████████████████████████████████████████████████████████████████████████| 63/63 [00:00<00:00, 75.44it/s]\n",
      "<ipython-input-91-bb9a819e7382>:43: DeprecationWarning: find_elements_by_xpath is deprecated. Please use find_elements(by=By.XPATH, value=xpath) instead\n",
      "  stop = driver.find_elements_by_xpath(\"//div[@class='stop-cont pl-13']/div/span\")\n",
      "100%|██████████████████████████████████████████████████████████████████████████████████| 63/63 [00:00<00:00, 79.26it/s]\n",
      "<ipython-input-91-bb9a819e7382>:50: DeprecationWarning: find_elements_by_xpath is deprecated. Please use find_elements(by=By.XPATH, value=xpath) instead\n",
      "  price = driver.find_elements_by_xpath('//div[@class=\"i-b tipsy fare-summary-tooltip fs-18\"]')\n",
      "100%|██████████████████████████████████████████████████████████████████████████████████| 63/63 [00:00<00:00, 81.64it/s]\n",
      "<ipython-input-91-bb9a819e7382>:58: DeprecationWarning: find_elements_by_xpath is deprecated. Please use find_elements(by=By.XPATH, value=xpath) instead\n",
      "  Button = driver.find_elements_by_xpath('//div[@class=\"link-color fs-12 cursor-pointer\"]/span')\n",
      "<ipython-input-91-bb9a819e7382>:62: DeprecationWarning: find_element_by_xpath is deprecated. Please use find_element(by=By.XPATH, value=xpath) instead\n",
      "  date = driver.find_element_by_xpath('//div[@class=\"bold fs-12 mb-5\"]')\n",
      "100%|██████████████████████████████████████████████████████████████████████████████████████████| 63/63 [00:00<?, ?it/s]\n"
     ]
    }
   ],
   "source": [
    "airlines = driver.find_elements_by_xpath(\"//div[@class='fs-13 airline-name no-pad col-8']/span\")\n",
    "for i in airlines:\n",
    "    Airlines.append(i.text.replace(\"\\n\",\" \"))\n",
    "else :\n",
    "    pass\n",
    "\n",
    "aeroplanes = driver.find_elements_by_xpath('//p[@class=\"normal fs-11 font-lightestgrey no-wrap fl-no\"]/span')\n",
    "for i in tqdm(aeroplanes):\n",
    "    Aeroplane.append(i.text) \n",
    "else:\n",
    "    pass\n",
    "\n",
    "dept_times = driver.find_elements_by_xpath('//div[@class=\"i-b pr\"]')\n",
    "for i in tqdm(dept_times):\n",
    "    Dept_time.append(i.text)\n",
    "else :\n",
    "    pass\n",
    "\n",
    "arrival = driver.find_elements_by_xpath('//p[@class=\"bold fs-15 mb-2 pr time\"]')\n",
    "for i in tqdm(arrival):\n",
    "    Arrival_time.append(i.text)\n",
    "else :\n",
    "    pass\n",
    "\n",
    "source = driver.find_elements_by_xpath(\"//div[@class='i-b col-4 no-wrap text-right dtime col-3']/p\")\n",
    "for i in tqdm(source):\n",
    "    Source.append(i.text)\n",
    "else :\n",
    "    pass\n",
    "\n",
    "destination = driver.find_elements_by_xpath('//div[@class=\"i-b pdd-0 text-left atime col-5\"]/p[2]')\n",
    "for i in tqdm(destination):\n",
    "    Destination.append(i.text)\n",
    "else:\n",
    "    pass\n",
    "\n",
    "duration = driver.find_elements_by_xpath('//div[@class=\"stop-cont pl-13\"]/p')\n",
    "for i in tqdm(duration):\n",
    "    Duration.append(i.text)\n",
    "else:\n",
    "    pass\n",
    "\n",
    "stop = driver.find_elements_by_xpath(\"//div[@class='stop-cont pl-13']/div/span\")\n",
    "for i in tqdm(stop):\n",
    "    Stops.append(i.text)\n",
    "else:\n",
    "    pass\n",
    "\n",
    "count = 0\n",
    "price = driver.find_elements_by_xpath('//div[@class=\"i-b tipsy fare-summary-tooltip fs-18\"]')\n",
    "for i in tqdm(price):\n",
    "    Price.append(i.text.replace(',',''))\n",
    "    count = count +1\n",
    "else:\n",
    "    count = count +1\n",
    "    pass\n",
    "\n",
    "Button = driver.find_elements_by_xpath('//div[@class=\"link-color fs-12 cursor-pointer\"]/span')\n",
    "driver.execute_script(\"arguments[0].click();\", WebDriverWait(driver, 20).until(EC.element_to_be_clickable((By.XPATH,'//div[@class=\"link-color fs-12 cursor-pointer\"]/span'))))\n",
    "time.sleep(1)\n",
    "\n",
    "date = driver.find_element_by_xpath('//div[@class=\"bold fs-12 mb-5\"]')\n",
    "a = date.text\n",
    "for i in tqdm(range(count-1)):\n",
    "    Date.append(a)\n",
    "else:\n",
    "    pass"
   ]
  },
  {
   "cell_type": "code",
   "execution_count": 92,
   "id": "0c6929f7",
   "metadata": {},
   "outputs": [
    {
     "data": {
      "text/plain": [
       "(2428, 2428, 2428, 2428, 2428, 2428, 2428, 2428, 2428)"
      ]
     },
     "execution_count": 92,
     "metadata": {},
     "output_type": "execute_result"
    }
   ],
   "source": [
    "len(Airlines), len(Dept_time), len(Arrival_time), len(Source), len(Destination), len(Duration), len(Stops),len(Price), len(Date)"
   ]
  },
  {
   "cell_type": "code",
   "execution_count": 14,
   "id": "e9c6f6ad",
   "metadata": {},
   "outputs": [],
   "source": [
    "# Opening Business flights from New Dehli to Bombay on 29 July 2022"
   ]
  },
  {
   "cell_type": "code",
   "execution_count": 93,
   "id": "a13bee55",
   "metadata": {},
   "outputs": [
    {
     "name": "stderr",
     "output_type": "stream",
     "text": [
      "<ipython-input-93-0d3d8fa01617>:1: DeprecationWarning: find_elements_by_xpath is deprecated. Please use find_elements(by=By.XPATH, value=xpath) instead\n",
      "  flights=driver.find_elements_by_xpath('//div[@class=\"flight-det table full-width clearfix\"]')\n"
     ]
    },
    {
     "data": {
      "text/plain": [
       "64"
      ]
     },
     "execution_count": 93,
     "metadata": {},
     "output_type": "execute_result"
    }
   ],
   "source": [
    "flights=driver.find_elements_by_xpath('//div[@class=\"flight-det table full-width clearfix\"]')\n",
    "len(flights)"
   ]
  },
  {
   "cell_type": "code",
   "execution_count": 94,
   "id": "c5e8e134",
   "metadata": {},
   "outputs": [
    {
     "name": "stderr",
     "output_type": "stream",
     "text": [
      "<ipython-input-94-bb9a819e7382>:1: DeprecationWarning: find_elements_by_xpath is deprecated. Please use find_elements(by=By.XPATH, value=xpath) instead\n",
      "  airlines = driver.find_elements_by_xpath(\"//div[@class='fs-13 airline-name no-pad col-8']/span\")\n",
      "<ipython-input-94-bb9a819e7382>:7: DeprecationWarning: find_elements_by_xpath is deprecated. Please use find_elements(by=By.XPATH, value=xpath) instead\n",
      "  aeroplanes = driver.find_elements_by_xpath('//p[@class=\"normal fs-11 font-lightestgrey no-wrap fl-no\"]/span')\n",
      "100%|██████████████████████████████████████████████████████████████████████████████████| 64/64 [00:00<00:00, 80.41it/s]\n",
      "<ipython-input-94-bb9a819e7382>:13: DeprecationWarning: find_elements_by_xpath is deprecated. Please use find_elements(by=By.XPATH, value=xpath) instead\n",
      "  dept_times = driver.find_elements_by_xpath('//div[@class=\"i-b pr\"]')\n",
      "100%|██████████████████████████████████████████████████████████████████████████████████| 64/64 [00:00<00:00, 78.32it/s]\n",
      "<ipython-input-94-bb9a819e7382>:19: DeprecationWarning: find_elements_by_xpath is deprecated. Please use find_elements(by=By.XPATH, value=xpath) instead\n",
      "  arrival = driver.find_elements_by_xpath('//p[@class=\"bold fs-15 mb-2 pr time\"]')\n",
      "100%|██████████████████████████████████████████████████████████████████████████████████| 64/64 [00:00<00:00, 77.27it/s]\n",
      "<ipython-input-94-bb9a819e7382>:25: DeprecationWarning: find_elements_by_xpath is deprecated. Please use find_elements(by=By.XPATH, value=xpath) instead\n",
      "  source = driver.find_elements_by_xpath(\"//div[@class='i-b col-4 no-wrap text-right dtime col-3']/p\")\n",
      "100%|██████████████████████████████████████████████████████████████████████████████████| 64/64 [00:00<00:00, 84.02it/s]\n",
      "<ipython-input-94-bb9a819e7382>:31: DeprecationWarning: find_elements_by_xpath is deprecated. Please use find_elements(by=By.XPATH, value=xpath) instead\n",
      "  destination = driver.find_elements_by_xpath('//div[@class=\"i-b pdd-0 text-left atime col-5\"]/p[2]')\n",
      "100%|██████████████████████████████████████████████████████████████████████████████████| 64/64 [00:00<00:00, 86.54it/s]\n",
      "<ipython-input-94-bb9a819e7382>:37: DeprecationWarning: find_elements_by_xpath is deprecated. Please use find_elements(by=By.XPATH, value=xpath) instead\n",
      "  duration = driver.find_elements_by_xpath('//div[@class=\"stop-cont pl-13\"]/p')\n",
      "100%|██████████████████████████████████████████████████████████████████████████████████| 64/64 [00:00<00:00, 75.05it/s]\n",
      "<ipython-input-94-bb9a819e7382>:43: DeprecationWarning: find_elements_by_xpath is deprecated. Please use find_elements(by=By.XPATH, value=xpath) instead\n",
      "  stop = driver.find_elements_by_xpath(\"//div[@class='stop-cont pl-13']/div/span\")\n",
      "100%|██████████████████████████████████████████████████████████████████████████████████| 64/64 [00:00<00:00, 82.20it/s]\n",
      "<ipython-input-94-bb9a819e7382>:50: DeprecationWarning: find_elements_by_xpath is deprecated. Please use find_elements(by=By.XPATH, value=xpath) instead\n",
      "  price = driver.find_elements_by_xpath('//div[@class=\"i-b tipsy fare-summary-tooltip fs-18\"]')\n",
      "100%|██████████████████████████████████████████████████████████████████████████████████| 64/64 [00:00<00:00, 76.22it/s]\n",
      "<ipython-input-94-bb9a819e7382>:58: DeprecationWarning: find_elements_by_xpath is deprecated. Please use find_elements(by=By.XPATH, value=xpath) instead\n",
      "  Button = driver.find_elements_by_xpath('//div[@class=\"link-color fs-12 cursor-pointer\"]/span')\n",
      "<ipython-input-94-bb9a819e7382>:62: DeprecationWarning: find_element_by_xpath is deprecated. Please use find_element(by=By.XPATH, value=xpath) instead\n",
      "  date = driver.find_element_by_xpath('//div[@class=\"bold fs-12 mb-5\"]')\n",
      "100%|██████████████████████████████████████████████████████████████████████████████████████████| 64/64 [00:00<?, ?it/s]\n"
     ]
    }
   ],
   "source": [
    "airlines = driver.find_elements_by_xpath(\"//div[@class='fs-13 airline-name no-pad col-8']/span\")\n",
    "for i in airlines:\n",
    "    Airlines.append(i.text.replace(\"\\n\",\" \"))\n",
    "else :\n",
    "    pass\n",
    "\n",
    "aeroplanes = driver.find_elements_by_xpath('//p[@class=\"normal fs-11 font-lightestgrey no-wrap fl-no\"]/span')\n",
    "for i in tqdm(aeroplanes):\n",
    "    Aeroplane.append(i.text) \n",
    "else:\n",
    "    pass\n",
    "\n",
    "dept_times = driver.find_elements_by_xpath('//div[@class=\"i-b pr\"]')\n",
    "for i in tqdm(dept_times):\n",
    "    Dept_time.append(i.text)\n",
    "else :\n",
    "    pass\n",
    "\n",
    "arrival = driver.find_elements_by_xpath('//p[@class=\"bold fs-15 mb-2 pr time\"]')\n",
    "for i in tqdm(arrival):\n",
    "    Arrival_time.append(i.text)\n",
    "else :\n",
    "    pass\n",
    "\n",
    "source = driver.find_elements_by_xpath(\"//div[@class='i-b col-4 no-wrap text-right dtime col-3']/p\")\n",
    "for i in tqdm(source):\n",
    "    Source.append(i.text)\n",
    "else :\n",
    "    pass\n",
    "\n",
    "destination = driver.find_elements_by_xpath('//div[@class=\"i-b pdd-0 text-left atime col-5\"]/p[2]')\n",
    "for i in tqdm(destination):\n",
    "    Destination.append(i.text)\n",
    "else:\n",
    "    pass\n",
    "\n",
    "duration = driver.find_elements_by_xpath('//div[@class=\"stop-cont pl-13\"]/p')\n",
    "for i in tqdm(duration):\n",
    "    Duration.append(i.text)\n",
    "else:\n",
    "    pass\n",
    "\n",
    "stop = driver.find_elements_by_xpath(\"//div[@class='stop-cont pl-13']/div/span\")\n",
    "for i in tqdm(stop):\n",
    "    Stops.append(i.text)\n",
    "else:\n",
    "    pass\n",
    "\n",
    "count = 0\n",
    "price = driver.find_elements_by_xpath('//div[@class=\"i-b tipsy fare-summary-tooltip fs-18\"]')\n",
    "for i in tqdm(price):\n",
    "    Price.append(i.text.replace(',',''))\n",
    "    count = count +1\n",
    "else:\n",
    "    count = count +1\n",
    "    pass\n",
    "\n",
    "Button = driver.find_elements_by_xpath('//div[@class=\"link-color fs-12 cursor-pointer\"]/span')\n",
    "driver.execute_script(\"arguments[0].click();\", WebDriverWait(driver, 20).until(EC.element_to_be_clickable((By.XPATH,'//div[@class=\"link-color fs-12 cursor-pointer\"]/span'))))\n",
    "time.sleep(1)\n",
    "\n",
    "date = driver.find_element_by_xpath('//div[@class=\"bold fs-12 mb-5\"]')\n",
    "a = date.text\n",
    "for i in tqdm(range(count-1)):\n",
    "    Date.append(a)\n",
    "else:\n",
    "    pass"
   ]
  },
  {
   "cell_type": "code",
   "execution_count": 95,
   "id": "39ff3402",
   "metadata": {},
   "outputs": [
    {
     "data": {
      "text/plain": [
       "(2492, 2492, 2492, 2492, 2492, 2492, 2492, 2492, 2492)"
      ]
     },
     "execution_count": 95,
     "metadata": {},
     "output_type": "execute_result"
    }
   ],
   "source": [
    "len(Airlines), len(Dept_time), len(Arrival_time), len(Source), len(Destination), len(Duration), len(Stops),len(Price), len(Date)"
   ]
  },
  {
   "cell_type": "code",
   "execution_count": 15,
   "id": "3a27faf3",
   "metadata": {},
   "outputs": [],
   "source": [
    "# Opening Business flights from New Dehli to Bombay on 30 July 2022"
   ]
  },
  {
   "cell_type": "code",
   "execution_count": 96,
   "id": "21bd7255",
   "metadata": {},
   "outputs": [
    {
     "name": "stderr",
     "output_type": "stream",
     "text": [
      "<ipython-input-96-0d3d8fa01617>:1: DeprecationWarning: find_elements_by_xpath is deprecated. Please use find_elements(by=By.XPATH, value=xpath) instead\n",
      "  flights=driver.find_elements_by_xpath('//div[@class=\"flight-det table full-width clearfix\"]')\n"
     ]
    },
    {
     "data": {
      "text/plain": [
       "72"
      ]
     },
     "execution_count": 96,
     "metadata": {},
     "output_type": "execute_result"
    }
   ],
   "source": [
    "flights=driver.find_elements_by_xpath('//div[@class=\"flight-det table full-width clearfix\"]')\n",
    "len(flights)"
   ]
  },
  {
   "cell_type": "code",
   "execution_count": 97,
   "id": "3c236cb3",
   "metadata": {},
   "outputs": [
    {
     "name": "stderr",
     "output_type": "stream",
     "text": [
      "<ipython-input-97-bb9a819e7382>:1: DeprecationWarning: find_elements_by_xpath is deprecated. Please use find_elements(by=By.XPATH, value=xpath) instead\n",
      "  airlines = driver.find_elements_by_xpath(\"//div[@class='fs-13 airline-name no-pad col-8']/span\")\n",
      "<ipython-input-97-bb9a819e7382>:7: DeprecationWarning: find_elements_by_xpath is deprecated. Please use find_elements(by=By.XPATH, value=xpath) instead\n",
      "  aeroplanes = driver.find_elements_by_xpath('//p[@class=\"normal fs-11 font-lightestgrey no-wrap fl-no\"]/span')\n",
      "100%|██████████████████████████████████████████████████████████████████████████████████| 72/72 [00:00<00:00, 87.64it/s]\n",
      "<ipython-input-97-bb9a819e7382>:13: DeprecationWarning: find_elements_by_xpath is deprecated. Please use find_elements(by=By.XPATH, value=xpath) instead\n",
      "  dept_times = driver.find_elements_by_xpath('//div[@class=\"i-b pr\"]')\n",
      "100%|██████████████████████████████████████████████████████████████████████████████████| 72/72 [00:00<00:00, 84.53it/s]\n",
      "<ipython-input-97-bb9a819e7382>:19: DeprecationWarning: find_elements_by_xpath is deprecated. Please use find_elements(by=By.XPATH, value=xpath) instead\n",
      "  arrival = driver.find_elements_by_xpath('//p[@class=\"bold fs-15 mb-2 pr time\"]')\n",
      "100%|██████████████████████████████████████████████████████████████████████████████████| 72/72 [00:00<00:00, 84.55it/s]\n",
      "<ipython-input-97-bb9a819e7382>:25: DeprecationWarning: find_elements_by_xpath is deprecated. Please use find_elements(by=By.XPATH, value=xpath) instead\n",
      "  source = driver.find_elements_by_xpath(\"//div[@class='i-b col-4 no-wrap text-right dtime col-3']/p\")\n",
      "100%|██████████████████████████████████████████████████████████████████████████████████| 72/72 [00:00<00:00, 87.28it/s]\n",
      "<ipython-input-97-bb9a819e7382>:31: DeprecationWarning: find_elements_by_xpath is deprecated. Please use find_elements(by=By.XPATH, value=xpath) instead\n",
      "  destination = driver.find_elements_by_xpath('//div[@class=\"i-b pdd-0 text-left atime col-5\"]/p[2]')\n",
      "100%|██████████████████████████████████████████████████████████████████████████████████| 72/72 [00:00<00:00, 76.88it/s]\n",
      "<ipython-input-97-bb9a819e7382>:37: DeprecationWarning: find_elements_by_xpath is deprecated. Please use find_elements(by=By.XPATH, value=xpath) instead\n",
      "  duration = driver.find_elements_by_xpath('//div[@class=\"stop-cont pl-13\"]/p')\n",
      "100%|██████████████████████████████████████████████████████████████████████████████████| 72/72 [00:00<00:00, 74.97it/s]\n",
      "<ipython-input-97-bb9a819e7382>:43: DeprecationWarning: find_elements_by_xpath is deprecated. Please use find_elements(by=By.XPATH, value=xpath) instead\n",
      "  stop = driver.find_elements_by_xpath(\"//div[@class='stop-cont pl-13']/div/span\")\n",
      "100%|██████████████████████████████████████████████████████████████████████████████████| 72/72 [00:00<00:00, 78.10it/s]\n",
      "<ipython-input-97-bb9a819e7382>:50: DeprecationWarning: find_elements_by_xpath is deprecated. Please use find_elements(by=By.XPATH, value=xpath) instead\n",
      "  price = driver.find_elements_by_xpath('//div[@class=\"i-b tipsy fare-summary-tooltip fs-18\"]')\n",
      "100%|██████████████████████████████████████████████████████████████████████████████████| 72/72 [00:01<00:00, 68.70it/s]\n",
      "<ipython-input-97-bb9a819e7382>:58: DeprecationWarning: find_elements_by_xpath is deprecated. Please use find_elements(by=By.XPATH, value=xpath) instead\n",
      "  Button = driver.find_elements_by_xpath('//div[@class=\"link-color fs-12 cursor-pointer\"]/span')\n",
      "<ipython-input-97-bb9a819e7382>:62: DeprecationWarning: find_element_by_xpath is deprecated. Please use find_element(by=By.XPATH, value=xpath) instead\n",
      "  date = driver.find_element_by_xpath('//div[@class=\"bold fs-12 mb-5\"]')\n",
      "100%|██████████████████████████████████████████████████████████████████████████████████████████| 72/72 [00:00<?, ?it/s]\n"
     ]
    }
   ],
   "source": [
    "airlines = driver.find_elements_by_xpath(\"//div[@class='fs-13 airline-name no-pad col-8']/span\")\n",
    "for i in airlines:\n",
    "    Airlines.append(i.text.replace(\"\\n\",\" \"))\n",
    "else :\n",
    "    pass\n",
    "\n",
    "aeroplanes = driver.find_elements_by_xpath('//p[@class=\"normal fs-11 font-lightestgrey no-wrap fl-no\"]/span')\n",
    "for i in tqdm(aeroplanes):\n",
    "    Aeroplane.append(i.text) \n",
    "else:\n",
    "    pass\n",
    "\n",
    "dept_times = driver.find_elements_by_xpath('//div[@class=\"i-b pr\"]')\n",
    "for i in tqdm(dept_times):\n",
    "    Dept_time.append(i.text)\n",
    "else :\n",
    "    pass\n",
    "\n",
    "arrival = driver.find_elements_by_xpath('//p[@class=\"bold fs-15 mb-2 pr time\"]')\n",
    "for i in tqdm(arrival):\n",
    "    Arrival_time.append(i.text)\n",
    "else :\n",
    "    pass\n",
    "\n",
    "source = driver.find_elements_by_xpath(\"//div[@class='i-b col-4 no-wrap text-right dtime col-3']/p\")\n",
    "for i in tqdm(source):\n",
    "    Source.append(i.text)\n",
    "else :\n",
    "    pass\n",
    "\n",
    "destination = driver.find_elements_by_xpath('//div[@class=\"i-b pdd-0 text-left atime col-5\"]/p[2]')\n",
    "for i in tqdm(destination):\n",
    "    Destination.append(i.text)\n",
    "else:\n",
    "    pass\n",
    "\n",
    "duration = driver.find_elements_by_xpath('//div[@class=\"stop-cont pl-13\"]/p')\n",
    "for i in tqdm(duration):\n",
    "    Duration.append(i.text)\n",
    "else:\n",
    "    pass\n",
    "\n",
    "stop = driver.find_elements_by_xpath(\"//div[@class='stop-cont pl-13']/div/span\")\n",
    "for i in tqdm(stop):\n",
    "    Stops.append(i.text)\n",
    "else:\n",
    "    pass\n",
    "\n",
    "count = 0\n",
    "price = driver.find_elements_by_xpath('//div[@class=\"i-b tipsy fare-summary-tooltip fs-18\"]')\n",
    "for i in tqdm(price):\n",
    "    Price.append(i.text.replace(',',''))\n",
    "    count = count +1\n",
    "else:\n",
    "    count = count +1\n",
    "    pass\n",
    "\n",
    "Button = driver.find_elements_by_xpath('//div[@class=\"link-color fs-12 cursor-pointer\"]/span')\n",
    "driver.execute_script(\"arguments[0].click();\", WebDriverWait(driver, 20).until(EC.element_to_be_clickable((By.XPATH,'//div[@class=\"link-color fs-12 cursor-pointer\"]/span'))))\n",
    "time.sleep(1)\n",
    "\n",
    "date = driver.find_element_by_xpath('//div[@class=\"bold fs-12 mb-5\"]')\n",
    "a = date.text\n",
    "for i in tqdm(range(count-1)):\n",
    "    Date.append(a)\n",
    "else:\n",
    "    pass"
   ]
  },
  {
   "cell_type": "code",
   "execution_count": 98,
   "id": "d9eb810c",
   "metadata": {},
   "outputs": [
    {
     "data": {
      "text/plain": [
       "(2564, 2564, 2564, 2564, 2564, 2564, 2564, 2564, 2564)"
      ]
     },
     "execution_count": 98,
     "metadata": {},
     "output_type": "execute_result"
    }
   ],
   "source": [
    "len(Airlines), len(Dept_time), len(Arrival_time), len(Source), len(Destination), len(Duration), len(Stops),len(Price), len(Date)"
   ]
  },
  {
   "cell_type": "code",
   "execution_count": 16,
   "id": "b0e8a931",
   "metadata": {},
   "outputs": [],
   "source": [
    "# Opening Business flights from New Dehli to Bombay on 31 July 2022"
   ]
  },
  {
   "cell_type": "code",
   "execution_count": 99,
   "id": "97cf8f8c",
   "metadata": {},
   "outputs": [
    {
     "name": "stderr",
     "output_type": "stream",
     "text": [
      "<ipython-input-99-0d3d8fa01617>:1: DeprecationWarning: find_elements_by_xpath is deprecated. Please use find_elements(by=By.XPATH, value=xpath) instead\n",
      "  flights=driver.find_elements_by_xpath('//div[@class=\"flight-det table full-width clearfix\"]')\n"
     ]
    },
    {
     "data": {
      "text/plain": [
       "69"
      ]
     },
     "execution_count": 99,
     "metadata": {},
     "output_type": "execute_result"
    }
   ],
   "source": [
    "flights=driver.find_elements_by_xpath('//div[@class=\"flight-det table full-width clearfix\"]')\n",
    "len(flights)"
   ]
  },
  {
   "cell_type": "code",
   "execution_count": 100,
   "id": "342a056c",
   "metadata": {},
   "outputs": [
    {
     "name": "stderr",
     "output_type": "stream",
     "text": [
      "<ipython-input-100-bb9a819e7382>:1: DeprecationWarning: find_elements_by_xpath is deprecated. Please use find_elements(by=By.XPATH, value=xpath) instead\n",
      "  airlines = driver.find_elements_by_xpath(\"//div[@class='fs-13 airline-name no-pad col-8']/span\")\n",
      "<ipython-input-100-bb9a819e7382>:7: DeprecationWarning: find_elements_by_xpath is deprecated. Please use find_elements(by=By.XPATH, value=xpath) instead\n",
      "  aeroplanes = driver.find_elements_by_xpath('//p[@class=\"normal fs-11 font-lightestgrey no-wrap fl-no\"]/span')\n",
      "100%|██████████████████████████████████████████████████████████████████████████████████| 69/69 [00:00<00:00, 72.93it/s]\n",
      "<ipython-input-100-bb9a819e7382>:13: DeprecationWarning: find_elements_by_xpath is deprecated. Please use find_elements(by=By.XPATH, value=xpath) instead\n",
      "  dept_times = driver.find_elements_by_xpath('//div[@class=\"i-b pr\"]')\n",
      "100%|██████████████████████████████████████████████████████████████████████████████████| 69/69 [00:00<00:00, 71.70it/s]\n",
      "<ipython-input-100-bb9a819e7382>:19: DeprecationWarning: find_elements_by_xpath is deprecated. Please use find_elements(by=By.XPATH, value=xpath) instead\n",
      "  arrival = driver.find_elements_by_xpath('//p[@class=\"bold fs-15 mb-2 pr time\"]')\n",
      "100%|██████████████████████████████████████████████████████████████████████████████████| 69/69 [00:00<00:00, 77.22it/s]\n",
      "<ipython-input-100-bb9a819e7382>:25: DeprecationWarning: find_elements_by_xpath is deprecated. Please use find_elements(by=By.XPATH, value=xpath) instead\n",
      "  source = driver.find_elements_by_xpath(\"//div[@class='i-b col-4 no-wrap text-right dtime col-3']/p\")\n",
      "100%|██████████████████████████████████████████████████████████████████████████████████| 69/69 [00:00<00:00, 76.16it/s]\n",
      "<ipython-input-100-bb9a819e7382>:31: DeprecationWarning: find_elements_by_xpath is deprecated. Please use find_elements(by=By.XPATH, value=xpath) instead\n",
      "  destination = driver.find_elements_by_xpath('//div[@class=\"i-b pdd-0 text-left atime col-5\"]/p[2]')\n",
      "100%|██████████████████████████████████████████████████████████████████████████████████| 69/69 [00:00<00:00, 74.01it/s]\n",
      "<ipython-input-100-bb9a819e7382>:37: DeprecationWarning: find_elements_by_xpath is deprecated. Please use find_elements(by=By.XPATH, value=xpath) instead\n",
      "  duration = driver.find_elements_by_xpath('//div[@class=\"stop-cont pl-13\"]/p')\n",
      "100%|██████████████████████████████████████████████████████████████████████████████████| 69/69 [00:00<00:00, 74.20it/s]\n",
      "<ipython-input-100-bb9a819e7382>:43: DeprecationWarning: find_elements_by_xpath is deprecated. Please use find_elements(by=By.XPATH, value=xpath) instead\n",
      "  stop = driver.find_elements_by_xpath(\"//div[@class='stop-cont pl-13']/div/span\")\n",
      "100%|██████████████████████████████████████████████████████████████████████████████████| 69/69 [00:00<00:00, 70.94it/s]\n",
      "<ipython-input-100-bb9a819e7382>:50: DeprecationWarning: find_elements_by_xpath is deprecated. Please use find_elements(by=By.XPATH, value=xpath) instead\n",
      "  price = driver.find_elements_by_xpath('//div[@class=\"i-b tipsy fare-summary-tooltip fs-18\"]')\n",
      "100%|██████████████████████████████████████████████████████████████████████████████████| 69/69 [00:01<00:00, 65.87it/s]\n",
      "<ipython-input-100-bb9a819e7382>:58: DeprecationWarning: find_elements_by_xpath is deprecated. Please use find_elements(by=By.XPATH, value=xpath) instead\n",
      "  Button = driver.find_elements_by_xpath('//div[@class=\"link-color fs-12 cursor-pointer\"]/span')\n",
      "<ipython-input-100-bb9a819e7382>:62: DeprecationWarning: find_element_by_xpath is deprecated. Please use find_element(by=By.XPATH, value=xpath) instead\n",
      "  date = driver.find_element_by_xpath('//div[@class=\"bold fs-12 mb-5\"]')\n",
      "100%|██████████████████████████████████████████████████████████████████████████████████████████| 69/69 [00:00<?, ?it/s]\n"
     ]
    }
   ],
   "source": [
    "airlines = driver.find_elements_by_xpath(\"//div[@class='fs-13 airline-name no-pad col-8']/span\")\n",
    "for i in airlines:\n",
    "    Airlines.append(i.text.replace(\"\\n\",\" \"))\n",
    "else :\n",
    "    pass\n",
    "\n",
    "aeroplanes = driver.find_elements_by_xpath('//p[@class=\"normal fs-11 font-lightestgrey no-wrap fl-no\"]/span')\n",
    "for i in tqdm(aeroplanes):\n",
    "    Aeroplane.append(i.text) \n",
    "else:\n",
    "    pass\n",
    "\n",
    "dept_times = driver.find_elements_by_xpath('//div[@class=\"i-b pr\"]')\n",
    "for i in tqdm(dept_times):\n",
    "    Dept_time.append(i.text)\n",
    "else :\n",
    "    pass\n",
    "\n",
    "arrival = driver.find_elements_by_xpath('//p[@class=\"bold fs-15 mb-2 pr time\"]')\n",
    "for i in tqdm(arrival):\n",
    "    Arrival_time.append(i.text)\n",
    "else :\n",
    "    pass\n",
    "\n",
    "source = driver.find_elements_by_xpath(\"//div[@class='i-b col-4 no-wrap text-right dtime col-3']/p\")\n",
    "for i in tqdm(source):\n",
    "    Source.append(i.text)\n",
    "else :\n",
    "    pass\n",
    "\n",
    "destination = driver.find_elements_by_xpath('//div[@class=\"i-b pdd-0 text-left atime col-5\"]/p[2]')\n",
    "for i in tqdm(destination):\n",
    "    Destination.append(i.text)\n",
    "else:\n",
    "    pass\n",
    "\n",
    "duration = driver.find_elements_by_xpath('//div[@class=\"stop-cont pl-13\"]/p')\n",
    "for i in tqdm(duration):\n",
    "    Duration.append(i.text)\n",
    "else:\n",
    "    pass\n",
    "\n",
    "stop = driver.find_elements_by_xpath(\"//div[@class='stop-cont pl-13']/div/span\")\n",
    "for i in tqdm(stop):\n",
    "    Stops.append(i.text)\n",
    "else:\n",
    "    pass\n",
    "\n",
    "count = 0\n",
    "price = driver.find_elements_by_xpath('//div[@class=\"i-b tipsy fare-summary-tooltip fs-18\"]')\n",
    "for i in tqdm(price):\n",
    "    Price.append(i.text.replace(',',''))\n",
    "    count = count +1\n",
    "else:\n",
    "    count = count +1\n",
    "    pass\n",
    "\n",
    "Button = driver.find_elements_by_xpath('//div[@class=\"link-color fs-12 cursor-pointer\"]/span')\n",
    "driver.execute_script(\"arguments[0].click();\", WebDriverWait(driver, 20).until(EC.element_to_be_clickable((By.XPATH,'//div[@class=\"link-color fs-12 cursor-pointer\"]/span'))))\n",
    "time.sleep(1)\n",
    "\n",
    "date = driver.find_element_by_xpath('//div[@class=\"bold fs-12 mb-5\"]')\n",
    "a = date.text\n",
    "for i in tqdm(range(count-1)):\n",
    "    Date.append(a)\n",
    "else:\n",
    "    pass"
   ]
  },
  {
   "cell_type": "code",
   "execution_count": 101,
   "id": "b32d6b5e",
   "metadata": {},
   "outputs": [
    {
     "data": {
      "text/plain": [
       "(2633, 2633, 2633, 2633, 2633, 2633, 2633, 2633, 2633)"
      ]
     },
     "execution_count": 101,
     "metadata": {},
     "output_type": "execute_result"
    }
   ],
   "source": [
    "len(Airlines), len(Dept_time), len(Arrival_time), len(Source), len(Destination), len(Duration), len(Stops),len(Price), len(Date)"
   ]
  },
  {
   "cell_type": "code",
   "execution_count": 17,
   "id": "96eec695",
   "metadata": {},
   "outputs": [],
   "source": [
    "# Opening Business flights from New Dehli to Bombay on 1 Aug 2022"
   ]
  },
  {
   "cell_type": "code",
   "execution_count": 102,
   "id": "27186305",
   "metadata": {},
   "outputs": [
    {
     "name": "stderr",
     "output_type": "stream",
     "text": [
      "<ipython-input-102-0d3d8fa01617>:1: DeprecationWarning: find_elements_by_xpath is deprecated. Please use find_elements(by=By.XPATH, value=xpath) instead\n",
      "  flights=driver.find_elements_by_xpath('//div[@class=\"flight-det table full-width clearfix\"]')\n"
     ]
    },
    {
     "data": {
      "text/plain": [
       "66"
      ]
     },
     "execution_count": 102,
     "metadata": {},
     "output_type": "execute_result"
    }
   ],
   "source": [
    "flights=driver.find_elements_by_xpath('//div[@class=\"flight-det table full-width clearfix\"]')\n",
    "len(flights)"
   ]
  },
  {
   "cell_type": "code",
   "execution_count": 103,
   "id": "2682a181",
   "metadata": {},
   "outputs": [
    {
     "name": "stderr",
     "output_type": "stream",
     "text": [
      "<ipython-input-103-bb9a819e7382>:1: DeprecationWarning: find_elements_by_xpath is deprecated. Please use find_elements(by=By.XPATH, value=xpath) instead\n",
      "  airlines = driver.find_elements_by_xpath(\"//div[@class='fs-13 airline-name no-pad col-8']/span\")\n",
      "<ipython-input-103-bb9a819e7382>:7: DeprecationWarning: find_elements_by_xpath is deprecated. Please use find_elements(by=By.XPATH, value=xpath) instead\n",
      "  aeroplanes = driver.find_elements_by_xpath('//p[@class=\"normal fs-11 font-lightestgrey no-wrap fl-no\"]/span')\n",
      "100%|██████████████████████████████████████████████████████████████████████████████████| 66/66 [00:00<00:00, 80.91it/s]\n",
      "<ipython-input-103-bb9a819e7382>:13: DeprecationWarning: find_elements_by_xpath is deprecated. Please use find_elements(by=By.XPATH, value=xpath) instead\n",
      "  dept_times = driver.find_elements_by_xpath('//div[@class=\"i-b pr\"]')\n",
      "100%|██████████████████████████████████████████████████████████████████████████████████| 66/66 [00:00<00:00, 79.54it/s]\n",
      "<ipython-input-103-bb9a819e7382>:19: DeprecationWarning: find_elements_by_xpath is deprecated. Please use find_elements(by=By.XPATH, value=xpath) instead\n",
      "  arrival = driver.find_elements_by_xpath('//p[@class=\"bold fs-15 mb-2 pr time\"]')\n",
      "100%|██████████████████████████████████████████████████████████████████████████████████| 66/66 [00:00<00:00, 78.44it/s]\n",
      "<ipython-input-103-bb9a819e7382>:25: DeprecationWarning: find_elements_by_xpath is deprecated. Please use find_elements(by=By.XPATH, value=xpath) instead\n",
      "  source = driver.find_elements_by_xpath(\"//div[@class='i-b col-4 no-wrap text-right dtime col-3']/p\")\n",
      "100%|██████████████████████████████████████████████████████████████████████████████████| 66/66 [00:00<00:00, 86.98it/s]\n",
      "<ipython-input-103-bb9a819e7382>:31: DeprecationWarning: find_elements_by_xpath is deprecated. Please use find_elements(by=By.XPATH, value=xpath) instead\n",
      "  destination = driver.find_elements_by_xpath('//div[@class=\"i-b pdd-0 text-left atime col-5\"]/p[2]')\n",
      "100%|██████████████████████████████████████████████████████████████████████████████████| 66/66 [00:00<00:00, 84.85it/s]\n",
      "<ipython-input-103-bb9a819e7382>:37: DeprecationWarning: find_elements_by_xpath is deprecated. Please use find_elements(by=By.XPATH, value=xpath) instead\n",
      "  duration = driver.find_elements_by_xpath('//div[@class=\"stop-cont pl-13\"]/p')\n",
      "100%|██████████████████████████████████████████████████████████████████████████████████| 66/66 [00:00<00:00, 70.34it/s]\n",
      "<ipython-input-103-bb9a819e7382>:43: DeprecationWarning: find_elements_by_xpath is deprecated. Please use find_elements(by=By.XPATH, value=xpath) instead\n",
      "  stop = driver.find_elements_by_xpath(\"//div[@class='stop-cont pl-13']/div/span\")\n",
      "100%|██████████████████████████████████████████████████████████████████████████████████| 66/66 [00:00<00:00, 70.67it/s]\n",
      "<ipython-input-103-bb9a819e7382>:50: DeprecationWarning: find_elements_by_xpath is deprecated. Please use find_elements(by=By.XPATH, value=xpath) instead\n",
      "  price = driver.find_elements_by_xpath('//div[@class=\"i-b tipsy fare-summary-tooltip fs-18\"]')\n",
      "100%|██████████████████████████████████████████████████████████████████████████████████| 66/66 [00:00<00:00, 67.33it/s]\n",
      "<ipython-input-103-bb9a819e7382>:58: DeprecationWarning: find_elements_by_xpath is deprecated. Please use find_elements(by=By.XPATH, value=xpath) instead\n",
      "  Button = driver.find_elements_by_xpath('//div[@class=\"link-color fs-12 cursor-pointer\"]/span')\n",
      "<ipython-input-103-bb9a819e7382>:62: DeprecationWarning: find_element_by_xpath is deprecated. Please use find_element(by=By.XPATH, value=xpath) instead\n",
      "  date = driver.find_element_by_xpath('//div[@class=\"bold fs-12 mb-5\"]')\n",
      "100%|██████████████████████████████████████████████████████████████████████████████████████████| 66/66 [00:00<?, ?it/s]\n"
     ]
    }
   ],
   "source": [
    "airlines = driver.find_elements_by_xpath(\"//div[@class='fs-13 airline-name no-pad col-8']/span\")\n",
    "for i in airlines:\n",
    "    Airlines.append(i.text.replace(\"\\n\",\" \"))\n",
    "else :\n",
    "    pass\n",
    "\n",
    "aeroplanes = driver.find_elements_by_xpath('//p[@class=\"normal fs-11 font-lightestgrey no-wrap fl-no\"]/span')\n",
    "for i in tqdm(aeroplanes):\n",
    "    Aeroplane.append(i.text) \n",
    "else:\n",
    "    pass\n",
    "\n",
    "dept_times = driver.find_elements_by_xpath('//div[@class=\"i-b pr\"]')\n",
    "for i in tqdm(dept_times):\n",
    "    Dept_time.append(i.text)\n",
    "else :\n",
    "    pass\n",
    "\n",
    "arrival = driver.find_elements_by_xpath('//p[@class=\"bold fs-15 mb-2 pr time\"]')\n",
    "for i in tqdm(arrival):\n",
    "    Arrival_time.append(i.text)\n",
    "else :\n",
    "    pass\n",
    "\n",
    "source = driver.find_elements_by_xpath(\"//div[@class='i-b col-4 no-wrap text-right dtime col-3']/p\")\n",
    "for i in tqdm(source):\n",
    "    Source.append(i.text)\n",
    "else :\n",
    "    pass\n",
    "\n",
    "destination = driver.find_elements_by_xpath('//div[@class=\"i-b pdd-0 text-left atime col-5\"]/p[2]')\n",
    "for i in tqdm(destination):\n",
    "    Destination.append(i.text)\n",
    "else:\n",
    "    pass\n",
    "\n",
    "duration = driver.find_elements_by_xpath('//div[@class=\"stop-cont pl-13\"]/p')\n",
    "for i in tqdm(duration):\n",
    "    Duration.append(i.text)\n",
    "else:\n",
    "    pass\n",
    "\n",
    "stop = driver.find_elements_by_xpath(\"//div[@class='stop-cont pl-13']/div/span\")\n",
    "for i in tqdm(stop):\n",
    "    Stops.append(i.text)\n",
    "else:\n",
    "    pass\n",
    "\n",
    "count = 0\n",
    "price = driver.find_elements_by_xpath('//div[@class=\"i-b tipsy fare-summary-tooltip fs-18\"]')\n",
    "for i in tqdm(price):\n",
    "    Price.append(i.text.replace(',',''))\n",
    "    count = count +1\n",
    "else:\n",
    "    count = count +1\n",
    "    pass\n",
    "\n",
    "Button = driver.find_elements_by_xpath('//div[@class=\"link-color fs-12 cursor-pointer\"]/span')\n",
    "driver.execute_script(\"arguments[0].click();\", WebDriverWait(driver, 20).until(EC.element_to_be_clickable((By.XPATH,'//div[@class=\"link-color fs-12 cursor-pointer\"]/span'))))\n",
    "time.sleep(1)\n",
    "\n",
    "date = driver.find_element_by_xpath('//div[@class=\"bold fs-12 mb-5\"]')\n",
    "a = date.text\n",
    "for i in tqdm(range(count-1)):\n",
    "    Date.append(a)\n",
    "else:\n",
    "    pass"
   ]
  },
  {
   "cell_type": "code",
   "execution_count": 104,
   "id": "a6a5c29f",
   "metadata": {},
   "outputs": [
    {
     "data": {
      "text/plain": [
       "(2699, 2699, 2699, 2699, 2699, 2699, 2699, 2699, 2699)"
      ]
     },
     "execution_count": 104,
     "metadata": {},
     "output_type": "execute_result"
    }
   ],
   "source": [
    "len(Airlines), len(Dept_time), len(Arrival_time), len(Source), len(Destination), len(Duration), len(Stops),len(Price), len(Date)"
   ]
  },
  {
   "cell_type": "code",
   "execution_count": 18,
   "id": "f1229b8a",
   "metadata": {},
   "outputs": [],
   "source": [
    "# Opening Business flights from New Dehli to Bombay on 2 Aug 2022"
   ]
  },
  {
   "cell_type": "code",
   "execution_count": 105,
   "id": "4380ec26",
   "metadata": {},
   "outputs": [
    {
     "name": "stderr",
     "output_type": "stream",
     "text": [
      "<ipython-input-105-0d3d8fa01617>:1: DeprecationWarning: find_elements_by_xpath is deprecated. Please use find_elements(by=By.XPATH, value=xpath) instead\n",
      "  flights=driver.find_elements_by_xpath('//div[@class=\"flight-det table full-width clearfix\"]')\n"
     ]
    },
    {
     "data": {
      "text/plain": [
       "66"
      ]
     },
     "execution_count": 105,
     "metadata": {},
     "output_type": "execute_result"
    }
   ],
   "source": [
    "flights=driver.find_elements_by_xpath('//div[@class=\"flight-det table full-width clearfix\"]')\n",
    "len(flights)"
   ]
  },
  {
   "cell_type": "code",
   "execution_count": 106,
   "id": "a26bf644",
   "metadata": {},
   "outputs": [
    {
     "name": "stderr",
     "output_type": "stream",
     "text": [
      "<ipython-input-106-bb9a819e7382>:1: DeprecationWarning: find_elements_by_xpath is deprecated. Please use find_elements(by=By.XPATH, value=xpath) instead\n",
      "  airlines = driver.find_elements_by_xpath(\"//div[@class='fs-13 airline-name no-pad col-8']/span\")\n",
      "<ipython-input-106-bb9a819e7382>:7: DeprecationWarning: find_elements_by_xpath is deprecated. Please use find_elements(by=By.XPATH, value=xpath) instead\n",
      "  aeroplanes = driver.find_elements_by_xpath('//p[@class=\"normal fs-11 font-lightestgrey no-wrap fl-no\"]/span')\n",
      "100%|██████████████████████████████████████████████████████████████████████████████████| 66/66 [00:00<00:00, 72.85it/s]\n",
      "<ipython-input-106-bb9a819e7382>:13: DeprecationWarning: find_elements_by_xpath is deprecated. Please use find_elements(by=By.XPATH, value=xpath) instead\n",
      "  dept_times = driver.find_elements_by_xpath('//div[@class=\"i-b pr\"]')\n",
      "100%|██████████████████████████████████████████████████████████████████████████████████| 66/66 [00:00<00:00, 67.31it/s]\n",
      "<ipython-input-106-bb9a819e7382>:19: DeprecationWarning: find_elements_by_xpath is deprecated. Please use find_elements(by=By.XPATH, value=xpath) instead\n",
      "  arrival = driver.find_elements_by_xpath('//p[@class=\"bold fs-15 mb-2 pr time\"]')\n",
      "100%|██████████████████████████████████████████████████████████████████████████████████| 66/66 [00:00<00:00, 66.22it/s]\n",
      "<ipython-input-106-bb9a819e7382>:25: DeprecationWarning: find_elements_by_xpath is deprecated. Please use find_elements(by=By.XPATH, value=xpath) instead\n",
      "  source = driver.find_elements_by_xpath(\"//div[@class='i-b col-4 no-wrap text-right dtime col-3']/p\")\n",
      "100%|██████████████████████████████████████████████████████████████████████████████████| 66/66 [00:01<00:00, 61.01it/s]\n",
      "<ipython-input-106-bb9a819e7382>:31: DeprecationWarning: find_elements_by_xpath is deprecated. Please use find_elements(by=By.XPATH, value=xpath) instead\n",
      "  destination = driver.find_elements_by_xpath('//div[@class=\"i-b pdd-0 text-left atime col-5\"]/p[2]')\n",
      "100%|██████████████████████████████████████████████████████████████████████████████████| 66/66 [00:01<00:00, 53.17it/s]\n",
      "<ipython-input-106-bb9a819e7382>:37: DeprecationWarning: find_elements_by_xpath is deprecated. Please use find_elements(by=By.XPATH, value=xpath) instead\n",
      "  duration = driver.find_elements_by_xpath('//div[@class=\"stop-cont pl-13\"]/p')\n",
      "100%|██████████████████████████████████████████████████████████████████████████████████| 66/66 [00:01<00:00, 53.62it/s]\n",
      "<ipython-input-106-bb9a819e7382>:43: DeprecationWarning: find_elements_by_xpath is deprecated. Please use find_elements(by=By.XPATH, value=xpath) instead\n",
      "  stop = driver.find_elements_by_xpath(\"//div[@class='stop-cont pl-13']/div/span\")\n",
      "100%|██████████████████████████████████████████████████████████████████████████████████| 66/66 [00:01<00:00, 58.26it/s]\n",
      "<ipython-input-106-bb9a819e7382>:50: DeprecationWarning: find_elements_by_xpath is deprecated. Please use find_elements(by=By.XPATH, value=xpath) instead\n",
      "  price = driver.find_elements_by_xpath('//div[@class=\"i-b tipsy fare-summary-tooltip fs-18\"]')\n",
      "100%|██████████████████████████████████████████████████████████████████████████████████| 66/66 [00:01<00:00, 57.39it/s]\n",
      "<ipython-input-106-bb9a819e7382>:58: DeprecationWarning: find_elements_by_xpath is deprecated. Please use find_elements(by=By.XPATH, value=xpath) instead\n",
      "  Button = driver.find_elements_by_xpath('//div[@class=\"link-color fs-12 cursor-pointer\"]/span')\n",
      "<ipython-input-106-bb9a819e7382>:62: DeprecationWarning: find_element_by_xpath is deprecated. Please use find_element(by=By.XPATH, value=xpath) instead\n",
      "  date = driver.find_element_by_xpath('//div[@class=\"bold fs-12 mb-5\"]')\n",
      "100%|██████████████████████████████████████████████████████████████████████████████████████████| 66/66 [00:00<?, ?it/s]\n"
     ]
    }
   ],
   "source": [
    "airlines = driver.find_elements_by_xpath(\"//div[@class='fs-13 airline-name no-pad col-8']/span\")\n",
    "for i in airlines:\n",
    "    Airlines.append(i.text.replace(\"\\n\",\" \"))\n",
    "else :\n",
    "    pass\n",
    "\n",
    "aeroplanes = driver.find_elements_by_xpath('//p[@class=\"normal fs-11 font-lightestgrey no-wrap fl-no\"]/span')\n",
    "for i in tqdm(aeroplanes):\n",
    "    Aeroplane.append(i.text) \n",
    "else:\n",
    "    pass\n",
    "\n",
    "dept_times = driver.find_elements_by_xpath('//div[@class=\"i-b pr\"]')\n",
    "for i in tqdm(dept_times):\n",
    "    Dept_time.append(i.text)\n",
    "else :\n",
    "    pass\n",
    "\n",
    "arrival = driver.find_elements_by_xpath('//p[@class=\"bold fs-15 mb-2 pr time\"]')\n",
    "for i in tqdm(arrival):\n",
    "    Arrival_time.append(i.text)\n",
    "else :\n",
    "    pass\n",
    "\n",
    "source = driver.find_elements_by_xpath(\"//div[@class='i-b col-4 no-wrap text-right dtime col-3']/p\")\n",
    "for i in tqdm(source):\n",
    "    Source.append(i.text)\n",
    "else :\n",
    "    pass\n",
    "\n",
    "destination = driver.find_elements_by_xpath('//div[@class=\"i-b pdd-0 text-left atime col-5\"]/p[2]')\n",
    "for i in tqdm(destination):\n",
    "    Destination.append(i.text)\n",
    "else:\n",
    "    pass\n",
    "\n",
    "duration = driver.find_elements_by_xpath('//div[@class=\"stop-cont pl-13\"]/p')\n",
    "for i in tqdm(duration):\n",
    "    Duration.append(i.text)\n",
    "else:\n",
    "    pass\n",
    "\n",
    "stop = driver.find_elements_by_xpath(\"//div[@class='stop-cont pl-13']/div/span\")\n",
    "for i in tqdm(stop):\n",
    "    Stops.append(i.text)\n",
    "else:\n",
    "    pass\n",
    "\n",
    "count = 0\n",
    "price = driver.find_elements_by_xpath('//div[@class=\"i-b tipsy fare-summary-tooltip fs-18\"]')\n",
    "for i in tqdm(price):\n",
    "    Price.append(i.text.replace(',',''))\n",
    "    count = count +1\n",
    "else:\n",
    "    count = count +1\n",
    "    pass\n",
    "\n",
    "Button = driver.find_elements_by_xpath('//div[@class=\"link-color fs-12 cursor-pointer\"]/span')\n",
    "driver.execute_script(\"arguments[0].click();\", WebDriverWait(driver, 20).until(EC.element_to_be_clickable((By.XPATH,'//div[@class=\"link-color fs-12 cursor-pointer\"]/span'))))\n",
    "time.sleep(1)\n",
    "\n",
    "date = driver.find_element_by_xpath('//div[@class=\"bold fs-12 mb-5\"]')\n",
    "a = date.text\n",
    "for i in tqdm(range(count-1)):\n",
    "    Date.append(a)\n",
    "else:\n",
    "    pass"
   ]
  },
  {
   "cell_type": "code",
   "execution_count": 107,
   "id": "21d1d384",
   "metadata": {},
   "outputs": [
    {
     "data": {
      "text/plain": [
       "(2765, 2765, 2765, 2765, 2765, 2765, 2765, 2765, 2765)"
      ]
     },
     "execution_count": 107,
     "metadata": {},
     "output_type": "execute_result"
    }
   ],
   "source": [
    "len(Airlines), len(Dept_time), len(Arrival_time), len(Source), len(Destination), len(Duration), len(Stops),len(Price), len(Date)"
   ]
  },
  {
   "cell_type": "code",
   "execution_count": 19,
   "id": "c4b4af78",
   "metadata": {},
   "outputs": [],
   "source": [
    "# Opening Business flights from New Dehli to Bombay on 3 Aug 2022"
   ]
  },
  {
   "cell_type": "code",
   "execution_count": 108,
   "id": "9e15ab91",
   "metadata": {},
   "outputs": [
    {
     "name": "stderr",
     "output_type": "stream",
     "text": [
      "<ipython-input-108-0d3d8fa01617>:1: DeprecationWarning: find_elements_by_xpath is deprecated. Please use find_elements(by=By.XPATH, value=xpath) instead\n",
      "  flights=driver.find_elements_by_xpath('//div[@class=\"flight-det table full-width clearfix\"]')\n"
     ]
    },
    {
     "data": {
      "text/plain": [
       "68"
      ]
     },
     "execution_count": 108,
     "metadata": {},
     "output_type": "execute_result"
    }
   ],
   "source": [
    "flights=driver.find_elements_by_xpath('//div[@class=\"flight-det table full-width clearfix\"]')\n",
    "len(flights)"
   ]
  },
  {
   "cell_type": "code",
   "execution_count": 109,
   "id": "8fc0c1a1",
   "metadata": {},
   "outputs": [
    {
     "name": "stderr",
     "output_type": "stream",
     "text": [
      "<ipython-input-109-bb9a819e7382>:1: DeprecationWarning: find_elements_by_xpath is deprecated. Please use find_elements(by=By.XPATH, value=xpath) instead\n",
      "  airlines = driver.find_elements_by_xpath(\"//div[@class='fs-13 airline-name no-pad col-8']/span\")\n",
      "<ipython-input-109-bb9a819e7382>:7: DeprecationWarning: find_elements_by_xpath is deprecated. Please use find_elements(by=By.XPATH, value=xpath) instead\n",
      "  aeroplanes = driver.find_elements_by_xpath('//p[@class=\"normal fs-11 font-lightestgrey no-wrap fl-no\"]/span')\n",
      "100%|██████████████████████████████████████████████████████████████████████████████████| 68/68 [00:00<00:00, 89.56it/s]\n",
      "<ipython-input-109-bb9a819e7382>:13: DeprecationWarning: find_elements_by_xpath is deprecated. Please use find_elements(by=By.XPATH, value=xpath) instead\n",
      "  dept_times = driver.find_elements_by_xpath('//div[@class=\"i-b pr\"]')\n",
      "100%|██████████████████████████████████████████████████████████████████████████████████| 68/68 [00:00<00:00, 80.97it/s]\n",
      "<ipython-input-109-bb9a819e7382>:19: DeprecationWarning: find_elements_by_xpath is deprecated. Please use find_elements(by=By.XPATH, value=xpath) instead\n",
      "  arrival = driver.find_elements_by_xpath('//p[@class=\"bold fs-15 mb-2 pr time\"]')\n",
      "100%|██████████████████████████████████████████████████████████████████████████████████| 68/68 [00:00<00:00, 78.66it/s]\n",
      "<ipython-input-109-bb9a819e7382>:25: DeprecationWarning: find_elements_by_xpath is deprecated. Please use find_elements(by=By.XPATH, value=xpath) instead\n",
      "  source = driver.find_elements_by_xpath(\"//div[@class='i-b col-4 no-wrap text-right dtime col-3']/p\")\n",
      "100%|██████████████████████████████████████████████████████████████████████████████████| 68/68 [00:00<00:00, 79.13it/s]\n",
      "<ipython-input-109-bb9a819e7382>:31: DeprecationWarning: find_elements_by_xpath is deprecated. Please use find_elements(by=By.XPATH, value=xpath) instead\n",
      "  destination = driver.find_elements_by_xpath('//div[@class=\"i-b pdd-0 text-left atime col-5\"]/p[2]')\n",
      "100%|██████████████████████████████████████████████████████████████████████████████████| 68/68 [00:00<00:00, 75.44it/s]\n",
      "<ipython-input-109-bb9a819e7382>:37: DeprecationWarning: find_elements_by_xpath is deprecated. Please use find_elements(by=By.XPATH, value=xpath) instead\n",
      "  duration = driver.find_elements_by_xpath('//div[@class=\"stop-cont pl-13\"]/p')\n",
      "100%|██████████████████████████████████████████████████████████████████████████████████| 68/68 [00:00<00:00, 76.87it/s]\n",
      "<ipython-input-109-bb9a819e7382>:43: DeprecationWarning: find_elements_by_xpath is deprecated. Please use find_elements(by=By.XPATH, value=xpath) instead\n",
      "  stop = driver.find_elements_by_xpath(\"//div[@class='stop-cont pl-13']/div/span\")\n",
      "100%|██████████████████████████████████████████████████████████████████████████████████| 68/68 [00:00<00:00, 73.21it/s]\n",
      "<ipython-input-109-bb9a819e7382>:50: DeprecationWarning: find_elements_by_xpath is deprecated. Please use find_elements(by=By.XPATH, value=xpath) instead\n",
      "  price = driver.find_elements_by_xpath('//div[@class=\"i-b tipsy fare-summary-tooltip fs-18\"]')\n",
      "100%|██████████████████████████████████████████████████████████████████████████████████| 68/68 [00:00<00:00, 68.95it/s]\n",
      "<ipython-input-109-bb9a819e7382>:58: DeprecationWarning: find_elements_by_xpath is deprecated. Please use find_elements(by=By.XPATH, value=xpath) instead\n",
      "  Button = driver.find_elements_by_xpath('//div[@class=\"link-color fs-12 cursor-pointer\"]/span')\n",
      "<ipython-input-109-bb9a819e7382>:62: DeprecationWarning: find_element_by_xpath is deprecated. Please use find_element(by=By.XPATH, value=xpath) instead\n",
      "  date = driver.find_element_by_xpath('//div[@class=\"bold fs-12 mb-5\"]')\n",
      "100%|██████████████████████████████████████████████████████████████████████████████████████████| 68/68 [00:00<?, ?it/s]\n"
     ]
    }
   ],
   "source": [
    "airlines = driver.find_elements_by_xpath(\"//div[@class='fs-13 airline-name no-pad col-8']/span\")\n",
    "for i in airlines:\n",
    "    Airlines.append(i.text.replace(\"\\n\",\" \"))\n",
    "else :\n",
    "    pass\n",
    "\n",
    "aeroplanes = driver.find_elements_by_xpath('//p[@class=\"normal fs-11 font-lightestgrey no-wrap fl-no\"]/span')\n",
    "for i in tqdm(aeroplanes):\n",
    "    Aeroplane.append(i.text) \n",
    "else:\n",
    "    pass\n",
    "\n",
    "dept_times = driver.find_elements_by_xpath('//div[@class=\"i-b pr\"]')\n",
    "for i in tqdm(dept_times):\n",
    "    Dept_time.append(i.text)\n",
    "else :\n",
    "    pass\n",
    "\n",
    "arrival = driver.find_elements_by_xpath('//p[@class=\"bold fs-15 mb-2 pr time\"]')\n",
    "for i in tqdm(arrival):\n",
    "    Arrival_time.append(i.text)\n",
    "else :\n",
    "    pass\n",
    "\n",
    "source = driver.find_elements_by_xpath(\"//div[@class='i-b col-4 no-wrap text-right dtime col-3']/p\")\n",
    "for i in tqdm(source):\n",
    "    Source.append(i.text)\n",
    "else :\n",
    "    pass\n",
    "\n",
    "destination = driver.find_elements_by_xpath('//div[@class=\"i-b pdd-0 text-left atime col-5\"]/p[2]')\n",
    "for i in tqdm(destination):\n",
    "    Destination.append(i.text)\n",
    "else:\n",
    "    pass\n",
    "\n",
    "duration = driver.find_elements_by_xpath('//div[@class=\"stop-cont pl-13\"]/p')\n",
    "for i in tqdm(duration):\n",
    "    Duration.append(i.text)\n",
    "else:\n",
    "    pass\n",
    "\n",
    "stop = driver.find_elements_by_xpath(\"//div[@class='stop-cont pl-13']/div/span\")\n",
    "for i in tqdm(stop):\n",
    "    Stops.append(i.text)\n",
    "else:\n",
    "    pass\n",
    "\n",
    "count = 0\n",
    "price = driver.find_elements_by_xpath('//div[@class=\"i-b tipsy fare-summary-tooltip fs-18\"]')\n",
    "for i in tqdm(price):\n",
    "    Price.append(i.text.replace(',',''))\n",
    "    count = count +1\n",
    "else:\n",
    "    count = count +1\n",
    "    pass\n",
    "\n",
    "Button = driver.find_elements_by_xpath('//div[@class=\"link-color fs-12 cursor-pointer\"]/span')\n",
    "driver.execute_script(\"arguments[0].click();\", WebDriverWait(driver, 20).until(EC.element_to_be_clickable((By.XPATH,'//div[@class=\"link-color fs-12 cursor-pointer\"]/span'))))\n",
    "time.sleep(1)\n",
    "\n",
    "date = driver.find_element_by_xpath('//div[@class=\"bold fs-12 mb-5\"]')\n",
    "a = date.text\n",
    "for i in tqdm(range(count-1)):\n",
    "    Date.append(a)\n",
    "else:\n",
    "    pass"
   ]
  },
  {
   "cell_type": "code",
   "execution_count": 110,
   "id": "15a6d455",
   "metadata": {},
   "outputs": [
    {
     "data": {
      "text/plain": [
       "(2833, 2833, 2833, 2833, 2833, 2833, 2833, 2833, 2833)"
      ]
     },
     "execution_count": 110,
     "metadata": {},
     "output_type": "execute_result"
    }
   ],
   "source": [
    "len(Airlines), len(Dept_time), len(Arrival_time), len(Source), len(Destination), len(Duration), len(Stops),len(Price), len(Date)"
   ]
  },
  {
   "cell_type": "code",
   "execution_count": 111,
   "id": "7032e76f",
   "metadata": {},
   "outputs": [],
   "source": [
    "import pandas as pd\n",
    "import numpy as np"
   ]
  },
  {
   "cell_type": "code",
   "execution_count": 112,
   "id": "8990abae",
   "metadata": {},
   "outputs": [
    {
     "data": {
      "text/html": [
       "<div>\n",
       "<style scoped>\n",
       "    .dataframe tbody tr th:only-of-type {\n",
       "        vertical-align: middle;\n",
       "    }\n",
       "\n",
       "    .dataframe tbody tr th {\n",
       "        vertical-align: top;\n",
       "    }\n",
       "\n",
       "    .dataframe thead th {\n",
       "        text-align: right;\n",
       "    }\n",
       "</style>\n",
       "<table border=\"1\" class=\"dataframe\">\n",
       "  <thead>\n",
       "    <tr style=\"text-align: right;\">\n",
       "      <th></th>\n",
       "      <th>Airline</th>\n",
       "      <th>Aeroplane</th>\n",
       "      <th>Date</th>\n",
       "      <th>Departure_Time</th>\n",
       "      <th>Arrival_Time</th>\n",
       "      <th>Source</th>\n",
       "      <th>Destination</th>\n",
       "      <th>Stops</th>\n",
       "      <th>Duration</th>\n",
       "      <th>Price</th>\n",
       "    </tr>\n",
       "  </thead>\n",
       "  <tbody>\n",
       "    <tr>\n",
       "      <th>0</th>\n",
       "      <td>Air India</td>\n",
       "      <td>AI-441</td>\n",
       "      <td>Sun, 24 Jul 2022</td>\n",
       "      <td>17:55</td>\n",
       "      <td>22:10</td>\n",
       "      <td>New Delhi</td>\n",
       "      <td>Mumbai</td>\n",
       "      <td>1 Stop</td>\n",
       "      <td>4h 15m</td>\n",
       "      <td>7320</td>\n",
       "    </tr>\n",
       "    <tr>\n",
       "      <th>1</th>\n",
       "      <td>Vistara</td>\n",
       "      <td>UK-985</td>\n",
       "      <td>Sun, 24 Jul 2022</td>\n",
       "      <td>19:45</td>\n",
       "      <td>21:55</td>\n",
       "      <td>New Delhi</td>\n",
       "      <td>Mumbai</td>\n",
       "      <td>Non Stop</td>\n",
       "      <td>2h 10m</td>\n",
       "      <td>8578</td>\n",
       "    </tr>\n",
       "    <tr>\n",
       "      <th>2</th>\n",
       "      <td>IndiGo</td>\n",
       "      <td>6E-2519</td>\n",
       "      <td>Sun, 24 Jul 2022</td>\n",
       "      <td>23:35</td>\n",
       "      <td>01:40\\n+ 1 day</td>\n",
       "      <td>New Delhi</td>\n",
       "      <td>Mumbai</td>\n",
       "      <td>Non Stop</td>\n",
       "      <td>2h 05m</td>\n",
       "      <td>8579</td>\n",
       "    </tr>\n",
       "    <tr>\n",
       "      <th>3</th>\n",
       "      <td>SpiceJet</td>\n",
       "      <td>SG-8709</td>\n",
       "      <td>Sun, 24 Jul 2022</td>\n",
       "      <td>19:00</td>\n",
       "      <td>21:10</td>\n",
       "      <td>New Delhi</td>\n",
       "      <td>Mumbai</td>\n",
       "      <td>Non Stop</td>\n",
       "      <td>2h 10m</td>\n",
       "      <td>8579</td>\n",
       "    </tr>\n",
       "    <tr>\n",
       "      <th>4</th>\n",
       "      <td>SpiceJet</td>\n",
       "      <td>SG-8169</td>\n",
       "      <td>Sun, 24 Jul 2022</td>\n",
       "      <td>19:45</td>\n",
       "      <td>22:00</td>\n",
       "      <td>New Delhi</td>\n",
       "      <td>Mumbai</td>\n",
       "      <td>Non Stop</td>\n",
       "      <td>2h 15m</td>\n",
       "      <td>8579</td>\n",
       "    </tr>\n",
       "  </tbody>\n",
       "</table>\n",
       "</div>"
      ],
      "text/plain": [
       "     Airline Aeroplane              Date Departure_Time    Arrival_Time  \\\n",
       "0  Air India    AI-441  Sun, 24 Jul 2022          17:55           22:10   \n",
       "1    Vistara    UK-985  Sun, 24 Jul 2022          19:45           21:55   \n",
       "2     IndiGo   6E-2519  Sun, 24 Jul 2022          23:35  01:40\\n+ 1 day   \n",
       "3   SpiceJet   SG-8709  Sun, 24 Jul 2022          19:00           21:10   \n",
       "4   SpiceJet   SG-8169  Sun, 24 Jul 2022          19:45           22:00   \n",
       "\n",
       "      Source Destination     Stops Duration Price  \n",
       "0  New Delhi      Mumbai    1 Stop   4h 15m  7320  \n",
       "1  New Delhi      Mumbai  Non Stop   2h 10m  8578  \n",
       "2  New Delhi      Mumbai  Non Stop   2h 05m  8579  \n",
       "3  New Delhi      Mumbai  Non Stop   2h 10m  8579  \n",
       "4  New Delhi      Mumbai  Non Stop   2h 15m  8579  "
      ]
     },
     "execution_count": 112,
     "metadata": {},
     "output_type": "execute_result"
    }
   ],
   "source": [
    "Flight=pd.DataFrame()\n",
    "Flight[\"Airline\"]=Airlines\n",
    "Flight['Aeroplane'] = Aeroplane\n",
    "Flight[\"Date\"]=Date\n",
    "Flight[\"Departure_Time\"]=Dept_time\n",
    "Flight[\"Arrival_Time\"]=Arrival_time\n",
    "Flight[\"Source\"]=Source\n",
    "Flight[\"Destination\"]=Destination\n",
    "Flight[\"Stops\"]=Stops\n",
    "Flight[\"Duration\"]=Duration\n",
    "Flight[\"Price\"]=Price\n",
    "Flight.head()"
   ]
  },
  {
   "cell_type": "code",
   "execution_count": 113,
   "id": "825463fa",
   "metadata": {},
   "outputs": [],
   "source": [
    "Flight.to_csv('Flight_Price_dataset.csv')"
   ]
  },
  {
   "cell_type": "code",
   "execution_count": null,
   "id": "65207564",
   "metadata": {},
   "outputs": [],
   "source": []
  }
 ],
 "metadata": {
  "kernelspec": {
   "display_name": "Python 3",
   "language": "python",
   "name": "python3"
  },
  "language_info": {
   "codemirror_mode": {
    "name": "ipython",
    "version": 3
   },
   "file_extension": ".py",
   "mimetype": "text/x-python",
   "name": "python",
   "nbconvert_exporter": "python",
   "pygments_lexer": "ipython3",
   "version": "3.8.8"
  }
 },
 "nbformat": 4,
 "nbformat_minor": 5
}
